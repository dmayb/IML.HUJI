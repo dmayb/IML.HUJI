{
 "cells": [
  {
   "cell_type": "markdown",
   "metadata": {},
   "source": [
    "# Chapter 9 - Gradient Descent"
   ]
  },
  {
   "cell_type": "code",
   "execution_count": null,
   "metadata": {},
   "outputs": [],
   "source": [
    "import sys\n",
    "sys.path.append(\"../\")\n",
    "from utils import *"
   ]
  },
  {
   "cell_type": "markdown",
   "metadata": {},
   "source": [
    "## Gradient Descent Algorithm and Animation Implementation"
   ]
  },
  {
   "cell_type": "code",
   "execution_count": null,
   "metadata": {},
   "outputs": [],
   "source": [
    "def VanillaGradientDescent(f, f_grad, init=np.random.uniform(-1, 1, 2), eta=lambda t: .1, delta=1e-5):\n",
    "    steps, gradients, deltas = [init], [], [delta]\n",
    "\n",
    "    t = 1\n",
    "    while deltas[-1] >= delta:\n",
    "        g, eta_t = f_grad(steps[-1]), eta(t)\n",
    "        step = steps[-1] - eta_t * g\n",
    "        \n",
    "        gradients.append(g)\n",
    "        steps.append(step)\n",
    "        deltas.append(np.sum((steps[-1] - steps[-2])**2)**.5)        \n",
    "        t += 1\n",
    "        \n",
    "    return np.array(steps), np.array(gradients), np.array(deltas[1:])"
   ]
  },
  {
   "cell_type": "code",
   "execution_count": null,
   "metadata": {},
   "outputs": [],
   "source": [
    "def Animate_GradientDescent(f, f_grad, init, eta, delta, axis_range, frame_time=500):\n",
    "    def as_array(x):\n",
    "        return np.array([x]) if np.isscalar(x) else x\n",
    "\n",
    "    def function_contour(fun, vals):\n",
    "        xx, yy = np.meshgrid(vals, vals)\n",
    "        z = fun(np.c_[xx.ravel(), yy.ravel()]).reshape(len(vals), len(vals))\n",
    "        return go.Contour(x = vals, y=vals, z=z, opacity=.4, colorscale=\"Electric\")\n",
    "    \n",
    "    def function_surface(fun, vals):\n",
    "        xx, yy = np.meshgrid(vals, vals)\n",
    "        z = fun(np.c_[xx.ravel(), yy.ravel()]).reshape(len(vals), len(vals))\n",
    "        return go.Surface(x = vals, y=vals, z=z, opacity=.4, colorscale=\"Electric\", showscale=False)\n",
    "\n",
    "    \n",
    "    steps, gradients, deltas = VanillaGradientDescent(f, f_grad, init, eta, delta)\n",
    "    surface, contour = function_surface(f, axis_range), function_contour(f, axis_range)\n",
    "    \n",
    "    frames, markers = [], []\n",
    "    for i in range(1, len(steps) + 1):\n",
    "        z = as_array(f(steps[:i]))       \n",
    "        frames.append(go.Frame(data=[\n",
    "            # 3D visualization of progress\n",
    "            go.Scatter3d(x=steps[:i,0], y=steps[:i,1], z=z[:i],\n",
    "                         marker=dict(size=3, color=\"black\"), showlegend=False),\n",
    "            go.Scatter3d(x=[steps[i-1,0]], y=[steps[i-1,1]], z=[z[i-1]],\n",
    "                         marker=dict(size=5, color=\"orange\"), showlegend=False), \n",
    "            surface,\n",
    "            \n",
    "            # 2D visualization of progress\n",
    "            go.Scatter(x=steps[:i,0], y=steps[:i,1],\n",
    "                       marker=dict(size=3, color=\"black\"), showlegend=False),\n",
    "            go.Scatter(x=[steps[i-1,0]], y=[steps[i-1,1]], \n",
    "                       marker=dict(size=5, color=\"orange\"), showlegend=False), \n",
    "            contour],\n",
    "            traces=[0, 1, 2, 3, 4, 5],\n",
    "            layout=go.Layout(title=rf\"$\\text{{Iteration }} {i}/{steps.shape[0]}$\" )))\n",
    "\n",
    "    return make_subplots(rows=1, cols=2, specs=[[{'type':'scene'}, {}]],\n",
    "                         subplot_titles=('3D Visualization Of Function', '2D Visualization Of Function'))\\\n",
    "        .add_traces(data=frames[0][\"data\"], rows=[1, 1, 1, 1, 1, 1], cols=[1, 1, 1, 2, 2, 2])\\\n",
    "        .update(frames = frames)\\\n",
    "        .update_layout(width=900, height = 330, title = frames[0].layout.title,\n",
    "                       updatemenus = [dict(type=\"buttons\", buttons=[AnimationButtons.play(frame_time,0), \n",
    "                                                                    AnimationButtons.pause()])])"
   ]
  },
  {
   "cell_type": "markdown",
   "metadata": {},
   "source": [
    "## Gradient Descent Over Gaussian Function"
   ]
  },
  {
   "cell_type": "code",
   "execution_count": null,
   "metadata": {
    "scrolled": true
   },
   "outputs": [],
   "source": [
    "from numpy.linalg import solve, det\n",
    "\n",
    "def negative_gaussian(mu=np.zeros(2), cov=np.eye(2)):\n",
    "    from scipy.stats import multivariate_normal\n",
    "    \n",
    "    def _evaluate(x: np.ndarray):\n",
    "        return  - multivariate_normal(mu, cov).pdf(x)\n",
    "\n",
    "    def _gradient(x: np.ndarray):\n",
    "        z = solve(cov,x-mu)\n",
    "        return np.exp(-z @ (x-mu) /2) * z / (2*np.sqrt((2*np.pi)**mu.shape[0] * det(cov)))\n",
    "    \n",
    "    return _evaluate, _gradient\n",
    "\n",
    "\n",
    "Animate_GradientDescent(*negative_gaussian(cov=[5,10]*np.eye(2)),\n",
    "                        init=np.array([-5,-5]), \n",
    "                        eta= lambda t: 300, \n",
    "                        delta=1e-2, \n",
    "                        axis_range=np.linspace(-5, 5, 50))\n"
   ]
  },
  {
   "cell_type": "markdown",
   "metadata": {},
   "source": [
    "## Gradient Descent For RSS"
   ]
  },
  {
   "cell_type": "code",
   "execution_count": null,
   "metadata": {},
   "outputs": [],
   "source": [
    "from scipy.stats import ortho_group\n",
    "\n",
    "def residual_sum_of_squares(X: np.ndarray, y: np.ndarray):\n",
    "    def _evaluate(w: np.ndarray):\n",
    "        Y = np.broadcast_to(y[..., np.newaxis], (y.shape[0], w.shape[0]))\n",
    "        return np.sum( (X @ w.T - Y)**2, axis=0)\n",
    "    \n",
    "    def _gradient(w: np.ndarray):\n",
    "        return 2 * X.T @ (X @ w.T - y)\n",
    "    \n",
    "    return _evaluate, _gradient\n",
    "\n",
    "\n",
    "n = 20\n",
    "w = np.random.random(size = (2, ))\n",
    "X = np.c_[np.random.uniform(low=-3, high=3, size=(n, 1)), np.ones((n, 1))]\n",
    "y = X @ w + np.random.normal(0, 1, size=(n,))"
   ]
  },
  {
   "cell_type": "code",
   "execution_count": null,
   "metadata": {},
   "outputs": [],
   "source": [
    "def Animate_GradientDescent_regression(f, f_grad, X, y, init, eta, delta, axis_range, frame_time=500):\n",
    "    def as_array(x):\n",
    "        return np.array([x]) if np.isscalar(x) else x\n",
    "\n",
    "    def function_contour(fun, vals):\n",
    "        xx, yy = np.meshgrid(vals, vals)\n",
    "        z = fun(np.c_[xx.ravel(), yy.ravel()]).reshape(len(vals), len(vals))\n",
    "        return go.Contour(x = vals, y=vals, z=z, opacity=.4, colorscale=\"Electric\")\n",
    "    \n",
    "    def function_surface(fun, vals):\n",
    "        xx, yy = np.meshgrid(vals, vals)\n",
    "        z = fun(np.c_[xx.ravel(), yy.ravel()]).reshape(len(vals), len(vals))\n",
    "        return go.Surface(x = vals, y=vals, z=z, opacity=.4, colorscale=\"Electric\", showscale=False)\n",
    "\n",
    "    steps, gradients, deltas = VanillaGradientDescent(f, f_grad, init, eta, delta)\n",
    "    surface = function_surface(f, axis_range)\n",
    "    contour = function_contour(f, axis_range)\n",
    "    \n",
    "    frames, markers = [], []\n",
    "    for i in range(1, len(steps)+1):\n",
    "        z = as_array(f(steps[:i]))\n",
    "        frames.append(go.Frame(data=[\n",
    "            # 3D visualization of progress\n",
    "            go.Scatter3d(x=steps[:i,0], y=steps[:i,1], z=z[:i],\n",
    "                         marker=dict(size=3, color=\"black\"), showlegend=False),\n",
    "            go.Scatter3d(x=[steps[i-1,0]], y=[steps[i-1,1]], z=[z[i-1]],\n",
    "                         marker=dict(size=5, color=\"orange\"), showlegend=False), \n",
    "            surface,\n",
    "            \n",
    "            # 2D visualization of progress\n",
    "            go.Scatter(x=steps[:i,0], y=steps[:i,1],\n",
    "                       marker=dict(size=3, color=\"black\"), showlegend=False),\n",
    "            go.Scatter(x=[steps[i-1,0]], y=[steps[i-1,1]], \n",
    "                       marker=dict(size=5, color=\"orange\"), showlegend=False), \n",
    "            contour,\n",
    "            \n",
    "            # Visualization of regression line and data\n",
    "            go.Scatter(x=X[:, 0], y=y, marker=dict(size=5, color=\"black\"), mode = 'markers', showlegend=False),\n",
    "            go.Scatter(x=[X[:, 0].min(), X[:, 0].max()], \n",
    "                       y=[X[:, 0].min()*steps[i-1,0] + steps[i-1,1], X[:, 0].max()*steps[i-1,0] + steps[i-1,1]],\n",
    "                       marker=dict(size=3, color=\"red\"), mode='lines', showlegend=False)],\n",
    "            traces=[0, 1, 2, 3, 4, 5, 6, 7],\n",
    "            layout=go.Layout(title=rf\"$\\text{{Iteration }} {i}/{steps.shape[0]}$\" )))\n",
    "\n",
    "    return make_subplots(rows=2, cols=2, specs=[[{'type':'scene'}, {}], [{'colspan':2}, None]],\n",
    "                         subplot_titles=(\"3D Visualization Of Function\", \"2D Visualization Of Function\", \"Fitted Model\"))\\\n",
    "        .add_traces(frames[0][\"data\"], rows=[1, 1, 1, 1, 1, 1, 2, 2], cols=[1, 1, 1, 2, 2, 2, 1, 1])\\\n",
    "        .update(frames = frames)\\\n",
    "        .update_layout(width=900, height = 500, title = frames[0].layout.title,\n",
    "                       updatemenus = [dict(type=\"buttons\", buttons=[AnimationButtons.play(frame_time,0), \n",
    "                                                                    AnimationButtons.pause()])])\\\n",
    "        .update_yaxes(range=[-3, 3], row=2, col=1)\n",
    "\n",
    "\n",
    "Animate_GradientDescent_regression(*residual_sum_of_squares(X, y), X, y,\n",
    "                        init=np.array([4.5,-4]), \n",
    "                        eta=lambda t: .01, \n",
    "                        delta=1e-4, \n",
    "                        axis_range=np.linspace(-5, 5, 50),\n",
    "                        frame_time = 1000)"
   ]
  },
  {
   "cell_type": "code",
   "execution_count": null,
   "metadata": {},
   "outputs": [],
   "source": [
    "def non_convex_function():\n",
    "    def _evaluate(x: np.ndarray):\n",
    "        x = np.stack(x, axis=0)\n",
    "        z = np.sin(x[:, 0] * x[:, 1]) / np.sqrt(x[:, 0]**2 + x[:, 1]**2)\n",
    "\n",
    "        return np.array([[z]]) if np.isscalar(z) else z\n",
    "\n",
    "    \n",
    "    def _gradient(x: np.ndarray):\n",
    "        X, Y = x[0], x[1]\n",
    "        a = np.array([(Y*np.cos(X*Y)*(X**2 + Y**2) - X*np.sin(X*Y)) / (X**2 + Y**2)**(1.5),\n",
    "                     (X*np.cos(X*Y)*(X**2 + Y**2) - Y*np.sin(X*Y)) / (X**2 + Y**2)**(1.5)])\n",
    "        return a\n",
    "    \n",
    "    return _evaluate, _gradient\n",
    "\n",
    "\n",
    "Animate_GradientDescent(*non_convex_function(),\n",
    "                        init=np.random.uniform(-5,5,2),\n",
    "                        eta= lambda t: 2*.1, \n",
    "                        delta=1e-3, \n",
    "                        axis_range=np.linspace(-5, 5, 50))\n"
   ]
  }
 ],
 "metadata": {
  "kernelspec": {
   "display_name": "Python 3",
   "language": "python",
   "name": "python3"
  },
  "language_info": {
   "codemirror_mode": {
    "name": "ipython",
    "version": 3
   },
   "file_extension": ".py",
   "mimetype": "text/x-python",
   "name": "python",
   "nbconvert_exporter": "python",
   "pygments_lexer": "ipython3",
   "version": "3.7.10"
  }
 },
 "nbformat": 4,
 "nbformat_minor": 4
}
