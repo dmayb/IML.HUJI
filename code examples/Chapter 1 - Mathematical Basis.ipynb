{
 "cells": [
  {
   "cell_type": "markdown",
   "metadata": {},
   "source": [
    "# Chapter 1 - Mathematical Basis"
   ]
  },
  {
   "cell_type": "code",
   "execution_count": 1,
   "metadata": {},
   "outputs": [],
   "source": [
    "import sys\n",
    "sys.path.append(\"../\")\n",
    "from utils import *"
   ]
  },
  {
   "cell_type": "markdown",
   "metadata": {},
   "source": [
    "## Multivariate Functions"
   ]
  },
  {
   "cell_type": "code",
   "execution_count": 2,
   "metadata": {},
   "outputs": [
    {
     "ename": "ValueError",
     "evalue": "Image generation requires the psutil package.\n\nInstall using pip:\n    $ pip install psutil\n\nInstall using conda:\n    $ conda install psutil\n",
     "output_type": "error",
     "traceback": [
      "\u001b[1;31m---------------------------------------------------------------------------\u001b[0m",
      "\u001b[1;31mValueError\u001b[0m                                Traceback (most recent call last)",
      "\u001b[1;32m<ipython-input-2-caea6b68fb3c>\u001b[0m in \u001b[0;36m<module>\u001b[1;34m\u001b[0m\n\u001b[0;32m     15\u001b[0m \u001b[1;33m\u001b[0m\u001b[0m\n\u001b[0;32m     16\u001b[0m     \u001b[0mfig\u001b[0m\u001b[1;33m.\u001b[0m\u001b[0mupdate_layout\u001b[0m\u001b[1;33m(\u001b[0m\u001b[0mwidth\u001b[0m\u001b[1;33m=\u001b[0m\u001b[1;36m800\u001b[0m\u001b[1;33m,\u001b[0m \u001b[0mheight\u001b[0m\u001b[1;33m=\u001b[0m\u001b[1;36m300\u001b[0m\u001b[1;33m,\u001b[0m \u001b[0mscene_aspectmode\u001b[0m\u001b[1;33m=\u001b[0m\u001b[1;34m\"cube\"\u001b[0m\u001b[1;33m,\u001b[0m \u001b[0mscene\u001b[0m\u001b[1;33m=\u001b[0m\u001b[0mscene\u001b[0m\u001b[1;33m)\u001b[0m\u001b[1;33m\u001b[0m\u001b[1;33m\u001b[0m\u001b[0m\n\u001b[1;32m---> 17\u001b[1;33m     \u001b[0mfig\u001b[0m\u001b[1;33m.\u001b[0m\u001b[0mwrite_image\u001b[0m\u001b[1;33m(\u001b[0m\u001b[1;34mf\"../{name}.png\"\u001b[0m\u001b[1;33m)\u001b[0m\u001b[1;33m\u001b[0m\u001b[1;33m\u001b[0m\u001b[0m\n\u001b[0m\u001b[0;32m     18\u001b[0m     \u001b[0mfig\u001b[0m\u001b[1;33m.\u001b[0m\u001b[0mshow\u001b[0m\u001b[1;33m(\u001b[0m\u001b[1;33m)\u001b[0m\u001b[1;33m\u001b[0m\u001b[1;33m\u001b[0m\u001b[0m\n\u001b[0;32m     19\u001b[0m \u001b[1;33m\u001b[0m\u001b[0m\n",
      "\u001b[1;32m~\\anaconda3\\envs\\iml.env2\\lib\\site-packages\\plotly\\basedatatypes.py\u001b[0m in \u001b[0;36mwrite_image\u001b[1;34m(self, *args, **kwargs)\u001b[0m\n\u001b[0;32m   3804\u001b[0m         \u001b[1;32mimport\u001b[0m \u001b[0mplotly\u001b[0m\u001b[1;33m.\u001b[0m\u001b[0mio\u001b[0m \u001b[1;32mas\u001b[0m \u001b[0mpio\u001b[0m\u001b[1;33m\u001b[0m\u001b[1;33m\u001b[0m\u001b[0m\n\u001b[0;32m   3805\u001b[0m \u001b[1;33m\u001b[0m\u001b[0m\n\u001b[1;32m-> 3806\u001b[1;33m         \u001b[1;32mreturn\u001b[0m \u001b[0mpio\u001b[0m\u001b[1;33m.\u001b[0m\u001b[0mwrite_image\u001b[0m\u001b[1;33m(\u001b[0m\u001b[0mself\u001b[0m\u001b[1;33m,\u001b[0m \u001b[1;33m*\u001b[0m\u001b[0margs\u001b[0m\u001b[1;33m,\u001b[0m \u001b[1;33m**\u001b[0m\u001b[0mkwargs\u001b[0m\u001b[1;33m)\u001b[0m\u001b[1;33m\u001b[0m\u001b[1;33m\u001b[0m\u001b[0m\n\u001b[0m\u001b[0;32m   3807\u001b[0m \u001b[1;33m\u001b[0m\u001b[0m\n\u001b[0;32m   3808\u001b[0m     \u001b[1;31m# Static helpers\u001b[0m\u001b[1;33m\u001b[0m\u001b[1;33m\u001b[0m\u001b[1;33m\u001b[0m\u001b[0m\n",
      "\u001b[1;32m~\\anaconda3\\envs\\iml.env2\\lib\\site-packages\\plotly\\io\\_kaleido.py\u001b[0m in \u001b[0;36mwrite_image\u001b[1;34m(fig, file, format, scale, width, height, validate, engine)\u001b[0m\n\u001b[0;32m    250\u001b[0m         \u001b[0mheight\u001b[0m\u001b[1;33m=\u001b[0m\u001b[0mheight\u001b[0m\u001b[1;33m,\u001b[0m\u001b[1;33m\u001b[0m\u001b[1;33m\u001b[0m\u001b[0m\n\u001b[0;32m    251\u001b[0m         \u001b[0mvalidate\u001b[0m\u001b[1;33m=\u001b[0m\u001b[0mvalidate\u001b[0m\u001b[1;33m,\u001b[0m\u001b[1;33m\u001b[0m\u001b[1;33m\u001b[0m\u001b[0m\n\u001b[1;32m--> 252\u001b[1;33m         \u001b[0mengine\u001b[0m\u001b[1;33m=\u001b[0m\u001b[0mengine\u001b[0m\u001b[1;33m,\u001b[0m\u001b[1;33m\u001b[0m\u001b[1;33m\u001b[0m\u001b[0m\n\u001b[0m\u001b[0;32m    253\u001b[0m     )\n\u001b[0;32m    254\u001b[0m \u001b[1;33m\u001b[0m\u001b[0m\n",
      "\u001b[1;32m~\\anaconda3\\envs\\iml.env2\\lib\\site-packages\\plotly\\io\\_kaleido.py\u001b[0m in \u001b[0;36mto_image\u001b[1;34m(fig, format, width, height, scale, validate, engine)\u001b[0m\n\u001b[0;32m    107\u001b[0m             \u001b[0mheight\u001b[0m\u001b[1;33m=\u001b[0m\u001b[0mheight\u001b[0m\u001b[1;33m,\u001b[0m\u001b[1;33m\u001b[0m\u001b[1;33m\u001b[0m\u001b[0m\n\u001b[0;32m    108\u001b[0m             \u001b[0mscale\u001b[0m\u001b[1;33m=\u001b[0m\u001b[0mscale\u001b[0m\u001b[1;33m,\u001b[0m\u001b[1;33m\u001b[0m\u001b[1;33m\u001b[0m\u001b[0m\n\u001b[1;32m--> 109\u001b[1;33m             \u001b[0mvalidate\u001b[0m\u001b[1;33m=\u001b[0m\u001b[0mvalidate\u001b[0m\u001b[1;33m,\u001b[0m\u001b[1;33m\u001b[0m\u001b[1;33m\u001b[0m\u001b[0m\n\u001b[0m\u001b[0;32m    110\u001b[0m         )\n\u001b[0;32m    111\u001b[0m     \u001b[1;32melif\u001b[0m \u001b[0mengine\u001b[0m \u001b[1;33m!=\u001b[0m \u001b[1;34m\"kaleido\"\u001b[0m\u001b[1;33m:\u001b[0m\u001b[1;33m\u001b[0m\u001b[1;33m\u001b[0m\u001b[0m\n",
      "\u001b[1;32m~\\anaconda3\\envs\\iml.env2\\lib\\site-packages\\plotly\\io\\_orca.py\u001b[0m in \u001b[0;36mto_image\u001b[1;34m(fig, format, width, height, scale, validate)\u001b[0m\n\u001b[0;32m   1533\u001b[0m     \u001b[1;31m# Make sure orca sever is running\u001b[0m\u001b[1;33m\u001b[0m\u001b[1;33m\u001b[0m\u001b[1;33m\u001b[0m\u001b[0m\n\u001b[0;32m   1534\u001b[0m     \u001b[1;31m# -------------------------------\u001b[0m\u001b[1;33m\u001b[0m\u001b[1;33m\u001b[0m\u001b[1;33m\u001b[0m\u001b[0m\n\u001b[1;32m-> 1535\u001b[1;33m     \u001b[0mensure_server\u001b[0m\u001b[1;33m(\u001b[0m\u001b[1;33m)\u001b[0m\u001b[1;33m\u001b[0m\u001b[1;33m\u001b[0m\u001b[0m\n\u001b[0m\u001b[0;32m   1536\u001b[0m \u001b[1;33m\u001b[0m\u001b[0m\n\u001b[0;32m   1537\u001b[0m     \u001b[1;31m# Handle defaults\u001b[0m\u001b[1;33m\u001b[0m\u001b[1;33m\u001b[0m\u001b[1;33m\u001b[0m\u001b[0m\n",
      "\u001b[1;32m~\\anaconda3\\envs\\iml.env2\\lib\\site-packages\\plotly\\io\\_orca.py\u001b[0m in \u001b[0;36mensure_server\u001b[1;34m()\u001b[0m\n\u001b[0;32m   1368\u001b[0m \u001b[0mInstall\u001b[0m \u001b[0musing\u001b[0m \u001b[0mconda\u001b[0m\u001b[1;33m:\u001b[0m\u001b[1;33m\u001b[0m\u001b[1;33m\u001b[0m\u001b[0m\n\u001b[0;32m   1369\u001b[0m     \u001b[0;31m$\u001b[0m \u001b[0mconda\u001b[0m \u001b[0minstall\u001b[0m \u001b[0mpsutil\u001b[0m\u001b[1;33m\u001b[0m\u001b[1;33m\u001b[0m\u001b[0m\n\u001b[1;32m-> 1370\u001b[1;33m \"\"\"\n\u001b[0m\u001b[0;32m   1371\u001b[0m         )\n\u001b[0;32m   1372\u001b[0m \u001b[1;33m\u001b[0m\u001b[0m\n",
      "\u001b[1;31mValueError\u001b[0m: Image generation requires the psutil package.\n\nInstall using pip:\n    $ pip install psutil\n\nInstall using conda:\n    $ conda install psutil\n"
     ]
    }
   ],
   "source": [
    "vals = np.linspace(-5, 5, 100)\n",
    "names, funs, scenes = [\"max\",\"polynomial\"], [lambda x,y: np.max([x,y], axis=0), lambda x, y: x**2 + x*y + y**2], \\\n",
    "    [dict(camera = dict(eye=dict(x=-1.5, y=-1.5, z=.1))), dict(camera = dict(eye=dict(x=1.5, y=-2, z=.7)))]\n",
    "\n",
    "for name, fun, scene in zip(*[names, funs, scenes]):\n",
    "    xx, yy = np.meshgrid(vals, vals)\n",
    "    z = fun(xx, yy)\n",
    "\n",
    "    fig = make_subplots(rows=1, cols=2, specs=[[{'type': 'scatter'}, {'type': 'scene'}]])\n",
    "\n",
    "    fig.add_traces(data = [\n",
    "        go.Contour(z=z, colorscale='Electric', showscale=False),    \n",
    "        go.Surface(x = vals, y=vals, z=z, opacity=.8, colorscale='Electric', contours=dict(z=dict(show=True)))],\n",
    "        rows=[1,1], cols=[1,2])\n",
    "\n",
    "    fig.update_layout(width=800, height=300, scene_aspectmode=\"cube\", scene=scene)\n",
    "    fig.write_image(f\"../{name}.png\")\n",
    "    fig.show()\n",
    "    "
   ]
  },
  {
   "cell_type": "markdown",
   "metadata": {},
   "source": [
    "## Gaussian Distribution\n",
    "\n",
    "### Standard Uni- and Bi- variate Gaussians"
   ]
  },
  {
   "cell_type": "code",
   "execution_count": null,
   "metadata": {},
   "outputs": [],
   "source": [
    "from scipy.stats import multivariate_normal\n",
    "\n",
    "vals = np.linspace(-5, 5, 100)\n",
    "xx, yy = np.meshgrid(vals, vals)\n",
    "z = multivariate_normal(mean=np.zeros(2), cov=np.eye(2)).pdf(np.c_[xx.ravel(), yy.ravel()]).reshape(len(vals), len(vals))\n",
    "\n",
    "fig = make_subplots(rows=1, cols=2, subplot_titles=[\"Univariate Standard Normal\", \"Bivariate Standard Normal\"],\n",
    "                    specs=[[{'type': 'scatter'}, {'type': 'scene'}]])\n",
    "\n",
    "fig.add_traces(data = [\n",
    "    go.Scatter(x=vals, y=multivariate_normal(0, 1).pdf(vals), mode=\"markers\", showlegend=False,\n",
    "                   marker=dict(color=multivariate_normal(0, 1).pdf(vals), colorscale=\"Electric\", size=5)),    \n",
    "    go.Surface(x = vals, y=vals, z=z, opacity=.8, colorscale=\"Electric\")\n",
    "        ],\n",
    "    rows=[1,1], cols=[1,2])\n",
    "\n",
    "fig.update_layout(width=800, height=300, scene_aspectmode=\"cube\", scene=dict(camera = dict(eye=dict(x=1.6, y=1.6, z=.3))))\n",
    "fig.write_image(\"../normal_distributions.png\")\n",
    "fig.show()\n",
    "\n"
   ]
  },
  {
   "cell_type": "markdown",
   "metadata": {},
   "source": [
    "### Linear Transformations Influencing Sample Covariance Matrix\n",
    "We begin with sampling 750 data-points from a bivariate Gaussian"
   ]
  },
  {
   "cell_type": "code",
   "execution_count": null,
   "metadata": {},
   "outputs": [],
   "source": [
    "import pandas as pd\n",
    "np.random.seed(0)\n",
    "\n",
    "X = np.random.multivariate_normal([0,0], np.eye(2), 750)\n",
    "pd.DataFrame(np.cov(X.T,ddof=1), columns=[\"Covariate 1\", \"Covariate 2\"], index=[\"Covariate 1\", \"Covariate 2\"])"
   ]
  },
  {
   "cell_type": "code",
   "execution_count": null,
   "metadata": {},
   "outputs": [],
   "source": [
    "fig = go.Figure(go.Scatter(x=X[:,0], y=X[:,1], mode=\"markers\", marker=dict(color=\"black\")),\n",
    "                layout=dict(xaxis=dict(range=[-6,6], autorange=False),\n",
    "                            yaxis=dict(range=[-6,6], autorange=False),\n",
    "                            width=400, height=400))\n",
    "fig.write_image(\"../cov.png\")\n",
    "fig.show()"
   ]
  },
  {
   "cell_type": "markdown",
   "metadata": {},
   "source": [
    "Then, we scale the data using a diagonal matrix. Scaling is different for the different covariates."
   ]
  },
  {
   "cell_type": "code",
   "execution_count": null,
   "metadata": {},
   "outputs": [],
   "source": [
    "S = np.array([[1.2,0],[0,2]])\n",
    "X = X @ S\n",
    "pd.DataFrame(np.cov(X.T,ddof=1), columns=[\"Covariate 1\", \"Covariate 2\"], index=[\"Covariate 1\", \"Covariate 2\"])"
   ]
  },
  {
   "cell_type": "code",
   "execution_count": null,
   "metadata": {},
   "outputs": [],
   "source": [
    "fig = go.Figure(go.Scatter(x=X[:,0], y=X[:,1], mode=\"markers\", marker=dict(color=\"black\")),\n",
    "                layout=dict(xaxis=dict(range=[-6,6], autorange=False),\n",
    "                            yaxis=dict(range=[-6,6], autorange=False),\n",
    "                            width=400, height=400))\n",
    "fig.write_image(\"../scaled_cov.png\")\n",
    "fig.show()"
   ]
  },
  {
   "cell_type": "markdown",
   "metadata": {},
   "source": [
    "Lastly, we rotate the data by an angle of $\\theta=70$ degrees."
   ]
  },
  {
   "cell_type": "code",
   "execution_count": null,
   "metadata": {},
   "outputs": [],
   "source": [
    "theta = 70\n",
    "R = np.array([[np.cos(theta), -np.sin(theta)], [np.sin(theta), np.cos(theta)]])\n",
    "X = X @ R\n",
    "pd.DataFrame(np.cov(X.T,ddof=1), columns=[\"Covariate 1\", \"Covariate 2\"], index=[\"Covariate 1\", \"Covariate 2\"])"
   ]
  },
  {
   "cell_type": "code",
   "execution_count": null,
   "metadata": {},
   "outputs": [],
   "source": [
    "fig = go.Figure(go.Scatter(x=X[:,0], y=X[:,1], mode=\"markers\", marker=dict(color=\"black\")),\n",
    "                layout=dict(xaxis=dict(range=[-6,6], autorange=False),\n",
    "                            yaxis=dict(range=[-6,6], autorange=False),\n",
    "                            width=400, height=400))\n",
    "fig.write_image(\"../correlated_cov.png\")\n",
    "fig.show()"
   ]
  }
 ],
 "metadata": {
  "kernelspec": {
   "display_name": "Python 3",
   "language": "python",
   "name": "python3"
  },
  "language_info": {
   "codemirror_mode": {
    "name": "ipython",
    "version": 3
   },
   "file_extension": ".py",
   "mimetype": "text/x-python",
   "name": "python",
   "nbconvert_exporter": "python",
   "pygments_lexer": "ipython3",
   "version": "3.7.10"
  }
 },
 "nbformat": 4,
 "nbformat_minor": 4
}
