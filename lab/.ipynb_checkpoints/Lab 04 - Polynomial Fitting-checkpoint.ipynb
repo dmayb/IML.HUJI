{
 "cells": [
  {
   "cell_type": "markdown",
   "metadata": {
    "collapsed": true,
    "pycharm": {
     "name": "#%% md\n"
    }
   },
   "source": [
    "# Lab 04 - Polynomial Fitting\n",
    "In the previous lab we discussed linear regression and the OLS estimator for solving the minimization of the RSS. As we\n",
    "mentioned regression problems is a very wide family of settings an algorithms where we try to estimate the relation between\n",
    "a set of explanatory variables and a **continuous** response (i.e. $\\mathcal{Y}\\in\\mathbb{R^p}$). In the following lab we\n",
    "will discuss another model called \"Polynomial Fitting\". \n",
    "\n",
    "Sometimes, the data (and the relation between the explanatory variables and response) can be described by some polynomial\n",
    "of some degree. Here, we only focus on the case where it is a polynomial of a single variable. That is: \n",
    "$$ p_k\\left(x\\right)=\\sum_{i=0}^{k}\\alpha_i x_i^k\\quad\\alpha_1,\\ldots,\\alpha_k\\in\\mathbb{R} $$\n",
    "\n",
    "So our hypothesis class is of the form:\n",
    "$$ \\mathcal{H}^k_{poly}=\\left\\{p_k|p_k\\left(x\\right)=\\sum_{i=0}^{k}\\alpha_i x_i^k\\quad\\alpha_1,\\ldots,\\alpha_k\\in\\mathbb{R}\\right\\} $$\n",
    "\n",
    "Notice, that similar to linear regression, each hypothesis in the class is defined by a coefficients vector. Below are two\n",
    "examples (simulated and real) for datasets where the relation between the explanatory variable and response is polynomial.\n"
   ]
  },
  {
   "cell_type": "code",
   "execution_count": 3,
   "metadata": {},
   "outputs": [],
   "source": [
    "import sys\n",
    "sys.path.append(\"../\")\n",
    "from utils import *"
   ]
  },
  {
   "cell_type": "code",
   "execution_count": 8,
   "metadata": {
    "pycharm": {
     "is_executing": false,
     "name": "#%%\n"
    }
   },
   "outputs": [
    {
     "data": {
      "application/vnd.plotly.v1+json": {
       "config": {
        "plotlyServerURL": "https://plot.ly"
       },
       "data": [
        {
         "marker": {
          "color": "black",
          "opacity": 0.7
         },
         "mode": "markers",
         "showlegend": false,
         "type": "scatter",
         "x": [
          -1.2,
          -1.031578947368421,
          -0.8631578947368421,
          -0.6947368421052631,
          -0.5263157894736842,
          -0.35789473684210527,
          -0.18947368421052624,
          -0.021052631578947434,
          0.1473684210526316,
          0.3157894736842106,
          0.4842105263157894,
          0.6526315789473685,
          0.8210526315789475,
          0.9894736842105265,
          1.157894736842105,
          1.3263157894736841,
          1.4947368421052631,
          1.6631578947368422,
          1.8315789473684212,
          2
         ],
         "xaxis": "x",
         "y": [
          5.8096,
          3.7958686136539765,
          2.4687431311914425,
          1.6622727081590838,
          1.229817143821794,
          1.0440468811626675,
          0.9969430068830043,
          0.9997972514023066,
          0.9832119888582806,
          0.8971002371068362,
          0.7106856577220864,
          0.41250255599634744,
          0.010395880940139768,
          -0.46847877471781274,
          -0.9776551745305817,
          -1.4513564383330393,
          -1.8044950422418493,
          -1.9326728186554742,
          -1.7121809562541719,
          -1
         ],
         "yaxis": "y"
        },
        {
         "marker": {
          "color": "black",
          "opacity": 0.7
         },
         "mode": "markers",
         "showlegend": false,
         "type": "scatter",
         "x": [
          "Business Analyst",
          "Junior Consultant",
          "Senior Consultant",
          "Manager",
          "Country Manager",
          "Region Manager",
          "Partner",
          "Senior Partner",
          "C-level",
          "CEO"
         ],
         "xaxis": "x2",
         "y": [
          45000,
          50000,
          60000,
          80000,
          110000,
          150000,
          200000,
          300000,
          500000,
          1000000
         ],
         "yaxis": "y2"
        }
       ],
       "layout": {
        "annotations": [
         {
          "font": {
           "size": 16
          },
          "showarrow": false,
          "text": "$\\text{Simulated Data: }y=x^4-2x^3-0.5x^2+1$",
          "x": 0.225,
          "xanchor": "center",
          "xref": "paper",
          "y": 1,
          "yanchor": "bottom",
          "yref": "paper"
         },
         {
          "font": {
           "size": 16
          },
          "showarrow": false,
          "text": "$\\text{Positions Salary}$",
          "x": 0.775,
          "xanchor": "center",
          "xref": "paper",
          "y": 1,
          "yanchor": "bottom",
          "yref": "paper"
         }
        ],
        "margin": {
         "t": 100
        },
        "template": {
         "data": {
          "bar": [
           {
            "error_x": {
             "color": "rgb(36,36,36)"
            },
            "error_y": {
             "color": "rgb(36,36,36)"
            },
            "marker": {
             "line": {
              "color": "white",
              "width": 0.5
             }
            },
            "type": "bar"
           }
          ],
          "barpolar": [
           {
            "marker": {
             "line": {
              "color": "white",
              "width": 0.5
             }
            },
            "type": "barpolar"
           }
          ],
          "carpet": [
           {
            "aaxis": {
             "endlinecolor": "rgb(36,36,36)",
             "gridcolor": "white",
             "linecolor": "white",
             "minorgridcolor": "white",
             "startlinecolor": "rgb(36,36,36)"
            },
            "baxis": {
             "endlinecolor": "rgb(36,36,36)",
             "gridcolor": "white",
             "linecolor": "white",
             "minorgridcolor": "white",
             "startlinecolor": "rgb(36,36,36)"
            },
            "type": "carpet"
           }
          ],
          "choropleth": [
           {
            "colorbar": {
             "outlinewidth": 1,
             "tickcolor": "rgb(36,36,36)",
             "ticks": "outside"
            },
            "type": "choropleth"
           }
          ],
          "contour": [
           {
            "colorbar": {
             "outlinewidth": 1,
             "tickcolor": "rgb(36,36,36)",
             "ticks": "outside"
            },
            "colorscale": [
             [
              0,
              "#440154"
             ],
             [
              0.1111111111111111,
              "#482878"
             ],
             [
              0.2222222222222222,
              "#3e4989"
             ],
             [
              0.3333333333333333,
              "#31688e"
             ],
             [
              0.4444444444444444,
              "#26828e"
             ],
             [
              0.5555555555555556,
              "#1f9e89"
             ],
             [
              0.6666666666666666,
              "#35b779"
             ],
             [
              0.7777777777777778,
              "#6ece58"
             ],
             [
              0.8888888888888888,
              "#b5de2b"
             ],
             [
              1,
              "#fde725"
             ]
            ],
            "type": "contour"
           }
          ],
          "contourcarpet": [
           {
            "colorbar": {
             "outlinewidth": 1,
             "tickcolor": "rgb(36,36,36)",
             "ticks": "outside"
            },
            "type": "contourcarpet"
           }
          ],
          "heatmap": [
           {
            "colorbar": {
             "outlinewidth": 1,
             "tickcolor": "rgb(36,36,36)",
             "ticks": "outside"
            },
            "colorscale": [
             [
              0,
              "#440154"
             ],
             [
              0.1111111111111111,
              "#482878"
             ],
             [
              0.2222222222222222,
              "#3e4989"
             ],
             [
              0.3333333333333333,
              "#31688e"
             ],
             [
              0.4444444444444444,
              "#26828e"
             ],
             [
              0.5555555555555556,
              "#1f9e89"
             ],
             [
              0.6666666666666666,
              "#35b779"
             ],
             [
              0.7777777777777778,
              "#6ece58"
             ],
             [
              0.8888888888888888,
              "#b5de2b"
             ],
             [
              1,
              "#fde725"
             ]
            ],
            "type": "heatmap"
           }
          ],
          "heatmapgl": [
           {
            "colorbar": {
             "outlinewidth": 1,
             "tickcolor": "rgb(36,36,36)",
             "ticks": "outside"
            },
            "colorscale": [
             [
              0,
              "#440154"
             ],
             [
              0.1111111111111111,
              "#482878"
             ],
             [
              0.2222222222222222,
              "#3e4989"
             ],
             [
              0.3333333333333333,
              "#31688e"
             ],
             [
              0.4444444444444444,
              "#26828e"
             ],
             [
              0.5555555555555556,
              "#1f9e89"
             ],
             [
              0.6666666666666666,
              "#35b779"
             ],
             [
              0.7777777777777778,
              "#6ece58"
             ],
             [
              0.8888888888888888,
              "#b5de2b"
             ],
             [
              1,
              "#fde725"
             ]
            ],
            "type": "heatmapgl"
           }
          ],
          "histogram": [
           {
            "marker": {
             "line": {
              "color": "white",
              "width": 0.6
             }
            },
            "type": "histogram"
           }
          ],
          "histogram2d": [
           {
            "colorbar": {
             "outlinewidth": 1,
             "tickcolor": "rgb(36,36,36)",
             "ticks": "outside"
            },
            "colorscale": [
             [
              0,
              "#440154"
             ],
             [
              0.1111111111111111,
              "#482878"
             ],
             [
              0.2222222222222222,
              "#3e4989"
             ],
             [
              0.3333333333333333,
              "#31688e"
             ],
             [
              0.4444444444444444,
              "#26828e"
             ],
             [
              0.5555555555555556,
              "#1f9e89"
             ],
             [
              0.6666666666666666,
              "#35b779"
             ],
             [
              0.7777777777777778,
              "#6ece58"
             ],
             [
              0.8888888888888888,
              "#b5de2b"
             ],
             [
              1,
              "#fde725"
             ]
            ],
            "type": "histogram2d"
           }
          ],
          "histogram2dcontour": [
           {
            "colorbar": {
             "outlinewidth": 1,
             "tickcolor": "rgb(36,36,36)",
             "ticks": "outside"
            },
            "colorscale": [
             [
              0,
              "#440154"
             ],
             [
              0.1111111111111111,
              "#482878"
             ],
             [
              0.2222222222222222,
              "#3e4989"
             ],
             [
              0.3333333333333333,
              "#31688e"
             ],
             [
              0.4444444444444444,
              "#26828e"
             ],
             [
              0.5555555555555556,
              "#1f9e89"
             ],
             [
              0.6666666666666666,
              "#35b779"
             ],
             [
              0.7777777777777778,
              "#6ece58"
             ],
             [
              0.8888888888888888,
              "#b5de2b"
             ],
             [
              1,
              "#fde725"
             ]
            ],
            "type": "histogram2dcontour"
           }
          ],
          "mesh3d": [
           {
            "colorbar": {
             "outlinewidth": 1,
             "tickcolor": "rgb(36,36,36)",
             "ticks": "outside"
            },
            "type": "mesh3d"
           }
          ],
          "parcoords": [
           {
            "line": {
             "colorbar": {
              "outlinewidth": 1,
              "tickcolor": "rgb(36,36,36)",
              "ticks": "outside"
             }
            },
            "type": "parcoords"
           }
          ],
          "pie": [
           {
            "automargin": true,
            "type": "pie"
           }
          ],
          "scatter": [
           {
            "marker": {
             "colorbar": {
              "outlinewidth": 1,
              "tickcolor": "rgb(36,36,36)",
              "ticks": "outside"
             }
            },
            "type": "scatter"
           }
          ],
          "scatter3d": [
           {
            "line": {
             "colorbar": {
              "outlinewidth": 1,
              "tickcolor": "rgb(36,36,36)",
              "ticks": "outside"
             }
            },
            "marker": {
             "colorbar": {
              "outlinewidth": 1,
              "tickcolor": "rgb(36,36,36)",
              "ticks": "outside"
             }
            },
            "type": "scatter3d"
           }
          ],
          "scattercarpet": [
           {
            "marker": {
             "colorbar": {
              "outlinewidth": 1,
              "tickcolor": "rgb(36,36,36)",
              "ticks": "outside"
             }
            },
            "type": "scattercarpet"
           }
          ],
          "scattergeo": [
           {
            "marker": {
             "colorbar": {
              "outlinewidth": 1,
              "tickcolor": "rgb(36,36,36)",
              "ticks": "outside"
             }
            },
            "type": "scattergeo"
           }
          ],
          "scattergl": [
           {
            "marker": {
             "colorbar": {
              "outlinewidth": 1,
              "tickcolor": "rgb(36,36,36)",
              "ticks": "outside"
             }
            },
            "type": "scattergl"
           }
          ],
          "scattermapbox": [
           {
            "marker": {
             "colorbar": {
              "outlinewidth": 1,
              "tickcolor": "rgb(36,36,36)",
              "ticks": "outside"
             }
            },
            "type": "scattermapbox"
           }
          ],
          "scatterpolar": [
           {
            "marker": {
             "colorbar": {
              "outlinewidth": 1,
              "tickcolor": "rgb(36,36,36)",
              "ticks": "outside"
             }
            },
            "type": "scatterpolar"
           }
          ],
          "scatterpolargl": [
           {
            "marker": {
             "colorbar": {
              "outlinewidth": 1,
              "tickcolor": "rgb(36,36,36)",
              "ticks": "outside"
             }
            },
            "type": "scatterpolargl"
           }
          ],
          "scatterternary": [
           {
            "marker": {
             "colorbar": {
              "outlinewidth": 1,
              "tickcolor": "rgb(36,36,36)",
              "ticks": "outside"
             }
            },
            "type": "scatterternary"
           }
          ],
          "surface": [
           {
            "colorbar": {
             "outlinewidth": 1,
             "tickcolor": "rgb(36,36,36)",
             "ticks": "outside"
            },
            "colorscale": [
             [
              0,
              "#440154"
             ],
             [
              0.1111111111111111,
              "#482878"
             ],
             [
              0.2222222222222222,
              "#3e4989"
             ],
             [
              0.3333333333333333,
              "#31688e"
             ],
             [
              0.4444444444444444,
              "#26828e"
             ],
             [
              0.5555555555555556,
              "#1f9e89"
             ],
             [
              0.6666666666666666,
              "#35b779"
             ],
             [
              0.7777777777777778,
              "#6ece58"
             ],
             [
              0.8888888888888888,
              "#b5de2b"
             ],
             [
              1,
              "#fde725"
             ]
            ],
            "type": "surface"
           }
          ],
          "table": [
           {
            "cells": {
             "fill": {
              "color": "rgb(237,237,237)"
             },
             "line": {
              "color": "white"
             }
            },
            "header": {
             "fill": {
              "color": "rgb(217,217,217)"
             },
             "line": {
              "color": "white"
             }
            },
            "type": "table"
           }
          ]
         },
         "layout": {
          "annotationdefaults": {
           "arrowhead": 0,
           "arrowwidth": 1
          },
          "autotypenumbers": "strict",
          "coloraxis": {
           "colorbar": {
            "outlinewidth": 1,
            "tickcolor": "rgb(36,36,36)",
            "ticks": "outside"
           }
          },
          "colorscale": {
           "diverging": [
            [
             0,
             "rgb(103,0,31)"
            ],
            [
             0.1,
             "rgb(178,24,43)"
            ],
            [
             0.2,
             "rgb(214,96,77)"
            ],
            [
             0.3,
             "rgb(244,165,130)"
            ],
            [
             0.4,
             "rgb(253,219,199)"
            ],
            [
             0.5,
             "rgb(247,247,247)"
            ],
            [
             0.6,
             "rgb(209,229,240)"
            ],
            [
             0.7,
             "rgb(146,197,222)"
            ],
            [
             0.8,
             "rgb(67,147,195)"
            ],
            [
             0.9,
             "rgb(33,102,172)"
            ],
            [
             1,
             "rgb(5,48,97)"
            ]
           ],
           "sequential": [
            [
             0,
             "#440154"
            ],
            [
             0.1111111111111111,
             "#482878"
            ],
            [
             0.2222222222222222,
             "#3e4989"
            ],
            [
             0.3333333333333333,
             "#31688e"
            ],
            [
             0.4444444444444444,
             "#26828e"
            ],
            [
             0.5555555555555556,
             "#1f9e89"
            ],
            [
             0.6666666666666666,
             "#35b779"
            ],
            [
             0.7777777777777778,
             "#6ece58"
            ],
            [
             0.8888888888888888,
             "#b5de2b"
            ],
            [
             1,
             "#fde725"
            ]
           ],
           "sequentialminus": [
            [
             0,
             "#440154"
            ],
            [
             0.1111111111111111,
             "#482878"
            ],
            [
             0.2222222222222222,
             "#3e4989"
            ],
            [
             0.3333333333333333,
             "#31688e"
            ],
            [
             0.4444444444444444,
             "#26828e"
            ],
            [
             0.5555555555555556,
             "#1f9e89"
            ],
            [
             0.6666666666666666,
             "#35b779"
            ],
            [
             0.7777777777777778,
             "#6ece58"
            ],
            [
             0.8888888888888888,
             "#b5de2b"
            ],
            [
             1,
             "#fde725"
            ]
           ]
          },
          "colorway": [
           "#1F77B4",
           "#FF7F0E",
           "#2CA02C",
           "#D62728",
           "#9467BD",
           "#8C564B",
           "#E377C2",
           "#7F7F7F",
           "#BCBD22",
           "#17BECF"
          ],
          "font": {
           "color": "rgb(36,36,36)"
          },
          "geo": {
           "bgcolor": "white",
           "lakecolor": "white",
           "landcolor": "white",
           "showlakes": true,
           "showland": true,
           "subunitcolor": "white"
          },
          "hoverlabel": {
           "align": "left"
          },
          "hovermode": "closest",
          "mapbox": {
           "style": "light"
          },
          "margin": {
           "b": 0,
           "l": 20,
           "r": 20,
           "t": 40
          },
          "paper_bgcolor": "white",
          "plot_bgcolor": "white",
          "polar": {
           "angularaxis": {
            "gridcolor": "rgb(232,232,232)",
            "linecolor": "rgb(36,36,36)",
            "showgrid": false,
            "showline": true,
            "ticks": "outside"
           },
           "bgcolor": "white",
           "radialaxis": {
            "gridcolor": "rgb(232,232,232)",
            "linecolor": "rgb(36,36,36)",
            "showgrid": false,
            "showline": true,
            "ticks": "outside"
           }
          },
          "scene": {
           "xaxis": {
            "backgroundcolor": "white",
            "gridcolor": "rgb(232,232,232)",
            "gridwidth": 2,
            "linecolor": "rgb(36,36,36)",
            "showbackground": true,
            "showgrid": false,
            "showline": true,
            "ticks": "outside",
            "zeroline": false,
            "zerolinecolor": "rgb(36,36,36)"
           },
           "yaxis": {
            "backgroundcolor": "white",
            "gridcolor": "rgb(232,232,232)",
            "gridwidth": 2,
            "linecolor": "rgb(36,36,36)",
            "showbackground": true,
            "showgrid": false,
            "showline": true,
            "ticks": "outside",
            "zeroline": false,
            "zerolinecolor": "rgb(36,36,36)"
           },
           "zaxis": {
            "backgroundcolor": "white",
            "gridcolor": "rgb(232,232,232)",
            "gridwidth": 2,
            "linecolor": "rgb(36,36,36)",
            "showbackground": true,
            "showgrid": false,
            "showline": true,
            "ticks": "outside",
            "zeroline": false,
            "zerolinecolor": "rgb(36,36,36)"
           }
          },
          "shapedefaults": {
           "fillcolor": "black",
           "line": {
            "width": 0
           },
           "opacity": 0.3
          },
          "ternary": {
           "aaxis": {
            "gridcolor": "rgb(232,232,232)",
            "linecolor": "rgb(36,36,36)",
            "showgrid": false,
            "showline": true,
            "ticks": "outside"
           },
           "baxis": {
            "gridcolor": "rgb(232,232,232)",
            "linecolor": "rgb(36,36,36)",
            "showgrid": false,
            "showline": true,
            "ticks": "outside"
           },
           "bgcolor": "white",
           "caxis": {
            "gridcolor": "rgb(232,232,232)",
            "linecolor": "rgb(36,36,36)",
            "showgrid": false,
            "showline": true,
            "ticks": "outside"
           }
          },
          "title": {
           "x": 0.05
          },
          "xaxis": {
           "automargin": true,
           "gridcolor": "rgb(232,232,232)",
           "linecolor": "rgb(36,36,36)",
           "showgrid": false,
           "showline": true,
           "ticks": "outside",
           "title": {
            "standoff": 15
           },
           "zeroline": false,
           "zerolinecolor": "rgb(36,36,36)"
          },
          "yaxis": {
           "automargin": true,
           "gridcolor": "rgb(232,232,232)",
           "linecolor": "rgb(36,36,36)",
           "showgrid": false,
           "showline": true,
           "ticks": "outside",
           "title": {
            "standoff": 15
           },
           "zeroline": false,
           "zerolinecolor": "rgb(36,36,36)"
          }
         }
        },
        "title": {
         "text": "$\\text{(1) Datasets For Polynomial Fitting}$"
        },
        "xaxis": {
         "anchor": "y",
         "domain": [
          0,
          0.45
         ]
        },
        "xaxis2": {
         "anchor": "y2",
         "domain": [
          0.55,
          1
         ]
        },
        "yaxis": {
         "anchor": "x",
         "domain": [
          0,
          1
         ]
        },
        "yaxis2": {
         "anchor": "x2",
         "domain": [
          0,
          1
         ]
        }
       }
      },
      "text/html": [
       "<div>                            <div id=\"e2ed8ae3-2a97-4067-bdcc-b29c34490b69\" class=\"plotly-graph-div\" style=\"height:525px; width:100%;\"></div>            <script type=\"text/javascript\">                require([\"plotly\"], function(Plotly) {                    window.PLOTLYENV=window.PLOTLYENV || {};                                    if (document.getElementById(\"e2ed8ae3-2a97-4067-bdcc-b29c34490b69\")) {                    Plotly.newPlot(                        \"e2ed8ae3-2a97-4067-bdcc-b29c34490b69\",                        [{\"marker\": {\"color\": \"black\", \"opacity\": 0.7}, \"mode\": \"markers\", \"showlegend\": false, \"type\": \"scatter\", \"x\": [-1.2, -1.031578947368421, -0.8631578947368421, -0.6947368421052631, -0.5263157894736842, -0.35789473684210527, -0.18947368421052624, -0.021052631578947434, 0.1473684210526316, 0.3157894736842106, 0.4842105263157894, 0.6526315789473685, 0.8210526315789475, 0.9894736842105265, 1.157894736842105, 1.3263157894736841, 1.4947368421052631, 1.6631578947368422, 1.8315789473684212, 2.0], \"xaxis\": \"x\", \"y\": [5.8096, 3.7958686136539765, 2.4687431311914425, 1.6622727081590838, 1.229817143821794, 1.0440468811626675, 0.9969430068830043, 0.9997972514023066, 0.9832119888582806, 0.8971002371068362, 0.7106856577220864, 0.41250255599634744, 0.010395880940139768, -0.46847877471781274, -0.9776551745305817, -1.4513564383330393, -1.8044950422418493, -1.9326728186554742, -1.7121809562541719, -1.0], \"yaxis\": \"y\"}, {\"marker\": {\"color\": \"black\", \"opacity\": 0.7}, \"mode\": \"markers\", \"showlegend\": false, \"type\": \"scatter\", \"x\": [\"Business Analyst\", \"Junior Consultant\", \"Senior Consultant\", \"Manager\", \"Country Manager\", \"Region Manager\", \"Partner\", \"Senior Partner\", \"C-level\", \"CEO\"], \"xaxis\": \"x2\", \"y\": [45000, 50000, 60000, 80000, 110000, 150000, 200000, 300000, 500000, 1000000], \"yaxis\": \"y2\"}],                        {\"annotations\": [{\"font\": {\"size\": 16}, \"showarrow\": false, \"text\": \"$\\\\text{Simulated Data: }y=x^4-2x^3-0.5x^2+1$\", \"x\": 0.225, \"xanchor\": \"center\", \"xref\": \"paper\", \"y\": 1.0, \"yanchor\": \"bottom\", \"yref\": \"paper\"}, {\"font\": {\"size\": 16}, \"showarrow\": false, \"text\": \"$\\\\text{Positions Salary}$\", \"x\": 0.775, \"xanchor\": \"center\", \"xref\": \"paper\", \"y\": 1.0, \"yanchor\": \"bottom\", \"yref\": \"paper\"}], \"margin\": {\"t\": 100}, \"template\": {\"data\": {\"bar\": [{\"error_x\": {\"color\": \"rgb(36,36,36)\"}, \"error_y\": {\"color\": \"rgb(36,36,36)\"}, \"marker\": {\"line\": {\"color\": \"white\", \"width\": 0.5}}, \"type\": \"bar\"}], \"barpolar\": [{\"marker\": {\"line\": {\"color\": \"white\", \"width\": 0.5}}, \"type\": \"barpolar\"}], \"carpet\": [{\"aaxis\": {\"endlinecolor\": \"rgb(36,36,36)\", \"gridcolor\": \"white\", \"linecolor\": \"white\", \"minorgridcolor\": \"white\", \"startlinecolor\": \"rgb(36,36,36)\"}, \"baxis\": {\"endlinecolor\": \"rgb(36,36,36)\", \"gridcolor\": \"white\", \"linecolor\": \"white\", \"minorgridcolor\": \"white\", \"startlinecolor\": \"rgb(36,36,36)\"}, \"type\": \"carpet\"}], \"choropleth\": [{\"colorbar\": {\"outlinewidth\": 1, \"tickcolor\": \"rgb(36,36,36)\", \"ticks\": \"outside\"}, \"type\": \"choropleth\"}], \"contour\": [{\"colorbar\": {\"outlinewidth\": 1, \"tickcolor\": \"rgb(36,36,36)\", \"ticks\": \"outside\"}, \"colorscale\": [[0.0, \"#440154\"], [0.1111111111111111, \"#482878\"], [0.2222222222222222, \"#3e4989\"], [0.3333333333333333, \"#31688e\"], [0.4444444444444444, \"#26828e\"], [0.5555555555555556, \"#1f9e89\"], [0.6666666666666666, \"#35b779\"], [0.7777777777777778, \"#6ece58\"], [0.8888888888888888, \"#b5de2b\"], [1.0, \"#fde725\"]], \"type\": \"contour\"}], \"contourcarpet\": [{\"colorbar\": {\"outlinewidth\": 1, \"tickcolor\": \"rgb(36,36,36)\", \"ticks\": \"outside\"}, \"type\": \"contourcarpet\"}], \"heatmap\": [{\"colorbar\": {\"outlinewidth\": 1, \"tickcolor\": \"rgb(36,36,36)\", \"ticks\": \"outside\"}, \"colorscale\": [[0.0, \"#440154\"], [0.1111111111111111, \"#482878\"], [0.2222222222222222, \"#3e4989\"], [0.3333333333333333, \"#31688e\"], [0.4444444444444444, \"#26828e\"], [0.5555555555555556, \"#1f9e89\"], [0.6666666666666666, \"#35b779\"], [0.7777777777777778, \"#6ece58\"], [0.8888888888888888, \"#b5de2b\"], [1.0, \"#fde725\"]], \"type\": \"heatmap\"}], \"heatmapgl\": [{\"colorbar\": {\"outlinewidth\": 1, \"tickcolor\": \"rgb(36,36,36)\", \"ticks\": \"outside\"}, \"colorscale\": [[0.0, \"#440154\"], [0.1111111111111111, \"#482878\"], [0.2222222222222222, \"#3e4989\"], [0.3333333333333333, \"#31688e\"], [0.4444444444444444, \"#26828e\"], [0.5555555555555556, \"#1f9e89\"], [0.6666666666666666, \"#35b779\"], [0.7777777777777778, \"#6ece58\"], [0.8888888888888888, \"#b5de2b\"], [1.0, \"#fde725\"]], \"type\": \"heatmapgl\"}], \"histogram\": [{\"marker\": {\"line\": {\"color\": \"white\", \"width\": 0.6}}, \"type\": \"histogram\"}], \"histogram2d\": [{\"colorbar\": {\"outlinewidth\": 1, \"tickcolor\": \"rgb(36,36,36)\", \"ticks\": \"outside\"}, \"colorscale\": [[0.0, \"#440154\"], [0.1111111111111111, \"#482878\"], [0.2222222222222222, \"#3e4989\"], [0.3333333333333333, \"#31688e\"], [0.4444444444444444, \"#26828e\"], [0.5555555555555556, \"#1f9e89\"], [0.6666666666666666, \"#35b779\"], [0.7777777777777778, \"#6ece58\"], [0.8888888888888888, \"#b5de2b\"], [1.0, \"#fde725\"]], \"type\": \"histogram2d\"}], \"histogram2dcontour\": [{\"colorbar\": {\"outlinewidth\": 1, \"tickcolor\": \"rgb(36,36,36)\", \"ticks\": \"outside\"}, \"colorscale\": [[0.0, \"#440154\"], [0.1111111111111111, \"#482878\"], [0.2222222222222222, \"#3e4989\"], [0.3333333333333333, \"#31688e\"], [0.4444444444444444, \"#26828e\"], [0.5555555555555556, \"#1f9e89\"], [0.6666666666666666, \"#35b779\"], [0.7777777777777778, \"#6ece58\"], [0.8888888888888888, \"#b5de2b\"], [1.0, \"#fde725\"]], \"type\": \"histogram2dcontour\"}], \"mesh3d\": [{\"colorbar\": {\"outlinewidth\": 1, \"tickcolor\": \"rgb(36,36,36)\", \"ticks\": \"outside\"}, \"type\": \"mesh3d\"}], \"parcoords\": [{\"line\": {\"colorbar\": {\"outlinewidth\": 1, \"tickcolor\": \"rgb(36,36,36)\", \"ticks\": \"outside\"}}, \"type\": \"parcoords\"}], \"pie\": [{\"automargin\": true, \"type\": \"pie\"}], \"scatter\": [{\"marker\": {\"colorbar\": {\"outlinewidth\": 1, \"tickcolor\": \"rgb(36,36,36)\", \"ticks\": \"outside\"}}, \"type\": \"scatter\"}], \"scatter3d\": [{\"line\": {\"colorbar\": {\"outlinewidth\": 1, \"tickcolor\": \"rgb(36,36,36)\", \"ticks\": \"outside\"}}, \"marker\": {\"colorbar\": {\"outlinewidth\": 1, \"tickcolor\": \"rgb(36,36,36)\", \"ticks\": \"outside\"}}, \"type\": \"scatter3d\"}], \"scattercarpet\": [{\"marker\": {\"colorbar\": {\"outlinewidth\": 1, \"tickcolor\": \"rgb(36,36,36)\", \"ticks\": \"outside\"}}, \"type\": \"scattercarpet\"}], \"scattergeo\": [{\"marker\": {\"colorbar\": {\"outlinewidth\": 1, \"tickcolor\": \"rgb(36,36,36)\", \"ticks\": \"outside\"}}, \"type\": \"scattergeo\"}], \"scattergl\": [{\"marker\": {\"colorbar\": {\"outlinewidth\": 1, \"tickcolor\": \"rgb(36,36,36)\", \"ticks\": \"outside\"}}, \"type\": \"scattergl\"}], \"scattermapbox\": [{\"marker\": {\"colorbar\": {\"outlinewidth\": 1, \"tickcolor\": \"rgb(36,36,36)\", \"ticks\": \"outside\"}}, \"type\": \"scattermapbox\"}], \"scatterpolar\": [{\"marker\": {\"colorbar\": {\"outlinewidth\": 1, \"tickcolor\": \"rgb(36,36,36)\", \"ticks\": \"outside\"}}, \"type\": \"scatterpolar\"}], \"scatterpolargl\": [{\"marker\": {\"colorbar\": {\"outlinewidth\": 1, \"tickcolor\": \"rgb(36,36,36)\", \"ticks\": \"outside\"}}, \"type\": \"scatterpolargl\"}], \"scatterternary\": [{\"marker\": {\"colorbar\": {\"outlinewidth\": 1, \"tickcolor\": \"rgb(36,36,36)\", \"ticks\": \"outside\"}}, \"type\": \"scatterternary\"}], \"surface\": [{\"colorbar\": {\"outlinewidth\": 1, \"tickcolor\": \"rgb(36,36,36)\", \"ticks\": \"outside\"}, \"colorscale\": [[0.0, \"#440154\"], [0.1111111111111111, \"#482878\"], [0.2222222222222222, \"#3e4989\"], [0.3333333333333333, \"#31688e\"], [0.4444444444444444, \"#26828e\"], [0.5555555555555556, \"#1f9e89\"], [0.6666666666666666, \"#35b779\"], [0.7777777777777778, \"#6ece58\"], [0.8888888888888888, \"#b5de2b\"], [1.0, \"#fde725\"]], \"type\": \"surface\"}], \"table\": [{\"cells\": {\"fill\": {\"color\": \"rgb(237,237,237)\"}, \"line\": {\"color\": \"white\"}}, \"header\": {\"fill\": {\"color\": \"rgb(217,217,217)\"}, \"line\": {\"color\": \"white\"}}, \"type\": \"table\"}]}, \"layout\": {\"annotationdefaults\": {\"arrowhead\": 0, \"arrowwidth\": 1}, \"autotypenumbers\": \"strict\", \"coloraxis\": {\"colorbar\": {\"outlinewidth\": 1, \"tickcolor\": \"rgb(36,36,36)\", \"ticks\": \"outside\"}}, \"colorscale\": {\"diverging\": [[0.0, \"rgb(103,0,31)\"], [0.1, \"rgb(178,24,43)\"], [0.2, \"rgb(214,96,77)\"], [0.3, \"rgb(244,165,130)\"], [0.4, \"rgb(253,219,199)\"], [0.5, \"rgb(247,247,247)\"], [0.6, \"rgb(209,229,240)\"], [0.7, \"rgb(146,197,222)\"], [0.8, \"rgb(67,147,195)\"], [0.9, \"rgb(33,102,172)\"], [1.0, \"rgb(5,48,97)\"]], \"sequential\": [[0.0, \"#440154\"], [0.1111111111111111, \"#482878\"], [0.2222222222222222, \"#3e4989\"], [0.3333333333333333, \"#31688e\"], [0.4444444444444444, \"#26828e\"], [0.5555555555555556, \"#1f9e89\"], [0.6666666666666666, \"#35b779\"], [0.7777777777777778, \"#6ece58\"], [0.8888888888888888, \"#b5de2b\"], [1.0, \"#fde725\"]], \"sequentialminus\": [[0.0, \"#440154\"], [0.1111111111111111, \"#482878\"], [0.2222222222222222, \"#3e4989\"], [0.3333333333333333, \"#31688e\"], [0.4444444444444444, \"#26828e\"], [0.5555555555555556, \"#1f9e89\"], [0.6666666666666666, \"#35b779\"], [0.7777777777777778, \"#6ece58\"], [0.8888888888888888, \"#b5de2b\"], [1.0, \"#fde725\"]]}, \"colorway\": [\"#1F77B4\", \"#FF7F0E\", \"#2CA02C\", \"#D62728\", \"#9467BD\", \"#8C564B\", \"#E377C2\", \"#7F7F7F\", \"#BCBD22\", \"#17BECF\"], \"font\": {\"color\": \"rgb(36,36,36)\"}, \"geo\": {\"bgcolor\": \"white\", \"lakecolor\": \"white\", \"landcolor\": \"white\", \"showlakes\": true, \"showland\": true, \"subunitcolor\": \"white\"}, \"hoverlabel\": {\"align\": \"left\"}, \"hovermode\": \"closest\", \"mapbox\": {\"style\": \"light\"}, \"margin\": {\"b\": 0, \"l\": 20, \"r\": 20, \"t\": 40}, \"paper_bgcolor\": \"white\", \"plot_bgcolor\": \"white\", \"polar\": {\"angularaxis\": {\"gridcolor\": \"rgb(232,232,232)\", \"linecolor\": \"rgb(36,36,36)\", \"showgrid\": false, \"showline\": true, \"ticks\": \"outside\"}, \"bgcolor\": \"white\", \"radialaxis\": {\"gridcolor\": \"rgb(232,232,232)\", \"linecolor\": \"rgb(36,36,36)\", \"showgrid\": false, \"showline\": true, \"ticks\": \"outside\"}}, \"scene\": {\"xaxis\": {\"backgroundcolor\": \"white\", \"gridcolor\": \"rgb(232,232,232)\", \"gridwidth\": 2, \"linecolor\": \"rgb(36,36,36)\", \"showbackground\": true, \"showgrid\": false, \"showline\": true, \"ticks\": \"outside\", \"zeroline\": false, \"zerolinecolor\": \"rgb(36,36,36)\"}, \"yaxis\": {\"backgroundcolor\": \"white\", \"gridcolor\": \"rgb(232,232,232)\", \"gridwidth\": 2, \"linecolor\": \"rgb(36,36,36)\", \"showbackground\": true, \"showgrid\": false, \"showline\": true, \"ticks\": \"outside\", \"zeroline\": false, \"zerolinecolor\": \"rgb(36,36,36)\"}, \"zaxis\": {\"backgroundcolor\": \"white\", \"gridcolor\": \"rgb(232,232,232)\", \"gridwidth\": 2, \"linecolor\": \"rgb(36,36,36)\", \"showbackground\": true, \"showgrid\": false, \"showline\": true, \"ticks\": \"outside\", \"zeroline\": false, \"zerolinecolor\": \"rgb(36,36,36)\"}}, \"shapedefaults\": {\"fillcolor\": \"black\", \"line\": {\"width\": 0}, \"opacity\": 0.3}, \"ternary\": {\"aaxis\": {\"gridcolor\": \"rgb(232,232,232)\", \"linecolor\": \"rgb(36,36,36)\", \"showgrid\": false, \"showline\": true, \"ticks\": \"outside\"}, \"baxis\": {\"gridcolor\": \"rgb(232,232,232)\", \"linecolor\": \"rgb(36,36,36)\", \"showgrid\": false, \"showline\": true, \"ticks\": \"outside\"}, \"bgcolor\": \"white\", \"caxis\": {\"gridcolor\": \"rgb(232,232,232)\", \"linecolor\": \"rgb(36,36,36)\", \"showgrid\": false, \"showline\": true, \"ticks\": \"outside\"}}, \"title\": {\"x\": 0.05}, \"xaxis\": {\"automargin\": true, \"gridcolor\": \"rgb(232,232,232)\", \"linecolor\": \"rgb(36,36,36)\", \"showgrid\": false, \"showline\": true, \"ticks\": \"outside\", \"title\": {\"standoff\": 15}, \"zeroline\": false, \"zerolinecolor\": \"rgb(36,36,36)\"}, \"yaxis\": {\"automargin\": true, \"gridcolor\": \"rgb(232,232,232)\", \"linecolor\": \"rgb(36,36,36)\", \"showgrid\": false, \"showline\": true, \"ticks\": \"outside\", \"title\": {\"standoff\": 15}, \"zeroline\": false, \"zerolinecolor\": \"rgb(36,36,36)\"}}}, \"title\": {\"text\": \"$\\\\text{(1) Datasets For Polynomial Fitting}$\"}, \"xaxis\": {\"anchor\": \"y\", \"domain\": [0.0, 0.45]}, \"xaxis2\": {\"anchor\": \"y2\", \"domain\": [0.55, 1.0]}, \"yaxis\": {\"anchor\": \"x\", \"domain\": [0.0, 1.0]}, \"yaxis2\": {\"anchor\": \"x2\", \"domain\": [0.0, 1.0]}},                        {\"responsive\": true}                    ).then(function(){\n",
       "                            \n",
       "var gd = document.getElementById('e2ed8ae3-2a97-4067-bdcc-b29c34490b69');\n",
       "var x = new MutationObserver(function (mutations, observer) {{\n",
       "        var display = window.getComputedStyle(gd).display;\n",
       "        if (!display || display === 'none') {{\n",
       "            console.log([gd, 'removed!']);\n",
       "            Plotly.purge(gd);\n",
       "            observer.disconnect();\n",
       "        }}\n",
       "}});\n",
       "\n",
       "// Listen for the removal of the full notebook cells\n",
       "var notebookContainer = gd.closest('#notebook-container');\n",
       "if (notebookContainer) {{\n",
       "    x.observe(notebookContainer, {childList: true});\n",
       "}}\n",
       "\n",
       "// Listen for the clearing of the current output cell\n",
       "var outputEl = gd.closest('.output');\n",
       "if (outputEl) {{\n",
       "    x.observe(outputEl, {childList: true});\n",
       "}}\n",
       "\n",
       "                        })                };                });            </script>        </div>"
      ]
     },
     "metadata": {},
     "output_type": "display_data"
    }
   ],
   "source": [
    "response = lambda x: x**4 - 2*x**3 - .5*x**2 + 1\n",
    "\n",
    "x = np.linspace(-1.2, 2, 20)\n",
    "y_ = response(x)\n",
    "\n",
    "df = pd.read_csv(\"../data/Position_Salaries.csv\", skiprows=2, index_col=0)\n",
    "x2, y2 = df.index, df.Salary\n",
    "\n",
    "make_subplots(1, 2, subplot_titles=(r\"$\\text{Simulated Data: }y=x^4-2x^3-0.5x^2+1$\", r\"$\\text{Positions Salary}$\"))\\\n",
    "    .add_traces([go.Scatter(x=x, y=y_, mode=\"markers\", marker=dict(color=\"black\", opacity=.7), showlegend=False),\n",
    "                 go.Scatter(x=x2, y=y2, mode=\"markers\",marker=dict(color=\"black\", opacity=.7), showlegend=False)], \n",
    "                rows=[1,1], cols=[1,2])\\\n",
    "    .update_layout(title=r\"$\\text{(1) Datasets For Polynomial Fitting}$\", margin=dict(t=100)).show()\n",
    "\n"
   ]
  },
  {
   "cell_type": "markdown",
   "metadata": {
    "pycharm": {
     "name": "#%% md\n"
    }
   },
   "source": [
    "As we have discussed in class, solving a polynomial fitting problem can be done by first manipulating the input data,\n",
    "such that we represent each sample $x_i\\in\\mathbb{R}$ as a vector $\\mathbf{x}_i=\\left(x^0,x^1,\\ldots,x^k\\right)$. Then,\n",
    "we treat the data as a design matrix $\\mathbf{X}\\in\\mathbb{R}^{m\\times k}$ of a linear regression problem.\n",
    "\n",
    "For the simulated dataset above, which is of a polynomial of degree 4, the design matrix looks as follows: \n"
   ]
  },
  {
   "cell_type": "code",
   "execution_count": 9,
   "metadata": {
    "pycharm": {
     "is_executing": false,
     "name": "#%%\n"
    }
   },
   "outputs": [
    {
     "data": {
      "text/html": [
       "<div>\n",
       "<style scoped>\n",
       "    .dataframe tbody tr th:only-of-type {\n",
       "        vertical-align: middle;\n",
       "    }\n",
       "\n",
       "    .dataframe tbody tr th {\n",
       "        vertical-align: top;\n",
       "    }\n",
       "\n",
       "    .dataframe thead th {\n",
       "        text-align: right;\n",
       "    }\n",
       "</style>\n",
       "<table border=\"1\" class=\"dataframe\">\n",
       "  <thead>\n",
       "    <tr style=\"text-align: right;\">\n",
       "      <th></th>\n",
       "      <th>$x^0$</th>\n",
       "      <th>$x^1$</th>\n",
       "      <th>$x^2$</th>\n",
       "      <th>$x^3$</th>\n",
       "      <th>$x^4$</th>\n",
       "    </tr>\n",
       "  </thead>\n",
       "  <tbody>\n",
       "    <tr>\n",
       "      <th>$x_1$</th>\n",
       "      <td>1.0</td>\n",
       "      <td>-1.200000</td>\n",
       "      <td>1.440000</td>\n",
       "      <td>-1.728000</td>\n",
       "      <td>2.073600</td>\n",
       "    </tr>\n",
       "    <tr>\n",
       "      <th>$x_2$</th>\n",
       "      <td>1.0</td>\n",
       "      <td>-1.031579</td>\n",
       "      <td>1.064155</td>\n",
       "      <td>-1.097760</td>\n",
       "      <td>1.132426</td>\n",
       "    </tr>\n",
       "    <tr>\n",
       "      <th>$x_3$</th>\n",
       "      <td>1.0</td>\n",
       "      <td>-0.863158</td>\n",
       "      <td>0.745042</td>\n",
       "      <td>-0.643088</td>\n",
       "      <td>0.555087</td>\n",
       "    </tr>\n",
       "    <tr>\n",
       "      <th>$x_4$</th>\n",
       "      <td>1.0</td>\n",
       "      <td>-0.694737</td>\n",
       "      <td>0.482659</td>\n",
       "      <td>-0.335321</td>\n",
       "      <td>0.232960</td>\n",
       "    </tr>\n",
       "    <tr>\n",
       "      <th>$x_5$</th>\n",
       "      <td>1.0</td>\n",
       "      <td>-0.526316</td>\n",
       "      <td>0.277008</td>\n",
       "      <td>-0.145794</td>\n",
       "      <td>0.076734</td>\n",
       "    </tr>\n",
       "  </tbody>\n",
       "</table>\n",
       "</div>"
      ],
      "text/plain": [
       "       $x^0$     $x^1$     $x^2$     $x^3$     $x^4$\n",
       "$x_1$    1.0 -1.200000  1.440000 -1.728000  2.073600\n",
       "$x_2$    1.0 -1.031579  1.064155 -1.097760  1.132426\n",
       "$x_3$    1.0 -0.863158  0.745042 -0.643088  0.555087\n",
       "$x_4$    1.0 -0.694737  0.482659 -0.335321  0.232960\n",
       "$x_5$    1.0 -0.526316  0.277008 -0.145794  0.076734"
      ]
     },
     "execution_count": 9,
     "metadata": {},
     "output_type": "execute_result"
    }
   ],
   "source": [
    "from sklearn.preprocessing import PolynomialFeatures\n",
    "m, k, X = 5, 4, x.reshape(-1, 1)\n",
    "pd.DataFrame(PolynomialFeatures(k).fit_transform(X[:m]), \n",
    "             columns=[rf\"$x^{{0}}$\".format(i) for i in range(0, k+1)],\n",
    "             index=[rf\"$x_{{0}}$\".format(i) for i in range(1, m+1)])"
   ]
  },
  {
   "cell_type": "markdown",
   "metadata": {
    "pycharm": {
     "name": "#%% md\n"
    }
   },
   "source": [
    "## Fitting A Polynomial Of Different Degrees\n",
    "\n",
    "Next, let us fit polynomials of different degrees and different noise properties to study how it influences the learned model.\n",
    "We begin with the noise-less case where we fit for different values of $k$. As we increase $k$ we manage to fit a model\n",
    "that describes the data in a better way, reflected by the decrease in the MSE."
   ]
  },
  {
   "cell_type": "code",
   "execution_count": 15,
   "metadata": {
    "pycharm": {
     "is_executing": false,
     "name": "#%%\n"
    }
   },
   "outputs": [
    {
     "data": {
      "application/vnd.plotly.v1+json": {
       "config": {
        "plotlyServerURL": "https://plot.ly"
       },
       "data": [
        {
         "marker": {
          "color": "black",
          "opacity": 0.7
         },
         "mode": "markers",
         "name": "Real Points",
         "showlegend": false,
         "type": "scatter",
         "x": [
          -1.2,
          -1.031578947368421,
          -0.8631578947368421,
          -0.6947368421052631,
          -0.5263157894736842,
          -0.35789473684210527,
          -0.18947368421052624,
          -0.021052631578947434,
          0.1473684210526316,
          0.3157894736842106,
          0.4842105263157894,
          0.6526315789473685,
          0.8210526315789475,
          0.9894736842105265,
          1.157894736842105,
          1.3263157894736841,
          1.4947368421052631,
          1.6631578947368422,
          1.8315789473684212,
          2
         ],
         "xaxis": "x",
         "y": [
          5.8096,
          3.7958686136539765,
          2.4687431311914425,
          1.6622727081590838,
          1.229817143821794,
          1.0440468811626675,
          0.9969430068830043,
          0.9997972514023066,
          0.9832119888582806,
          0.8971002371068362,
          0.7106856577220864,
          0.41250255599634744,
          0.010395880940139768,
          -0.46847877471781274,
          -0.9776551745305817,
          -1.4513564383330393,
          -1.8044950422418493,
          -1.9326728186554742,
          -1.7121809562541719,
          -1
         ],
         "yaxis": "y"
        },
        {
         "marker": {
          "color": "blue",
          "opacity": 0.7
         },
         "mode": "markers",
         "name": "Predicted Points",
         "showlegend": false,
         "type": "scatter",
         "x": [
          -1.2,
          -1.031578947368421,
          -0.8631578947368421,
          -0.6947368421052631,
          -0.5263157894736842,
          -0.35789473684210527,
          -0.18947368421052624,
          -0.021052631578947434,
          0.1473684210526316,
          0.3157894736842106,
          0.4842105263157894,
          0.6526315789473685,
          0.8210526315789475,
          0.9894736842105265,
          1.157894736842105,
          1.3263157894736841,
          1.4947368421052631,
          1.6631578947368422,
          1.8315789473684212,
          2
         ],
         "xaxis": "x",
         "y": [
          4.18482916210193,
          3.6474826962434506,
          3.1365163980369344,
          2.651930267482381,
          2.19372430457979,
          1.761898509329162,
          1.3564528817304962,
          0.9773874217837935,
          0.624702129489053,
          0.2983970048462753,
          -0.0015279521445393796,
          -0.27507274148339167,
          -0.5222373631702816,
          -0.7430218172052087,
          -0.9374261035881725,
          -1.105450222319174,
          -1.2470941733982128,
          -1.3623579568252895,
          -1.451241572600403,
          -1.513745020723554
         ],
         "yaxis": "y"
        },
        {
         "marker": {
          "color": "black",
          "opacity": 0.7
         },
         "mode": "markers",
         "name": "Real Points",
         "showlegend": false,
         "type": "scatter",
         "x": [
          -1.2,
          -1.031578947368421,
          -0.8631578947368421,
          -0.6947368421052631,
          -0.5263157894736842,
          -0.35789473684210527,
          -0.18947368421052624,
          -0.021052631578947434,
          0.1473684210526316,
          0.3157894736842106,
          0.4842105263157894,
          0.6526315789473685,
          0.8210526315789475,
          0.9894736842105265,
          1.157894736842105,
          1.3263157894736841,
          1.4947368421052631,
          1.6631578947368422,
          1.8315789473684212,
          2
         ],
         "xaxis": "x2",
         "y": [
          5.8096,
          3.7958686136539765,
          2.4687431311914425,
          1.6622727081590838,
          1.229817143821794,
          1.0440468811626675,
          0.9969430068830043,
          0.9997972514023066,
          0.9832119888582806,
          0.8971002371068362,
          0.7106856577220864,
          0.41250255599634744,
          0.010395880940139768,
          -0.46847877471781274,
          -0.9776551745305817,
          -1.4513564383330393,
          -1.8044950422418493,
          -1.9326728186554742,
          -1.7121809562541719,
          -1
         ],
         "yaxis": "y2"
        },
        {
         "marker": {
          "color": "blue",
          "opacity": 0.7
         },
         "mode": "markers",
         "name": "Predicted Points",
         "showlegend": false,
         "type": "scatter",
         "x": [
          -1.2,
          -1.031578947368421,
          -0.8631578947368421,
          -0.6947368421052631,
          -0.5263157894736842,
          -0.35789473684210527,
          -0.18947368421052624,
          -0.021052631578947434,
          0.1473684210526316,
          0.3157894736842106,
          0.4842105263157894,
          0.6526315789473685,
          0.8210526315789475,
          0.9894736842105265,
          1.157894736842105,
          1.3263157894736841,
          1.4947368421052631,
          1.6631578947368422,
          1.8315789473684212,
          2
         ],
         "xaxis": "x2",
         "y": [
          4.740342070689189,
          3.8521453467755986,
          3.0877871955292813,
          2.4358019222425504,
          1.8847238322077242,
          1.4230872307171192,
          1.0394264230630517,
          0.722275714537839,
          0.4601694104337969,
          0.24164181604324259,
          0.05522723665849283,
          -0.1105400224281361,
          -0.26712565592432747,
          -0.4259953585377644,
          -0.5986148249761299,
          -0.7964497499471085,
          -1.0309658281583824,
          -1.3136287543176355,
          -1.6559042231325507,
          -2.0692579293108118
         ],
         "yaxis": "y2"
        },
        {
         "marker": {
          "color": "black",
          "opacity": 0.7
         },
         "mode": "markers",
         "name": "Real Points",
         "showlegend": false,
         "type": "scatter",
         "x": [
          -1.2,
          -1.031578947368421,
          -0.8631578947368421,
          -0.6947368421052631,
          -0.5263157894736842,
          -0.35789473684210527,
          -0.18947368421052624,
          -0.021052631578947434,
          0.1473684210526316,
          0.3157894736842106,
          0.4842105263157894,
          0.6526315789473685,
          0.8210526315789475,
          0.9894736842105265,
          1.157894736842105,
          1.3263157894736841,
          1.4947368421052631,
          1.6631578947368422,
          1.8315789473684212,
          2
         ],
         "xaxis": "x3",
         "y": [
          5.8096,
          3.7958686136539765,
          2.4687431311914425,
          1.6622727081590838,
          1.229817143821794,
          1.0440468811626675,
          0.9969430068830043,
          0.9997972514023066,
          0.9832119888582806,
          0.8971002371068362,
          0.7106856577220864,
          0.41250255599634744,
          0.010395880940139768,
          -0.46847877471781274,
          -0.9776551745305817,
          -1.4513564383330393,
          -1.8044950422418493,
          -1.9326728186554742,
          -1.7121809562541719,
          -1
         ],
         "yaxis": "y3"
        },
        {
         "marker": {
          "color": "blue",
          "opacity": 0.7
         },
         "mode": "markers",
         "name": "Predicted Points",
         "showlegend": false,
         "type": "scatter",
         "x": [
          -1.2,
          -1.031578947368421,
          -0.8631578947368421,
          -0.6947368421052631,
          -0.5263157894736842,
          -0.35789473684210527,
          -0.18947368421052624,
          -0.021052631578947434,
          0.1473684210526316,
          0.3157894736842106,
          0.4842105263157894,
          0.6526315789473685,
          0.8210526315789475,
          0.9894736842105265,
          1.157894736842105,
          1.3263157894736841,
          1.4947368421052631,
          1.6631578947368422,
          1.8315789473684212,
          2
         ],
         "xaxis": "x3",
         "y": [
          5.809600000000003,
          3.7958686136539788,
          2.4687431311914447,
          1.6622727081590853,
          1.2298171438217944,
          1.044046881162668,
          0.9969430068830044,
          0.9997972514023066,
          0.9832119888582806,
          0.897100237106836,
          0.7106856577220861,
          0.4125025559963471,
          0.010395880940139546,
          -0.4684787747178132,
          -0.9776551745305824,
          -1.4513564383330388,
          -1.8044950422418502,
          -1.9326728186554734,
          -1.7121809562541745,
          -1
         ],
         "yaxis": "y3"
        },
        {
         "marker": {
          "color": "black",
          "opacity": 0.7
         },
         "mode": "markers",
         "name": "Real Points",
         "showlegend": false,
         "type": "scatter",
         "x": [
          -1.2,
          -1.031578947368421,
          -0.8631578947368421,
          -0.6947368421052631,
          -0.5263157894736842,
          -0.35789473684210527,
          -0.18947368421052624,
          -0.021052631578947434,
          0.1473684210526316,
          0.3157894736842106,
          0.4842105263157894,
          0.6526315789473685,
          0.8210526315789475,
          0.9894736842105265,
          1.157894736842105,
          1.3263157894736841,
          1.4947368421052631,
          1.6631578947368422,
          1.8315789473684212,
          2
         ],
         "xaxis": "x4",
         "y": [
          5.8096,
          3.7958686136539765,
          2.4687431311914425,
          1.6622727081590838,
          1.229817143821794,
          1.0440468811626675,
          0.9969430068830043,
          0.9997972514023066,
          0.9832119888582806,
          0.8971002371068362,
          0.7106856577220864,
          0.41250255599634744,
          0.010395880940139768,
          -0.46847877471781274,
          -0.9776551745305817,
          -1.4513564383330393,
          -1.8044950422418493,
          -1.9326728186554742,
          -1.7121809562541719,
          -1
         ],
         "yaxis": "y4"
        },
        {
         "marker": {
          "color": "blue",
          "opacity": 0.7
         },
         "mode": "markers",
         "name": "Predicted Points",
         "showlegend": false,
         "type": "scatter",
         "x": [
          -1.2,
          -1.031578947368421,
          -0.8631578947368421,
          -0.6947368421052631,
          -0.5263157894736842,
          -0.35789473684210527,
          -0.18947368421052624,
          -0.021052631578947434,
          0.1473684210526316,
          0.3157894736842106,
          0.4842105263157894,
          0.6526315789473685,
          0.8210526315789475,
          0.9894736842105265,
          1.157894736842105,
          1.3263157894736841,
          1.4947368421052631,
          1.6631578947368422,
          1.8315789473684212,
          2
         ],
         "xaxis": "x4",
         "y": [
          5.809599999999997,
          3.7958686136539708,
          2.4687431311914363,
          1.6622727081590767,
          1.2298171438217862,
          1.0440468811626602,
          0.9969430068829973,
          0.9997972514023004,
          0.9832119888582751,
          0.8971002371068313,
          0.7106856577220821,
          0.4125025559963439,
          0.010395880940136881,
          -0.46847877471781474,
          -0.9776551745305819,
          -1.4513564383330375,
          -1.804495042241844,
          -1.932672818655461,
          -1.7121809562541506,
          -0.9999999999999671
         ],
         "yaxis": "y4"
        }
       ],
       "layout": {
        "annotations": [
         {
          "font": {
           "size": 16
          },
          "showarrow": false,
          "text": "$k=2, MSE=0.43$",
          "x": 0.10625,
          "xanchor": "center",
          "xref": "paper",
          "y": 1,
          "yanchor": "bottom",
          "yref": "paper"
         },
         {
          "font": {
           "size": 16
          },
          "showarrow": false,
          "text": "$k=3, MSE=0.35$",
          "x": 0.36875,
          "xanchor": "center",
          "xref": "paper",
          "y": 1,
          "yanchor": "bottom",
          "yref": "paper"
         },
         {
          "font": {
           "size": 16
          },
          "showarrow": false,
          "text": "$k=4, MSE=0.0$",
          "x": 0.6312500000000001,
          "xanchor": "center",
          "xref": "paper",
          "y": 1,
          "yanchor": "bottom",
          "yref": "paper"
         },
         {
          "font": {
           "size": 16
          },
          "showarrow": false,
          "text": "$k=5, MSE=0.0$",
          "x": 0.89375,
          "xanchor": "center",
          "xref": "paper",
          "y": 1,
          "yanchor": "bottom",
          "yref": "paper"
         }
        ],
        "height": 300,
        "margin": {
         "t": 60
        },
        "template": {
         "data": {
          "bar": [
           {
            "error_x": {
             "color": "rgb(36,36,36)"
            },
            "error_y": {
             "color": "rgb(36,36,36)"
            },
            "marker": {
             "line": {
              "color": "white",
              "width": 0.5
             }
            },
            "type": "bar"
           }
          ],
          "barpolar": [
           {
            "marker": {
             "line": {
              "color": "white",
              "width": 0.5
             }
            },
            "type": "barpolar"
           }
          ],
          "carpet": [
           {
            "aaxis": {
             "endlinecolor": "rgb(36,36,36)",
             "gridcolor": "white",
             "linecolor": "white",
             "minorgridcolor": "white",
             "startlinecolor": "rgb(36,36,36)"
            },
            "baxis": {
             "endlinecolor": "rgb(36,36,36)",
             "gridcolor": "white",
             "linecolor": "white",
             "minorgridcolor": "white",
             "startlinecolor": "rgb(36,36,36)"
            },
            "type": "carpet"
           }
          ],
          "choropleth": [
           {
            "colorbar": {
             "outlinewidth": 1,
             "tickcolor": "rgb(36,36,36)",
             "ticks": "outside"
            },
            "type": "choropleth"
           }
          ],
          "contour": [
           {
            "colorbar": {
             "outlinewidth": 1,
             "tickcolor": "rgb(36,36,36)",
             "ticks": "outside"
            },
            "colorscale": [
             [
              0,
              "#440154"
             ],
             [
              0.1111111111111111,
              "#482878"
             ],
             [
              0.2222222222222222,
              "#3e4989"
             ],
             [
              0.3333333333333333,
              "#31688e"
             ],
             [
              0.4444444444444444,
              "#26828e"
             ],
             [
              0.5555555555555556,
              "#1f9e89"
             ],
             [
              0.6666666666666666,
              "#35b779"
             ],
             [
              0.7777777777777778,
              "#6ece58"
             ],
             [
              0.8888888888888888,
              "#b5de2b"
             ],
             [
              1,
              "#fde725"
             ]
            ],
            "type": "contour"
           }
          ],
          "contourcarpet": [
           {
            "colorbar": {
             "outlinewidth": 1,
             "tickcolor": "rgb(36,36,36)",
             "ticks": "outside"
            },
            "type": "contourcarpet"
           }
          ],
          "heatmap": [
           {
            "colorbar": {
             "outlinewidth": 1,
             "tickcolor": "rgb(36,36,36)",
             "ticks": "outside"
            },
            "colorscale": [
             [
              0,
              "#440154"
             ],
             [
              0.1111111111111111,
              "#482878"
             ],
             [
              0.2222222222222222,
              "#3e4989"
             ],
             [
              0.3333333333333333,
              "#31688e"
             ],
             [
              0.4444444444444444,
              "#26828e"
             ],
             [
              0.5555555555555556,
              "#1f9e89"
             ],
             [
              0.6666666666666666,
              "#35b779"
             ],
             [
              0.7777777777777778,
              "#6ece58"
             ],
             [
              0.8888888888888888,
              "#b5de2b"
             ],
             [
              1,
              "#fde725"
             ]
            ],
            "type": "heatmap"
           }
          ],
          "heatmapgl": [
           {
            "colorbar": {
             "outlinewidth": 1,
             "tickcolor": "rgb(36,36,36)",
             "ticks": "outside"
            },
            "colorscale": [
             [
              0,
              "#440154"
             ],
             [
              0.1111111111111111,
              "#482878"
             ],
             [
              0.2222222222222222,
              "#3e4989"
             ],
             [
              0.3333333333333333,
              "#31688e"
             ],
             [
              0.4444444444444444,
              "#26828e"
             ],
             [
              0.5555555555555556,
              "#1f9e89"
             ],
             [
              0.6666666666666666,
              "#35b779"
             ],
             [
              0.7777777777777778,
              "#6ece58"
             ],
             [
              0.8888888888888888,
              "#b5de2b"
             ],
             [
              1,
              "#fde725"
             ]
            ],
            "type": "heatmapgl"
           }
          ],
          "histogram": [
           {
            "marker": {
             "line": {
              "color": "white",
              "width": 0.6
             }
            },
            "type": "histogram"
           }
          ],
          "histogram2d": [
           {
            "colorbar": {
             "outlinewidth": 1,
             "tickcolor": "rgb(36,36,36)",
             "ticks": "outside"
            },
            "colorscale": [
             [
              0,
              "#440154"
             ],
             [
              0.1111111111111111,
              "#482878"
             ],
             [
              0.2222222222222222,
              "#3e4989"
             ],
             [
              0.3333333333333333,
              "#31688e"
             ],
             [
              0.4444444444444444,
              "#26828e"
             ],
             [
              0.5555555555555556,
              "#1f9e89"
             ],
             [
              0.6666666666666666,
              "#35b779"
             ],
             [
              0.7777777777777778,
              "#6ece58"
             ],
             [
              0.8888888888888888,
              "#b5de2b"
             ],
             [
              1,
              "#fde725"
             ]
            ],
            "type": "histogram2d"
           }
          ],
          "histogram2dcontour": [
           {
            "colorbar": {
             "outlinewidth": 1,
             "tickcolor": "rgb(36,36,36)",
             "ticks": "outside"
            },
            "colorscale": [
             [
              0,
              "#440154"
             ],
             [
              0.1111111111111111,
              "#482878"
             ],
             [
              0.2222222222222222,
              "#3e4989"
             ],
             [
              0.3333333333333333,
              "#31688e"
             ],
             [
              0.4444444444444444,
              "#26828e"
             ],
             [
              0.5555555555555556,
              "#1f9e89"
             ],
             [
              0.6666666666666666,
              "#35b779"
             ],
             [
              0.7777777777777778,
              "#6ece58"
             ],
             [
              0.8888888888888888,
              "#b5de2b"
             ],
             [
              1,
              "#fde725"
             ]
            ],
            "type": "histogram2dcontour"
           }
          ],
          "mesh3d": [
           {
            "colorbar": {
             "outlinewidth": 1,
             "tickcolor": "rgb(36,36,36)",
             "ticks": "outside"
            },
            "type": "mesh3d"
           }
          ],
          "parcoords": [
           {
            "line": {
             "colorbar": {
              "outlinewidth": 1,
              "tickcolor": "rgb(36,36,36)",
              "ticks": "outside"
             }
            },
            "type": "parcoords"
           }
          ],
          "pie": [
           {
            "automargin": true,
            "type": "pie"
           }
          ],
          "scatter": [
           {
            "marker": {
             "colorbar": {
              "outlinewidth": 1,
              "tickcolor": "rgb(36,36,36)",
              "ticks": "outside"
             }
            },
            "type": "scatter"
           }
          ],
          "scatter3d": [
           {
            "line": {
             "colorbar": {
              "outlinewidth": 1,
              "tickcolor": "rgb(36,36,36)",
              "ticks": "outside"
             }
            },
            "marker": {
             "colorbar": {
              "outlinewidth": 1,
              "tickcolor": "rgb(36,36,36)",
              "ticks": "outside"
             }
            },
            "type": "scatter3d"
           }
          ],
          "scattercarpet": [
           {
            "marker": {
             "colorbar": {
              "outlinewidth": 1,
              "tickcolor": "rgb(36,36,36)",
              "ticks": "outside"
             }
            },
            "type": "scattercarpet"
           }
          ],
          "scattergeo": [
           {
            "marker": {
             "colorbar": {
              "outlinewidth": 1,
              "tickcolor": "rgb(36,36,36)",
              "ticks": "outside"
             }
            },
            "type": "scattergeo"
           }
          ],
          "scattergl": [
           {
            "marker": {
             "colorbar": {
              "outlinewidth": 1,
              "tickcolor": "rgb(36,36,36)",
              "ticks": "outside"
             }
            },
            "type": "scattergl"
           }
          ],
          "scattermapbox": [
           {
            "marker": {
             "colorbar": {
              "outlinewidth": 1,
              "tickcolor": "rgb(36,36,36)",
              "ticks": "outside"
             }
            },
            "type": "scattermapbox"
           }
          ],
          "scatterpolar": [
           {
            "marker": {
             "colorbar": {
              "outlinewidth": 1,
              "tickcolor": "rgb(36,36,36)",
              "ticks": "outside"
             }
            },
            "type": "scatterpolar"
           }
          ],
          "scatterpolargl": [
           {
            "marker": {
             "colorbar": {
              "outlinewidth": 1,
              "tickcolor": "rgb(36,36,36)",
              "ticks": "outside"
             }
            },
            "type": "scatterpolargl"
           }
          ],
          "scatterternary": [
           {
            "marker": {
             "colorbar": {
              "outlinewidth": 1,
              "tickcolor": "rgb(36,36,36)",
              "ticks": "outside"
             }
            },
            "type": "scatterternary"
           }
          ],
          "surface": [
           {
            "colorbar": {
             "outlinewidth": 1,
             "tickcolor": "rgb(36,36,36)",
             "ticks": "outside"
            },
            "colorscale": [
             [
              0,
              "#440154"
             ],
             [
              0.1111111111111111,
              "#482878"
             ],
             [
              0.2222222222222222,
              "#3e4989"
             ],
             [
              0.3333333333333333,
              "#31688e"
             ],
             [
              0.4444444444444444,
              "#26828e"
             ],
             [
              0.5555555555555556,
              "#1f9e89"
             ],
             [
              0.6666666666666666,
              "#35b779"
             ],
             [
              0.7777777777777778,
              "#6ece58"
             ],
             [
              0.8888888888888888,
              "#b5de2b"
             ],
             [
              1,
              "#fde725"
             ]
            ],
            "type": "surface"
           }
          ],
          "table": [
           {
            "cells": {
             "fill": {
              "color": "rgb(237,237,237)"
             },
             "line": {
              "color": "white"
             }
            },
            "header": {
             "fill": {
              "color": "rgb(217,217,217)"
             },
             "line": {
              "color": "white"
             }
            },
            "type": "table"
           }
          ]
         },
         "layout": {
          "annotationdefaults": {
           "arrowhead": 0,
           "arrowwidth": 1
          },
          "autotypenumbers": "strict",
          "coloraxis": {
           "colorbar": {
            "outlinewidth": 1,
            "tickcolor": "rgb(36,36,36)",
            "ticks": "outside"
           }
          },
          "colorscale": {
           "diverging": [
            [
             0,
             "rgb(103,0,31)"
            ],
            [
             0.1,
             "rgb(178,24,43)"
            ],
            [
             0.2,
             "rgb(214,96,77)"
            ],
            [
             0.3,
             "rgb(244,165,130)"
            ],
            [
             0.4,
             "rgb(253,219,199)"
            ],
            [
             0.5,
             "rgb(247,247,247)"
            ],
            [
             0.6,
             "rgb(209,229,240)"
            ],
            [
             0.7,
             "rgb(146,197,222)"
            ],
            [
             0.8,
             "rgb(67,147,195)"
            ],
            [
             0.9,
             "rgb(33,102,172)"
            ],
            [
             1,
             "rgb(5,48,97)"
            ]
           ],
           "sequential": [
            [
             0,
             "#440154"
            ],
            [
             0.1111111111111111,
             "#482878"
            ],
            [
             0.2222222222222222,
             "#3e4989"
            ],
            [
             0.3333333333333333,
             "#31688e"
            ],
            [
             0.4444444444444444,
             "#26828e"
            ],
            [
             0.5555555555555556,
             "#1f9e89"
            ],
            [
             0.6666666666666666,
             "#35b779"
            ],
            [
             0.7777777777777778,
             "#6ece58"
            ],
            [
             0.8888888888888888,
             "#b5de2b"
            ],
            [
             1,
             "#fde725"
            ]
           ],
           "sequentialminus": [
            [
             0,
             "#440154"
            ],
            [
             0.1111111111111111,
             "#482878"
            ],
            [
             0.2222222222222222,
             "#3e4989"
            ],
            [
             0.3333333333333333,
             "#31688e"
            ],
            [
             0.4444444444444444,
             "#26828e"
            ],
            [
             0.5555555555555556,
             "#1f9e89"
            ],
            [
             0.6666666666666666,
             "#35b779"
            ],
            [
             0.7777777777777778,
             "#6ece58"
            ],
            [
             0.8888888888888888,
             "#b5de2b"
            ],
            [
             1,
             "#fde725"
            ]
           ]
          },
          "colorway": [
           "#1F77B4",
           "#FF7F0E",
           "#2CA02C",
           "#D62728",
           "#9467BD",
           "#8C564B",
           "#E377C2",
           "#7F7F7F",
           "#BCBD22",
           "#17BECF"
          ],
          "font": {
           "color": "rgb(36,36,36)"
          },
          "geo": {
           "bgcolor": "white",
           "lakecolor": "white",
           "landcolor": "white",
           "showlakes": true,
           "showland": true,
           "subunitcolor": "white"
          },
          "hoverlabel": {
           "align": "left"
          },
          "hovermode": "closest",
          "mapbox": {
           "style": "light"
          },
          "margin": {
           "b": 0,
           "l": 20,
           "r": 20,
           "t": 40
          },
          "paper_bgcolor": "white",
          "plot_bgcolor": "white",
          "polar": {
           "angularaxis": {
            "gridcolor": "rgb(232,232,232)",
            "linecolor": "rgb(36,36,36)",
            "showgrid": false,
            "showline": true,
            "ticks": "outside"
           },
           "bgcolor": "white",
           "radialaxis": {
            "gridcolor": "rgb(232,232,232)",
            "linecolor": "rgb(36,36,36)",
            "showgrid": false,
            "showline": true,
            "ticks": "outside"
           }
          },
          "scene": {
           "xaxis": {
            "backgroundcolor": "white",
            "gridcolor": "rgb(232,232,232)",
            "gridwidth": 2,
            "linecolor": "rgb(36,36,36)",
            "showbackground": true,
            "showgrid": false,
            "showline": true,
            "ticks": "outside",
            "zeroline": false,
            "zerolinecolor": "rgb(36,36,36)"
           },
           "yaxis": {
            "backgroundcolor": "white",
            "gridcolor": "rgb(232,232,232)",
            "gridwidth": 2,
            "linecolor": "rgb(36,36,36)",
            "showbackground": true,
            "showgrid": false,
            "showline": true,
            "ticks": "outside",
            "zeroline": false,
            "zerolinecolor": "rgb(36,36,36)"
           },
           "zaxis": {
            "backgroundcolor": "white",
            "gridcolor": "rgb(232,232,232)",
            "gridwidth": 2,
            "linecolor": "rgb(36,36,36)",
            "showbackground": true,
            "showgrid": false,
            "showline": true,
            "ticks": "outside",
            "zeroline": false,
            "zerolinecolor": "rgb(36,36,36)"
           }
          },
          "shapedefaults": {
           "fillcolor": "black",
           "line": {
            "width": 0
           },
           "opacity": 0.3
          },
          "ternary": {
           "aaxis": {
            "gridcolor": "rgb(232,232,232)",
            "linecolor": "rgb(36,36,36)",
            "showgrid": false,
            "showline": true,
            "ticks": "outside"
           },
           "baxis": {
            "gridcolor": "rgb(232,232,232)",
            "linecolor": "rgb(36,36,36)",
            "showgrid": false,
            "showline": true,
            "ticks": "outside"
           },
           "bgcolor": "white",
           "caxis": {
            "gridcolor": "rgb(232,232,232)",
            "linecolor": "rgb(36,36,36)",
            "showgrid": false,
            "showline": true,
            "ticks": "outside"
           }
          },
          "title": {
           "x": 0.05
          },
          "xaxis": {
           "automargin": true,
           "gridcolor": "rgb(232,232,232)",
           "linecolor": "rgb(36,36,36)",
           "showgrid": false,
           "showline": true,
           "ticks": "outside",
           "title": {
            "standoff": 15
           },
           "zeroline": false,
           "zerolinecolor": "rgb(36,36,36)"
          },
          "yaxis": {
           "automargin": true,
           "gridcolor": "rgb(232,232,232)",
           "linecolor": "rgb(36,36,36)",
           "showgrid": false,
           "showline": true,
           "ticks": "outside",
           "title": {
            "standoff": 15
           },
           "zeroline": false,
           "zerolinecolor": "rgb(36,36,36)"
          }
         }
        },
        "title": {
         "text": "$\\text{(2) Simulated Data - Fitting Polynomials of Different Degrees}$"
        },
        "xaxis": {
         "anchor": "y",
         "domain": [
          0,
          0.2125
         ]
        },
        "xaxis2": {
         "anchor": "y2",
         "domain": [
          0.2625,
          0.475
         ]
        },
        "xaxis3": {
         "anchor": "y3",
         "domain": [
          0.525,
          0.7375
         ]
        },
        "xaxis4": {
         "anchor": "y4",
         "domain": [
          0.7875,
          1
         ]
        },
        "yaxis": {
         "anchor": "x",
         "domain": [
          0,
          1
         ],
         "title": {
          "text": "$\\widehat{y}$"
         }
        },
        "yaxis2": {
         "anchor": "x2",
         "domain": [
          0,
          1
         ]
        },
        "yaxis3": {
         "anchor": "x3",
         "domain": [
          0,
          1
         ]
        },
        "yaxis4": {
         "anchor": "x4",
         "domain": [
          0,
          1
         ]
        }
       }
      },
      "text/html": [
       "<div>                            <div id=\"21f62d05-577e-4dff-86a9-4fc3b906c17a\" class=\"plotly-graph-div\" style=\"height:300px; width:100%;\"></div>            <script type=\"text/javascript\">                require([\"plotly\"], function(Plotly) {                    window.PLOTLYENV=window.PLOTLYENV || {};                                    if (document.getElementById(\"21f62d05-577e-4dff-86a9-4fc3b906c17a\")) {                    Plotly.newPlot(                        \"21f62d05-577e-4dff-86a9-4fc3b906c17a\",                        [{\"marker\": {\"color\": \"black\", \"opacity\": 0.7}, \"mode\": \"markers\", \"name\": \"Real Points\", \"showlegend\": false, \"type\": \"scatter\", \"x\": [-1.2, -1.031578947368421, -0.8631578947368421, -0.6947368421052631, -0.5263157894736842, -0.35789473684210527, -0.18947368421052624, -0.021052631578947434, 0.1473684210526316, 0.3157894736842106, 0.4842105263157894, 0.6526315789473685, 0.8210526315789475, 0.9894736842105265, 1.157894736842105, 1.3263157894736841, 1.4947368421052631, 1.6631578947368422, 1.8315789473684212, 2.0], \"xaxis\": \"x\", \"y\": [5.8096, 3.7958686136539765, 2.4687431311914425, 1.6622727081590838, 1.229817143821794, 1.0440468811626675, 0.9969430068830043, 0.9997972514023066, 0.9832119888582806, 0.8971002371068362, 0.7106856577220864, 0.41250255599634744, 0.010395880940139768, -0.46847877471781274, -0.9776551745305817, -1.4513564383330393, -1.8044950422418493, -1.9326728186554742, -1.7121809562541719, -1.0], \"yaxis\": \"y\"}, {\"marker\": {\"color\": \"blue\", \"opacity\": 0.7}, \"mode\": \"markers\", \"name\": \"Predicted Points\", \"showlegend\": false, \"type\": \"scatter\", \"x\": [-1.2, -1.031578947368421, -0.8631578947368421, -0.6947368421052631, -0.5263157894736842, -0.35789473684210527, -0.18947368421052624, -0.021052631578947434, 0.1473684210526316, 0.3157894736842106, 0.4842105263157894, 0.6526315789473685, 0.8210526315789475, 0.9894736842105265, 1.157894736842105, 1.3263157894736841, 1.4947368421052631, 1.6631578947368422, 1.8315789473684212, 2.0], \"xaxis\": \"x\", \"y\": [4.18482916210193, 3.6474826962434506, 3.1365163980369344, 2.651930267482381, 2.19372430457979, 1.761898509329162, 1.3564528817304962, 0.9773874217837935, 0.624702129489053, 0.2983970048462753, -0.0015279521445393796, -0.27507274148339167, -0.5222373631702816, -0.7430218172052087, -0.9374261035881725, -1.105450222319174, -1.2470941733982128, -1.3623579568252895, -1.451241572600403, -1.513745020723554], \"yaxis\": \"y\"}, {\"marker\": {\"color\": \"black\", \"opacity\": 0.7}, \"mode\": \"markers\", \"name\": \"Real Points\", \"showlegend\": false, \"type\": \"scatter\", \"x\": [-1.2, -1.031578947368421, -0.8631578947368421, -0.6947368421052631, -0.5263157894736842, -0.35789473684210527, -0.18947368421052624, -0.021052631578947434, 0.1473684210526316, 0.3157894736842106, 0.4842105263157894, 0.6526315789473685, 0.8210526315789475, 0.9894736842105265, 1.157894736842105, 1.3263157894736841, 1.4947368421052631, 1.6631578947368422, 1.8315789473684212, 2.0], \"xaxis\": \"x2\", \"y\": [5.8096, 3.7958686136539765, 2.4687431311914425, 1.6622727081590838, 1.229817143821794, 1.0440468811626675, 0.9969430068830043, 0.9997972514023066, 0.9832119888582806, 0.8971002371068362, 0.7106856577220864, 0.41250255599634744, 0.010395880940139768, -0.46847877471781274, -0.9776551745305817, -1.4513564383330393, -1.8044950422418493, -1.9326728186554742, -1.7121809562541719, -1.0], \"yaxis\": \"y2\"}, {\"marker\": {\"color\": \"blue\", \"opacity\": 0.7}, \"mode\": \"markers\", \"name\": \"Predicted Points\", \"showlegend\": false, \"type\": \"scatter\", \"x\": [-1.2, -1.031578947368421, -0.8631578947368421, -0.6947368421052631, -0.5263157894736842, -0.35789473684210527, -0.18947368421052624, -0.021052631578947434, 0.1473684210526316, 0.3157894736842106, 0.4842105263157894, 0.6526315789473685, 0.8210526315789475, 0.9894736842105265, 1.157894736842105, 1.3263157894736841, 1.4947368421052631, 1.6631578947368422, 1.8315789473684212, 2.0], \"xaxis\": \"x2\", \"y\": [4.740342070689189, 3.8521453467755986, 3.0877871955292813, 2.4358019222425504, 1.8847238322077242, 1.4230872307171192, 1.0394264230630517, 0.722275714537839, 0.4601694104337969, 0.24164181604324259, 0.05522723665849283, -0.1105400224281361, -0.26712565592432747, -0.4259953585377644, -0.5986148249761299, -0.7964497499471085, -1.0309658281583824, -1.3136287543176355, -1.6559042231325507, -2.0692579293108118], \"yaxis\": \"y2\"}, {\"marker\": {\"color\": \"black\", \"opacity\": 0.7}, \"mode\": \"markers\", \"name\": \"Real Points\", \"showlegend\": false, \"type\": \"scatter\", \"x\": [-1.2, -1.031578947368421, -0.8631578947368421, -0.6947368421052631, -0.5263157894736842, -0.35789473684210527, -0.18947368421052624, -0.021052631578947434, 0.1473684210526316, 0.3157894736842106, 0.4842105263157894, 0.6526315789473685, 0.8210526315789475, 0.9894736842105265, 1.157894736842105, 1.3263157894736841, 1.4947368421052631, 1.6631578947368422, 1.8315789473684212, 2.0], \"xaxis\": \"x3\", \"y\": [5.8096, 3.7958686136539765, 2.4687431311914425, 1.6622727081590838, 1.229817143821794, 1.0440468811626675, 0.9969430068830043, 0.9997972514023066, 0.9832119888582806, 0.8971002371068362, 0.7106856577220864, 0.41250255599634744, 0.010395880940139768, -0.46847877471781274, -0.9776551745305817, -1.4513564383330393, -1.8044950422418493, -1.9326728186554742, -1.7121809562541719, -1.0], \"yaxis\": \"y3\"}, {\"marker\": {\"color\": \"blue\", \"opacity\": 0.7}, \"mode\": \"markers\", \"name\": \"Predicted Points\", \"showlegend\": false, \"type\": \"scatter\", \"x\": [-1.2, -1.031578947368421, -0.8631578947368421, -0.6947368421052631, -0.5263157894736842, -0.35789473684210527, -0.18947368421052624, -0.021052631578947434, 0.1473684210526316, 0.3157894736842106, 0.4842105263157894, 0.6526315789473685, 0.8210526315789475, 0.9894736842105265, 1.157894736842105, 1.3263157894736841, 1.4947368421052631, 1.6631578947368422, 1.8315789473684212, 2.0], \"xaxis\": \"x3\", \"y\": [5.809600000000003, 3.7958686136539788, 2.4687431311914447, 1.6622727081590853, 1.2298171438217944, 1.044046881162668, 0.9969430068830044, 0.9997972514023066, 0.9832119888582806, 0.897100237106836, 0.7106856577220861, 0.4125025559963471, 0.010395880940139546, -0.4684787747178132, -0.9776551745305824, -1.4513564383330388, -1.8044950422418502, -1.9326728186554734, -1.7121809562541745, -1.0], \"yaxis\": \"y3\"}, {\"marker\": {\"color\": \"black\", \"opacity\": 0.7}, \"mode\": \"markers\", \"name\": \"Real Points\", \"showlegend\": false, \"type\": \"scatter\", \"x\": [-1.2, -1.031578947368421, -0.8631578947368421, -0.6947368421052631, -0.5263157894736842, -0.35789473684210527, -0.18947368421052624, -0.021052631578947434, 0.1473684210526316, 0.3157894736842106, 0.4842105263157894, 0.6526315789473685, 0.8210526315789475, 0.9894736842105265, 1.157894736842105, 1.3263157894736841, 1.4947368421052631, 1.6631578947368422, 1.8315789473684212, 2.0], \"xaxis\": \"x4\", \"y\": [5.8096, 3.7958686136539765, 2.4687431311914425, 1.6622727081590838, 1.229817143821794, 1.0440468811626675, 0.9969430068830043, 0.9997972514023066, 0.9832119888582806, 0.8971002371068362, 0.7106856577220864, 0.41250255599634744, 0.010395880940139768, -0.46847877471781274, -0.9776551745305817, -1.4513564383330393, -1.8044950422418493, -1.9326728186554742, -1.7121809562541719, -1.0], \"yaxis\": \"y4\"}, {\"marker\": {\"color\": \"blue\", \"opacity\": 0.7}, \"mode\": \"markers\", \"name\": \"Predicted Points\", \"showlegend\": false, \"type\": \"scatter\", \"x\": [-1.2, -1.031578947368421, -0.8631578947368421, -0.6947368421052631, -0.5263157894736842, -0.35789473684210527, -0.18947368421052624, -0.021052631578947434, 0.1473684210526316, 0.3157894736842106, 0.4842105263157894, 0.6526315789473685, 0.8210526315789475, 0.9894736842105265, 1.157894736842105, 1.3263157894736841, 1.4947368421052631, 1.6631578947368422, 1.8315789473684212, 2.0], \"xaxis\": \"x4\", \"y\": [5.809599999999997, 3.7958686136539708, 2.4687431311914363, 1.6622727081590767, 1.2298171438217862, 1.0440468811626602, 0.9969430068829973, 0.9997972514023004, 0.9832119888582751, 0.8971002371068313, 0.7106856577220821, 0.4125025559963439, 0.010395880940136881, -0.46847877471781474, -0.9776551745305819, -1.4513564383330375, -1.804495042241844, -1.932672818655461, -1.7121809562541506, -0.9999999999999671], \"yaxis\": \"y4\"}],                        {\"annotations\": [{\"font\": {\"size\": 16}, \"showarrow\": false, \"text\": \"$k=2, MSE=0.43$\", \"x\": 0.10625, \"xanchor\": \"center\", \"xref\": \"paper\", \"y\": 1.0, \"yanchor\": \"bottom\", \"yref\": \"paper\"}, {\"font\": {\"size\": 16}, \"showarrow\": false, \"text\": \"$k=3, MSE=0.35$\", \"x\": 0.36875, \"xanchor\": \"center\", \"xref\": \"paper\", \"y\": 1.0, \"yanchor\": \"bottom\", \"yref\": \"paper\"}, {\"font\": {\"size\": 16}, \"showarrow\": false, \"text\": \"$k=4, MSE=0.0$\", \"x\": 0.6312500000000001, \"xanchor\": \"center\", \"xref\": \"paper\", \"y\": 1.0, \"yanchor\": \"bottom\", \"yref\": \"paper\"}, {\"font\": {\"size\": 16}, \"showarrow\": false, \"text\": \"$k=5, MSE=0.0$\", \"x\": 0.89375, \"xanchor\": \"center\", \"xref\": \"paper\", \"y\": 1.0, \"yanchor\": \"bottom\", \"yref\": \"paper\"}], \"height\": 300, \"margin\": {\"t\": 60}, \"template\": {\"data\": {\"bar\": [{\"error_x\": {\"color\": \"rgb(36,36,36)\"}, \"error_y\": {\"color\": \"rgb(36,36,36)\"}, \"marker\": {\"line\": {\"color\": \"white\", \"width\": 0.5}}, \"type\": \"bar\"}], \"barpolar\": [{\"marker\": {\"line\": {\"color\": \"white\", \"width\": 0.5}}, \"type\": \"barpolar\"}], \"carpet\": [{\"aaxis\": {\"endlinecolor\": \"rgb(36,36,36)\", \"gridcolor\": \"white\", \"linecolor\": \"white\", \"minorgridcolor\": \"white\", \"startlinecolor\": \"rgb(36,36,36)\"}, \"baxis\": {\"endlinecolor\": \"rgb(36,36,36)\", \"gridcolor\": \"white\", \"linecolor\": \"white\", \"minorgridcolor\": \"white\", \"startlinecolor\": \"rgb(36,36,36)\"}, \"type\": \"carpet\"}], \"choropleth\": [{\"colorbar\": {\"outlinewidth\": 1, \"tickcolor\": \"rgb(36,36,36)\", \"ticks\": \"outside\"}, \"type\": \"choropleth\"}], \"contour\": [{\"colorbar\": {\"outlinewidth\": 1, \"tickcolor\": \"rgb(36,36,36)\", \"ticks\": \"outside\"}, \"colorscale\": [[0.0, \"#440154\"], [0.1111111111111111, \"#482878\"], [0.2222222222222222, \"#3e4989\"], [0.3333333333333333, \"#31688e\"], [0.4444444444444444, \"#26828e\"], [0.5555555555555556, \"#1f9e89\"], [0.6666666666666666, \"#35b779\"], [0.7777777777777778, \"#6ece58\"], [0.8888888888888888, \"#b5de2b\"], [1.0, \"#fde725\"]], \"type\": \"contour\"}], \"contourcarpet\": [{\"colorbar\": {\"outlinewidth\": 1, \"tickcolor\": \"rgb(36,36,36)\", \"ticks\": \"outside\"}, \"type\": \"contourcarpet\"}], \"heatmap\": [{\"colorbar\": {\"outlinewidth\": 1, \"tickcolor\": \"rgb(36,36,36)\", \"ticks\": \"outside\"}, \"colorscale\": [[0.0, \"#440154\"], [0.1111111111111111, \"#482878\"], [0.2222222222222222, \"#3e4989\"], [0.3333333333333333, \"#31688e\"], [0.4444444444444444, \"#26828e\"], [0.5555555555555556, \"#1f9e89\"], [0.6666666666666666, \"#35b779\"], [0.7777777777777778, \"#6ece58\"], [0.8888888888888888, \"#b5de2b\"], [1.0, \"#fde725\"]], \"type\": \"heatmap\"}], \"heatmapgl\": [{\"colorbar\": {\"outlinewidth\": 1, \"tickcolor\": \"rgb(36,36,36)\", \"ticks\": \"outside\"}, \"colorscale\": [[0.0, \"#440154\"], [0.1111111111111111, \"#482878\"], [0.2222222222222222, \"#3e4989\"], [0.3333333333333333, \"#31688e\"], [0.4444444444444444, \"#26828e\"], [0.5555555555555556, \"#1f9e89\"], [0.6666666666666666, \"#35b779\"], [0.7777777777777778, \"#6ece58\"], [0.8888888888888888, \"#b5de2b\"], [1.0, \"#fde725\"]], \"type\": \"heatmapgl\"}], \"histogram\": [{\"marker\": {\"line\": {\"color\": \"white\", \"width\": 0.6}}, \"type\": \"histogram\"}], \"histogram2d\": [{\"colorbar\": {\"outlinewidth\": 1, \"tickcolor\": \"rgb(36,36,36)\", \"ticks\": \"outside\"}, \"colorscale\": [[0.0, \"#440154\"], [0.1111111111111111, \"#482878\"], [0.2222222222222222, \"#3e4989\"], [0.3333333333333333, \"#31688e\"], [0.4444444444444444, \"#26828e\"], [0.5555555555555556, \"#1f9e89\"], [0.6666666666666666, \"#35b779\"], [0.7777777777777778, \"#6ece58\"], [0.8888888888888888, \"#b5de2b\"], [1.0, \"#fde725\"]], \"type\": \"histogram2d\"}], \"histogram2dcontour\": [{\"colorbar\": {\"outlinewidth\": 1, \"tickcolor\": \"rgb(36,36,36)\", \"ticks\": \"outside\"}, \"colorscale\": [[0.0, \"#440154\"], [0.1111111111111111, \"#482878\"], [0.2222222222222222, \"#3e4989\"], [0.3333333333333333, \"#31688e\"], [0.4444444444444444, \"#26828e\"], [0.5555555555555556, \"#1f9e89\"], [0.6666666666666666, \"#35b779\"], [0.7777777777777778, \"#6ece58\"], [0.8888888888888888, \"#b5de2b\"], [1.0, \"#fde725\"]], \"type\": \"histogram2dcontour\"}], \"mesh3d\": [{\"colorbar\": {\"outlinewidth\": 1, \"tickcolor\": \"rgb(36,36,36)\", \"ticks\": \"outside\"}, \"type\": \"mesh3d\"}], \"parcoords\": [{\"line\": {\"colorbar\": {\"outlinewidth\": 1, \"tickcolor\": \"rgb(36,36,36)\", \"ticks\": \"outside\"}}, \"type\": \"parcoords\"}], \"pie\": [{\"automargin\": true, \"type\": \"pie\"}], \"scatter\": [{\"marker\": {\"colorbar\": {\"outlinewidth\": 1, \"tickcolor\": \"rgb(36,36,36)\", \"ticks\": \"outside\"}}, \"type\": \"scatter\"}], \"scatter3d\": [{\"line\": {\"colorbar\": {\"outlinewidth\": 1, \"tickcolor\": \"rgb(36,36,36)\", \"ticks\": \"outside\"}}, \"marker\": {\"colorbar\": {\"outlinewidth\": 1, \"tickcolor\": \"rgb(36,36,36)\", \"ticks\": \"outside\"}}, \"type\": \"scatter3d\"}], \"scattercarpet\": [{\"marker\": {\"colorbar\": {\"outlinewidth\": 1, \"tickcolor\": \"rgb(36,36,36)\", \"ticks\": \"outside\"}}, \"type\": \"scattercarpet\"}], \"scattergeo\": [{\"marker\": {\"colorbar\": {\"outlinewidth\": 1, \"tickcolor\": \"rgb(36,36,36)\", \"ticks\": \"outside\"}}, \"type\": \"scattergeo\"}], \"scattergl\": [{\"marker\": {\"colorbar\": {\"outlinewidth\": 1, \"tickcolor\": \"rgb(36,36,36)\", \"ticks\": \"outside\"}}, \"type\": \"scattergl\"}], \"scattermapbox\": [{\"marker\": {\"colorbar\": {\"outlinewidth\": 1, \"tickcolor\": \"rgb(36,36,36)\", \"ticks\": \"outside\"}}, \"type\": \"scattermapbox\"}], \"scatterpolar\": [{\"marker\": {\"colorbar\": {\"outlinewidth\": 1, \"tickcolor\": \"rgb(36,36,36)\", \"ticks\": \"outside\"}}, \"type\": \"scatterpolar\"}], \"scatterpolargl\": [{\"marker\": {\"colorbar\": {\"outlinewidth\": 1, \"tickcolor\": \"rgb(36,36,36)\", \"ticks\": \"outside\"}}, \"type\": \"scatterpolargl\"}], \"scatterternary\": [{\"marker\": {\"colorbar\": {\"outlinewidth\": 1, \"tickcolor\": \"rgb(36,36,36)\", \"ticks\": \"outside\"}}, \"type\": \"scatterternary\"}], \"surface\": [{\"colorbar\": {\"outlinewidth\": 1, \"tickcolor\": \"rgb(36,36,36)\", \"ticks\": \"outside\"}, \"colorscale\": [[0.0, \"#440154\"], [0.1111111111111111, \"#482878\"], [0.2222222222222222, \"#3e4989\"], [0.3333333333333333, \"#31688e\"], [0.4444444444444444, \"#26828e\"], [0.5555555555555556, \"#1f9e89\"], [0.6666666666666666, \"#35b779\"], [0.7777777777777778, \"#6ece58\"], [0.8888888888888888, \"#b5de2b\"], [1.0, \"#fde725\"]], \"type\": \"surface\"}], \"table\": [{\"cells\": {\"fill\": {\"color\": \"rgb(237,237,237)\"}, \"line\": {\"color\": \"white\"}}, \"header\": {\"fill\": {\"color\": \"rgb(217,217,217)\"}, \"line\": {\"color\": \"white\"}}, \"type\": \"table\"}]}, \"layout\": {\"annotationdefaults\": {\"arrowhead\": 0, \"arrowwidth\": 1}, \"autotypenumbers\": \"strict\", \"coloraxis\": {\"colorbar\": {\"outlinewidth\": 1, \"tickcolor\": \"rgb(36,36,36)\", \"ticks\": \"outside\"}}, \"colorscale\": {\"diverging\": [[0.0, \"rgb(103,0,31)\"], [0.1, \"rgb(178,24,43)\"], [0.2, \"rgb(214,96,77)\"], [0.3, \"rgb(244,165,130)\"], [0.4, \"rgb(253,219,199)\"], [0.5, \"rgb(247,247,247)\"], [0.6, \"rgb(209,229,240)\"], [0.7, \"rgb(146,197,222)\"], [0.8, \"rgb(67,147,195)\"], [0.9, \"rgb(33,102,172)\"], [1.0, \"rgb(5,48,97)\"]], \"sequential\": [[0.0, \"#440154\"], [0.1111111111111111, \"#482878\"], [0.2222222222222222, \"#3e4989\"], [0.3333333333333333, \"#31688e\"], [0.4444444444444444, \"#26828e\"], [0.5555555555555556, \"#1f9e89\"], [0.6666666666666666, \"#35b779\"], [0.7777777777777778, \"#6ece58\"], [0.8888888888888888, \"#b5de2b\"], [1.0, \"#fde725\"]], \"sequentialminus\": [[0.0, \"#440154\"], [0.1111111111111111, \"#482878\"], [0.2222222222222222, \"#3e4989\"], [0.3333333333333333, \"#31688e\"], [0.4444444444444444, \"#26828e\"], [0.5555555555555556, \"#1f9e89\"], [0.6666666666666666, \"#35b779\"], [0.7777777777777778, \"#6ece58\"], [0.8888888888888888, \"#b5de2b\"], [1.0, \"#fde725\"]]}, \"colorway\": [\"#1F77B4\", \"#FF7F0E\", \"#2CA02C\", \"#D62728\", \"#9467BD\", \"#8C564B\", \"#E377C2\", \"#7F7F7F\", \"#BCBD22\", \"#17BECF\"], \"font\": {\"color\": \"rgb(36,36,36)\"}, \"geo\": {\"bgcolor\": \"white\", \"lakecolor\": \"white\", \"landcolor\": \"white\", \"showlakes\": true, \"showland\": true, \"subunitcolor\": \"white\"}, \"hoverlabel\": {\"align\": \"left\"}, \"hovermode\": \"closest\", \"mapbox\": {\"style\": \"light\"}, \"margin\": {\"b\": 0, \"l\": 20, \"r\": 20, \"t\": 40}, \"paper_bgcolor\": \"white\", \"plot_bgcolor\": \"white\", \"polar\": {\"angularaxis\": {\"gridcolor\": \"rgb(232,232,232)\", \"linecolor\": \"rgb(36,36,36)\", \"showgrid\": false, \"showline\": true, \"ticks\": \"outside\"}, \"bgcolor\": \"white\", \"radialaxis\": {\"gridcolor\": \"rgb(232,232,232)\", \"linecolor\": \"rgb(36,36,36)\", \"showgrid\": false, \"showline\": true, \"ticks\": \"outside\"}}, \"scene\": {\"xaxis\": {\"backgroundcolor\": \"white\", \"gridcolor\": \"rgb(232,232,232)\", \"gridwidth\": 2, \"linecolor\": \"rgb(36,36,36)\", \"showbackground\": true, \"showgrid\": false, \"showline\": true, \"ticks\": \"outside\", \"zeroline\": false, \"zerolinecolor\": \"rgb(36,36,36)\"}, \"yaxis\": {\"backgroundcolor\": \"white\", \"gridcolor\": \"rgb(232,232,232)\", \"gridwidth\": 2, \"linecolor\": \"rgb(36,36,36)\", \"showbackground\": true, \"showgrid\": false, \"showline\": true, \"ticks\": \"outside\", \"zeroline\": false, \"zerolinecolor\": \"rgb(36,36,36)\"}, \"zaxis\": {\"backgroundcolor\": \"white\", \"gridcolor\": \"rgb(232,232,232)\", \"gridwidth\": 2, \"linecolor\": \"rgb(36,36,36)\", \"showbackground\": true, \"showgrid\": false, \"showline\": true, \"ticks\": \"outside\", \"zeroline\": false, \"zerolinecolor\": \"rgb(36,36,36)\"}}, \"shapedefaults\": {\"fillcolor\": \"black\", \"line\": {\"width\": 0}, \"opacity\": 0.3}, \"ternary\": {\"aaxis\": {\"gridcolor\": \"rgb(232,232,232)\", \"linecolor\": \"rgb(36,36,36)\", \"showgrid\": false, \"showline\": true, \"ticks\": \"outside\"}, \"baxis\": {\"gridcolor\": \"rgb(232,232,232)\", \"linecolor\": \"rgb(36,36,36)\", \"showgrid\": false, \"showline\": true, \"ticks\": \"outside\"}, \"bgcolor\": \"white\", \"caxis\": {\"gridcolor\": \"rgb(232,232,232)\", \"linecolor\": \"rgb(36,36,36)\", \"showgrid\": false, \"showline\": true, \"ticks\": \"outside\"}}, \"title\": {\"x\": 0.05}, \"xaxis\": {\"automargin\": true, \"gridcolor\": \"rgb(232,232,232)\", \"linecolor\": \"rgb(36,36,36)\", \"showgrid\": false, \"showline\": true, \"ticks\": \"outside\", \"title\": {\"standoff\": 15}, \"zeroline\": false, \"zerolinecolor\": \"rgb(36,36,36)\"}, \"yaxis\": {\"automargin\": true, \"gridcolor\": \"rgb(232,232,232)\", \"linecolor\": \"rgb(36,36,36)\", \"showgrid\": false, \"showline\": true, \"ticks\": \"outside\", \"title\": {\"standoff\": 15}, \"zeroline\": false, \"zerolinecolor\": \"rgb(36,36,36)\"}}}, \"title\": {\"text\": \"$\\\\text{(2) Simulated Data - Fitting Polynomials of Different Degrees}$\"}, \"xaxis\": {\"anchor\": \"y\", \"domain\": [0.0, 0.2125]}, \"xaxis2\": {\"anchor\": \"y2\", \"domain\": [0.2625, 0.475]}, \"xaxis3\": {\"anchor\": \"y3\", \"domain\": [0.525, 0.7375]}, \"xaxis4\": {\"anchor\": \"y4\", \"domain\": [0.7875, 1.0]}, \"yaxis\": {\"anchor\": \"x\", \"domain\": [0.0, 1.0], \"title\": {\"text\": \"$\\\\widehat{y}$\"}}, \"yaxis2\": {\"anchor\": \"x2\", \"domain\": [0.0, 1.0]}, \"yaxis3\": {\"anchor\": \"x3\", \"domain\": [0.0, 1.0]}, \"yaxis4\": {\"anchor\": \"x4\", \"domain\": [0.0, 1.0]}},                        {\"responsive\": true}                    ).then(function(){\n",
       "                            \n",
       "var gd = document.getElementById('21f62d05-577e-4dff-86a9-4fc3b906c17a');\n",
       "var x = new MutationObserver(function (mutations, observer) {{\n",
       "        var display = window.getComputedStyle(gd).display;\n",
       "        if (!display || display === 'none') {{\n",
       "            console.log([gd, 'removed!']);\n",
       "            Plotly.purge(gd);\n",
       "            observer.disconnect();\n",
       "        }}\n",
       "}});\n",
       "\n",
       "// Listen for the removal of the full notebook cells\n",
       "var notebookContainer = gd.closest('#notebook-container');\n",
       "if (notebookContainer) {{\n",
       "    x.observe(notebookContainer, {childList: true});\n",
       "}}\n",
       "\n",
       "// Listen for the clearing of the current output cell\n",
       "var outputEl = gd.closest('.output');\n",
       "if (outputEl) {{\n",
       "    x.observe(outputEl, {childList: true});\n",
       "}}\n",
       "\n",
       "                        })                };                });            </script>        </div>"
      ]
     },
     "metadata": {},
     "output_type": "display_data"
    }
   ],
   "source": [
    "from sklearn.linear_model import LinearRegression\n",
    "from sklearn.pipeline import make_pipeline\n",
    "\n",
    "ks = [2, 3, 4, 5]\n",
    "fig = make_subplots(1, 4, subplot_titles=list(ks))\n",
    "for i, k in enumerate(ks):\n",
    "    y_hat = make_pipeline(PolynomialFeatures(k), LinearRegression()).fit(X, y_).predict(X)\n",
    "    \n",
    "    fig.add_traces([go.Scatter(x=x, y=y_, mode=\"markers\", name=\"Real Points\",  marker=dict(color=\"black\", opacity=.7), showlegend=False),\n",
    "                    go.Scatter(x=x, y=y_hat, mode=\"markers\", name=\"Predicted Points\",  marker=dict(color=\"blue\", opacity=.7), showlegend=False)], rows=1, cols=i+1)\n",
    "    fig[\"layout\"][\"annotations\"][i][\"text\"] = rf\"$k={{0}}, MSE={{1}}$\".format(k, round(np.mean((y_-y_hat)**2), 2))\n",
    "\n",
    "fig.update_layout(title=r\"$\\text{(2) Simulated Data - Fitting Polynomials of Different Degrees}$\",\n",
    "                  margin=dict(t=60),\n",
    "                  yaxis_title=r\"$\\widehat{y}$\",\n",
    "                  height=300).show()"
   ]
  },
  {
   "cell_type": "markdown",
   "metadata": {
    "pycharm": {
     "name": "#%% md\n"
    }
   },
   "source": [
    "Once we find the right $k$ (which in our case is 4) we managed to fit a perfect model, after which, as we increase $k$, \n",
    "the additional coefficients will be zero."
   ]
  },
  {
   "cell_type": "code",
   "execution_count": 5,
   "metadata": {
    "pycharm": {
     "is_executing": false,
     "name": "#%%\n"
    }
   },
   "outputs": [
    {
     "data": {
      "text/html": [
       "<div>\n",
       "<style scoped>\n",
       "    .dataframe tbody tr th:only-of-type {\n",
       "        vertical-align: middle;\n",
       "    }\n",
       "\n",
       "    .dataframe tbody tr th {\n",
       "        vertical-align: top;\n",
       "    }\n",
       "\n",
       "    .dataframe thead th {\n",
       "        text-align: right;\n",
       "    }\n",
       "</style>\n",
       "<table border=\"1\" class=\"dataframe\">\n",
       "  <thead>\n",
       "    <tr style=\"text-align: right;\">\n",
       "      <th></th>\n",
       "      <th>$w_{0}$</th>\n",
       "      <th>$w_{1}$</th>\n",
       "      <th>$w_{2}$</th>\n",
       "      <th>$w_{3}$</th>\n",
       "      <th>$w_{4}$</th>\n",
       "      <th>$w_{5}$</th>\n",
       "    </tr>\n",
       "  </thead>\n",
       "  <tbody>\n",
       "    <tr>\n",
       "      <th>$k={2}$</th>\n",
       "      <td>0.0</td>\n",
       "      <td>-2.153</td>\n",
       "      <td>0.465</td>\n",
       "      <td>NaN</td>\n",
       "      <td>NaN</td>\n",
       "      <td>NaN</td>\n",
       "    </tr>\n",
       "    <tr>\n",
       "      <th>$k={3}$</th>\n",
       "      <td>0.0</td>\n",
       "      <td>-1.668</td>\n",
       "      <td>0.945</td>\n",
       "      <td>-0.4</td>\n",
       "      <td>NaN</td>\n",
       "      <td>NaN</td>\n",
       "    </tr>\n",
       "    <tr>\n",
       "      <th>$k={4}$</th>\n",
       "      <td>0.0</td>\n",
       "      <td>-0.000</td>\n",
       "      <td>-0.500</td>\n",
       "      <td>-2.0</td>\n",
       "      <td>1.0</td>\n",
       "      <td>NaN</td>\n",
       "    </tr>\n",
       "    <tr>\n",
       "      <th>$k={5}$</th>\n",
       "      <td>0.0</td>\n",
       "      <td>0.000</td>\n",
       "      <td>-0.500</td>\n",
       "      <td>-2.0</td>\n",
       "      <td>1.0</td>\n",
       "      <td>0.0</td>\n",
       "    </tr>\n",
       "  </tbody>\n",
       "</table>\n",
       "</div>"
      ],
      "text/plain": [
       "         $w_{0}$  $w_{1}$  $w_{2}$  $w_{3}$  $w_{4}$  $w_{5}$\n",
       "$k={2}$      0.0   -2.153    0.465      NaN      NaN      NaN\n",
       "$k={3}$      0.0   -1.668    0.945     -0.4      NaN      NaN\n",
       "$k={4}$      0.0   -0.000   -0.500     -2.0      1.0      NaN\n",
       "$k={5}$      0.0    0.000   -0.500     -2.0      1.0      0.0"
      ]
     },
     "execution_count": 5,
     "metadata": {},
     "output_type": "execute_result"
    }
   ],
   "source": [
    "coefs = {}\n",
    "for k in ks:\n",
    "    fit = make_pipeline(PolynomialFeatures(k), LinearRegression()).fit(X, y_)\n",
    "    coefs[rf\"$k={{{k}}}$\"] = [round(c,3) for c in fit.steps[1][1].coef_]\n",
    "pd.DataFrame.from_dict(coefs, orient='index', columns=[rf\"$w_{{{i}}}$\" for i in range(max(ks)+1)])\n"
   ]
  },
  {
   "cell_type": "markdown",
   "metadata": {
    "pycharm": {
     "name": "#%% md\n"
    }
   },
   "source": [
    "## Fitting Polynomial Of Different Degrees - With Sample Noise\n",
    "\n",
    "Still fitting for different values of $k$, let us add some standard Gaussian noise (i.e. $\\mathcal{N}\\left(0,1\\right)$).\n",
    "This time we observe two things:\n",
    "- Even for the correct $k=4$ model we are not able to achieve zero MSE.\n",
    "- As we increase $4<k\\rightarrow 7$ we manage to decrease the error more and more."
   ]
  },
  {
   "cell_type": "code",
   "execution_count": 18,
   "metadata": {
    "pycharm": {
     "is_executing": false,
     "name": "#%%\n"
    }
   },
   "outputs": [
    {
     "data": {
      "application/vnd.plotly.v1+json": {
       "config": {
        "plotlyServerURL": "https://plot.ly"
       },
       "data": [
        {
         "marker": {
          "color": "black",
          "opacity": 0.7
         },
         "mode": "markers",
         "name": "Real Points",
         "showlegend": false,
         "type": "scatter",
         "x": [
          -1.2,
          -1.031578947368421,
          -0.8631578947368421,
          -0.6947368421052631,
          -0.5263157894736842,
          -0.35789473684210527,
          -0.18947368421052624,
          -0.021052631578947434,
          0.1473684210526316,
          0.3157894736842106,
          0.4842105263157894,
          0.6526315789473685,
          0.8210526315789475,
          0.9894736842105265,
          1.157894736842105,
          1.3263157894736841,
          1.4947368421052631,
          1.6631578947368422,
          1.8315789473684212,
          2
         ],
         "xaxis": "x",
         "y": [
          5.8096,
          3.7958686136539765,
          2.4687431311914425,
          1.6622727081590838,
          1.229817143821794,
          1.0440468811626675,
          0.9969430068830043,
          0.9997972514023066,
          0.9832119888582806,
          0.8971002371068362,
          0.7106856577220864,
          0.41250255599634744,
          0.010395880940139768,
          -0.46847877471781274,
          -0.9776551745305817,
          -1.4513564383330393,
          -1.8044950422418493,
          -1.9326728186554742,
          -1.7121809562541719,
          -1
         ],
         "yaxis": "y"
        },
        {
         "marker": {
          "color": "red",
          "opacity": 0.7
         },
         "mode": "markers",
         "name": "Observed Points",
         "showlegend": false,
         "type": "scatter",
         "x": [
          -1.2,
          -1.031578947368421,
          -0.8631578947368421,
          -0.6947368421052631,
          -0.5263157894736842,
          -0.35789473684210527,
          -0.18947368421052624,
          -0.021052631578947434,
          0.1473684210526316,
          0.3157894736842106,
          0.4842105263157894,
          0.6526315789473685,
          0.8210526315789475,
          0.9894736842105265,
          1.157894736842105,
          1.3263157894736841,
          1.4947368421052631,
          1.6631578947368422,
          1.8315789473684212,
          2
         ],
         "xaxis": "x",
         "y": [
          5.791949629555613,
          4.070297262513179,
          2.3499265986426368,
          3.120458601937853,
          1.507454008708305,
          2.3298181710873362,
          0.8812323803820453,
          1.1488966528809545,
          1.3091704449910597,
          1.255763250368975,
          0.04603566832316486,
          -0.328807454515759,
          -0.44023475683528185,
          -1.2530580943404241,
          -1.3364626420191783,
          -3.0500851715207666,
          -2.4993292583602074,
          -1.078042479844627,
          -1.850063780266942,
          -1.165329399854547
         ],
         "yaxis": "y"
        },
        {
         "marker": {
          "color": "blue",
          "opacity": 0.7
         },
         "mode": "markers",
         "name": "Predicted Points",
         "showlegend": false,
         "type": "scatter",
         "x": [
          -1.2,
          -1.031578947368421,
          -0.8631578947368421,
          -0.6947368421052631,
          -0.5263157894736842,
          -0.35789473684210527,
          -0.18947368421052624,
          -0.021052631578947434,
          0.1473684210526316,
          0.3157894736842106,
          0.4842105263157894,
          0.6526315789473685,
          0.8210526315789475,
          0.9894736842105265,
          1.157894736842105,
          1.3263157894736841,
          1.4947368421052631,
          1.6631578947368422,
          1.8315789473684212,
          2
         ],
         "xaxis": "x",
         "y": [
          4.842356565467689,
          4.189808956424017,
          3.570547754433658,
          2.984572959496612,
          2.43188457161288,
          1.9124825907824614,
          1.4263670170053562,
          0.973537850281565,
          0.5539950906110866,
          0.16773873799392192,
          -0.18523120756992895,
          -0.5049147460804664,
          -0.7913118775376908,
          -1.0444226019416014,
          -1.264246919292198,
          -1.4507848295894816,
          -1.6040363328334513,
          -1.7240014290241081,
          -1.810680118161451,
          -1.8640724002454805
         ],
         "yaxis": "y"
        },
        {
         "marker": {
          "color": "black",
          "opacity": 0.7
         },
         "mode": "markers",
         "name": "Real Points",
         "showlegend": false,
         "type": "scatter",
         "x": [
          -1.2,
          -1.031578947368421,
          -0.8631578947368421,
          -0.6947368421052631,
          -0.5263157894736842,
          -0.35789473684210527,
          -0.18947368421052624,
          -0.021052631578947434,
          0.1473684210526316,
          0.3157894736842106,
          0.4842105263157894,
          0.6526315789473685,
          0.8210526315789475,
          0.9894736842105265,
          1.157894736842105,
          1.3263157894736841,
          1.4947368421052631,
          1.6631578947368422,
          1.8315789473684212,
          2
         ],
         "xaxis": "x2",
         "y": [
          5.8096,
          3.7958686136539765,
          2.4687431311914425,
          1.6622727081590838,
          1.229817143821794,
          1.0440468811626675,
          0.9969430068830043,
          0.9997972514023066,
          0.9832119888582806,
          0.8971002371068362,
          0.7106856577220864,
          0.41250255599634744,
          0.010395880940139768,
          -0.46847877471781274,
          -0.9776551745305817,
          -1.4513564383330393,
          -1.8044950422418493,
          -1.9326728186554742,
          -1.7121809562541719,
          -1
         ],
         "yaxis": "y2"
        },
        {
         "marker": {
          "color": "red",
          "opacity": 0.7
         },
         "mode": "markers",
         "name": "Observed Points",
         "showlegend": false,
         "type": "scatter",
         "x": [
          -1.2,
          -1.031578947368421,
          -0.8631578947368421,
          -0.6947368421052631,
          -0.5263157894736842,
          -0.35789473684210527,
          -0.18947368421052624,
          -0.021052631578947434,
          0.1473684210526316,
          0.3157894736842106,
          0.4842105263157894,
          0.6526315789473685,
          0.8210526315789475,
          0.9894736842105265,
          1.157894736842105,
          1.3263157894736841,
          1.4947368421052631,
          1.6631578947368422,
          1.8315789473684212,
          2
         ],
         "xaxis": "x2",
         "y": [
          5.791949629555613,
          4.070297262513179,
          2.3499265986426368,
          3.120458601937853,
          1.507454008708305,
          2.3298181710873362,
          0.8812323803820453,
          1.1488966528809545,
          1.3091704449910597,
          1.255763250368975,
          0.04603566832316486,
          -0.328807454515759,
          -0.44023475683528185,
          -1.2530580943404241,
          -1.3364626420191783,
          -3.0500851715207666,
          -2.4993292583602074,
          -1.078042479844627,
          -1.850063780266942,
          -1.165329399854547
         ],
         "yaxis": "y2"
        },
        {
         "marker": {
          "color": "blue",
          "opacity": 0.7
         },
         "mode": "markers",
         "name": "Predicted Points",
         "showlegend": false,
         "type": "scatter",
         "x": [
          -1.2,
          -1.031578947368421,
          -0.8631578947368421,
          -0.6947368421052631,
          -0.5263157894736842,
          -0.35789473684210527,
          -0.18947368421052624,
          -0.021052631578947434,
          0.1473684210526316,
          0.3157894736842106,
          0.4842105263157894,
          0.6526315789473685,
          0.8210526315789475,
          0.9894736842105265,
          1.157894736842105,
          1.3263157894736841,
          1.4947368421052631,
          1.6631578947368422,
          1.8315789473684212,
          2
         ],
         "xaxis": "x2",
         "y": [
          4.712823067533207,
          4.142086088763945,
          3.5819103419717724,
          3.0349693771656545,
          2.503936744354561,
          1.9914859935474585,
          1.5002906747533138,
          1.0330243379810968,
          0.5923605332397733,
          0.18097281053831182,
          -0.19846528011431952,
          -0.5432801887091537,
          -0.8507983652372232,
          -1.11834625968956,
          -1.3432503220571954,
          -1.5228370023311628,
          -1.6544327505024947,
          -1.7353640165622224,
          -1.7629572505013784,
          -1.7345389023109963
         ],
         "yaxis": "y2"
        },
        {
         "marker": {
          "color": "black",
          "opacity": 0.7
         },
         "mode": "markers",
         "name": "Real Points",
         "showlegend": false,
         "type": "scatter",
         "x": [
          -1.2,
          -1.031578947368421,
          -0.8631578947368421,
          -0.6947368421052631,
          -0.5263157894736842,
          -0.35789473684210527,
          -0.18947368421052624,
          -0.021052631578947434,
          0.1473684210526316,
          0.3157894736842106,
          0.4842105263157894,
          0.6526315789473685,
          0.8210526315789475,
          0.9894736842105265,
          1.157894736842105,
          1.3263157894736841,
          1.4947368421052631,
          1.6631578947368422,
          1.8315789473684212,
          2
         ],
         "xaxis": "x3",
         "y": [
          5.8096,
          3.7958686136539765,
          2.4687431311914425,
          1.6622727081590838,
          1.229817143821794,
          1.0440468811626675,
          0.9969430068830043,
          0.9997972514023066,
          0.9832119888582806,
          0.8971002371068362,
          0.7106856577220864,
          0.41250255599634744,
          0.010395880940139768,
          -0.46847877471781274,
          -0.9776551745305817,
          -1.4513564383330393,
          -1.8044950422418493,
          -1.9326728186554742,
          -1.7121809562541719,
          -1
         ],
         "yaxis": "y3"
        },
        {
         "marker": {
          "color": "red",
          "opacity": 0.7
         },
         "mode": "markers",
         "name": "Observed Points",
         "showlegend": false,
         "type": "scatter",
         "x": [
          -1.2,
          -1.031578947368421,
          -0.8631578947368421,
          -0.6947368421052631,
          -0.5263157894736842,
          -0.35789473684210527,
          -0.18947368421052624,
          -0.021052631578947434,
          0.1473684210526316,
          0.3157894736842106,
          0.4842105263157894,
          0.6526315789473685,
          0.8210526315789475,
          0.9894736842105265,
          1.157894736842105,
          1.3263157894736841,
          1.4947368421052631,
          1.6631578947368422,
          1.8315789473684212,
          2
         ],
         "xaxis": "x3",
         "y": [
          5.791949629555613,
          4.070297262513179,
          2.3499265986426368,
          3.120458601937853,
          1.507454008708305,
          2.3298181710873362,
          0.8812323803820453,
          1.1488966528809545,
          1.3091704449910597,
          1.255763250368975,
          0.04603566832316486,
          -0.328807454515759,
          -0.44023475683528185,
          -1.2530580943404241,
          -1.3364626420191783,
          -3.0500851715207666,
          -2.4993292583602074,
          -1.078042479844627,
          -1.850063780266942,
          -1.165329399854547
         ],
         "yaxis": "y3"
        },
        {
         "marker": {
          "color": "blue",
          "opacity": 0.7
         },
         "mode": "markers",
         "name": "Predicted Points",
         "showlegend": false,
         "type": "scatter",
         "x": [
          -1.2,
          -1.031578947368421,
          -0.8631578947368421,
          -0.6947368421052631,
          -0.5263157894736842,
          -0.35789473684210527,
          -0.18947368421052624,
          -0.021052631578947434,
          0.1473684210526316,
          0.3157894736842106,
          0.4842105263157894,
          0.6526315789473685,
          0.8210526315789475,
          0.9894736842105265,
          1.157894736842105,
          1.3263157894736841,
          1.4947368421052631,
          1.6631578947368422,
          1.8315789473684212,
          2
         ],
         "xaxis": "x3",
         "y": [
          5.598062386124582,
          4.095494545680187,
          3.069403368050448,
          2.394564049681077,
          1.9617390812131958,
          1.6776782474833316,
          1.4651186275234185,
          1.2627845945607978,
          1.0253878160182168,
          0.7236272535138298,
          0.3441891628611987,
          -0.11025290593071002,
          -0.6210381086575212,
          -1.1535183069194543,
          -1.6570580681213198,
          -2.0650346654725253,
          -2.294838077987069,
          -2.2478709904835434,
          -1.8095487935851327,
          -0.8492995837196173
         ],
         "yaxis": "y3"
        },
        {
         "marker": {
          "color": "black",
          "opacity": 0.7
         },
         "mode": "markers",
         "name": "Real Points",
         "showlegend": false,
         "type": "scatter",
         "x": [
          -1.2,
          -1.031578947368421,
          -0.8631578947368421,
          -0.6947368421052631,
          -0.5263157894736842,
          -0.35789473684210527,
          -0.18947368421052624,
          -0.021052631578947434,
          0.1473684210526316,
          0.3157894736842106,
          0.4842105263157894,
          0.6526315789473685,
          0.8210526315789475,
          0.9894736842105265,
          1.157894736842105,
          1.3263157894736841,
          1.4947368421052631,
          1.6631578947368422,
          1.8315789473684212,
          2
         ],
         "xaxis": "x4",
         "y": [
          5.8096,
          3.7958686136539765,
          2.4687431311914425,
          1.6622727081590838,
          1.229817143821794,
          1.0440468811626675,
          0.9969430068830043,
          0.9997972514023066,
          0.9832119888582806,
          0.8971002371068362,
          0.7106856577220864,
          0.41250255599634744,
          0.010395880940139768,
          -0.46847877471781274,
          -0.9776551745305817,
          -1.4513564383330393,
          -1.8044950422418493,
          -1.9326728186554742,
          -1.7121809562541719,
          -1
         ],
         "yaxis": "y4"
        },
        {
         "marker": {
          "color": "red",
          "opacity": 0.7
         },
         "mode": "markers",
         "name": "Observed Points",
         "showlegend": false,
         "type": "scatter",
         "x": [
          -1.2,
          -1.031578947368421,
          -0.8631578947368421,
          -0.6947368421052631,
          -0.5263157894736842,
          -0.35789473684210527,
          -0.18947368421052624,
          -0.021052631578947434,
          0.1473684210526316,
          0.3157894736842106,
          0.4842105263157894,
          0.6526315789473685,
          0.8210526315789475,
          0.9894736842105265,
          1.157894736842105,
          1.3263157894736841,
          1.4947368421052631,
          1.6631578947368422,
          1.8315789473684212,
          2
         ],
         "xaxis": "x4",
         "y": [
          5.791949629555613,
          4.070297262513179,
          2.3499265986426368,
          3.120458601937853,
          1.507454008708305,
          2.3298181710873362,
          0.8812323803820453,
          1.1488966528809545,
          1.3091704449910597,
          1.255763250368975,
          0.04603566832316486,
          -0.328807454515759,
          -0.44023475683528185,
          -1.2530580943404241,
          -1.3364626420191783,
          -3.0500851715207666,
          -2.4993292583602074,
          -1.078042479844627,
          -1.850063780266942,
          -1.165329399854547
         ],
         "yaxis": "y4"
        },
        {
         "marker": {
          "color": "blue",
          "opacity": 0.7
         },
         "mode": "markers",
         "name": "Predicted Points",
         "showlegend": false,
         "type": "scatter",
         "x": [
          -1.2,
          -1.031578947368421,
          -0.8631578947368421,
          -0.6947368421052631,
          -0.5263157894736842,
          -0.35789473684210527,
          -0.18947368421052624,
          -0.021052631578947434,
          0.1473684210526316,
          0.3157894736842106,
          0.4842105263157894,
          0.6526315789473685,
          0.8210526315789475,
          0.9894736842105265,
          1.157894736842105,
          1.3263157894736841,
          1.4947368421052631,
          1.6631578947368422,
          1.8315789473684212,
          2
         ],
         "xaxis": "x4",
         "y": [
          5.795907382372544,
          3.9809527057471508,
          2.885442231188301,
          2.269813489611406,
          1.9426487745576853,
          1.7563874797367738,
          1.6030384365693375,
          1.409892251729688,
          1.1352336446883937,
          0.7640537852548969,
          0.3037626311201258,
          -0.22009873460089313,
          -0.7681457658264179,
          -1.2914381159653794,
          -1.7357673003747673,
          -2.0459443588170196,
          -2.1700875179173993,
          -2.063909853621393,
          -1.6950069536520882,
          -1.0471445799675596
         ],
         "yaxis": "y4"
        },
        {
         "marker": {
          "color": "black",
          "opacity": 0.7
         },
         "mode": "markers",
         "name": "Real Points",
         "showlegend": false,
         "type": "scatter",
         "x": [
          -1.2,
          -1.031578947368421,
          -0.8631578947368421,
          -0.6947368421052631,
          -0.5263157894736842,
          -0.35789473684210527,
          -0.18947368421052624,
          -0.021052631578947434,
          0.1473684210526316,
          0.3157894736842106,
          0.4842105263157894,
          0.6526315789473685,
          0.8210526315789475,
          0.9894736842105265,
          1.157894736842105,
          1.3263157894736841,
          1.4947368421052631,
          1.6631578947368422,
          1.8315789473684212,
          2
         ],
         "xaxis": "x5",
         "y": [
          5.8096,
          3.7958686136539765,
          2.4687431311914425,
          1.6622727081590838,
          1.229817143821794,
          1.0440468811626675,
          0.9969430068830043,
          0.9997972514023066,
          0.9832119888582806,
          0.8971002371068362,
          0.7106856577220864,
          0.41250255599634744,
          0.010395880940139768,
          -0.46847877471781274,
          -0.9776551745305817,
          -1.4513564383330393,
          -1.8044950422418493,
          -1.9326728186554742,
          -1.7121809562541719,
          -1
         ],
         "yaxis": "y5"
        },
        {
         "marker": {
          "color": "red",
          "opacity": 0.7
         },
         "mode": "markers",
         "name": "Observed Points",
         "showlegend": false,
         "type": "scatter",
         "x": [
          -1.2,
          -1.031578947368421,
          -0.8631578947368421,
          -0.6947368421052631,
          -0.5263157894736842,
          -0.35789473684210527,
          -0.18947368421052624,
          -0.021052631578947434,
          0.1473684210526316,
          0.3157894736842106,
          0.4842105263157894,
          0.6526315789473685,
          0.8210526315789475,
          0.9894736842105265,
          1.157894736842105,
          1.3263157894736841,
          1.4947368421052631,
          1.6631578947368422,
          1.8315789473684212,
          2
         ],
         "xaxis": "x5",
         "y": [
          5.791949629555613,
          4.070297262513179,
          2.3499265986426368,
          3.120458601937853,
          1.507454008708305,
          2.3298181710873362,
          0.8812323803820453,
          1.1488966528809545,
          1.3091704449910597,
          1.255763250368975,
          0.04603566832316486,
          -0.328807454515759,
          -0.44023475683528185,
          -1.2530580943404241,
          -1.3364626420191783,
          -3.0500851715207666,
          -2.4993292583602074,
          -1.078042479844627,
          -1.850063780266942,
          -1.165329399854547
         ],
         "yaxis": "y5"
        },
        {
         "marker": {
          "color": "blue",
          "opacity": 0.7
         },
         "mode": "markers",
         "name": "Predicted Points",
         "showlegend": false,
         "type": "scatter",
         "x": [
          -1.2,
          -1.031578947368421,
          -0.8631578947368421,
          -0.6947368421052631,
          -0.5263157894736842,
          -0.35789473684210527,
          -0.18947368421052624,
          -0.021052631578947434,
          0.1473684210526316,
          0.3157894736842106,
          0.4842105263157894,
          0.6526315789473685,
          0.8210526315789475,
          0.9894736842105265,
          1.157894736842105,
          1.3263157894736841,
          1.4947368421052631,
          1.6631578947368422,
          1.8315789473684212,
          2
         ],
         "xaxis": "x5",
         "y": [
          5.6941089517519305,
          4.1041823849194845,
          2.9836687870503087,
          2.2694983241915367,
          1.8640150022981148,
          1.6549567421060216,
          1.5319686343868382,
          1.3996493755836548,
          1.1871308838283192,
          0.8541910953400278,
          0.3938999412052565,
          -0.16820149546096808,
          -0.7783886419724526,
          -1.3625079181478825,
          -1.8371980380055262,
          -2.1245781310765994,
          -2.170402683337287,
          -1.9656832977594036,
          -1.5717772744797789,
          -1.148943010588202
         ],
         "yaxis": "y5"
        },
        {
         "marker": {
          "color": "black",
          "opacity": 0.7
         },
         "mode": "markers",
         "name": "Real Points",
         "showlegend": false,
         "type": "scatter",
         "x": [
          -1.2,
          -1.031578947368421,
          -0.8631578947368421,
          -0.6947368421052631,
          -0.5263157894736842,
          -0.35789473684210527,
          -0.18947368421052624,
          -0.021052631578947434,
          0.1473684210526316,
          0.3157894736842106,
          0.4842105263157894,
          0.6526315789473685,
          0.8210526315789475,
          0.9894736842105265,
          1.157894736842105,
          1.3263157894736841,
          1.4947368421052631,
          1.6631578947368422,
          1.8315789473684212,
          2
         ],
         "xaxis": "x6",
         "y": [
          5.8096,
          3.7958686136539765,
          2.4687431311914425,
          1.6622727081590838,
          1.229817143821794,
          1.0440468811626675,
          0.9969430068830043,
          0.9997972514023066,
          0.9832119888582806,
          0.8971002371068362,
          0.7106856577220864,
          0.41250255599634744,
          0.010395880940139768,
          -0.46847877471781274,
          -0.9776551745305817,
          -1.4513564383330393,
          -1.8044950422418493,
          -1.9326728186554742,
          -1.7121809562541719,
          -1
         ],
         "yaxis": "y6"
        },
        {
         "marker": {
          "color": "red",
          "opacity": 0.7
         },
         "mode": "markers",
         "name": "Observed Points",
         "showlegend": false,
         "type": "scatter",
         "x": [
          -1.2,
          -1.031578947368421,
          -0.8631578947368421,
          -0.6947368421052631,
          -0.5263157894736842,
          -0.35789473684210527,
          -0.18947368421052624,
          -0.021052631578947434,
          0.1473684210526316,
          0.3157894736842106,
          0.4842105263157894,
          0.6526315789473685,
          0.8210526315789475,
          0.9894736842105265,
          1.157894736842105,
          1.3263157894736841,
          1.4947368421052631,
          1.6631578947368422,
          1.8315789473684212,
          2
         ],
         "xaxis": "x6",
         "y": [
          5.791949629555613,
          4.070297262513179,
          2.3499265986426368,
          3.120458601937853,
          1.507454008708305,
          2.3298181710873362,
          0.8812323803820453,
          1.1488966528809545,
          1.3091704449910597,
          1.255763250368975,
          0.04603566832316486,
          -0.328807454515759,
          -0.44023475683528185,
          -1.2530580943404241,
          -1.3364626420191783,
          -3.0500851715207666,
          -2.4993292583602074,
          -1.078042479844627,
          -1.850063780266942,
          -1.165329399854547
         ],
         "yaxis": "y6"
        },
        {
         "marker": {
          "color": "blue",
          "opacity": 0.7
         },
         "mode": "markers",
         "name": "Predicted Points",
         "showlegend": false,
         "type": "scatter",
         "x": [
          -1.2,
          -1.031578947368421,
          -0.8631578947368421,
          -0.6947368421052631,
          -0.5263157894736842,
          -0.35789473684210527,
          -0.18947368421052624,
          -0.021052631578947434,
          0.1473684210526316,
          0.3157894736842106,
          0.4842105263157894,
          0.6526315789473685,
          0.8210526315789475,
          0.9894736842105265,
          1.157894736842105,
          1.3263157894736841,
          1.4947368421052631,
          1.6631578947368422,
          1.8315789473684212,
          2
         ],
         "xaxis": "x6",
         "y": [
          5.8187182370165775,
          3.8615221978251597,
          2.9246433361354502,
          2.4049096527608294,
          2.035883227020692,
          1.729606577086534,
          1.4700497790153968,
          1.2497710247312943,
          1.0413032992152138,
          0.7947798571643206,
          0.45331117938097054,
          -0.022373910847858447,
          -0.6285102911200926,
          -1.3005890627764485,
          -1.9118478729860522,
          -2.2964463557991968,
          -2.305814011906596,
          -1.9066578468445616,
          -1.3291170873854448,
          -1.2735522958527898
         ],
         "yaxis": "y6"
        }
       ],
       "layout": {
        "annotations": [
         {
          "font": {
           "size": 16
          },
          "showarrow": false,
          "text": "$k=2, MSE=0.5$",
          "x": 0.14444444444444446,
          "xanchor": "center",
          "xref": "paper",
          "y": 1,
          "yanchor": "bottom",
          "yref": "paper"
         },
         {
          "font": {
           "size": 16
          },
          "showarrow": false,
          "text": "$k=3, MSE=0.5$",
          "x": 0.5,
          "xanchor": "center",
          "xref": "paper",
          "y": 1,
          "yanchor": "bottom",
          "yref": "paper"
         },
         {
          "font": {
           "size": 16
          },
          "showarrow": false,
          "text": "$k=4, MSE=0.26$",
          "x": 0.8555555555555556,
          "xanchor": "center",
          "xref": "paper",
          "y": 1,
          "yanchor": "bottom",
          "yref": "paper"
         },
         {
          "font": {
           "size": 16
          },
          "showarrow": false,
          "text": "$k=5, MSE=0.24$",
          "x": 0.14444444444444446,
          "xanchor": "center",
          "xref": "paper",
          "y": 0.375,
          "yanchor": "bottom",
          "yref": "paper"
         },
         {
          "font": {
           "size": 16
          },
          "showarrow": false,
          "text": "$k=6, MSE=0.24$",
          "x": 0.5,
          "xanchor": "center",
          "xref": "paper",
          "y": 0.375,
          "yanchor": "bottom",
          "yref": "paper"
         },
         {
          "font": {
           "size": 16
          },
          "showarrow": false,
          "text": "$k=7, MSE=0.22$",
          "x": 0.8555555555555556,
          "xanchor": "center",
          "xref": "paper",
          "y": 0.375,
          "yanchor": "bottom",
          "yref": "paper"
         }
        ],
        "margin": {
         "t": 80
        },
        "template": {
         "data": {
          "bar": [
           {
            "error_x": {
             "color": "rgb(36,36,36)"
            },
            "error_y": {
             "color": "rgb(36,36,36)"
            },
            "marker": {
             "line": {
              "color": "white",
              "width": 0.5
             }
            },
            "type": "bar"
           }
          ],
          "barpolar": [
           {
            "marker": {
             "line": {
              "color": "white",
              "width": 0.5
             }
            },
            "type": "barpolar"
           }
          ],
          "carpet": [
           {
            "aaxis": {
             "endlinecolor": "rgb(36,36,36)",
             "gridcolor": "white",
             "linecolor": "white",
             "minorgridcolor": "white",
             "startlinecolor": "rgb(36,36,36)"
            },
            "baxis": {
             "endlinecolor": "rgb(36,36,36)",
             "gridcolor": "white",
             "linecolor": "white",
             "minorgridcolor": "white",
             "startlinecolor": "rgb(36,36,36)"
            },
            "type": "carpet"
           }
          ],
          "choropleth": [
           {
            "colorbar": {
             "outlinewidth": 1,
             "tickcolor": "rgb(36,36,36)",
             "ticks": "outside"
            },
            "type": "choropleth"
           }
          ],
          "contour": [
           {
            "colorbar": {
             "outlinewidth": 1,
             "tickcolor": "rgb(36,36,36)",
             "ticks": "outside"
            },
            "colorscale": [
             [
              0,
              "#440154"
             ],
             [
              0.1111111111111111,
              "#482878"
             ],
             [
              0.2222222222222222,
              "#3e4989"
             ],
             [
              0.3333333333333333,
              "#31688e"
             ],
             [
              0.4444444444444444,
              "#26828e"
             ],
             [
              0.5555555555555556,
              "#1f9e89"
             ],
             [
              0.6666666666666666,
              "#35b779"
             ],
             [
              0.7777777777777778,
              "#6ece58"
             ],
             [
              0.8888888888888888,
              "#b5de2b"
             ],
             [
              1,
              "#fde725"
             ]
            ],
            "type": "contour"
           }
          ],
          "contourcarpet": [
           {
            "colorbar": {
             "outlinewidth": 1,
             "tickcolor": "rgb(36,36,36)",
             "ticks": "outside"
            },
            "type": "contourcarpet"
           }
          ],
          "heatmap": [
           {
            "colorbar": {
             "outlinewidth": 1,
             "tickcolor": "rgb(36,36,36)",
             "ticks": "outside"
            },
            "colorscale": [
             [
              0,
              "#440154"
             ],
             [
              0.1111111111111111,
              "#482878"
             ],
             [
              0.2222222222222222,
              "#3e4989"
             ],
             [
              0.3333333333333333,
              "#31688e"
             ],
             [
              0.4444444444444444,
              "#26828e"
             ],
             [
              0.5555555555555556,
              "#1f9e89"
             ],
             [
              0.6666666666666666,
              "#35b779"
             ],
             [
              0.7777777777777778,
              "#6ece58"
             ],
             [
              0.8888888888888888,
              "#b5de2b"
             ],
             [
              1,
              "#fde725"
             ]
            ],
            "type": "heatmap"
           }
          ],
          "heatmapgl": [
           {
            "colorbar": {
             "outlinewidth": 1,
             "tickcolor": "rgb(36,36,36)",
             "ticks": "outside"
            },
            "colorscale": [
             [
              0,
              "#440154"
             ],
             [
              0.1111111111111111,
              "#482878"
             ],
             [
              0.2222222222222222,
              "#3e4989"
             ],
             [
              0.3333333333333333,
              "#31688e"
             ],
             [
              0.4444444444444444,
              "#26828e"
             ],
             [
              0.5555555555555556,
              "#1f9e89"
             ],
             [
              0.6666666666666666,
              "#35b779"
             ],
             [
              0.7777777777777778,
              "#6ece58"
             ],
             [
              0.8888888888888888,
              "#b5de2b"
             ],
             [
              1,
              "#fde725"
             ]
            ],
            "type": "heatmapgl"
           }
          ],
          "histogram": [
           {
            "marker": {
             "line": {
              "color": "white",
              "width": 0.6
             }
            },
            "type": "histogram"
           }
          ],
          "histogram2d": [
           {
            "colorbar": {
             "outlinewidth": 1,
             "tickcolor": "rgb(36,36,36)",
             "ticks": "outside"
            },
            "colorscale": [
             [
              0,
              "#440154"
             ],
             [
              0.1111111111111111,
              "#482878"
             ],
             [
              0.2222222222222222,
              "#3e4989"
             ],
             [
              0.3333333333333333,
              "#31688e"
             ],
             [
              0.4444444444444444,
              "#26828e"
             ],
             [
              0.5555555555555556,
              "#1f9e89"
             ],
             [
              0.6666666666666666,
              "#35b779"
             ],
             [
              0.7777777777777778,
              "#6ece58"
             ],
             [
              0.8888888888888888,
              "#b5de2b"
             ],
             [
              1,
              "#fde725"
             ]
            ],
            "type": "histogram2d"
           }
          ],
          "histogram2dcontour": [
           {
            "colorbar": {
             "outlinewidth": 1,
             "tickcolor": "rgb(36,36,36)",
             "ticks": "outside"
            },
            "colorscale": [
             [
              0,
              "#440154"
             ],
             [
              0.1111111111111111,
              "#482878"
             ],
             [
              0.2222222222222222,
              "#3e4989"
             ],
             [
              0.3333333333333333,
              "#31688e"
             ],
             [
              0.4444444444444444,
              "#26828e"
             ],
             [
              0.5555555555555556,
              "#1f9e89"
             ],
             [
              0.6666666666666666,
              "#35b779"
             ],
             [
              0.7777777777777778,
              "#6ece58"
             ],
             [
              0.8888888888888888,
              "#b5de2b"
             ],
             [
              1,
              "#fde725"
             ]
            ],
            "type": "histogram2dcontour"
           }
          ],
          "mesh3d": [
           {
            "colorbar": {
             "outlinewidth": 1,
             "tickcolor": "rgb(36,36,36)",
             "ticks": "outside"
            },
            "type": "mesh3d"
           }
          ],
          "parcoords": [
           {
            "line": {
             "colorbar": {
              "outlinewidth": 1,
              "tickcolor": "rgb(36,36,36)",
              "ticks": "outside"
             }
            },
            "type": "parcoords"
           }
          ],
          "pie": [
           {
            "automargin": true,
            "type": "pie"
           }
          ],
          "scatter": [
           {
            "marker": {
             "colorbar": {
              "outlinewidth": 1,
              "tickcolor": "rgb(36,36,36)",
              "ticks": "outside"
             }
            },
            "type": "scatter"
           }
          ],
          "scatter3d": [
           {
            "line": {
             "colorbar": {
              "outlinewidth": 1,
              "tickcolor": "rgb(36,36,36)",
              "ticks": "outside"
             }
            },
            "marker": {
             "colorbar": {
              "outlinewidth": 1,
              "tickcolor": "rgb(36,36,36)",
              "ticks": "outside"
             }
            },
            "type": "scatter3d"
           }
          ],
          "scattercarpet": [
           {
            "marker": {
             "colorbar": {
              "outlinewidth": 1,
              "tickcolor": "rgb(36,36,36)",
              "ticks": "outside"
             }
            },
            "type": "scattercarpet"
           }
          ],
          "scattergeo": [
           {
            "marker": {
             "colorbar": {
              "outlinewidth": 1,
              "tickcolor": "rgb(36,36,36)",
              "ticks": "outside"
             }
            },
            "type": "scattergeo"
           }
          ],
          "scattergl": [
           {
            "marker": {
             "colorbar": {
              "outlinewidth": 1,
              "tickcolor": "rgb(36,36,36)",
              "ticks": "outside"
             }
            },
            "type": "scattergl"
           }
          ],
          "scattermapbox": [
           {
            "marker": {
             "colorbar": {
              "outlinewidth": 1,
              "tickcolor": "rgb(36,36,36)",
              "ticks": "outside"
             }
            },
            "type": "scattermapbox"
           }
          ],
          "scatterpolar": [
           {
            "marker": {
             "colorbar": {
              "outlinewidth": 1,
              "tickcolor": "rgb(36,36,36)",
              "ticks": "outside"
             }
            },
            "type": "scatterpolar"
           }
          ],
          "scatterpolargl": [
           {
            "marker": {
             "colorbar": {
              "outlinewidth": 1,
              "tickcolor": "rgb(36,36,36)",
              "ticks": "outside"
             }
            },
            "type": "scatterpolargl"
           }
          ],
          "scatterternary": [
           {
            "marker": {
             "colorbar": {
              "outlinewidth": 1,
              "tickcolor": "rgb(36,36,36)",
              "ticks": "outside"
             }
            },
            "type": "scatterternary"
           }
          ],
          "surface": [
           {
            "colorbar": {
             "outlinewidth": 1,
             "tickcolor": "rgb(36,36,36)",
             "ticks": "outside"
            },
            "colorscale": [
             [
              0,
              "#440154"
             ],
             [
              0.1111111111111111,
              "#482878"
             ],
             [
              0.2222222222222222,
              "#3e4989"
             ],
             [
              0.3333333333333333,
              "#31688e"
             ],
             [
              0.4444444444444444,
              "#26828e"
             ],
             [
              0.5555555555555556,
              "#1f9e89"
             ],
             [
              0.6666666666666666,
              "#35b779"
             ],
             [
              0.7777777777777778,
              "#6ece58"
             ],
             [
              0.8888888888888888,
              "#b5de2b"
             ],
             [
              1,
              "#fde725"
             ]
            ],
            "type": "surface"
           }
          ],
          "table": [
           {
            "cells": {
             "fill": {
              "color": "rgb(237,237,237)"
             },
             "line": {
              "color": "white"
             }
            },
            "header": {
             "fill": {
              "color": "rgb(217,217,217)"
             },
             "line": {
              "color": "white"
             }
            },
            "type": "table"
           }
          ]
         },
         "layout": {
          "annotationdefaults": {
           "arrowhead": 0,
           "arrowwidth": 1
          },
          "autotypenumbers": "strict",
          "coloraxis": {
           "colorbar": {
            "outlinewidth": 1,
            "tickcolor": "rgb(36,36,36)",
            "ticks": "outside"
           }
          },
          "colorscale": {
           "diverging": [
            [
             0,
             "rgb(103,0,31)"
            ],
            [
             0.1,
             "rgb(178,24,43)"
            ],
            [
             0.2,
             "rgb(214,96,77)"
            ],
            [
             0.3,
             "rgb(244,165,130)"
            ],
            [
             0.4,
             "rgb(253,219,199)"
            ],
            [
             0.5,
             "rgb(247,247,247)"
            ],
            [
             0.6,
             "rgb(209,229,240)"
            ],
            [
             0.7,
             "rgb(146,197,222)"
            ],
            [
             0.8,
             "rgb(67,147,195)"
            ],
            [
             0.9,
             "rgb(33,102,172)"
            ],
            [
             1,
             "rgb(5,48,97)"
            ]
           ],
           "sequential": [
            [
             0,
             "#440154"
            ],
            [
             0.1111111111111111,
             "#482878"
            ],
            [
             0.2222222222222222,
             "#3e4989"
            ],
            [
             0.3333333333333333,
             "#31688e"
            ],
            [
             0.4444444444444444,
             "#26828e"
            ],
            [
             0.5555555555555556,
             "#1f9e89"
            ],
            [
             0.6666666666666666,
             "#35b779"
            ],
            [
             0.7777777777777778,
             "#6ece58"
            ],
            [
             0.8888888888888888,
             "#b5de2b"
            ],
            [
             1,
             "#fde725"
            ]
           ],
           "sequentialminus": [
            [
             0,
             "#440154"
            ],
            [
             0.1111111111111111,
             "#482878"
            ],
            [
             0.2222222222222222,
             "#3e4989"
            ],
            [
             0.3333333333333333,
             "#31688e"
            ],
            [
             0.4444444444444444,
             "#26828e"
            ],
            [
             0.5555555555555556,
             "#1f9e89"
            ],
            [
             0.6666666666666666,
             "#35b779"
            ],
            [
             0.7777777777777778,
             "#6ece58"
            ],
            [
             0.8888888888888888,
             "#b5de2b"
            ],
            [
             1,
             "#fde725"
            ]
           ]
          },
          "colorway": [
           "#1F77B4",
           "#FF7F0E",
           "#2CA02C",
           "#D62728",
           "#9467BD",
           "#8C564B",
           "#E377C2",
           "#7F7F7F",
           "#BCBD22",
           "#17BECF"
          ],
          "font": {
           "color": "rgb(36,36,36)"
          },
          "geo": {
           "bgcolor": "white",
           "lakecolor": "white",
           "landcolor": "white",
           "showlakes": true,
           "showland": true,
           "subunitcolor": "white"
          },
          "hoverlabel": {
           "align": "left"
          },
          "hovermode": "closest",
          "mapbox": {
           "style": "light"
          },
          "margin": {
           "b": 0,
           "l": 20,
           "r": 20,
           "t": 40
          },
          "paper_bgcolor": "white",
          "plot_bgcolor": "white",
          "polar": {
           "angularaxis": {
            "gridcolor": "rgb(232,232,232)",
            "linecolor": "rgb(36,36,36)",
            "showgrid": false,
            "showline": true,
            "ticks": "outside"
           },
           "bgcolor": "white",
           "radialaxis": {
            "gridcolor": "rgb(232,232,232)",
            "linecolor": "rgb(36,36,36)",
            "showgrid": false,
            "showline": true,
            "ticks": "outside"
           }
          },
          "scene": {
           "xaxis": {
            "backgroundcolor": "white",
            "gridcolor": "rgb(232,232,232)",
            "gridwidth": 2,
            "linecolor": "rgb(36,36,36)",
            "showbackground": true,
            "showgrid": false,
            "showline": true,
            "ticks": "outside",
            "zeroline": false,
            "zerolinecolor": "rgb(36,36,36)"
           },
           "yaxis": {
            "backgroundcolor": "white",
            "gridcolor": "rgb(232,232,232)",
            "gridwidth": 2,
            "linecolor": "rgb(36,36,36)",
            "showbackground": true,
            "showgrid": false,
            "showline": true,
            "ticks": "outside",
            "zeroline": false,
            "zerolinecolor": "rgb(36,36,36)"
           },
           "zaxis": {
            "backgroundcolor": "white",
            "gridcolor": "rgb(232,232,232)",
            "gridwidth": 2,
            "linecolor": "rgb(36,36,36)",
            "showbackground": true,
            "showgrid": false,
            "showline": true,
            "ticks": "outside",
            "zeroline": false,
            "zerolinecolor": "rgb(36,36,36)"
           }
          },
          "shapedefaults": {
           "fillcolor": "black",
           "line": {
            "width": 0
           },
           "opacity": 0.3
          },
          "ternary": {
           "aaxis": {
            "gridcolor": "rgb(232,232,232)",
            "linecolor": "rgb(36,36,36)",
            "showgrid": false,
            "showline": true,
            "ticks": "outside"
           },
           "baxis": {
            "gridcolor": "rgb(232,232,232)",
            "linecolor": "rgb(36,36,36)",
            "showgrid": false,
            "showline": true,
            "ticks": "outside"
           },
           "bgcolor": "white",
           "caxis": {
            "gridcolor": "rgb(232,232,232)",
            "linecolor": "rgb(36,36,36)",
            "showgrid": false,
            "showline": true,
            "ticks": "outside"
           }
          },
          "title": {
           "x": 0.05
          },
          "xaxis": {
           "automargin": true,
           "gridcolor": "rgb(232,232,232)",
           "linecolor": "rgb(36,36,36)",
           "showgrid": false,
           "showline": true,
           "ticks": "outside",
           "title": {
            "standoff": 15
           },
           "zeroline": false,
           "zerolinecolor": "rgb(36,36,36)"
          },
          "yaxis": {
           "automargin": true,
           "gridcolor": "rgb(232,232,232)",
           "linecolor": "rgb(36,36,36)",
           "showgrid": false,
           "showline": true,
           "ticks": "outside",
           "title": {
            "standoff": 15
           },
           "zeroline": false,
           "zerolinecolor": "rgb(36,36,36)"
          }
         }
        },
        "title": {
         "text": "$\\text{(4) Simulated Data With Noise - Fitting Polynomials of Different Degrees}$"
        },
        "xaxis": {
         "anchor": "y",
         "domain": [
          0,
          0.2888888888888889
         ]
        },
        "xaxis2": {
         "anchor": "y2",
         "domain": [
          0.35555555555555557,
          0.6444444444444445
         ]
        },
        "xaxis3": {
         "anchor": "y3",
         "domain": [
          0.7111111111111111,
          1
         ]
        },
        "xaxis4": {
         "anchor": "y4",
         "domain": [
          0,
          0.2888888888888889
         ]
        },
        "xaxis5": {
         "anchor": "y5",
         "domain": [
          0.35555555555555557,
          0.6444444444444445
         ]
        },
        "xaxis6": {
         "anchor": "y6",
         "domain": [
          0.7111111111111111,
          1
         ]
        },
        "yaxis": {
         "anchor": "x",
         "domain": [
          0.625,
          1
         ]
        },
        "yaxis2": {
         "anchor": "x2",
         "domain": [
          0.625,
          1
         ]
        },
        "yaxis3": {
         "anchor": "x3",
         "domain": [
          0.625,
          1
         ]
        },
        "yaxis4": {
         "anchor": "x4",
         "domain": [
          0,
          0.375
         ]
        },
        "yaxis5": {
         "anchor": "x5",
         "domain": [
          0,
          0.375
         ]
        },
        "yaxis6": {
         "anchor": "x6",
         "domain": [
          0,
          0.375
         ]
        }
       }
      },
      "text/html": [
       "<div>                            <div id=\"b107f3b2-2469-4474-9933-1bd4b9460079\" class=\"plotly-graph-div\" style=\"height:525px; width:100%;\"></div>            <script type=\"text/javascript\">                require([\"plotly\"], function(Plotly) {                    window.PLOTLYENV=window.PLOTLYENV || {};                                    if (document.getElementById(\"b107f3b2-2469-4474-9933-1bd4b9460079\")) {                    Plotly.newPlot(                        \"b107f3b2-2469-4474-9933-1bd4b9460079\",                        [{\"marker\": {\"color\": \"black\", \"opacity\": 0.7}, \"mode\": \"markers\", \"name\": \"Real Points\", \"showlegend\": false, \"type\": \"scatter\", \"x\": [-1.2, -1.031578947368421, -0.8631578947368421, -0.6947368421052631, -0.5263157894736842, -0.35789473684210527, -0.18947368421052624, -0.021052631578947434, 0.1473684210526316, 0.3157894736842106, 0.4842105263157894, 0.6526315789473685, 0.8210526315789475, 0.9894736842105265, 1.157894736842105, 1.3263157894736841, 1.4947368421052631, 1.6631578947368422, 1.8315789473684212, 2.0], \"xaxis\": \"x\", \"y\": [5.8096, 3.7958686136539765, 2.4687431311914425, 1.6622727081590838, 1.229817143821794, 1.0440468811626675, 0.9969430068830043, 0.9997972514023066, 0.9832119888582806, 0.8971002371068362, 0.7106856577220864, 0.41250255599634744, 0.010395880940139768, -0.46847877471781274, -0.9776551745305817, -1.4513564383330393, -1.8044950422418493, -1.9326728186554742, -1.7121809562541719, -1.0], \"yaxis\": \"y\"}, {\"marker\": {\"color\": \"red\", \"opacity\": 0.7}, \"mode\": \"markers\", \"name\": \"Observed Points\", \"showlegend\": false, \"type\": \"scatter\", \"x\": [-1.2, -1.031578947368421, -0.8631578947368421, -0.6947368421052631, -0.5263157894736842, -0.35789473684210527, -0.18947368421052624, -0.021052631578947434, 0.1473684210526316, 0.3157894736842106, 0.4842105263157894, 0.6526315789473685, 0.8210526315789475, 0.9894736842105265, 1.157894736842105, 1.3263157894736841, 1.4947368421052631, 1.6631578947368422, 1.8315789473684212, 2.0], \"xaxis\": \"x\", \"y\": [5.791949629555613, 4.070297262513179, 2.3499265986426368, 3.120458601937853, 1.507454008708305, 2.3298181710873362, 0.8812323803820453, 1.1488966528809545, 1.3091704449910597, 1.255763250368975, 0.04603566832316486, -0.328807454515759, -0.44023475683528185, -1.2530580943404241, -1.3364626420191783, -3.0500851715207666, -2.4993292583602074, -1.078042479844627, -1.850063780266942, -1.165329399854547], \"yaxis\": \"y\"}, {\"marker\": {\"color\": \"blue\", \"opacity\": 0.7}, \"mode\": \"markers\", \"name\": \"Predicted Points\", \"showlegend\": false, \"type\": \"scatter\", \"x\": [-1.2, -1.031578947368421, -0.8631578947368421, -0.6947368421052631, -0.5263157894736842, -0.35789473684210527, -0.18947368421052624, -0.021052631578947434, 0.1473684210526316, 0.3157894736842106, 0.4842105263157894, 0.6526315789473685, 0.8210526315789475, 0.9894736842105265, 1.157894736842105, 1.3263157894736841, 1.4947368421052631, 1.6631578947368422, 1.8315789473684212, 2.0], \"xaxis\": \"x\", \"y\": [4.842356565467689, 4.189808956424017, 3.570547754433658, 2.984572959496612, 2.43188457161288, 1.9124825907824614, 1.4263670170053562, 0.973537850281565, 0.5539950906110866, 0.16773873799392192, -0.18523120756992895, -0.5049147460804664, -0.7913118775376908, -1.0444226019416014, -1.264246919292198, -1.4507848295894816, -1.6040363328334513, -1.7240014290241081, -1.810680118161451, -1.8640724002454805], \"yaxis\": \"y\"}, {\"marker\": {\"color\": \"black\", \"opacity\": 0.7}, \"mode\": \"markers\", \"name\": \"Real Points\", \"showlegend\": false, \"type\": \"scatter\", \"x\": [-1.2, -1.031578947368421, -0.8631578947368421, -0.6947368421052631, -0.5263157894736842, -0.35789473684210527, -0.18947368421052624, -0.021052631578947434, 0.1473684210526316, 0.3157894736842106, 0.4842105263157894, 0.6526315789473685, 0.8210526315789475, 0.9894736842105265, 1.157894736842105, 1.3263157894736841, 1.4947368421052631, 1.6631578947368422, 1.8315789473684212, 2.0], \"xaxis\": \"x2\", \"y\": [5.8096, 3.7958686136539765, 2.4687431311914425, 1.6622727081590838, 1.229817143821794, 1.0440468811626675, 0.9969430068830043, 0.9997972514023066, 0.9832119888582806, 0.8971002371068362, 0.7106856577220864, 0.41250255599634744, 0.010395880940139768, -0.46847877471781274, -0.9776551745305817, -1.4513564383330393, -1.8044950422418493, -1.9326728186554742, -1.7121809562541719, -1.0], \"yaxis\": \"y2\"}, {\"marker\": {\"color\": \"red\", \"opacity\": 0.7}, \"mode\": \"markers\", \"name\": \"Observed Points\", \"showlegend\": false, \"type\": \"scatter\", \"x\": [-1.2, -1.031578947368421, -0.8631578947368421, -0.6947368421052631, -0.5263157894736842, -0.35789473684210527, -0.18947368421052624, -0.021052631578947434, 0.1473684210526316, 0.3157894736842106, 0.4842105263157894, 0.6526315789473685, 0.8210526315789475, 0.9894736842105265, 1.157894736842105, 1.3263157894736841, 1.4947368421052631, 1.6631578947368422, 1.8315789473684212, 2.0], \"xaxis\": \"x2\", \"y\": [5.791949629555613, 4.070297262513179, 2.3499265986426368, 3.120458601937853, 1.507454008708305, 2.3298181710873362, 0.8812323803820453, 1.1488966528809545, 1.3091704449910597, 1.255763250368975, 0.04603566832316486, -0.328807454515759, -0.44023475683528185, -1.2530580943404241, -1.3364626420191783, -3.0500851715207666, -2.4993292583602074, -1.078042479844627, -1.850063780266942, -1.165329399854547], \"yaxis\": \"y2\"}, {\"marker\": {\"color\": \"blue\", \"opacity\": 0.7}, \"mode\": \"markers\", \"name\": \"Predicted Points\", \"showlegend\": false, \"type\": \"scatter\", \"x\": [-1.2, -1.031578947368421, -0.8631578947368421, -0.6947368421052631, -0.5263157894736842, -0.35789473684210527, -0.18947368421052624, -0.021052631578947434, 0.1473684210526316, 0.3157894736842106, 0.4842105263157894, 0.6526315789473685, 0.8210526315789475, 0.9894736842105265, 1.157894736842105, 1.3263157894736841, 1.4947368421052631, 1.6631578947368422, 1.8315789473684212, 2.0], \"xaxis\": \"x2\", \"y\": [4.712823067533207, 4.142086088763945, 3.5819103419717724, 3.0349693771656545, 2.503936744354561, 1.9914859935474585, 1.5002906747533138, 1.0330243379810968, 0.5923605332397733, 0.18097281053831182, -0.19846528011431952, -0.5432801887091537, -0.8507983652372232, -1.11834625968956, -1.3432503220571954, -1.5228370023311628, -1.6544327505024947, -1.7353640165622224, -1.7629572505013784, -1.7345389023109963], \"yaxis\": \"y2\"}, {\"marker\": {\"color\": \"black\", \"opacity\": 0.7}, \"mode\": \"markers\", \"name\": \"Real Points\", \"showlegend\": false, \"type\": \"scatter\", \"x\": [-1.2, -1.031578947368421, -0.8631578947368421, -0.6947368421052631, -0.5263157894736842, -0.35789473684210527, -0.18947368421052624, -0.021052631578947434, 0.1473684210526316, 0.3157894736842106, 0.4842105263157894, 0.6526315789473685, 0.8210526315789475, 0.9894736842105265, 1.157894736842105, 1.3263157894736841, 1.4947368421052631, 1.6631578947368422, 1.8315789473684212, 2.0], \"xaxis\": \"x3\", \"y\": [5.8096, 3.7958686136539765, 2.4687431311914425, 1.6622727081590838, 1.229817143821794, 1.0440468811626675, 0.9969430068830043, 0.9997972514023066, 0.9832119888582806, 0.8971002371068362, 0.7106856577220864, 0.41250255599634744, 0.010395880940139768, -0.46847877471781274, -0.9776551745305817, -1.4513564383330393, -1.8044950422418493, -1.9326728186554742, -1.7121809562541719, -1.0], \"yaxis\": \"y3\"}, {\"marker\": {\"color\": \"red\", \"opacity\": 0.7}, \"mode\": \"markers\", \"name\": \"Observed Points\", \"showlegend\": false, \"type\": \"scatter\", \"x\": [-1.2, -1.031578947368421, -0.8631578947368421, -0.6947368421052631, -0.5263157894736842, -0.35789473684210527, -0.18947368421052624, -0.021052631578947434, 0.1473684210526316, 0.3157894736842106, 0.4842105263157894, 0.6526315789473685, 0.8210526315789475, 0.9894736842105265, 1.157894736842105, 1.3263157894736841, 1.4947368421052631, 1.6631578947368422, 1.8315789473684212, 2.0], \"xaxis\": \"x3\", \"y\": [5.791949629555613, 4.070297262513179, 2.3499265986426368, 3.120458601937853, 1.507454008708305, 2.3298181710873362, 0.8812323803820453, 1.1488966528809545, 1.3091704449910597, 1.255763250368975, 0.04603566832316486, -0.328807454515759, -0.44023475683528185, -1.2530580943404241, -1.3364626420191783, -3.0500851715207666, -2.4993292583602074, -1.078042479844627, -1.850063780266942, -1.165329399854547], \"yaxis\": \"y3\"}, {\"marker\": {\"color\": \"blue\", \"opacity\": 0.7}, \"mode\": \"markers\", \"name\": \"Predicted Points\", \"showlegend\": false, \"type\": \"scatter\", \"x\": [-1.2, -1.031578947368421, -0.8631578947368421, -0.6947368421052631, -0.5263157894736842, -0.35789473684210527, -0.18947368421052624, -0.021052631578947434, 0.1473684210526316, 0.3157894736842106, 0.4842105263157894, 0.6526315789473685, 0.8210526315789475, 0.9894736842105265, 1.157894736842105, 1.3263157894736841, 1.4947368421052631, 1.6631578947368422, 1.8315789473684212, 2.0], \"xaxis\": \"x3\", \"y\": [5.598062386124582, 4.095494545680187, 3.069403368050448, 2.394564049681077, 1.9617390812131958, 1.6776782474833316, 1.4651186275234185, 1.2627845945607978, 1.0253878160182168, 0.7236272535138298, 0.3441891628611987, -0.11025290593071002, -0.6210381086575212, -1.1535183069194543, -1.6570580681213198, -2.0650346654725253, -2.294838077987069, -2.2478709904835434, -1.8095487935851327, -0.8492995837196173], \"yaxis\": \"y3\"}, {\"marker\": {\"color\": \"black\", \"opacity\": 0.7}, \"mode\": \"markers\", \"name\": \"Real Points\", \"showlegend\": false, \"type\": \"scatter\", \"x\": [-1.2, -1.031578947368421, -0.8631578947368421, -0.6947368421052631, -0.5263157894736842, -0.35789473684210527, -0.18947368421052624, -0.021052631578947434, 0.1473684210526316, 0.3157894736842106, 0.4842105263157894, 0.6526315789473685, 0.8210526315789475, 0.9894736842105265, 1.157894736842105, 1.3263157894736841, 1.4947368421052631, 1.6631578947368422, 1.8315789473684212, 2.0], \"xaxis\": \"x4\", \"y\": [5.8096, 3.7958686136539765, 2.4687431311914425, 1.6622727081590838, 1.229817143821794, 1.0440468811626675, 0.9969430068830043, 0.9997972514023066, 0.9832119888582806, 0.8971002371068362, 0.7106856577220864, 0.41250255599634744, 0.010395880940139768, -0.46847877471781274, -0.9776551745305817, -1.4513564383330393, -1.8044950422418493, -1.9326728186554742, -1.7121809562541719, -1.0], \"yaxis\": \"y4\"}, {\"marker\": {\"color\": \"red\", \"opacity\": 0.7}, \"mode\": \"markers\", \"name\": \"Observed Points\", \"showlegend\": false, \"type\": \"scatter\", \"x\": [-1.2, -1.031578947368421, -0.8631578947368421, -0.6947368421052631, -0.5263157894736842, -0.35789473684210527, -0.18947368421052624, -0.021052631578947434, 0.1473684210526316, 0.3157894736842106, 0.4842105263157894, 0.6526315789473685, 0.8210526315789475, 0.9894736842105265, 1.157894736842105, 1.3263157894736841, 1.4947368421052631, 1.6631578947368422, 1.8315789473684212, 2.0], \"xaxis\": \"x4\", \"y\": [5.791949629555613, 4.070297262513179, 2.3499265986426368, 3.120458601937853, 1.507454008708305, 2.3298181710873362, 0.8812323803820453, 1.1488966528809545, 1.3091704449910597, 1.255763250368975, 0.04603566832316486, -0.328807454515759, -0.44023475683528185, -1.2530580943404241, -1.3364626420191783, -3.0500851715207666, -2.4993292583602074, -1.078042479844627, -1.850063780266942, -1.165329399854547], \"yaxis\": \"y4\"}, {\"marker\": {\"color\": \"blue\", \"opacity\": 0.7}, \"mode\": \"markers\", \"name\": \"Predicted Points\", \"showlegend\": false, \"type\": \"scatter\", \"x\": [-1.2, -1.031578947368421, -0.8631578947368421, -0.6947368421052631, -0.5263157894736842, -0.35789473684210527, -0.18947368421052624, -0.021052631578947434, 0.1473684210526316, 0.3157894736842106, 0.4842105263157894, 0.6526315789473685, 0.8210526315789475, 0.9894736842105265, 1.157894736842105, 1.3263157894736841, 1.4947368421052631, 1.6631578947368422, 1.8315789473684212, 2.0], \"xaxis\": \"x4\", \"y\": [5.795907382372544, 3.9809527057471508, 2.885442231188301, 2.269813489611406, 1.9426487745576853, 1.7563874797367738, 1.6030384365693375, 1.409892251729688, 1.1352336446883937, 0.7640537852548969, 0.3037626311201258, -0.22009873460089313, -0.7681457658264179, -1.2914381159653794, -1.7357673003747673, -2.0459443588170196, -2.1700875179173993, -2.063909853621393, -1.6950069536520882, -1.0471445799675596], \"yaxis\": \"y4\"}, {\"marker\": {\"color\": \"black\", \"opacity\": 0.7}, \"mode\": \"markers\", \"name\": \"Real Points\", \"showlegend\": false, \"type\": \"scatter\", \"x\": [-1.2, -1.031578947368421, -0.8631578947368421, -0.6947368421052631, -0.5263157894736842, -0.35789473684210527, -0.18947368421052624, -0.021052631578947434, 0.1473684210526316, 0.3157894736842106, 0.4842105263157894, 0.6526315789473685, 0.8210526315789475, 0.9894736842105265, 1.157894736842105, 1.3263157894736841, 1.4947368421052631, 1.6631578947368422, 1.8315789473684212, 2.0], \"xaxis\": \"x5\", \"y\": [5.8096, 3.7958686136539765, 2.4687431311914425, 1.6622727081590838, 1.229817143821794, 1.0440468811626675, 0.9969430068830043, 0.9997972514023066, 0.9832119888582806, 0.8971002371068362, 0.7106856577220864, 0.41250255599634744, 0.010395880940139768, -0.46847877471781274, -0.9776551745305817, -1.4513564383330393, -1.8044950422418493, -1.9326728186554742, -1.7121809562541719, -1.0], \"yaxis\": \"y5\"}, {\"marker\": {\"color\": \"red\", \"opacity\": 0.7}, \"mode\": \"markers\", \"name\": \"Observed Points\", \"showlegend\": false, \"type\": \"scatter\", \"x\": [-1.2, -1.031578947368421, -0.8631578947368421, -0.6947368421052631, -0.5263157894736842, -0.35789473684210527, -0.18947368421052624, -0.021052631578947434, 0.1473684210526316, 0.3157894736842106, 0.4842105263157894, 0.6526315789473685, 0.8210526315789475, 0.9894736842105265, 1.157894736842105, 1.3263157894736841, 1.4947368421052631, 1.6631578947368422, 1.8315789473684212, 2.0], \"xaxis\": \"x5\", \"y\": [5.791949629555613, 4.070297262513179, 2.3499265986426368, 3.120458601937853, 1.507454008708305, 2.3298181710873362, 0.8812323803820453, 1.1488966528809545, 1.3091704449910597, 1.255763250368975, 0.04603566832316486, -0.328807454515759, -0.44023475683528185, -1.2530580943404241, -1.3364626420191783, -3.0500851715207666, -2.4993292583602074, -1.078042479844627, -1.850063780266942, -1.165329399854547], \"yaxis\": \"y5\"}, {\"marker\": {\"color\": \"blue\", \"opacity\": 0.7}, \"mode\": \"markers\", \"name\": \"Predicted Points\", \"showlegend\": false, \"type\": \"scatter\", \"x\": [-1.2, -1.031578947368421, -0.8631578947368421, -0.6947368421052631, -0.5263157894736842, -0.35789473684210527, -0.18947368421052624, -0.021052631578947434, 0.1473684210526316, 0.3157894736842106, 0.4842105263157894, 0.6526315789473685, 0.8210526315789475, 0.9894736842105265, 1.157894736842105, 1.3263157894736841, 1.4947368421052631, 1.6631578947368422, 1.8315789473684212, 2.0], \"xaxis\": \"x5\", \"y\": [5.6941089517519305, 4.1041823849194845, 2.9836687870503087, 2.2694983241915367, 1.8640150022981148, 1.6549567421060216, 1.5319686343868382, 1.3996493755836548, 1.1871308838283192, 0.8541910953400278, 0.3938999412052565, -0.16820149546096808, -0.7783886419724526, -1.3625079181478825, -1.8371980380055262, -2.1245781310765994, -2.170402683337287, -1.9656832977594036, -1.5717772744797789, -1.148943010588202], \"yaxis\": \"y5\"}, {\"marker\": {\"color\": \"black\", \"opacity\": 0.7}, \"mode\": \"markers\", \"name\": \"Real Points\", \"showlegend\": false, \"type\": \"scatter\", \"x\": [-1.2, -1.031578947368421, -0.8631578947368421, -0.6947368421052631, -0.5263157894736842, -0.35789473684210527, -0.18947368421052624, -0.021052631578947434, 0.1473684210526316, 0.3157894736842106, 0.4842105263157894, 0.6526315789473685, 0.8210526315789475, 0.9894736842105265, 1.157894736842105, 1.3263157894736841, 1.4947368421052631, 1.6631578947368422, 1.8315789473684212, 2.0], \"xaxis\": \"x6\", \"y\": [5.8096, 3.7958686136539765, 2.4687431311914425, 1.6622727081590838, 1.229817143821794, 1.0440468811626675, 0.9969430068830043, 0.9997972514023066, 0.9832119888582806, 0.8971002371068362, 0.7106856577220864, 0.41250255599634744, 0.010395880940139768, -0.46847877471781274, -0.9776551745305817, -1.4513564383330393, -1.8044950422418493, -1.9326728186554742, -1.7121809562541719, -1.0], \"yaxis\": \"y6\"}, {\"marker\": {\"color\": \"red\", \"opacity\": 0.7}, \"mode\": \"markers\", \"name\": \"Observed Points\", \"showlegend\": false, \"type\": \"scatter\", \"x\": [-1.2, -1.031578947368421, -0.8631578947368421, -0.6947368421052631, -0.5263157894736842, -0.35789473684210527, -0.18947368421052624, -0.021052631578947434, 0.1473684210526316, 0.3157894736842106, 0.4842105263157894, 0.6526315789473685, 0.8210526315789475, 0.9894736842105265, 1.157894736842105, 1.3263157894736841, 1.4947368421052631, 1.6631578947368422, 1.8315789473684212, 2.0], \"xaxis\": \"x6\", \"y\": [5.791949629555613, 4.070297262513179, 2.3499265986426368, 3.120458601937853, 1.507454008708305, 2.3298181710873362, 0.8812323803820453, 1.1488966528809545, 1.3091704449910597, 1.255763250368975, 0.04603566832316486, -0.328807454515759, -0.44023475683528185, -1.2530580943404241, -1.3364626420191783, -3.0500851715207666, -2.4993292583602074, -1.078042479844627, -1.850063780266942, -1.165329399854547], \"yaxis\": \"y6\"}, {\"marker\": {\"color\": \"blue\", \"opacity\": 0.7}, \"mode\": \"markers\", \"name\": \"Predicted Points\", \"showlegend\": false, \"type\": \"scatter\", \"x\": [-1.2, -1.031578947368421, -0.8631578947368421, -0.6947368421052631, -0.5263157894736842, -0.35789473684210527, -0.18947368421052624, -0.021052631578947434, 0.1473684210526316, 0.3157894736842106, 0.4842105263157894, 0.6526315789473685, 0.8210526315789475, 0.9894736842105265, 1.157894736842105, 1.3263157894736841, 1.4947368421052631, 1.6631578947368422, 1.8315789473684212, 2.0], \"xaxis\": \"x6\", \"y\": [5.8187182370165775, 3.8615221978251597, 2.9246433361354502, 2.4049096527608294, 2.035883227020692, 1.729606577086534, 1.4700497790153968, 1.2497710247312943, 1.0413032992152138, 0.7947798571643206, 0.45331117938097054, -0.022373910847858447, -0.6285102911200926, -1.3005890627764485, -1.9118478729860522, -2.2964463557991968, -2.305814011906596, -1.9066578468445616, -1.3291170873854448, -1.2735522958527898], \"yaxis\": \"y6\"}],                        {\"annotations\": [{\"font\": {\"size\": 16}, \"showarrow\": false, \"text\": \"$k=2, MSE=0.5$\", \"x\": 0.14444444444444446, \"xanchor\": \"center\", \"xref\": \"paper\", \"y\": 1.0, \"yanchor\": \"bottom\", \"yref\": \"paper\"}, {\"font\": {\"size\": 16}, \"showarrow\": false, \"text\": \"$k=3, MSE=0.5$\", \"x\": 0.5, \"xanchor\": \"center\", \"xref\": \"paper\", \"y\": 1.0, \"yanchor\": \"bottom\", \"yref\": \"paper\"}, {\"font\": {\"size\": 16}, \"showarrow\": false, \"text\": \"$k=4, MSE=0.26$\", \"x\": 0.8555555555555556, \"xanchor\": \"center\", \"xref\": \"paper\", \"y\": 1.0, \"yanchor\": \"bottom\", \"yref\": \"paper\"}, {\"font\": {\"size\": 16}, \"showarrow\": false, \"text\": \"$k=5, MSE=0.24$\", \"x\": 0.14444444444444446, \"xanchor\": \"center\", \"xref\": \"paper\", \"y\": 0.375, \"yanchor\": \"bottom\", \"yref\": \"paper\"}, {\"font\": {\"size\": 16}, \"showarrow\": false, \"text\": \"$k=6, MSE=0.24$\", \"x\": 0.5, \"xanchor\": \"center\", \"xref\": \"paper\", \"y\": 0.375, \"yanchor\": \"bottom\", \"yref\": \"paper\"}, {\"font\": {\"size\": 16}, \"showarrow\": false, \"text\": \"$k=7, MSE=0.22$\", \"x\": 0.8555555555555556, \"xanchor\": \"center\", \"xref\": \"paper\", \"y\": 0.375, \"yanchor\": \"bottom\", \"yref\": \"paper\"}], \"margin\": {\"t\": 80}, \"template\": {\"data\": {\"bar\": [{\"error_x\": {\"color\": \"rgb(36,36,36)\"}, \"error_y\": {\"color\": \"rgb(36,36,36)\"}, \"marker\": {\"line\": {\"color\": \"white\", \"width\": 0.5}}, \"type\": \"bar\"}], \"barpolar\": [{\"marker\": {\"line\": {\"color\": \"white\", \"width\": 0.5}}, \"type\": \"barpolar\"}], \"carpet\": [{\"aaxis\": {\"endlinecolor\": \"rgb(36,36,36)\", \"gridcolor\": \"white\", \"linecolor\": \"white\", \"minorgridcolor\": \"white\", \"startlinecolor\": \"rgb(36,36,36)\"}, \"baxis\": {\"endlinecolor\": \"rgb(36,36,36)\", \"gridcolor\": \"white\", \"linecolor\": \"white\", \"minorgridcolor\": \"white\", \"startlinecolor\": \"rgb(36,36,36)\"}, \"type\": \"carpet\"}], \"choropleth\": [{\"colorbar\": {\"outlinewidth\": 1, \"tickcolor\": \"rgb(36,36,36)\", \"ticks\": \"outside\"}, \"type\": \"choropleth\"}], \"contour\": [{\"colorbar\": {\"outlinewidth\": 1, \"tickcolor\": \"rgb(36,36,36)\", \"ticks\": \"outside\"}, \"colorscale\": [[0.0, \"#440154\"], [0.1111111111111111, \"#482878\"], [0.2222222222222222, \"#3e4989\"], [0.3333333333333333, \"#31688e\"], [0.4444444444444444, \"#26828e\"], [0.5555555555555556, \"#1f9e89\"], [0.6666666666666666, \"#35b779\"], [0.7777777777777778, \"#6ece58\"], [0.8888888888888888, \"#b5de2b\"], [1.0, \"#fde725\"]], \"type\": \"contour\"}], \"contourcarpet\": [{\"colorbar\": {\"outlinewidth\": 1, \"tickcolor\": \"rgb(36,36,36)\", \"ticks\": \"outside\"}, \"type\": \"contourcarpet\"}], \"heatmap\": [{\"colorbar\": {\"outlinewidth\": 1, \"tickcolor\": \"rgb(36,36,36)\", \"ticks\": \"outside\"}, \"colorscale\": [[0.0, \"#440154\"], [0.1111111111111111, \"#482878\"], [0.2222222222222222, \"#3e4989\"], [0.3333333333333333, \"#31688e\"], [0.4444444444444444, \"#26828e\"], [0.5555555555555556, \"#1f9e89\"], [0.6666666666666666, \"#35b779\"], [0.7777777777777778, \"#6ece58\"], [0.8888888888888888, \"#b5de2b\"], [1.0, \"#fde725\"]], \"type\": \"heatmap\"}], \"heatmapgl\": [{\"colorbar\": {\"outlinewidth\": 1, \"tickcolor\": \"rgb(36,36,36)\", \"ticks\": \"outside\"}, \"colorscale\": [[0.0, \"#440154\"], [0.1111111111111111, \"#482878\"], [0.2222222222222222, \"#3e4989\"], [0.3333333333333333, \"#31688e\"], [0.4444444444444444, \"#26828e\"], [0.5555555555555556, \"#1f9e89\"], [0.6666666666666666, \"#35b779\"], [0.7777777777777778, \"#6ece58\"], [0.8888888888888888, \"#b5de2b\"], [1.0, \"#fde725\"]], \"type\": \"heatmapgl\"}], \"histogram\": [{\"marker\": {\"line\": {\"color\": \"white\", \"width\": 0.6}}, \"type\": \"histogram\"}], \"histogram2d\": [{\"colorbar\": {\"outlinewidth\": 1, \"tickcolor\": \"rgb(36,36,36)\", \"ticks\": \"outside\"}, \"colorscale\": [[0.0, \"#440154\"], [0.1111111111111111, \"#482878\"], [0.2222222222222222, \"#3e4989\"], [0.3333333333333333, \"#31688e\"], [0.4444444444444444, \"#26828e\"], [0.5555555555555556, \"#1f9e89\"], [0.6666666666666666, \"#35b779\"], [0.7777777777777778, \"#6ece58\"], [0.8888888888888888, \"#b5de2b\"], [1.0, \"#fde725\"]], \"type\": \"histogram2d\"}], \"histogram2dcontour\": [{\"colorbar\": {\"outlinewidth\": 1, \"tickcolor\": \"rgb(36,36,36)\", \"ticks\": \"outside\"}, \"colorscale\": [[0.0, \"#440154\"], [0.1111111111111111, \"#482878\"], [0.2222222222222222, \"#3e4989\"], [0.3333333333333333, \"#31688e\"], [0.4444444444444444, \"#26828e\"], [0.5555555555555556, \"#1f9e89\"], [0.6666666666666666, \"#35b779\"], [0.7777777777777778, \"#6ece58\"], [0.8888888888888888, \"#b5de2b\"], [1.0, \"#fde725\"]], \"type\": \"histogram2dcontour\"}], \"mesh3d\": [{\"colorbar\": {\"outlinewidth\": 1, \"tickcolor\": \"rgb(36,36,36)\", \"ticks\": \"outside\"}, \"type\": \"mesh3d\"}], \"parcoords\": [{\"line\": {\"colorbar\": {\"outlinewidth\": 1, \"tickcolor\": \"rgb(36,36,36)\", \"ticks\": \"outside\"}}, \"type\": \"parcoords\"}], \"pie\": [{\"automargin\": true, \"type\": \"pie\"}], \"scatter\": [{\"marker\": {\"colorbar\": {\"outlinewidth\": 1, \"tickcolor\": \"rgb(36,36,36)\", \"ticks\": \"outside\"}}, \"type\": \"scatter\"}], \"scatter3d\": [{\"line\": {\"colorbar\": {\"outlinewidth\": 1, \"tickcolor\": \"rgb(36,36,36)\", \"ticks\": \"outside\"}}, \"marker\": {\"colorbar\": {\"outlinewidth\": 1, \"tickcolor\": \"rgb(36,36,36)\", \"ticks\": \"outside\"}}, \"type\": \"scatter3d\"}], \"scattercarpet\": [{\"marker\": {\"colorbar\": {\"outlinewidth\": 1, \"tickcolor\": \"rgb(36,36,36)\", \"ticks\": \"outside\"}}, \"type\": \"scattercarpet\"}], \"scattergeo\": [{\"marker\": {\"colorbar\": {\"outlinewidth\": 1, \"tickcolor\": \"rgb(36,36,36)\", \"ticks\": \"outside\"}}, \"type\": \"scattergeo\"}], \"scattergl\": [{\"marker\": {\"colorbar\": {\"outlinewidth\": 1, \"tickcolor\": \"rgb(36,36,36)\", \"ticks\": \"outside\"}}, \"type\": \"scattergl\"}], \"scattermapbox\": [{\"marker\": {\"colorbar\": {\"outlinewidth\": 1, \"tickcolor\": \"rgb(36,36,36)\", \"ticks\": \"outside\"}}, \"type\": \"scattermapbox\"}], \"scatterpolar\": [{\"marker\": {\"colorbar\": {\"outlinewidth\": 1, \"tickcolor\": \"rgb(36,36,36)\", \"ticks\": \"outside\"}}, \"type\": \"scatterpolar\"}], \"scatterpolargl\": [{\"marker\": {\"colorbar\": {\"outlinewidth\": 1, \"tickcolor\": \"rgb(36,36,36)\", \"ticks\": \"outside\"}}, \"type\": \"scatterpolargl\"}], \"scatterternary\": [{\"marker\": {\"colorbar\": {\"outlinewidth\": 1, \"tickcolor\": \"rgb(36,36,36)\", \"ticks\": \"outside\"}}, \"type\": \"scatterternary\"}], \"surface\": [{\"colorbar\": {\"outlinewidth\": 1, \"tickcolor\": \"rgb(36,36,36)\", \"ticks\": \"outside\"}, \"colorscale\": [[0.0, \"#440154\"], [0.1111111111111111, \"#482878\"], [0.2222222222222222, \"#3e4989\"], [0.3333333333333333, \"#31688e\"], [0.4444444444444444, \"#26828e\"], [0.5555555555555556, \"#1f9e89\"], [0.6666666666666666, \"#35b779\"], [0.7777777777777778, \"#6ece58\"], [0.8888888888888888, \"#b5de2b\"], [1.0, \"#fde725\"]], \"type\": \"surface\"}], \"table\": [{\"cells\": {\"fill\": {\"color\": \"rgb(237,237,237)\"}, \"line\": {\"color\": \"white\"}}, \"header\": {\"fill\": {\"color\": \"rgb(217,217,217)\"}, \"line\": {\"color\": \"white\"}}, \"type\": \"table\"}]}, \"layout\": {\"annotationdefaults\": {\"arrowhead\": 0, \"arrowwidth\": 1}, \"autotypenumbers\": \"strict\", \"coloraxis\": {\"colorbar\": {\"outlinewidth\": 1, \"tickcolor\": \"rgb(36,36,36)\", \"ticks\": \"outside\"}}, \"colorscale\": {\"diverging\": [[0.0, \"rgb(103,0,31)\"], [0.1, \"rgb(178,24,43)\"], [0.2, \"rgb(214,96,77)\"], [0.3, \"rgb(244,165,130)\"], [0.4, \"rgb(253,219,199)\"], [0.5, \"rgb(247,247,247)\"], [0.6, \"rgb(209,229,240)\"], [0.7, \"rgb(146,197,222)\"], [0.8, \"rgb(67,147,195)\"], [0.9, \"rgb(33,102,172)\"], [1.0, \"rgb(5,48,97)\"]], \"sequential\": [[0.0, \"#440154\"], [0.1111111111111111, \"#482878\"], [0.2222222222222222, \"#3e4989\"], [0.3333333333333333, \"#31688e\"], [0.4444444444444444, \"#26828e\"], [0.5555555555555556, \"#1f9e89\"], [0.6666666666666666, \"#35b779\"], [0.7777777777777778, \"#6ece58\"], [0.8888888888888888, \"#b5de2b\"], [1.0, \"#fde725\"]], \"sequentialminus\": [[0.0, \"#440154\"], [0.1111111111111111, \"#482878\"], [0.2222222222222222, \"#3e4989\"], [0.3333333333333333, \"#31688e\"], [0.4444444444444444, \"#26828e\"], [0.5555555555555556, \"#1f9e89\"], [0.6666666666666666, \"#35b779\"], [0.7777777777777778, \"#6ece58\"], [0.8888888888888888, \"#b5de2b\"], [1.0, \"#fde725\"]]}, \"colorway\": [\"#1F77B4\", \"#FF7F0E\", \"#2CA02C\", \"#D62728\", \"#9467BD\", \"#8C564B\", \"#E377C2\", \"#7F7F7F\", \"#BCBD22\", \"#17BECF\"], \"font\": {\"color\": \"rgb(36,36,36)\"}, \"geo\": {\"bgcolor\": \"white\", \"lakecolor\": \"white\", \"landcolor\": \"white\", \"showlakes\": true, \"showland\": true, \"subunitcolor\": \"white\"}, \"hoverlabel\": {\"align\": \"left\"}, \"hovermode\": \"closest\", \"mapbox\": {\"style\": \"light\"}, \"margin\": {\"b\": 0, \"l\": 20, \"r\": 20, \"t\": 40}, \"paper_bgcolor\": \"white\", \"plot_bgcolor\": \"white\", \"polar\": {\"angularaxis\": {\"gridcolor\": \"rgb(232,232,232)\", \"linecolor\": \"rgb(36,36,36)\", \"showgrid\": false, \"showline\": true, \"ticks\": \"outside\"}, \"bgcolor\": \"white\", \"radialaxis\": {\"gridcolor\": \"rgb(232,232,232)\", \"linecolor\": \"rgb(36,36,36)\", \"showgrid\": false, \"showline\": true, \"ticks\": \"outside\"}}, \"scene\": {\"xaxis\": {\"backgroundcolor\": \"white\", \"gridcolor\": \"rgb(232,232,232)\", \"gridwidth\": 2, \"linecolor\": \"rgb(36,36,36)\", \"showbackground\": true, \"showgrid\": false, \"showline\": true, \"ticks\": \"outside\", \"zeroline\": false, \"zerolinecolor\": \"rgb(36,36,36)\"}, \"yaxis\": {\"backgroundcolor\": \"white\", \"gridcolor\": \"rgb(232,232,232)\", \"gridwidth\": 2, \"linecolor\": \"rgb(36,36,36)\", \"showbackground\": true, \"showgrid\": false, \"showline\": true, \"ticks\": \"outside\", \"zeroline\": false, \"zerolinecolor\": \"rgb(36,36,36)\"}, \"zaxis\": {\"backgroundcolor\": \"white\", \"gridcolor\": \"rgb(232,232,232)\", \"gridwidth\": 2, \"linecolor\": \"rgb(36,36,36)\", \"showbackground\": true, \"showgrid\": false, \"showline\": true, \"ticks\": \"outside\", \"zeroline\": false, \"zerolinecolor\": \"rgb(36,36,36)\"}}, \"shapedefaults\": {\"fillcolor\": \"black\", \"line\": {\"width\": 0}, \"opacity\": 0.3}, \"ternary\": {\"aaxis\": {\"gridcolor\": \"rgb(232,232,232)\", \"linecolor\": \"rgb(36,36,36)\", \"showgrid\": false, \"showline\": true, \"ticks\": \"outside\"}, \"baxis\": {\"gridcolor\": \"rgb(232,232,232)\", \"linecolor\": \"rgb(36,36,36)\", \"showgrid\": false, \"showline\": true, \"ticks\": \"outside\"}, \"bgcolor\": \"white\", \"caxis\": {\"gridcolor\": \"rgb(232,232,232)\", \"linecolor\": \"rgb(36,36,36)\", \"showgrid\": false, \"showline\": true, \"ticks\": \"outside\"}}, \"title\": {\"x\": 0.05}, \"xaxis\": {\"automargin\": true, \"gridcolor\": \"rgb(232,232,232)\", \"linecolor\": \"rgb(36,36,36)\", \"showgrid\": false, \"showline\": true, \"ticks\": \"outside\", \"title\": {\"standoff\": 15}, \"zeroline\": false, \"zerolinecolor\": \"rgb(36,36,36)\"}, \"yaxis\": {\"automargin\": true, \"gridcolor\": \"rgb(232,232,232)\", \"linecolor\": \"rgb(36,36,36)\", \"showgrid\": false, \"showline\": true, \"ticks\": \"outside\", \"title\": {\"standoff\": 15}, \"zeroline\": false, \"zerolinecolor\": \"rgb(36,36,36)\"}}}, \"title\": {\"text\": \"$\\\\text{(4) Simulated Data With Noise - Fitting Polynomials of Different Degrees}$\"}, \"xaxis\": {\"anchor\": \"y\", \"domain\": [0.0, 0.2888888888888889]}, \"xaxis2\": {\"anchor\": \"y2\", \"domain\": [0.35555555555555557, 0.6444444444444445]}, \"xaxis3\": {\"anchor\": \"y3\", \"domain\": [0.7111111111111111, 1.0]}, \"xaxis4\": {\"anchor\": \"y4\", \"domain\": [0.0, 0.2888888888888889]}, \"xaxis5\": {\"anchor\": \"y5\", \"domain\": [0.35555555555555557, 0.6444444444444445]}, \"xaxis6\": {\"anchor\": \"y6\", \"domain\": [0.7111111111111111, 1.0]}, \"yaxis\": {\"anchor\": \"x\", \"domain\": [0.625, 1.0]}, \"yaxis2\": {\"anchor\": \"x2\", \"domain\": [0.625, 1.0]}, \"yaxis3\": {\"anchor\": \"x3\", \"domain\": [0.625, 1.0]}, \"yaxis4\": {\"anchor\": \"x4\", \"domain\": [0.0, 0.375]}, \"yaxis5\": {\"anchor\": \"x5\", \"domain\": [0.0, 0.375]}, \"yaxis6\": {\"anchor\": \"x6\", \"domain\": [0.0, 0.375]}},                        {\"responsive\": true}                    ).then(function(){\n",
       "                            \n",
       "var gd = document.getElementById('b107f3b2-2469-4474-9933-1bd4b9460079');\n",
       "var x = new MutationObserver(function (mutations, observer) {{\n",
       "        var display = window.getComputedStyle(gd).display;\n",
       "        if (!display || display === 'none') {{\n",
       "            console.log([gd, 'removed!']);\n",
       "            Plotly.purge(gd);\n",
       "            observer.disconnect();\n",
       "        }}\n",
       "}});\n",
       "\n",
       "// Listen for the removal of the full notebook cells\n",
       "var notebookContainer = gd.closest('#notebook-container');\n",
       "if (notebookContainer) {{\n",
       "    x.observe(notebookContainer, {childList: true});\n",
       "}}\n",
       "\n",
       "// Listen for the clearing of the current output cell\n",
       "var outputEl = gd.closest('.output');\n",
       "if (outputEl) {{\n",
       "    x.observe(outputEl, {childList: true});\n",
       "}}\n",
       "\n",
       "                        })                };                });            </script>        </div>"
      ]
     },
     "metadata": {},
     "output_type": "display_data"
    }
   ],
   "source": [
    "y = y_ + np.random.normal(size=len(y_))\n",
    "\n",
    "ks = range(2, 8)\n",
    "fig = make_subplots(2, 3, subplot_titles=list(ks))\n",
    "for i, k in enumerate(ks):\n",
    "    r,c = i//3+1, i%3+1 \n",
    "    \n",
    "    y_hat = make_pipeline(PolynomialFeatures(k), LinearRegression()).fit(X, y).predict(X)\n",
    "    fig.add_traces([go.Scatter(x=x, y=y_, mode=\"markers\", name=\"Real Points\",  marker=dict(color=\"black\", opacity=.7), showlegend=False),\n",
    "                    go.Scatter(x=x, y=y, mode=\"markers\", name=\"Observed Points\",  marker=dict(color=\"red\", opacity=.7), showlegend=False), \n",
    "                    go.Scatter(x=x, y=y_hat, mode=\"markers\", name=\"Predicted Points\",  marker=dict(color=\"blue\", opacity=.7), showlegend=False)], rows=r, cols=c)\n",
    "    fig[\"layout\"][\"annotations\"][i][\"text\"] = rf\"$k={{0}}, MSE={{1}}$\".format(k, round(np.mean((y-y_hat)**2), 2))\n",
    "\n",
    "fig.update_layout(title=r\"$\\text{(4) Simulated Data With Noise - Fitting Polynomials of Different Degrees}$\", margin=dict(t=80)).show()"
   ]
  },
  {
   "cell_type": "markdown",
   "metadata": {
    "pycharm": {
     "name": "#%% md\n"
    }
   },
   "source": [
    "How is it that we are able to fit \"better\" models for $k$s larger than the true one? As we increase $k$ we enable the model\n",
    "more \"degrees of freedom\" to try and adapt itself to the observed data. The higher $k$ the more the learner will \"go after\n",
    "the noise\" and miss the real signal of the data. In other words, what we have just observed is what is known as **overfitting**.\n",
    "\n",
    "Later in the course we will learn methods for detection and avoidance of overfitting.\n",
    "\n",
    "\n",
    "## Fitting Polynomial Over Different Sample Noise Levels\n",
    "\n",
    "Next, let us set $k=4$ (the true values) and study the outputted models when training over different noise levels. Though\n",
    "we will only be changing the scale of the noise (i.e. the variance, $\\sigma^2$), changing other properties such as it's\n",
    "distribution is interesting too. As we would expect, as we increase the scale of the noise our error increases. We can\n",
    "observe this also in a visual manner, where the fitted polynomial (in blue) less and less resembles the actual (in black)."
   ]
  },
  {
   "cell_type": "code",
   "execution_count": 19,
   "metadata": {
    "pycharm": {
     "is_executing": false,
     "name": "#%%\n"
    }
   },
   "outputs": [
    {
     "data": {
      "application/vnd.plotly.v1+json": {
       "config": {
        "plotlyServerURL": "https://plot.ly"
       },
       "data": [
        {
         "marker": {
          "color": "black",
          "opacity": 0.7
         },
         "mode": "markers",
         "name": "Real Points",
         "showlegend": false,
         "type": "scatter",
         "x": [
          -1.2,
          -1.031578947368421,
          -0.8631578947368421,
          -0.6947368421052631,
          -0.5263157894736842,
          -0.35789473684210527,
          -0.18947368421052624,
          -0.021052631578947434,
          0.1473684210526316,
          0.3157894736842106,
          0.4842105263157894,
          0.6526315789473685,
          0.8210526315789475,
          0.9894736842105265,
          1.157894736842105,
          1.3263157894736841,
          1.4947368421052631,
          1.6631578947368422,
          1.8315789473684212,
          2
         ],
         "xaxis": "x",
         "y": [
          5.8096,
          3.7958686136539765,
          2.4687431311914425,
          1.6622727081590838,
          1.229817143821794,
          1.0440468811626675,
          0.9969430068830043,
          0.9997972514023066,
          0.9832119888582806,
          0.8971002371068362,
          0.7106856577220864,
          0.41250255599634744,
          0.010395880940139768,
          -0.46847877471781274,
          -0.9776551745305817,
          -1.4513564383330393,
          -1.8044950422418493,
          -1.9326728186554742,
          -1.7121809562541719,
          -1
         ],
         "yaxis": "y"
        },
        {
         "marker": {
          "color": "red",
          "opacity": 0.7
         },
         "mode": "markers",
         "name": "Observed Points",
         "showlegend": false,
         "type": "scatter",
         "x": [
          -1.2,
          -1.031578947368421,
          -0.8631578947368421,
          -0.6947368421052631,
          -0.5263157894736842,
          -0.35789473684210527,
          -0.18947368421052624,
          -0.021052631578947434,
          0.1473684210526316,
          0.3157894736842106,
          0.4842105263157894,
          0.6526315789473685,
          0.8210526315789475,
          0.9894736842105265,
          1.157894736842105,
          1.3263157894736841,
          1.4947368421052631,
          1.6631578947368422,
          1.8315789473684212,
          2
         ],
         "xaxis": "x",
         "y": [
          5.8096,
          3.7958686136539765,
          2.4687431311914425,
          1.6622727081590838,
          1.229817143821794,
          1.0440468811626675,
          0.9969430068830043,
          0.9997972514023066,
          0.9832119888582806,
          0.8971002371068362,
          0.7106856577220864,
          0.41250255599634744,
          0.010395880940139768,
          -0.46847877471781274,
          -0.9776551745305817,
          -1.4513564383330393,
          -1.8044950422418493,
          -1.9326728186554742,
          -1.7121809562541719,
          -1
         ],
         "yaxis": "y"
        },
        {
         "marker": {
          "color": "blue",
          "opacity": 0.7
         },
         "mode": "markers",
         "name": "Predicted Points",
         "showlegend": false,
         "type": "scatter",
         "x": [
          -1.2,
          -1.031578947368421,
          -0.8631578947368421,
          -0.6947368421052631,
          -0.5263157894736842,
          -0.35789473684210527,
          -0.18947368421052624,
          -0.021052631578947434,
          0.1473684210526316,
          0.3157894736842106,
          0.4842105263157894,
          0.6526315789473685,
          0.8210526315789475,
          0.9894736842105265,
          1.157894736842105,
          1.3263157894736841,
          1.4947368421052631,
          1.6631578947368422,
          1.8315789473684212,
          2
         ],
         "xaxis": "x",
         "y": [
          5.809600000000003,
          3.7958686136539788,
          2.4687431311914447,
          1.6622727081590853,
          1.2298171438217944,
          1.044046881162668,
          0.9969430068830044,
          0.9997972514023066,
          0.9832119888582806,
          0.897100237106836,
          0.7106856577220861,
          0.4125025559963471,
          0.010395880940139546,
          -0.4684787747178132,
          -0.9776551745305824,
          -1.4513564383330388,
          -1.8044950422418502,
          -1.9326728186554734,
          -1.7121809562541745,
          -1
         ],
         "yaxis": "y"
        },
        {
         "marker": {
          "color": "black",
          "opacity": 0.7
         },
         "mode": "markers",
         "name": "Real Points",
         "showlegend": false,
         "type": "scatter",
         "x": [
          -1.2,
          -1.031578947368421,
          -0.8631578947368421,
          -0.6947368421052631,
          -0.5263157894736842,
          -0.35789473684210527,
          -0.18947368421052624,
          -0.021052631578947434,
          0.1473684210526316,
          0.3157894736842106,
          0.4842105263157894,
          0.6526315789473685,
          0.8210526315789475,
          0.9894736842105265,
          1.157894736842105,
          1.3263157894736841,
          1.4947368421052631,
          1.6631578947368422,
          1.8315789473684212,
          2
         ],
         "xaxis": "x2",
         "y": [
          5.8096,
          3.7958686136539765,
          2.4687431311914425,
          1.6622727081590838,
          1.229817143821794,
          1.0440468811626675,
          0.9969430068830043,
          0.9997972514023066,
          0.9832119888582806,
          0.8971002371068362,
          0.7106856577220864,
          0.41250255599634744,
          0.010395880940139768,
          -0.46847877471781274,
          -0.9776551745305817,
          -1.4513564383330393,
          -1.8044950422418493,
          -1.9326728186554742,
          -1.7121809562541719,
          -1
         ],
         "yaxis": "y2"
        },
        {
         "marker": {
          "color": "red",
          "opacity": 0.7
         },
         "mode": "markers",
         "name": "Observed Points",
         "showlegend": false,
         "type": "scatter",
         "x": [
          -1.2,
          -1.031578947368421,
          -0.8631578947368421,
          -0.6947368421052631,
          -0.5263157894736842,
          -0.35789473684210527,
          -0.18947368421052624,
          -0.021052631578947434,
          0.1473684210526316,
          0.3157894736842106,
          0.4842105263157894,
          0.6526315789473685,
          0.8210526315789475,
          0.9894736842105265,
          1.157894736842105,
          1.3263157894736841,
          1.4947368421052631,
          1.6631578947368422,
          1.8315789473684212,
          2
         ],
         "xaxis": "x2",
         "y": [
          6.213848898354761,
          5.061141624209022,
          2.823446219671817,
          1.2410010089417047,
          0.9833904886948923,
          1.1877651645816663,
          1.8306907285732197,
          2.3243336844226383,
          0.9414749000737137,
          -0.34293247638804236,
          2.178907519796229,
          1.5385557864828745,
          0.5280402229618043,
          1.2656511079142654,
          -1.7588798283607106,
          -1.850512045501899,
          -0.8246071108255094,
          -1.762889021460804,
          -2.2407122122847105,
          0.10700163638004456
         ],
         "yaxis": "y2"
        },
        {
         "marker": {
          "color": "blue",
          "opacity": 0.7
         },
         "mode": "markers",
         "name": "Predicted Points",
         "showlegend": false,
         "type": "scatter",
         "x": [
          -1.2,
          -1.031578947368421,
          -0.8631578947368421,
          -0.6947368421052631,
          -0.5263157894736842,
          -0.35789473684210527,
          -0.18947368421052624,
          -0.021052631578947434,
          0.1473684210526316,
          0.3157894736842106,
          0.4842105263157894,
          0.6526315789473685,
          0.8210526315789475,
          0.9894736842105265,
          1.157894736842105,
          1.3263157894736841,
          1.4947368421052631,
          1.6631578947368422,
          1.8315789473684212,
          2
         ],
         "xaxis": "x2",
         "y": [
          6.727579186434841,
          4.2207808846500505,
          2.630724572488357,
          1.7313850399990256,
          1.3232586899730516,
          1.2333635379431436,
          1.3152392121837289,
          1.4489469537109523,
          1.5410696162826778,
          1.5247116663984863,
          1.3594991832996774,
          1.0315798589692677,
          0.5536229981319929,
          -0.035180481745693326,
          -0.6691180504556191,
          -1.2559555650478973,
          -1.6769372698309197,
          -1.7867857963713598,
          -1.4137021634941769,
          -0.35936577728260644
         ],
         "yaxis": "y2"
        },
        {
         "marker": {
          "color": "black",
          "opacity": 0.7
         },
         "mode": "markers",
         "name": "Real Points",
         "showlegend": false,
         "type": "scatter",
         "x": [
          -1.2,
          -1.031578947368421,
          -0.8631578947368421,
          -0.6947368421052631,
          -0.5263157894736842,
          -0.35789473684210527,
          -0.18947368421052624,
          -0.021052631578947434,
          0.1473684210526316,
          0.3157894736842106,
          0.4842105263157894,
          0.6526315789473685,
          0.8210526315789475,
          0.9894736842105265,
          1.157894736842105,
          1.3263157894736841,
          1.4947368421052631,
          1.6631578947368422,
          1.8315789473684212,
          2
         ],
         "xaxis": "x3",
         "y": [
          5.8096,
          3.7958686136539765,
          2.4687431311914425,
          1.6622727081590838,
          1.229817143821794,
          1.0440468811626675,
          0.9969430068830043,
          0.9997972514023066,
          0.9832119888582806,
          0.8971002371068362,
          0.7106856577220864,
          0.41250255599634744,
          0.010395880940139768,
          -0.46847877471781274,
          -0.9776551745305817,
          -1.4513564383330393,
          -1.8044950422418493,
          -1.9326728186554742,
          -1.7121809562541719,
          -1
         ],
         "yaxis": "y3"
        },
        {
         "marker": {
          "color": "red",
          "opacity": 0.7
         },
         "mode": "markers",
         "name": "Observed Points",
         "showlegend": false,
         "type": "scatter",
         "x": [
          -1.2,
          -1.031578947368421,
          -0.8631578947368421,
          -0.6947368421052631,
          -0.5263157894736842,
          -0.35789473684210527,
          -0.18947368421052624,
          -0.021052631578947434,
          0.1473684210526316,
          0.3157894736842106,
          0.4842105263157894,
          0.6526315789473685,
          0.8210526315789475,
          0.9894736842105265,
          1.157894736842105,
          1.3263157894736841,
          1.4947368421052631,
          1.6631578947368422,
          1.8315789473684212,
          2
         ],
         "xaxis": "x3",
         "y": [
          7.488311933932348,
          5.309173500537815,
          3.0532327895993503,
          3.0779429719783673,
          2.852619629427374,
          -0.12368014464836596,
          2.4902187805697227,
          2.194947299240547,
          1.9582983534530167,
          1.0556357770035014,
          5.258389618700784,
          1.62627107583259,
          0.5417596192150584,
          2.929024506448329,
          1.6162109463752927,
          -0.24690835130982758,
          2.157169563187572,
          0.9714497796665786,
          -3.23190946238939,
          -2.081542772712167
         ],
         "yaxis": "y3"
        },
        {
         "marker": {
          "color": "blue",
          "opacity": 0.7
         },
         "mode": "markers",
         "name": "Predicted Points",
         "showlegend": false,
         "type": "scatter",
         "x": [
          -1.2,
          -1.031578947368421,
          -0.8631578947368421,
          -0.6947368421052631,
          -0.5263157894736842,
          -0.35789473684210527,
          -0.18947368421052624,
          -0.021052631578947434,
          0.1473684210526316,
          0.3157894736842106,
          0.4842105263157894,
          0.6526315789473685,
          0.8210526315789475,
          0.9894736842105265,
          1.157894736842105,
          1.3263157894736841,
          1.4947368421052631,
          1.6631578947368422,
          1.8315789473684212,
          2
         ],
         "xaxis": "x3",
         "y": [
          7.408934036798436,
          5.201489725900176,
          3.6484501520742407,
          2.629739092647528,
          2.0346895259491085,
          1.7620436313102092,
          1.719952789064219,
          1.8259775805466878,
          2.007087788095328,
          2.1996623950500105,
          2.34948958575277,
          2.4117667455478013,
          2.3511004607814594,
          2.141506518802262,
          1.7664099079608875,
          1.2186448176101747,
          0.5004546381051236,
          -0.37650803919710385,
          -1.3911814219371863,
          -2.513094516753637
         ],
         "yaxis": "y3"
        },
        {
         "marker": {
          "color": "black",
          "opacity": 0.7
         },
         "mode": "markers",
         "name": "Real Points",
         "showlegend": false,
         "type": "scatter",
         "x": [
          -1.2,
          -1.031578947368421,
          -0.8631578947368421,
          -0.6947368421052631,
          -0.5263157894736842,
          -0.35789473684210527,
          -0.18947368421052624,
          -0.021052631578947434,
          0.1473684210526316,
          0.3157894736842106,
          0.4842105263157894,
          0.6526315789473685,
          0.8210526315789475,
          0.9894736842105265,
          1.157894736842105,
          1.3263157894736841,
          1.4947368421052631,
          1.6631578947368422,
          1.8315789473684212,
          2
         ],
         "xaxis": "x4",
         "y": [
          5.8096,
          3.7958686136539765,
          2.4687431311914425,
          1.6622727081590838,
          1.229817143821794,
          1.0440468811626675,
          0.9969430068830043,
          0.9997972514023066,
          0.9832119888582806,
          0.8971002371068362,
          0.7106856577220864,
          0.41250255599634744,
          0.010395880940139768,
          -0.46847877471781274,
          -0.9776551745305817,
          -1.4513564383330393,
          -1.8044950422418493,
          -1.9326728186554742,
          -1.7121809562541719,
          -1
         ],
         "yaxis": "y4"
        },
        {
         "marker": {
          "color": "red",
          "opacity": 0.7
         },
         "mode": "markers",
         "name": "Observed Points",
         "showlegend": false,
         "type": "scatter",
         "x": [
          -1.2,
          -1.031578947368421,
          -0.8631578947368421,
          -0.6947368421052631,
          -0.5263157894736842,
          -0.35789473684210527,
          -0.18947368421052624,
          -0.021052631578947434,
          0.1473684210526316,
          0.3157894736842106,
          0.4842105263157894,
          0.6526315789473685,
          0.8210526315789475,
          0.9894736842105265,
          1.157894736842105,
          1.3263157894736841,
          1.4947368421052631,
          1.6631578947368422,
          1.8315789473684212,
          2
         ],
         "xaxis": "x4",
         "y": [
          7.045575085044448,
          5.028329412478309,
          3.982022181393507,
          1.6902737594973594,
          4.129248368072139,
          3.5518695471685597,
          -3.2901403943147454,
          2.210801822873969,
          2.690739381946397,
          -1.6246013081187176,
          2.978056832521487,
          -1.795589521832135,
          5.000007196405321,
          2.562380878090784,
          -2.7031548752378756,
          0.9421082817191788,
          0.5590284438682867,
          -2.8390639245643454,
          -5.195934568627687,
          -3.5079191906008194
         ],
         "yaxis": "y4"
        },
        {
         "marker": {
          "color": "blue",
          "opacity": 0.7
         },
         "mode": "markers",
         "name": "Predicted Points",
         "showlegend": false,
         "type": "scatter",
         "x": [
          -1.2,
          -1.031578947368421,
          -0.8631578947368421,
          -0.6947368421052631,
          -0.5263157894736842,
          -0.35789473684210527,
          -0.18947368421052624,
          -0.021052631578947434,
          0.1473684210526316,
          0.3157894736842106,
          0.4842105263157894,
          0.6526315789473685,
          0.8210526315789475,
          0.9894736842105265,
          1.157894736842105,
          1.3263157894736841,
          1.4947368421052631,
          1.6631578947368422,
          1.8315789473684212,
          2
         ],
         "xaxis": "x4",
         "y": [
          7.146743148134482,
          5.21897040916223,
          3.759942184914072,
          2.70022066682029,
          1.9733874884283424,
          1.516043725402858,
          1.2678098955256356,
          1.171325958695646,
          1.1722513169290307,
          1.2192648143591032,
          1.2640647372363474,
          1.2613688139284183,
          1.1689142149201428,
          0.9474575528135181,
          0.5607748823277143,
          -0.024338299700929822,
          -0.8380670543189044,
          -1.9075770004555246,
          -3.257014314922941,
          -4.907505732416119
         ],
         "yaxis": "y4"
        },
        {
         "marker": {
          "color": "black",
          "opacity": 0.7
         },
         "mode": "markers",
         "name": "Real Points",
         "showlegend": false,
         "type": "scatter",
         "x": [
          -1.2,
          -1.031578947368421,
          -0.8631578947368421,
          -0.6947368421052631,
          -0.5263157894736842,
          -0.35789473684210527,
          -0.18947368421052624,
          -0.021052631578947434,
          0.1473684210526316,
          0.3157894736842106,
          0.4842105263157894,
          0.6526315789473685,
          0.8210526315789475,
          0.9894736842105265,
          1.157894736842105,
          1.3263157894736841,
          1.4947368421052631,
          1.6631578947368422,
          1.8315789473684212,
          2
         ],
         "xaxis": "x5",
         "y": [
          5.8096,
          3.7958686136539765,
          2.4687431311914425,
          1.6622727081590838,
          1.229817143821794,
          1.0440468811626675,
          0.9969430068830043,
          0.9997972514023066,
          0.9832119888582806,
          0.8971002371068362,
          0.7106856577220864,
          0.41250255599634744,
          0.010395880940139768,
          -0.46847877471781274,
          -0.9776551745305817,
          -1.4513564383330393,
          -1.8044950422418493,
          -1.9326728186554742,
          -1.7121809562541719,
          -1
         ],
         "yaxis": "y5"
        },
        {
         "marker": {
          "color": "red",
          "opacity": 0.7
         },
         "mode": "markers",
         "name": "Observed Points",
         "showlegend": false,
         "type": "scatter",
         "x": [
          -1.2,
          -1.031578947368421,
          -0.8631578947368421,
          -0.6947368421052631,
          -0.5263157894736842,
          -0.35789473684210527,
          -0.18947368421052624,
          -0.021052631578947434,
          0.1473684210526316,
          0.3157894736842106,
          0.4842105263157894,
          0.6526315789473685,
          0.8210526315789475,
          0.9894736842105265,
          1.157894736842105,
          1.3263157894736841,
          1.4947368421052631,
          1.6631578947368422,
          1.8315789473684212,
          2
         ],
         "xaxis": "x5",
         "y": [
          5.582307437886745,
          0.5807965365171608,
          1.3910470155297305,
          -1.8144077531002691,
          5.930498261066223,
          -0.8856756806549266,
          3.199971458768986,
          3.4801018183284222,
          -1.216442084464395,
          6.603950833999765,
          -0.026223656325129796,
          1.1849685940396448,
          -2.1955800516065618,
          -6.674136861210961,
          -2.523041151590019,
          -1.5055045572782744,
          0.19751447667367827,
          -8.601100595186857,
          -11.635028430510534,
          0.9198576012429387
         ],
         "yaxis": "y5"
        },
        {
         "marker": {
          "color": "blue",
          "opacity": 0.7
         },
         "mode": "markers",
         "name": "Predicted Points",
         "showlegend": false,
         "type": "scatter",
         "x": [
          -1.2,
          -1.031578947368421,
          -0.8631578947368421,
          -0.6947368421052631,
          -0.5263157894736842,
          -0.35789473684210527,
          -0.18947368421052624,
          -0.021052631578947434,
          0.1473684210526316,
          0.3157894736842106,
          0.4842105263157894,
          0.6526315789473685,
          0.8210526315789475,
          0.9894736842105265,
          1.157894736842105,
          1.3263157894736841,
          1.4947368421052631,
          1.6631578947368422,
          1.8315789473684212,
          2
         ],
         "xaxis": "x5",
         "y": [
          4.4346074615394055,
          2.2243520560557988,
          1.1580289544610458,
          0.8869741672680935,
          1.1082180066962068,
          1.564485086670964,
          2.0441943228242576,
          2.381458932494291,
          2.4560864347255844,
          2.193578650268969,
          1.5651317015815915,
          0.5876360128269096,
          -0.6763236901253027,
          -2.118468379698959,
          -3.584824726611656,
          -4.875725099874687,
          -5.745807566793024,
          -5.904015892965319,
          -5.013599542283931,
          -2.692113676934874
         ],
         "yaxis": "y5"
        },
        {
         "marker": {
          "color": "black",
          "opacity": 0.7
         },
         "mode": "markers",
         "name": "Real Points",
         "showlegend": false,
         "type": "scatter",
         "x": [
          -1.2,
          -1.031578947368421,
          -0.8631578947368421,
          -0.6947368421052631,
          -0.5263157894736842,
          -0.35789473684210527,
          -0.18947368421052624,
          -0.021052631578947434,
          0.1473684210526316,
          0.3157894736842106,
          0.4842105263157894,
          0.6526315789473685,
          0.8210526315789475,
          0.9894736842105265,
          1.157894736842105,
          1.3263157894736841,
          1.4947368421052631,
          1.6631578947368422,
          1.8315789473684212,
          2
         ],
         "xaxis": "x6",
         "y": [
          5.8096,
          3.7958686136539765,
          2.4687431311914425,
          1.6622727081590838,
          1.229817143821794,
          1.0440468811626675,
          0.9969430068830043,
          0.9997972514023066,
          0.9832119888582806,
          0.8971002371068362,
          0.7106856577220864,
          0.41250255599634744,
          0.010395880940139768,
          -0.46847877471781274,
          -0.9776551745305817,
          -1.4513564383330393,
          -1.8044950422418493,
          -1.9326728186554742,
          -1.7121809562541719,
          -1
         ],
         "yaxis": "y6"
        },
        {
         "marker": {
          "color": "red",
          "opacity": 0.7
         },
         "mode": "markers",
         "name": "Observed Points",
         "showlegend": false,
         "type": "scatter",
         "x": [
          -1.2,
          -1.031578947368421,
          -0.8631578947368421,
          -0.6947368421052631,
          -0.5263157894736842,
          -0.35789473684210527,
          -0.18947368421052624,
          -0.021052631578947434,
          0.1473684210526316,
          0.3157894736842106,
          0.4842105263157894,
          0.6526315789473685,
          0.8210526315789475,
          0.9894736842105265,
          1.157894736842105,
          1.3263157894736841,
          1.4947368421052631,
          1.6631578947368422,
          1.8315789473684212,
          2
         ],
         "xaxis": "x6",
         "y": [
          -4.490606897316338,
          3.180672100342421,
          4.174795812823458,
          3.138878795562876,
          -1.3661469522672263,
          7.891028875206263,
          11.51150119932927,
          -6.639022441488978,
          -2.6069674980190225,
          -2.1975291615734127,
          -0.35454133345741745,
          2.3131698209131675,
          -1.7904194526337762,
          0.9550272327026446,
          -0.1865494642360157,
          2.068378040495992,
          -4.997087489386618,
          0.029777295216361965,
          -7.315378782121634,
          -0.6320578642282721
         ],
         "yaxis": "y6"
        },
        {
         "marker": {
          "color": "blue",
          "opacity": 0.7
         },
         "mode": "markers",
         "name": "Predicted Points",
         "showlegend": false,
         "type": "scatter",
         "x": [
          -1.2,
          -1.031578947368421,
          -0.8631578947368421,
          -0.6947368421052631,
          -0.5263157894736842,
          -0.35789473684210527,
          -0.18947368421052624,
          -0.021052631578947434,
          0.1473684210526316,
          0.3157894736842106,
          0.4842105263157894,
          0.6526315789473685,
          0.8210526315789475,
          0.9894736842105265,
          1.157894736842105,
          1.3263157894736841,
          1.4947368421052631,
          1.6631578947368422,
          1.8315789473684212,
          2
         ],
         "xaxis": "x6",
         "y": [
          -2.669401466177032,
          0.8928383900623484,
          2.9453203035455844,
          3.843673804722889,
          3.9033677144330508,
          3.3997101439034525,
          2.5678484947500633,
          1.602769458977444,
          0.6592990189787411,
          -0.14789755246430625,
          -0.7443156921813703,
          -1.095611546613536,
          -1.207601971813299,
          -1.1262645334445631,
          -0.9377375067826463,
          -0.768319876714278,
          -0.7844713377375889,
          -1.1928122939621382,
          -2.240123859108877,
          -4.2133478565101825
         ],
         "yaxis": "y6"
        }
       ],
       "layout": {
        "annotations": [
         {
          "font": {
           "size": 16
          },
          "showarrow": false,
          "text": "$\\sigma^2=0, MSE=0.0$",
          "x": 0.14444444444444446,
          "xanchor": "center",
          "xref": "paper",
          "y": 1,
          "yanchor": "bottom",
          "yref": "paper"
         },
         {
          "font": {
           "size": 16
          },
          "showarrow": false,
          "text": "$\\sigma^2=1, MSE=0.6$",
          "x": 0.5,
          "xanchor": "center",
          "xref": "paper",
          "y": 1,
          "yanchor": "bottom",
          "yref": "paper"
         },
         {
          "font": {
           "size": 16
          },
          "showarrow": false,
          "text": "$\\sigma^2=2, MSE=1.51$",
          "x": 0.8555555555555556,
          "xanchor": "center",
          "xref": "paper",
          "y": 1,
          "yanchor": "bottom",
          "yref": "paper"
         },
         {
          "font": {
           "size": 16
          },
          "showarrow": false,
          "text": "$\\sigma^2=3, MSE=4.59$",
          "x": 0.14444444444444446,
          "xanchor": "center",
          "xref": "paper",
          "y": 0.375,
          "yanchor": "bottom",
          "yref": "paper"
         },
         {
          "font": {
           "size": 16
          },
          "showarrow": false,
          "text": "$\\sigma^2=4, MSE=10.7$",
          "x": 0.5,
          "xanchor": "center",
          "xref": "paper",
          "y": 0.375,
          "yanchor": "bottom",
          "yref": "paper"
         },
         {
          "font": {
           "size": 16
          },
          "showarrow": false,
          "text": "$\\sigma^2=5, MSE=15.21$",
          "x": 0.8555555555555556,
          "xanchor": "center",
          "xref": "paper",
          "y": 0.375,
          "yanchor": "bottom",
          "yref": "paper"
         }
        ],
        "margin": {
         "t": 80
        },
        "template": {
         "data": {
          "bar": [
           {
            "error_x": {
             "color": "rgb(36,36,36)"
            },
            "error_y": {
             "color": "rgb(36,36,36)"
            },
            "marker": {
             "line": {
              "color": "white",
              "width": 0.5
             }
            },
            "type": "bar"
           }
          ],
          "barpolar": [
           {
            "marker": {
             "line": {
              "color": "white",
              "width": 0.5
             }
            },
            "type": "barpolar"
           }
          ],
          "carpet": [
           {
            "aaxis": {
             "endlinecolor": "rgb(36,36,36)",
             "gridcolor": "white",
             "linecolor": "white",
             "minorgridcolor": "white",
             "startlinecolor": "rgb(36,36,36)"
            },
            "baxis": {
             "endlinecolor": "rgb(36,36,36)",
             "gridcolor": "white",
             "linecolor": "white",
             "minorgridcolor": "white",
             "startlinecolor": "rgb(36,36,36)"
            },
            "type": "carpet"
           }
          ],
          "choropleth": [
           {
            "colorbar": {
             "outlinewidth": 1,
             "tickcolor": "rgb(36,36,36)",
             "ticks": "outside"
            },
            "type": "choropleth"
           }
          ],
          "contour": [
           {
            "colorbar": {
             "outlinewidth": 1,
             "tickcolor": "rgb(36,36,36)",
             "ticks": "outside"
            },
            "colorscale": [
             [
              0,
              "#440154"
             ],
             [
              0.1111111111111111,
              "#482878"
             ],
             [
              0.2222222222222222,
              "#3e4989"
             ],
             [
              0.3333333333333333,
              "#31688e"
             ],
             [
              0.4444444444444444,
              "#26828e"
             ],
             [
              0.5555555555555556,
              "#1f9e89"
             ],
             [
              0.6666666666666666,
              "#35b779"
             ],
             [
              0.7777777777777778,
              "#6ece58"
             ],
             [
              0.8888888888888888,
              "#b5de2b"
             ],
             [
              1,
              "#fde725"
             ]
            ],
            "type": "contour"
           }
          ],
          "contourcarpet": [
           {
            "colorbar": {
             "outlinewidth": 1,
             "tickcolor": "rgb(36,36,36)",
             "ticks": "outside"
            },
            "type": "contourcarpet"
           }
          ],
          "heatmap": [
           {
            "colorbar": {
             "outlinewidth": 1,
             "tickcolor": "rgb(36,36,36)",
             "ticks": "outside"
            },
            "colorscale": [
             [
              0,
              "#440154"
             ],
             [
              0.1111111111111111,
              "#482878"
             ],
             [
              0.2222222222222222,
              "#3e4989"
             ],
             [
              0.3333333333333333,
              "#31688e"
             ],
             [
              0.4444444444444444,
              "#26828e"
             ],
             [
              0.5555555555555556,
              "#1f9e89"
             ],
             [
              0.6666666666666666,
              "#35b779"
             ],
             [
              0.7777777777777778,
              "#6ece58"
             ],
             [
              0.8888888888888888,
              "#b5de2b"
             ],
             [
              1,
              "#fde725"
             ]
            ],
            "type": "heatmap"
           }
          ],
          "heatmapgl": [
           {
            "colorbar": {
             "outlinewidth": 1,
             "tickcolor": "rgb(36,36,36)",
             "ticks": "outside"
            },
            "colorscale": [
             [
              0,
              "#440154"
             ],
             [
              0.1111111111111111,
              "#482878"
             ],
             [
              0.2222222222222222,
              "#3e4989"
             ],
             [
              0.3333333333333333,
              "#31688e"
             ],
             [
              0.4444444444444444,
              "#26828e"
             ],
             [
              0.5555555555555556,
              "#1f9e89"
             ],
             [
              0.6666666666666666,
              "#35b779"
             ],
             [
              0.7777777777777778,
              "#6ece58"
             ],
             [
              0.8888888888888888,
              "#b5de2b"
             ],
             [
              1,
              "#fde725"
             ]
            ],
            "type": "heatmapgl"
           }
          ],
          "histogram": [
           {
            "marker": {
             "line": {
              "color": "white",
              "width": 0.6
             }
            },
            "type": "histogram"
           }
          ],
          "histogram2d": [
           {
            "colorbar": {
             "outlinewidth": 1,
             "tickcolor": "rgb(36,36,36)",
             "ticks": "outside"
            },
            "colorscale": [
             [
              0,
              "#440154"
             ],
             [
              0.1111111111111111,
              "#482878"
             ],
             [
              0.2222222222222222,
              "#3e4989"
             ],
             [
              0.3333333333333333,
              "#31688e"
             ],
             [
              0.4444444444444444,
              "#26828e"
             ],
             [
              0.5555555555555556,
              "#1f9e89"
             ],
             [
              0.6666666666666666,
              "#35b779"
             ],
             [
              0.7777777777777778,
              "#6ece58"
             ],
             [
              0.8888888888888888,
              "#b5de2b"
             ],
             [
              1,
              "#fde725"
             ]
            ],
            "type": "histogram2d"
           }
          ],
          "histogram2dcontour": [
           {
            "colorbar": {
             "outlinewidth": 1,
             "tickcolor": "rgb(36,36,36)",
             "ticks": "outside"
            },
            "colorscale": [
             [
              0,
              "#440154"
             ],
             [
              0.1111111111111111,
              "#482878"
             ],
             [
              0.2222222222222222,
              "#3e4989"
             ],
             [
              0.3333333333333333,
              "#31688e"
             ],
             [
              0.4444444444444444,
              "#26828e"
             ],
             [
              0.5555555555555556,
              "#1f9e89"
             ],
             [
              0.6666666666666666,
              "#35b779"
             ],
             [
              0.7777777777777778,
              "#6ece58"
             ],
             [
              0.8888888888888888,
              "#b5de2b"
             ],
             [
              1,
              "#fde725"
             ]
            ],
            "type": "histogram2dcontour"
           }
          ],
          "mesh3d": [
           {
            "colorbar": {
             "outlinewidth": 1,
             "tickcolor": "rgb(36,36,36)",
             "ticks": "outside"
            },
            "type": "mesh3d"
           }
          ],
          "parcoords": [
           {
            "line": {
             "colorbar": {
              "outlinewidth": 1,
              "tickcolor": "rgb(36,36,36)",
              "ticks": "outside"
             }
            },
            "type": "parcoords"
           }
          ],
          "pie": [
           {
            "automargin": true,
            "type": "pie"
           }
          ],
          "scatter": [
           {
            "marker": {
             "colorbar": {
              "outlinewidth": 1,
              "tickcolor": "rgb(36,36,36)",
              "ticks": "outside"
             }
            },
            "type": "scatter"
           }
          ],
          "scatter3d": [
           {
            "line": {
             "colorbar": {
              "outlinewidth": 1,
              "tickcolor": "rgb(36,36,36)",
              "ticks": "outside"
             }
            },
            "marker": {
             "colorbar": {
              "outlinewidth": 1,
              "tickcolor": "rgb(36,36,36)",
              "ticks": "outside"
             }
            },
            "type": "scatter3d"
           }
          ],
          "scattercarpet": [
           {
            "marker": {
             "colorbar": {
              "outlinewidth": 1,
              "tickcolor": "rgb(36,36,36)",
              "ticks": "outside"
             }
            },
            "type": "scattercarpet"
           }
          ],
          "scattergeo": [
           {
            "marker": {
             "colorbar": {
              "outlinewidth": 1,
              "tickcolor": "rgb(36,36,36)",
              "ticks": "outside"
             }
            },
            "type": "scattergeo"
           }
          ],
          "scattergl": [
           {
            "marker": {
             "colorbar": {
              "outlinewidth": 1,
              "tickcolor": "rgb(36,36,36)",
              "ticks": "outside"
             }
            },
            "type": "scattergl"
           }
          ],
          "scattermapbox": [
           {
            "marker": {
             "colorbar": {
              "outlinewidth": 1,
              "tickcolor": "rgb(36,36,36)",
              "ticks": "outside"
             }
            },
            "type": "scattermapbox"
           }
          ],
          "scatterpolar": [
           {
            "marker": {
             "colorbar": {
              "outlinewidth": 1,
              "tickcolor": "rgb(36,36,36)",
              "ticks": "outside"
             }
            },
            "type": "scatterpolar"
           }
          ],
          "scatterpolargl": [
           {
            "marker": {
             "colorbar": {
              "outlinewidth": 1,
              "tickcolor": "rgb(36,36,36)",
              "ticks": "outside"
             }
            },
            "type": "scatterpolargl"
           }
          ],
          "scatterternary": [
           {
            "marker": {
             "colorbar": {
              "outlinewidth": 1,
              "tickcolor": "rgb(36,36,36)",
              "ticks": "outside"
             }
            },
            "type": "scatterternary"
           }
          ],
          "surface": [
           {
            "colorbar": {
             "outlinewidth": 1,
             "tickcolor": "rgb(36,36,36)",
             "ticks": "outside"
            },
            "colorscale": [
             [
              0,
              "#440154"
             ],
             [
              0.1111111111111111,
              "#482878"
             ],
             [
              0.2222222222222222,
              "#3e4989"
             ],
             [
              0.3333333333333333,
              "#31688e"
             ],
             [
              0.4444444444444444,
              "#26828e"
             ],
             [
              0.5555555555555556,
              "#1f9e89"
             ],
             [
              0.6666666666666666,
              "#35b779"
             ],
             [
              0.7777777777777778,
              "#6ece58"
             ],
             [
              0.8888888888888888,
              "#b5de2b"
             ],
             [
              1,
              "#fde725"
             ]
            ],
            "type": "surface"
           }
          ],
          "table": [
           {
            "cells": {
             "fill": {
              "color": "rgb(237,237,237)"
             },
             "line": {
              "color": "white"
             }
            },
            "header": {
             "fill": {
              "color": "rgb(217,217,217)"
             },
             "line": {
              "color": "white"
             }
            },
            "type": "table"
           }
          ]
         },
         "layout": {
          "annotationdefaults": {
           "arrowhead": 0,
           "arrowwidth": 1
          },
          "autotypenumbers": "strict",
          "coloraxis": {
           "colorbar": {
            "outlinewidth": 1,
            "tickcolor": "rgb(36,36,36)",
            "ticks": "outside"
           }
          },
          "colorscale": {
           "diverging": [
            [
             0,
             "rgb(103,0,31)"
            ],
            [
             0.1,
             "rgb(178,24,43)"
            ],
            [
             0.2,
             "rgb(214,96,77)"
            ],
            [
             0.3,
             "rgb(244,165,130)"
            ],
            [
             0.4,
             "rgb(253,219,199)"
            ],
            [
             0.5,
             "rgb(247,247,247)"
            ],
            [
             0.6,
             "rgb(209,229,240)"
            ],
            [
             0.7,
             "rgb(146,197,222)"
            ],
            [
             0.8,
             "rgb(67,147,195)"
            ],
            [
             0.9,
             "rgb(33,102,172)"
            ],
            [
             1,
             "rgb(5,48,97)"
            ]
           ],
           "sequential": [
            [
             0,
             "#440154"
            ],
            [
             0.1111111111111111,
             "#482878"
            ],
            [
             0.2222222222222222,
             "#3e4989"
            ],
            [
             0.3333333333333333,
             "#31688e"
            ],
            [
             0.4444444444444444,
             "#26828e"
            ],
            [
             0.5555555555555556,
             "#1f9e89"
            ],
            [
             0.6666666666666666,
             "#35b779"
            ],
            [
             0.7777777777777778,
             "#6ece58"
            ],
            [
             0.8888888888888888,
             "#b5de2b"
            ],
            [
             1,
             "#fde725"
            ]
           ],
           "sequentialminus": [
            [
             0,
             "#440154"
            ],
            [
             0.1111111111111111,
             "#482878"
            ],
            [
             0.2222222222222222,
             "#3e4989"
            ],
            [
             0.3333333333333333,
             "#31688e"
            ],
            [
             0.4444444444444444,
             "#26828e"
            ],
            [
             0.5555555555555556,
             "#1f9e89"
            ],
            [
             0.6666666666666666,
             "#35b779"
            ],
            [
             0.7777777777777778,
             "#6ece58"
            ],
            [
             0.8888888888888888,
             "#b5de2b"
            ],
            [
             1,
             "#fde725"
            ]
           ]
          },
          "colorway": [
           "#1F77B4",
           "#FF7F0E",
           "#2CA02C",
           "#D62728",
           "#9467BD",
           "#8C564B",
           "#E377C2",
           "#7F7F7F",
           "#BCBD22",
           "#17BECF"
          ],
          "font": {
           "color": "rgb(36,36,36)"
          },
          "geo": {
           "bgcolor": "white",
           "lakecolor": "white",
           "landcolor": "white",
           "showlakes": true,
           "showland": true,
           "subunitcolor": "white"
          },
          "hoverlabel": {
           "align": "left"
          },
          "hovermode": "closest",
          "mapbox": {
           "style": "light"
          },
          "margin": {
           "b": 0,
           "l": 20,
           "r": 20,
           "t": 40
          },
          "paper_bgcolor": "white",
          "plot_bgcolor": "white",
          "polar": {
           "angularaxis": {
            "gridcolor": "rgb(232,232,232)",
            "linecolor": "rgb(36,36,36)",
            "showgrid": false,
            "showline": true,
            "ticks": "outside"
           },
           "bgcolor": "white",
           "radialaxis": {
            "gridcolor": "rgb(232,232,232)",
            "linecolor": "rgb(36,36,36)",
            "showgrid": false,
            "showline": true,
            "ticks": "outside"
           }
          },
          "scene": {
           "xaxis": {
            "backgroundcolor": "white",
            "gridcolor": "rgb(232,232,232)",
            "gridwidth": 2,
            "linecolor": "rgb(36,36,36)",
            "showbackground": true,
            "showgrid": false,
            "showline": true,
            "ticks": "outside",
            "zeroline": false,
            "zerolinecolor": "rgb(36,36,36)"
           },
           "yaxis": {
            "backgroundcolor": "white",
            "gridcolor": "rgb(232,232,232)",
            "gridwidth": 2,
            "linecolor": "rgb(36,36,36)",
            "showbackground": true,
            "showgrid": false,
            "showline": true,
            "ticks": "outside",
            "zeroline": false,
            "zerolinecolor": "rgb(36,36,36)"
           },
           "zaxis": {
            "backgroundcolor": "white",
            "gridcolor": "rgb(232,232,232)",
            "gridwidth": 2,
            "linecolor": "rgb(36,36,36)",
            "showbackground": true,
            "showgrid": false,
            "showline": true,
            "ticks": "outside",
            "zeroline": false,
            "zerolinecolor": "rgb(36,36,36)"
           }
          },
          "shapedefaults": {
           "fillcolor": "black",
           "line": {
            "width": 0
           },
           "opacity": 0.3
          },
          "ternary": {
           "aaxis": {
            "gridcolor": "rgb(232,232,232)",
            "linecolor": "rgb(36,36,36)",
            "showgrid": false,
            "showline": true,
            "ticks": "outside"
           },
           "baxis": {
            "gridcolor": "rgb(232,232,232)",
            "linecolor": "rgb(36,36,36)",
            "showgrid": false,
            "showline": true,
            "ticks": "outside"
           },
           "bgcolor": "white",
           "caxis": {
            "gridcolor": "rgb(232,232,232)",
            "linecolor": "rgb(36,36,36)",
            "showgrid": false,
            "showline": true,
            "ticks": "outside"
           }
          },
          "title": {
           "x": 0.05
          },
          "xaxis": {
           "automargin": true,
           "gridcolor": "rgb(232,232,232)",
           "linecolor": "rgb(36,36,36)",
           "showgrid": false,
           "showline": true,
           "ticks": "outside",
           "title": {
            "standoff": 15
           },
           "zeroline": false,
           "zerolinecolor": "rgb(36,36,36)"
          },
          "yaxis": {
           "automargin": true,
           "gridcolor": "rgb(232,232,232)",
           "linecolor": "rgb(36,36,36)",
           "showgrid": false,
           "showline": true,
           "ticks": "outside",
           "title": {
            "standoff": 15
           },
           "zeroline": false,
           "zerolinecolor": "rgb(36,36,36)"
          }
         }
        },
        "title": {
         "text": "$\\text{(5) Simulated Data - Different Noise Scales}$"
        },
        "xaxis": {
         "anchor": "y",
         "domain": [
          0,
          0.2888888888888889
         ]
        },
        "xaxis2": {
         "anchor": "y2",
         "domain": [
          0.35555555555555557,
          0.6444444444444445
         ]
        },
        "xaxis3": {
         "anchor": "y3",
         "domain": [
          0.7111111111111111,
          1
         ]
        },
        "xaxis4": {
         "anchor": "y4",
         "domain": [
          0,
          0.2888888888888889
         ]
        },
        "xaxis5": {
         "anchor": "y5",
         "domain": [
          0.35555555555555557,
          0.6444444444444445
         ]
        },
        "xaxis6": {
         "anchor": "y6",
         "domain": [
          0.7111111111111111,
          1
         ]
        },
        "yaxis": {
         "anchor": "x",
         "domain": [
          0.625,
          1
         ]
        },
        "yaxis2": {
         "anchor": "x2",
         "domain": [
          0.625,
          1
         ]
        },
        "yaxis3": {
         "anchor": "x3",
         "domain": [
          0.625,
          1
         ]
        },
        "yaxis4": {
         "anchor": "x4",
         "domain": [
          0,
          0.375
         ]
        },
        "yaxis5": {
         "anchor": "x5",
         "domain": [
          0,
          0.375
         ]
        },
        "yaxis6": {
         "anchor": "x6",
         "domain": [
          0,
          0.375
         ]
        }
       }
      },
      "text/html": [
       "<div>                            <div id=\"4ce411d0-4bbc-4422-8544-53d2e9470540\" class=\"plotly-graph-div\" style=\"height:525px; width:100%;\"></div>            <script type=\"text/javascript\">                require([\"plotly\"], function(Plotly) {                    window.PLOTLYENV=window.PLOTLYENV || {};                                    if (document.getElementById(\"4ce411d0-4bbc-4422-8544-53d2e9470540\")) {                    Plotly.newPlot(                        \"4ce411d0-4bbc-4422-8544-53d2e9470540\",                        [{\"marker\": {\"color\": \"black\", \"opacity\": 0.7}, \"mode\": \"markers\", \"name\": \"Real Points\", \"showlegend\": false, \"type\": \"scatter\", \"x\": [-1.2, -1.031578947368421, -0.8631578947368421, -0.6947368421052631, -0.5263157894736842, -0.35789473684210527, -0.18947368421052624, -0.021052631578947434, 0.1473684210526316, 0.3157894736842106, 0.4842105263157894, 0.6526315789473685, 0.8210526315789475, 0.9894736842105265, 1.157894736842105, 1.3263157894736841, 1.4947368421052631, 1.6631578947368422, 1.8315789473684212, 2.0], \"xaxis\": \"x\", \"y\": [5.8096, 3.7958686136539765, 2.4687431311914425, 1.6622727081590838, 1.229817143821794, 1.0440468811626675, 0.9969430068830043, 0.9997972514023066, 0.9832119888582806, 0.8971002371068362, 0.7106856577220864, 0.41250255599634744, 0.010395880940139768, -0.46847877471781274, -0.9776551745305817, -1.4513564383330393, -1.8044950422418493, -1.9326728186554742, -1.7121809562541719, -1.0], \"yaxis\": \"y\"}, {\"marker\": {\"color\": \"red\", \"opacity\": 0.7}, \"mode\": \"markers\", \"name\": \"Observed Points\", \"showlegend\": false, \"type\": \"scatter\", \"x\": [-1.2, -1.031578947368421, -0.8631578947368421, -0.6947368421052631, -0.5263157894736842, -0.35789473684210527, -0.18947368421052624, -0.021052631578947434, 0.1473684210526316, 0.3157894736842106, 0.4842105263157894, 0.6526315789473685, 0.8210526315789475, 0.9894736842105265, 1.157894736842105, 1.3263157894736841, 1.4947368421052631, 1.6631578947368422, 1.8315789473684212, 2.0], \"xaxis\": \"x\", \"y\": [5.8096, 3.7958686136539765, 2.4687431311914425, 1.6622727081590838, 1.229817143821794, 1.0440468811626675, 0.9969430068830043, 0.9997972514023066, 0.9832119888582806, 0.8971002371068362, 0.7106856577220864, 0.41250255599634744, 0.010395880940139768, -0.46847877471781274, -0.9776551745305817, -1.4513564383330393, -1.8044950422418493, -1.9326728186554742, -1.7121809562541719, -1.0], \"yaxis\": \"y\"}, {\"marker\": {\"color\": \"blue\", \"opacity\": 0.7}, \"mode\": \"markers\", \"name\": \"Predicted Points\", \"showlegend\": false, \"type\": \"scatter\", \"x\": [-1.2, -1.031578947368421, -0.8631578947368421, -0.6947368421052631, -0.5263157894736842, -0.35789473684210527, -0.18947368421052624, -0.021052631578947434, 0.1473684210526316, 0.3157894736842106, 0.4842105263157894, 0.6526315789473685, 0.8210526315789475, 0.9894736842105265, 1.157894736842105, 1.3263157894736841, 1.4947368421052631, 1.6631578947368422, 1.8315789473684212, 2.0], \"xaxis\": \"x\", \"y\": [5.809600000000003, 3.7958686136539788, 2.4687431311914447, 1.6622727081590853, 1.2298171438217944, 1.044046881162668, 0.9969430068830044, 0.9997972514023066, 0.9832119888582806, 0.897100237106836, 0.7106856577220861, 0.4125025559963471, 0.010395880940139546, -0.4684787747178132, -0.9776551745305824, -1.4513564383330388, -1.8044950422418502, -1.9326728186554734, -1.7121809562541745, -1.0], \"yaxis\": \"y\"}, {\"marker\": {\"color\": \"black\", \"opacity\": 0.7}, \"mode\": \"markers\", \"name\": \"Real Points\", \"showlegend\": false, \"type\": \"scatter\", \"x\": [-1.2, -1.031578947368421, -0.8631578947368421, -0.6947368421052631, -0.5263157894736842, -0.35789473684210527, -0.18947368421052624, -0.021052631578947434, 0.1473684210526316, 0.3157894736842106, 0.4842105263157894, 0.6526315789473685, 0.8210526315789475, 0.9894736842105265, 1.157894736842105, 1.3263157894736841, 1.4947368421052631, 1.6631578947368422, 1.8315789473684212, 2.0], \"xaxis\": \"x2\", \"y\": [5.8096, 3.7958686136539765, 2.4687431311914425, 1.6622727081590838, 1.229817143821794, 1.0440468811626675, 0.9969430068830043, 0.9997972514023066, 0.9832119888582806, 0.8971002371068362, 0.7106856577220864, 0.41250255599634744, 0.010395880940139768, -0.46847877471781274, -0.9776551745305817, -1.4513564383330393, -1.8044950422418493, -1.9326728186554742, -1.7121809562541719, -1.0], \"yaxis\": \"y2\"}, {\"marker\": {\"color\": \"red\", \"opacity\": 0.7}, \"mode\": \"markers\", \"name\": \"Observed Points\", \"showlegend\": false, \"type\": \"scatter\", \"x\": [-1.2, -1.031578947368421, -0.8631578947368421, -0.6947368421052631, -0.5263157894736842, -0.35789473684210527, -0.18947368421052624, -0.021052631578947434, 0.1473684210526316, 0.3157894736842106, 0.4842105263157894, 0.6526315789473685, 0.8210526315789475, 0.9894736842105265, 1.157894736842105, 1.3263157894736841, 1.4947368421052631, 1.6631578947368422, 1.8315789473684212, 2.0], \"xaxis\": \"x2\", \"y\": [6.213848898354761, 5.061141624209022, 2.823446219671817, 1.2410010089417047, 0.9833904886948923, 1.1877651645816663, 1.8306907285732197, 2.3243336844226383, 0.9414749000737137, -0.34293247638804236, 2.178907519796229, 1.5385557864828745, 0.5280402229618043, 1.2656511079142654, -1.7588798283607106, -1.850512045501899, -0.8246071108255094, -1.762889021460804, -2.2407122122847105, 0.10700163638004456], \"yaxis\": \"y2\"}, {\"marker\": {\"color\": \"blue\", \"opacity\": 0.7}, \"mode\": \"markers\", \"name\": \"Predicted Points\", \"showlegend\": false, \"type\": \"scatter\", \"x\": [-1.2, -1.031578947368421, -0.8631578947368421, -0.6947368421052631, -0.5263157894736842, -0.35789473684210527, -0.18947368421052624, -0.021052631578947434, 0.1473684210526316, 0.3157894736842106, 0.4842105263157894, 0.6526315789473685, 0.8210526315789475, 0.9894736842105265, 1.157894736842105, 1.3263157894736841, 1.4947368421052631, 1.6631578947368422, 1.8315789473684212, 2.0], \"xaxis\": \"x2\", \"y\": [6.727579186434841, 4.2207808846500505, 2.630724572488357, 1.7313850399990256, 1.3232586899730516, 1.2333635379431436, 1.3152392121837289, 1.4489469537109523, 1.5410696162826778, 1.5247116663984863, 1.3594991832996774, 1.0315798589692677, 0.5536229981319929, -0.035180481745693326, -0.6691180504556191, -1.2559555650478973, -1.6769372698309197, -1.7867857963713598, -1.4137021634941769, -0.35936577728260644], \"yaxis\": \"y2\"}, {\"marker\": {\"color\": \"black\", \"opacity\": 0.7}, \"mode\": \"markers\", \"name\": \"Real Points\", \"showlegend\": false, \"type\": \"scatter\", \"x\": [-1.2, -1.031578947368421, -0.8631578947368421, -0.6947368421052631, -0.5263157894736842, -0.35789473684210527, -0.18947368421052624, -0.021052631578947434, 0.1473684210526316, 0.3157894736842106, 0.4842105263157894, 0.6526315789473685, 0.8210526315789475, 0.9894736842105265, 1.157894736842105, 1.3263157894736841, 1.4947368421052631, 1.6631578947368422, 1.8315789473684212, 2.0], \"xaxis\": \"x3\", \"y\": [5.8096, 3.7958686136539765, 2.4687431311914425, 1.6622727081590838, 1.229817143821794, 1.0440468811626675, 0.9969430068830043, 0.9997972514023066, 0.9832119888582806, 0.8971002371068362, 0.7106856577220864, 0.41250255599634744, 0.010395880940139768, -0.46847877471781274, -0.9776551745305817, -1.4513564383330393, -1.8044950422418493, -1.9326728186554742, -1.7121809562541719, -1.0], \"yaxis\": \"y3\"}, {\"marker\": {\"color\": \"red\", \"opacity\": 0.7}, \"mode\": \"markers\", \"name\": \"Observed Points\", \"showlegend\": false, \"type\": \"scatter\", \"x\": [-1.2, -1.031578947368421, -0.8631578947368421, -0.6947368421052631, -0.5263157894736842, -0.35789473684210527, -0.18947368421052624, -0.021052631578947434, 0.1473684210526316, 0.3157894736842106, 0.4842105263157894, 0.6526315789473685, 0.8210526315789475, 0.9894736842105265, 1.157894736842105, 1.3263157894736841, 1.4947368421052631, 1.6631578947368422, 1.8315789473684212, 2.0], \"xaxis\": \"x3\", \"y\": [7.488311933932348, 5.309173500537815, 3.0532327895993503, 3.0779429719783673, 2.852619629427374, -0.12368014464836596, 2.4902187805697227, 2.194947299240547, 1.9582983534530167, 1.0556357770035014, 5.258389618700784, 1.62627107583259, 0.5417596192150584, 2.929024506448329, 1.6162109463752927, -0.24690835130982758, 2.157169563187572, 0.9714497796665786, -3.23190946238939, -2.081542772712167], \"yaxis\": \"y3\"}, {\"marker\": {\"color\": \"blue\", \"opacity\": 0.7}, \"mode\": \"markers\", \"name\": \"Predicted Points\", \"showlegend\": false, \"type\": \"scatter\", \"x\": [-1.2, -1.031578947368421, -0.8631578947368421, -0.6947368421052631, -0.5263157894736842, -0.35789473684210527, -0.18947368421052624, -0.021052631578947434, 0.1473684210526316, 0.3157894736842106, 0.4842105263157894, 0.6526315789473685, 0.8210526315789475, 0.9894736842105265, 1.157894736842105, 1.3263157894736841, 1.4947368421052631, 1.6631578947368422, 1.8315789473684212, 2.0], \"xaxis\": \"x3\", \"y\": [7.408934036798436, 5.201489725900176, 3.6484501520742407, 2.629739092647528, 2.0346895259491085, 1.7620436313102092, 1.719952789064219, 1.8259775805466878, 2.007087788095328, 2.1996623950500105, 2.34948958575277, 2.4117667455478013, 2.3511004607814594, 2.141506518802262, 1.7664099079608875, 1.2186448176101747, 0.5004546381051236, -0.37650803919710385, -1.3911814219371863, -2.513094516753637], \"yaxis\": \"y3\"}, {\"marker\": {\"color\": \"black\", \"opacity\": 0.7}, \"mode\": \"markers\", \"name\": \"Real Points\", \"showlegend\": false, \"type\": \"scatter\", \"x\": [-1.2, -1.031578947368421, -0.8631578947368421, -0.6947368421052631, -0.5263157894736842, -0.35789473684210527, -0.18947368421052624, -0.021052631578947434, 0.1473684210526316, 0.3157894736842106, 0.4842105263157894, 0.6526315789473685, 0.8210526315789475, 0.9894736842105265, 1.157894736842105, 1.3263157894736841, 1.4947368421052631, 1.6631578947368422, 1.8315789473684212, 2.0], \"xaxis\": \"x4\", \"y\": [5.8096, 3.7958686136539765, 2.4687431311914425, 1.6622727081590838, 1.229817143821794, 1.0440468811626675, 0.9969430068830043, 0.9997972514023066, 0.9832119888582806, 0.8971002371068362, 0.7106856577220864, 0.41250255599634744, 0.010395880940139768, -0.46847877471781274, -0.9776551745305817, -1.4513564383330393, -1.8044950422418493, -1.9326728186554742, -1.7121809562541719, -1.0], \"yaxis\": \"y4\"}, {\"marker\": {\"color\": \"red\", \"opacity\": 0.7}, \"mode\": \"markers\", \"name\": \"Observed Points\", \"showlegend\": false, \"type\": \"scatter\", \"x\": [-1.2, -1.031578947368421, -0.8631578947368421, -0.6947368421052631, -0.5263157894736842, -0.35789473684210527, -0.18947368421052624, -0.021052631578947434, 0.1473684210526316, 0.3157894736842106, 0.4842105263157894, 0.6526315789473685, 0.8210526315789475, 0.9894736842105265, 1.157894736842105, 1.3263157894736841, 1.4947368421052631, 1.6631578947368422, 1.8315789473684212, 2.0], \"xaxis\": \"x4\", \"y\": [7.045575085044448, 5.028329412478309, 3.982022181393507, 1.6902737594973594, 4.129248368072139, 3.5518695471685597, -3.2901403943147454, 2.210801822873969, 2.690739381946397, -1.6246013081187176, 2.978056832521487, -1.795589521832135, 5.000007196405321, 2.562380878090784, -2.7031548752378756, 0.9421082817191788, 0.5590284438682867, -2.8390639245643454, -5.195934568627687, -3.5079191906008194], \"yaxis\": \"y4\"}, {\"marker\": {\"color\": \"blue\", \"opacity\": 0.7}, \"mode\": \"markers\", \"name\": \"Predicted Points\", \"showlegend\": false, \"type\": \"scatter\", \"x\": [-1.2, -1.031578947368421, -0.8631578947368421, -0.6947368421052631, -0.5263157894736842, -0.35789473684210527, -0.18947368421052624, -0.021052631578947434, 0.1473684210526316, 0.3157894736842106, 0.4842105263157894, 0.6526315789473685, 0.8210526315789475, 0.9894736842105265, 1.157894736842105, 1.3263157894736841, 1.4947368421052631, 1.6631578947368422, 1.8315789473684212, 2.0], \"xaxis\": \"x4\", \"y\": [7.146743148134482, 5.21897040916223, 3.759942184914072, 2.70022066682029, 1.9733874884283424, 1.516043725402858, 1.2678098955256356, 1.171325958695646, 1.1722513169290307, 1.2192648143591032, 1.2640647372363474, 1.2613688139284183, 1.1689142149201428, 0.9474575528135181, 0.5607748823277143, -0.024338299700929822, -0.8380670543189044, -1.9075770004555246, -3.257014314922941, -4.907505732416119], \"yaxis\": \"y4\"}, {\"marker\": {\"color\": \"black\", \"opacity\": 0.7}, \"mode\": \"markers\", \"name\": \"Real Points\", \"showlegend\": false, \"type\": \"scatter\", \"x\": [-1.2, -1.031578947368421, -0.8631578947368421, -0.6947368421052631, -0.5263157894736842, -0.35789473684210527, -0.18947368421052624, -0.021052631578947434, 0.1473684210526316, 0.3157894736842106, 0.4842105263157894, 0.6526315789473685, 0.8210526315789475, 0.9894736842105265, 1.157894736842105, 1.3263157894736841, 1.4947368421052631, 1.6631578947368422, 1.8315789473684212, 2.0], \"xaxis\": \"x5\", \"y\": [5.8096, 3.7958686136539765, 2.4687431311914425, 1.6622727081590838, 1.229817143821794, 1.0440468811626675, 0.9969430068830043, 0.9997972514023066, 0.9832119888582806, 0.8971002371068362, 0.7106856577220864, 0.41250255599634744, 0.010395880940139768, -0.46847877471781274, -0.9776551745305817, -1.4513564383330393, -1.8044950422418493, -1.9326728186554742, -1.7121809562541719, -1.0], \"yaxis\": \"y5\"}, {\"marker\": {\"color\": \"red\", \"opacity\": 0.7}, \"mode\": \"markers\", \"name\": \"Observed Points\", \"showlegend\": false, \"type\": \"scatter\", \"x\": [-1.2, -1.031578947368421, -0.8631578947368421, -0.6947368421052631, -0.5263157894736842, -0.35789473684210527, -0.18947368421052624, -0.021052631578947434, 0.1473684210526316, 0.3157894736842106, 0.4842105263157894, 0.6526315789473685, 0.8210526315789475, 0.9894736842105265, 1.157894736842105, 1.3263157894736841, 1.4947368421052631, 1.6631578947368422, 1.8315789473684212, 2.0], \"xaxis\": \"x5\", \"y\": [5.582307437886745, 0.5807965365171608, 1.3910470155297305, -1.8144077531002691, 5.930498261066223, -0.8856756806549266, 3.199971458768986, 3.4801018183284222, -1.216442084464395, 6.603950833999765, -0.026223656325129796, 1.1849685940396448, -2.1955800516065618, -6.674136861210961, -2.523041151590019, -1.5055045572782744, 0.19751447667367827, -8.601100595186857, -11.635028430510534, 0.9198576012429387], \"yaxis\": \"y5\"}, {\"marker\": {\"color\": \"blue\", \"opacity\": 0.7}, \"mode\": \"markers\", \"name\": \"Predicted Points\", \"showlegend\": false, \"type\": \"scatter\", \"x\": [-1.2, -1.031578947368421, -0.8631578947368421, -0.6947368421052631, -0.5263157894736842, -0.35789473684210527, -0.18947368421052624, -0.021052631578947434, 0.1473684210526316, 0.3157894736842106, 0.4842105263157894, 0.6526315789473685, 0.8210526315789475, 0.9894736842105265, 1.157894736842105, 1.3263157894736841, 1.4947368421052631, 1.6631578947368422, 1.8315789473684212, 2.0], \"xaxis\": \"x5\", \"y\": [4.4346074615394055, 2.2243520560557988, 1.1580289544610458, 0.8869741672680935, 1.1082180066962068, 1.564485086670964, 2.0441943228242576, 2.381458932494291, 2.4560864347255844, 2.193578650268969, 1.5651317015815915, 0.5876360128269096, -0.6763236901253027, -2.118468379698959, -3.584824726611656, -4.875725099874687, -5.745807566793024, -5.904015892965319, -5.013599542283931, -2.692113676934874], \"yaxis\": \"y5\"}, {\"marker\": {\"color\": \"black\", \"opacity\": 0.7}, \"mode\": \"markers\", \"name\": \"Real Points\", \"showlegend\": false, \"type\": \"scatter\", \"x\": [-1.2, -1.031578947368421, -0.8631578947368421, -0.6947368421052631, -0.5263157894736842, -0.35789473684210527, -0.18947368421052624, -0.021052631578947434, 0.1473684210526316, 0.3157894736842106, 0.4842105263157894, 0.6526315789473685, 0.8210526315789475, 0.9894736842105265, 1.157894736842105, 1.3263157894736841, 1.4947368421052631, 1.6631578947368422, 1.8315789473684212, 2.0], \"xaxis\": \"x6\", \"y\": [5.8096, 3.7958686136539765, 2.4687431311914425, 1.6622727081590838, 1.229817143821794, 1.0440468811626675, 0.9969430068830043, 0.9997972514023066, 0.9832119888582806, 0.8971002371068362, 0.7106856577220864, 0.41250255599634744, 0.010395880940139768, -0.46847877471781274, -0.9776551745305817, -1.4513564383330393, -1.8044950422418493, -1.9326728186554742, -1.7121809562541719, -1.0], \"yaxis\": \"y6\"}, {\"marker\": {\"color\": \"red\", \"opacity\": 0.7}, \"mode\": \"markers\", \"name\": \"Observed Points\", \"showlegend\": false, \"type\": \"scatter\", \"x\": [-1.2, -1.031578947368421, -0.8631578947368421, -0.6947368421052631, -0.5263157894736842, -0.35789473684210527, -0.18947368421052624, -0.021052631578947434, 0.1473684210526316, 0.3157894736842106, 0.4842105263157894, 0.6526315789473685, 0.8210526315789475, 0.9894736842105265, 1.157894736842105, 1.3263157894736841, 1.4947368421052631, 1.6631578947368422, 1.8315789473684212, 2.0], \"xaxis\": \"x6\", \"y\": [-4.490606897316338, 3.180672100342421, 4.174795812823458, 3.138878795562876, -1.3661469522672263, 7.891028875206263, 11.51150119932927, -6.639022441488978, -2.6069674980190225, -2.1975291615734127, -0.35454133345741745, 2.3131698209131675, -1.7904194526337762, 0.9550272327026446, -0.1865494642360157, 2.068378040495992, -4.997087489386618, 0.029777295216361965, -7.315378782121634, -0.6320578642282721], \"yaxis\": \"y6\"}, {\"marker\": {\"color\": \"blue\", \"opacity\": 0.7}, \"mode\": \"markers\", \"name\": \"Predicted Points\", \"showlegend\": false, \"type\": \"scatter\", \"x\": [-1.2, -1.031578947368421, -0.8631578947368421, -0.6947368421052631, -0.5263157894736842, -0.35789473684210527, -0.18947368421052624, -0.021052631578947434, 0.1473684210526316, 0.3157894736842106, 0.4842105263157894, 0.6526315789473685, 0.8210526315789475, 0.9894736842105265, 1.157894736842105, 1.3263157894736841, 1.4947368421052631, 1.6631578947368422, 1.8315789473684212, 2.0], \"xaxis\": \"x6\", \"y\": [-2.669401466177032, 0.8928383900623484, 2.9453203035455844, 3.843673804722889, 3.9033677144330508, 3.3997101439034525, 2.5678484947500633, 1.602769458977444, 0.6592990189787411, -0.14789755246430625, -0.7443156921813703, -1.095611546613536, -1.207601971813299, -1.1262645334445631, -0.9377375067826463, -0.768319876714278, -0.7844713377375889, -1.1928122939621382, -2.240123859108877, -4.2133478565101825], \"yaxis\": \"y6\"}],                        {\"annotations\": [{\"font\": {\"size\": 16}, \"showarrow\": false, \"text\": \"$\\\\sigma^2=0, MSE=0.0$\", \"x\": 0.14444444444444446, \"xanchor\": \"center\", \"xref\": \"paper\", \"y\": 1.0, \"yanchor\": \"bottom\", \"yref\": \"paper\"}, {\"font\": {\"size\": 16}, \"showarrow\": false, \"text\": \"$\\\\sigma^2=1, MSE=0.6$\", \"x\": 0.5, \"xanchor\": \"center\", \"xref\": \"paper\", \"y\": 1.0, \"yanchor\": \"bottom\", \"yref\": \"paper\"}, {\"font\": {\"size\": 16}, \"showarrow\": false, \"text\": \"$\\\\sigma^2=2, MSE=1.51$\", \"x\": 0.8555555555555556, \"xanchor\": \"center\", \"xref\": \"paper\", \"y\": 1.0, \"yanchor\": \"bottom\", \"yref\": \"paper\"}, {\"font\": {\"size\": 16}, \"showarrow\": false, \"text\": \"$\\\\sigma^2=3, MSE=4.59$\", \"x\": 0.14444444444444446, \"xanchor\": \"center\", \"xref\": \"paper\", \"y\": 0.375, \"yanchor\": \"bottom\", \"yref\": \"paper\"}, {\"font\": {\"size\": 16}, \"showarrow\": false, \"text\": \"$\\\\sigma^2=4, MSE=10.7$\", \"x\": 0.5, \"xanchor\": \"center\", \"xref\": \"paper\", \"y\": 0.375, \"yanchor\": \"bottom\", \"yref\": \"paper\"}, {\"font\": {\"size\": 16}, \"showarrow\": false, \"text\": \"$\\\\sigma^2=5, MSE=15.21$\", \"x\": 0.8555555555555556, \"xanchor\": \"center\", \"xref\": \"paper\", \"y\": 0.375, \"yanchor\": \"bottom\", \"yref\": \"paper\"}], \"margin\": {\"t\": 80}, \"template\": {\"data\": {\"bar\": [{\"error_x\": {\"color\": \"rgb(36,36,36)\"}, \"error_y\": {\"color\": \"rgb(36,36,36)\"}, \"marker\": {\"line\": {\"color\": \"white\", \"width\": 0.5}}, \"type\": \"bar\"}], \"barpolar\": [{\"marker\": {\"line\": {\"color\": \"white\", \"width\": 0.5}}, \"type\": \"barpolar\"}], \"carpet\": [{\"aaxis\": {\"endlinecolor\": \"rgb(36,36,36)\", \"gridcolor\": \"white\", \"linecolor\": \"white\", \"minorgridcolor\": \"white\", \"startlinecolor\": \"rgb(36,36,36)\"}, \"baxis\": {\"endlinecolor\": \"rgb(36,36,36)\", \"gridcolor\": \"white\", \"linecolor\": \"white\", \"minorgridcolor\": \"white\", \"startlinecolor\": \"rgb(36,36,36)\"}, \"type\": \"carpet\"}], \"choropleth\": [{\"colorbar\": {\"outlinewidth\": 1, \"tickcolor\": \"rgb(36,36,36)\", \"ticks\": \"outside\"}, \"type\": \"choropleth\"}], \"contour\": [{\"colorbar\": {\"outlinewidth\": 1, \"tickcolor\": \"rgb(36,36,36)\", \"ticks\": \"outside\"}, \"colorscale\": [[0.0, \"#440154\"], [0.1111111111111111, \"#482878\"], [0.2222222222222222, \"#3e4989\"], [0.3333333333333333, \"#31688e\"], [0.4444444444444444, \"#26828e\"], [0.5555555555555556, \"#1f9e89\"], [0.6666666666666666, \"#35b779\"], [0.7777777777777778, \"#6ece58\"], [0.8888888888888888, \"#b5de2b\"], [1.0, \"#fde725\"]], \"type\": \"contour\"}], \"contourcarpet\": [{\"colorbar\": {\"outlinewidth\": 1, \"tickcolor\": \"rgb(36,36,36)\", \"ticks\": \"outside\"}, \"type\": \"contourcarpet\"}], \"heatmap\": [{\"colorbar\": {\"outlinewidth\": 1, \"tickcolor\": \"rgb(36,36,36)\", \"ticks\": \"outside\"}, \"colorscale\": [[0.0, \"#440154\"], [0.1111111111111111, \"#482878\"], [0.2222222222222222, \"#3e4989\"], [0.3333333333333333, \"#31688e\"], [0.4444444444444444, \"#26828e\"], [0.5555555555555556, \"#1f9e89\"], [0.6666666666666666, \"#35b779\"], [0.7777777777777778, \"#6ece58\"], [0.8888888888888888, \"#b5de2b\"], [1.0, \"#fde725\"]], \"type\": \"heatmap\"}], \"heatmapgl\": [{\"colorbar\": {\"outlinewidth\": 1, \"tickcolor\": \"rgb(36,36,36)\", \"ticks\": \"outside\"}, \"colorscale\": [[0.0, \"#440154\"], [0.1111111111111111, \"#482878\"], [0.2222222222222222, \"#3e4989\"], [0.3333333333333333, \"#31688e\"], [0.4444444444444444, \"#26828e\"], [0.5555555555555556, \"#1f9e89\"], [0.6666666666666666, \"#35b779\"], [0.7777777777777778, \"#6ece58\"], [0.8888888888888888, \"#b5de2b\"], [1.0, \"#fde725\"]], \"type\": \"heatmapgl\"}], \"histogram\": [{\"marker\": {\"line\": {\"color\": \"white\", \"width\": 0.6}}, \"type\": \"histogram\"}], \"histogram2d\": [{\"colorbar\": {\"outlinewidth\": 1, \"tickcolor\": \"rgb(36,36,36)\", \"ticks\": \"outside\"}, \"colorscale\": [[0.0, \"#440154\"], [0.1111111111111111, \"#482878\"], [0.2222222222222222, \"#3e4989\"], [0.3333333333333333, \"#31688e\"], [0.4444444444444444, \"#26828e\"], [0.5555555555555556, \"#1f9e89\"], [0.6666666666666666, \"#35b779\"], [0.7777777777777778, \"#6ece58\"], [0.8888888888888888, \"#b5de2b\"], [1.0, \"#fde725\"]], \"type\": \"histogram2d\"}], \"histogram2dcontour\": [{\"colorbar\": {\"outlinewidth\": 1, \"tickcolor\": \"rgb(36,36,36)\", \"ticks\": \"outside\"}, \"colorscale\": [[0.0, \"#440154\"], [0.1111111111111111, \"#482878\"], [0.2222222222222222, \"#3e4989\"], [0.3333333333333333, \"#31688e\"], [0.4444444444444444, \"#26828e\"], [0.5555555555555556, \"#1f9e89\"], [0.6666666666666666, \"#35b779\"], [0.7777777777777778, \"#6ece58\"], [0.8888888888888888, \"#b5de2b\"], [1.0, \"#fde725\"]], \"type\": \"histogram2dcontour\"}], \"mesh3d\": [{\"colorbar\": {\"outlinewidth\": 1, \"tickcolor\": \"rgb(36,36,36)\", \"ticks\": \"outside\"}, \"type\": \"mesh3d\"}], \"parcoords\": [{\"line\": {\"colorbar\": {\"outlinewidth\": 1, \"tickcolor\": \"rgb(36,36,36)\", \"ticks\": \"outside\"}}, \"type\": \"parcoords\"}], \"pie\": [{\"automargin\": true, \"type\": \"pie\"}], \"scatter\": [{\"marker\": {\"colorbar\": {\"outlinewidth\": 1, \"tickcolor\": \"rgb(36,36,36)\", \"ticks\": \"outside\"}}, \"type\": \"scatter\"}], \"scatter3d\": [{\"line\": {\"colorbar\": {\"outlinewidth\": 1, \"tickcolor\": \"rgb(36,36,36)\", \"ticks\": \"outside\"}}, \"marker\": {\"colorbar\": {\"outlinewidth\": 1, \"tickcolor\": \"rgb(36,36,36)\", \"ticks\": \"outside\"}}, \"type\": \"scatter3d\"}], \"scattercarpet\": [{\"marker\": {\"colorbar\": {\"outlinewidth\": 1, \"tickcolor\": \"rgb(36,36,36)\", \"ticks\": \"outside\"}}, \"type\": \"scattercarpet\"}], \"scattergeo\": [{\"marker\": {\"colorbar\": {\"outlinewidth\": 1, \"tickcolor\": \"rgb(36,36,36)\", \"ticks\": \"outside\"}}, \"type\": \"scattergeo\"}], \"scattergl\": [{\"marker\": {\"colorbar\": {\"outlinewidth\": 1, \"tickcolor\": \"rgb(36,36,36)\", \"ticks\": \"outside\"}}, \"type\": \"scattergl\"}], \"scattermapbox\": [{\"marker\": {\"colorbar\": {\"outlinewidth\": 1, \"tickcolor\": \"rgb(36,36,36)\", \"ticks\": \"outside\"}}, \"type\": \"scattermapbox\"}], \"scatterpolar\": [{\"marker\": {\"colorbar\": {\"outlinewidth\": 1, \"tickcolor\": \"rgb(36,36,36)\", \"ticks\": \"outside\"}}, \"type\": \"scatterpolar\"}], \"scatterpolargl\": [{\"marker\": {\"colorbar\": {\"outlinewidth\": 1, \"tickcolor\": \"rgb(36,36,36)\", \"ticks\": \"outside\"}}, \"type\": \"scatterpolargl\"}], \"scatterternary\": [{\"marker\": {\"colorbar\": {\"outlinewidth\": 1, \"tickcolor\": \"rgb(36,36,36)\", \"ticks\": \"outside\"}}, \"type\": \"scatterternary\"}], \"surface\": [{\"colorbar\": {\"outlinewidth\": 1, \"tickcolor\": \"rgb(36,36,36)\", \"ticks\": \"outside\"}, \"colorscale\": [[0.0, \"#440154\"], [0.1111111111111111, \"#482878\"], [0.2222222222222222, \"#3e4989\"], [0.3333333333333333, \"#31688e\"], [0.4444444444444444, \"#26828e\"], [0.5555555555555556, \"#1f9e89\"], [0.6666666666666666, \"#35b779\"], [0.7777777777777778, \"#6ece58\"], [0.8888888888888888, \"#b5de2b\"], [1.0, \"#fde725\"]], \"type\": \"surface\"}], \"table\": [{\"cells\": {\"fill\": {\"color\": \"rgb(237,237,237)\"}, \"line\": {\"color\": \"white\"}}, \"header\": {\"fill\": {\"color\": \"rgb(217,217,217)\"}, \"line\": {\"color\": \"white\"}}, \"type\": \"table\"}]}, \"layout\": {\"annotationdefaults\": {\"arrowhead\": 0, \"arrowwidth\": 1}, \"autotypenumbers\": \"strict\", \"coloraxis\": {\"colorbar\": {\"outlinewidth\": 1, \"tickcolor\": \"rgb(36,36,36)\", \"ticks\": \"outside\"}}, \"colorscale\": {\"diverging\": [[0.0, \"rgb(103,0,31)\"], [0.1, \"rgb(178,24,43)\"], [0.2, \"rgb(214,96,77)\"], [0.3, \"rgb(244,165,130)\"], [0.4, \"rgb(253,219,199)\"], [0.5, \"rgb(247,247,247)\"], [0.6, \"rgb(209,229,240)\"], [0.7, \"rgb(146,197,222)\"], [0.8, \"rgb(67,147,195)\"], [0.9, \"rgb(33,102,172)\"], [1.0, \"rgb(5,48,97)\"]], \"sequential\": [[0.0, \"#440154\"], [0.1111111111111111, \"#482878\"], [0.2222222222222222, \"#3e4989\"], [0.3333333333333333, \"#31688e\"], [0.4444444444444444, \"#26828e\"], [0.5555555555555556, \"#1f9e89\"], [0.6666666666666666, \"#35b779\"], [0.7777777777777778, \"#6ece58\"], [0.8888888888888888, \"#b5de2b\"], [1.0, \"#fde725\"]], \"sequentialminus\": [[0.0, \"#440154\"], [0.1111111111111111, \"#482878\"], [0.2222222222222222, \"#3e4989\"], [0.3333333333333333, \"#31688e\"], [0.4444444444444444, \"#26828e\"], [0.5555555555555556, \"#1f9e89\"], [0.6666666666666666, \"#35b779\"], [0.7777777777777778, \"#6ece58\"], [0.8888888888888888, \"#b5de2b\"], [1.0, \"#fde725\"]]}, \"colorway\": [\"#1F77B4\", \"#FF7F0E\", \"#2CA02C\", \"#D62728\", \"#9467BD\", \"#8C564B\", \"#E377C2\", \"#7F7F7F\", \"#BCBD22\", \"#17BECF\"], \"font\": {\"color\": \"rgb(36,36,36)\"}, \"geo\": {\"bgcolor\": \"white\", \"lakecolor\": \"white\", \"landcolor\": \"white\", \"showlakes\": true, \"showland\": true, \"subunitcolor\": \"white\"}, \"hoverlabel\": {\"align\": \"left\"}, \"hovermode\": \"closest\", \"mapbox\": {\"style\": \"light\"}, \"margin\": {\"b\": 0, \"l\": 20, \"r\": 20, \"t\": 40}, \"paper_bgcolor\": \"white\", \"plot_bgcolor\": \"white\", \"polar\": {\"angularaxis\": {\"gridcolor\": \"rgb(232,232,232)\", \"linecolor\": \"rgb(36,36,36)\", \"showgrid\": false, \"showline\": true, \"ticks\": \"outside\"}, \"bgcolor\": \"white\", \"radialaxis\": {\"gridcolor\": \"rgb(232,232,232)\", \"linecolor\": \"rgb(36,36,36)\", \"showgrid\": false, \"showline\": true, \"ticks\": \"outside\"}}, \"scene\": {\"xaxis\": {\"backgroundcolor\": \"white\", \"gridcolor\": \"rgb(232,232,232)\", \"gridwidth\": 2, \"linecolor\": \"rgb(36,36,36)\", \"showbackground\": true, \"showgrid\": false, \"showline\": true, \"ticks\": \"outside\", \"zeroline\": false, \"zerolinecolor\": \"rgb(36,36,36)\"}, \"yaxis\": {\"backgroundcolor\": \"white\", \"gridcolor\": \"rgb(232,232,232)\", \"gridwidth\": 2, \"linecolor\": \"rgb(36,36,36)\", \"showbackground\": true, \"showgrid\": false, \"showline\": true, \"ticks\": \"outside\", \"zeroline\": false, \"zerolinecolor\": \"rgb(36,36,36)\"}, \"zaxis\": {\"backgroundcolor\": \"white\", \"gridcolor\": \"rgb(232,232,232)\", \"gridwidth\": 2, \"linecolor\": \"rgb(36,36,36)\", \"showbackground\": true, \"showgrid\": false, \"showline\": true, \"ticks\": \"outside\", \"zeroline\": false, \"zerolinecolor\": \"rgb(36,36,36)\"}}, \"shapedefaults\": {\"fillcolor\": \"black\", \"line\": {\"width\": 0}, \"opacity\": 0.3}, \"ternary\": {\"aaxis\": {\"gridcolor\": \"rgb(232,232,232)\", \"linecolor\": \"rgb(36,36,36)\", \"showgrid\": false, \"showline\": true, \"ticks\": \"outside\"}, \"baxis\": {\"gridcolor\": \"rgb(232,232,232)\", \"linecolor\": \"rgb(36,36,36)\", \"showgrid\": false, \"showline\": true, \"ticks\": \"outside\"}, \"bgcolor\": \"white\", \"caxis\": {\"gridcolor\": \"rgb(232,232,232)\", \"linecolor\": \"rgb(36,36,36)\", \"showgrid\": false, \"showline\": true, \"ticks\": \"outside\"}}, \"title\": {\"x\": 0.05}, \"xaxis\": {\"automargin\": true, \"gridcolor\": \"rgb(232,232,232)\", \"linecolor\": \"rgb(36,36,36)\", \"showgrid\": false, \"showline\": true, \"ticks\": \"outside\", \"title\": {\"standoff\": 15}, \"zeroline\": false, \"zerolinecolor\": \"rgb(36,36,36)\"}, \"yaxis\": {\"automargin\": true, \"gridcolor\": \"rgb(232,232,232)\", \"linecolor\": \"rgb(36,36,36)\", \"showgrid\": false, \"showline\": true, \"ticks\": \"outside\", \"title\": {\"standoff\": 15}, \"zeroline\": false, \"zerolinecolor\": \"rgb(36,36,36)\"}}}, \"title\": {\"text\": \"$\\\\text{(5) Simulated Data - Different Noise Scales}$\"}, \"xaxis\": {\"anchor\": \"y\", \"domain\": [0.0, 0.2888888888888889]}, \"xaxis2\": {\"anchor\": \"y2\", \"domain\": [0.35555555555555557, 0.6444444444444445]}, \"xaxis3\": {\"anchor\": \"y3\", \"domain\": [0.7111111111111111, 1.0]}, \"xaxis4\": {\"anchor\": \"y4\", \"domain\": [0.0, 0.2888888888888889]}, \"xaxis5\": {\"anchor\": \"y5\", \"domain\": [0.35555555555555557, 0.6444444444444445]}, \"xaxis6\": {\"anchor\": \"y6\", \"domain\": [0.7111111111111111, 1.0]}, \"yaxis\": {\"anchor\": \"x\", \"domain\": [0.625, 1.0]}, \"yaxis2\": {\"anchor\": \"x2\", \"domain\": [0.625, 1.0]}, \"yaxis3\": {\"anchor\": \"x3\", \"domain\": [0.625, 1.0]}, \"yaxis4\": {\"anchor\": \"x4\", \"domain\": [0.0, 0.375]}, \"yaxis5\": {\"anchor\": \"x5\", \"domain\": [0.0, 0.375]}, \"yaxis6\": {\"anchor\": \"x6\", \"domain\": [0.0, 0.375]}},                        {\"responsive\": true}                    ).then(function(){\n",
       "                            \n",
       "var gd = document.getElementById('4ce411d0-4bbc-4422-8544-53d2e9470540');\n",
       "var x = new MutationObserver(function (mutations, observer) {{\n",
       "        var display = window.getComputedStyle(gd).display;\n",
       "        if (!display || display === 'none') {{\n",
       "            console.log([gd, 'removed!']);\n",
       "            Plotly.purge(gd);\n",
       "            observer.disconnect();\n",
       "        }}\n",
       "}});\n",
       "\n",
       "// Listen for the removal of the full notebook cells\n",
       "var notebookContainer = gd.closest('#notebook-container');\n",
       "if (notebookContainer) {{\n",
       "    x.observe(notebookContainer, {childList: true});\n",
       "}}\n",
       "\n",
       "// Listen for the clearing of the current output cell\n",
       "var outputEl = gd.closest('.output');\n",
       "if (outputEl) {{\n",
       "    x.observe(outputEl, {childList: true});\n",
       "}}\n",
       "\n",
       "                        })                };                });            </script>        </div>"
      ]
     },
     "metadata": {},
     "output_type": "display_data"
    }
   ],
   "source": [
    "scales = range(6)\n",
    "fig = make_subplots(2, 3, subplot_titles=list(map(str, scales)))\n",
    "for i, s in enumerate(scales):\n",
    "    r,c = i//3+1, i%3+1\n",
    "    \n",
    "    y = y_ + np.random.normal(scale=s, size=len(y_))\n",
    "    y_hat = make_pipeline(PolynomialFeatures(4), LinearRegression()).fit(X, y).predict(X)\n",
    "\n",
    "    fig.add_traces([go.Scatter(x=x, y=y_, mode=\"markers\", name=\"Real Points\",  marker=dict(color=\"black\", opacity=.7), showlegend=False),\n",
    "                    go.Scatter(x=x, y=y, mode=\"markers\", name=\"Observed Points\",  marker=dict(color=\"red\", opacity=.7), showlegend=False),\n",
    "                    go.Scatter(x=x, y=y_hat, mode=\"markers\", name=\"Predicted Points\",  marker=dict(color=\"blue\", opacity=.7), showlegend=False)], rows=r, cols=c)\n",
    "    fig[\"layout\"][\"annotations\"][i][\"text\"] = rf\"$\\sigma^2={{0}}, MSE={{1}}$\".format(s, round(np.mean((y-y_hat)**2), 2))\n",
    "\n",
    "fig.update_layout(title=r\"$\\text{(5) Simulated Data - Different Noise Scales}$\", margin=dict(t=80)).show()"
   ]
  },
  {
   "cell_type": "markdown",
   "metadata": {
    "pycharm": {
     "name": "#%% md\n"
    }
   },
   "source": [
    "## The Influence Of $k$ And $\\sigma^2$ On Error\n",
    "\n",
    "Lastly, let us check how the error is influenced by both $k$ and $\\sigma^2$. For each value of $k$ and $\\sigma^2$ we will\n",
    "add noise drawm from $\\mathcal{N}\\left(0,\\sigma^2\\right)$ and then, based on the noisy data, let the learner select an\n",
    "hypothesis from $\\mathcal{H}_{poly}^k$. We repeat the process for each set of $\\left(k,\\sigma^2\\right)$ 10 times and report\n",
    "the mean MSE value. Results are seen in heatmap below: \n"
   ]
  },
  {
   "cell_type": "code",
   "execution_count": 21,
   "metadata": {
    "pycharm": {
     "is_executing": false,
     "name": "#%%\n"
    }
   },
   "outputs": [
    {
     "data": {
      "application/vnd.plotly.v1+json": {
       "config": {
        "plotlyServerURL": "https://plot.ly"
       },
       "data": [
        {
         "colorscale": [
          [
           0,
           "rgb(241, 236, 236)"
          ],
          [
           0.09090909090909091,
           "rgb(230, 209, 203)"
          ],
          [
           0.18181818181818182,
           "rgb(221, 182, 170)"
          ],
          [
           0.2727272727272727,
           "rgb(213, 156, 137)"
          ],
          [
           0.36363636363636365,
           "rgb(205, 129, 103)"
          ],
          [
           0.45454545454545453,
           "rgb(196, 102, 73)"
          ],
          [
           0.5454545454545454,
           "rgb(186, 74, 47)"
          ],
          [
           0.6363636363636364,
           "rgb(172, 44, 36)"
          ],
          [
           0.7272727272727273,
           "rgb(149, 19, 39)"
          ],
          [
           0.8181818181818182,
           "rgb(120, 14, 40)"
          ],
          [
           0.9090909090909091,
           "rgb(89, 13, 31)"
          ],
          [
           1,
           "rgb(60, 9, 17)"
          ]
         ],
         "type": "heatmap",
         "x": [
          0,
          0,
          0,
          0,
          0,
          0,
          0,
          0,
          0,
          0,
          1,
          1,
          1,
          1,
          1,
          1,
          1,
          1,
          1,
          1,
          2,
          2,
          2,
          2,
          2,
          2,
          2,
          2,
          2,
          2,
          3,
          3,
          3,
          3,
          3,
          3,
          3,
          3,
          3,
          3,
          4,
          4,
          4,
          4,
          4,
          4,
          4,
          4,
          4,
          4,
          5,
          5,
          5,
          5,
          5,
          5,
          5,
          5,
          5,
          5,
          6,
          6,
          6,
          6,
          6,
          6,
          6,
          6,
          6,
          6,
          7,
          7,
          7,
          7,
          7,
          7,
          7,
          7,
          7,
          7,
          8,
          8,
          8,
          8,
          8,
          8,
          8,
          8,
          8,
          8,
          9,
          9,
          9,
          9,
          9,
          9,
          9,
          9,
          9,
          9
         ],
         "y": [
          0,
          0.5555555555555556,
          1.1111111111111112,
          1.6666666666666667,
          2.2222222222222223,
          2.7777777777777777,
          3.3333333333333335,
          3.8888888888888893,
          4.444444444444445,
          5,
          0,
          0.5555555555555556,
          1.1111111111111112,
          1.6666666666666667,
          2.2222222222222223,
          2.7777777777777777,
          3.3333333333333335,
          3.8888888888888893,
          4.444444444444445,
          5,
          0,
          0.5555555555555556,
          1.1111111111111112,
          1.6666666666666667,
          2.2222222222222223,
          2.7777777777777777,
          3.3333333333333335,
          3.8888888888888893,
          4.444444444444445,
          5,
          0,
          0.5555555555555556,
          1.1111111111111112,
          1.6666666666666667,
          2.2222222222222223,
          2.7777777777777777,
          3.3333333333333335,
          3.8888888888888893,
          4.444444444444445,
          5,
          0,
          0.5555555555555556,
          1.1111111111111112,
          1.6666666666666667,
          2.2222222222222223,
          2.7777777777777777,
          3.3333333333333335,
          3.8888888888888893,
          4.444444444444445,
          5,
          0,
          0.5555555555555556,
          1.1111111111111112,
          1.6666666666666667,
          2.2222222222222223,
          2.7777777777777777,
          3.3333333333333335,
          3.8888888888888893,
          4.444444444444445,
          5,
          0,
          0.5555555555555556,
          1.1111111111111112,
          1.6666666666666667,
          2.2222222222222223,
          2.7777777777777777,
          3.3333333333333335,
          3.8888888888888893,
          4.444444444444445,
          5,
          0,
          0.5555555555555556,
          1.1111111111111112,
          1.6666666666666667,
          2.2222222222222223,
          2.7777777777777777,
          3.3333333333333335,
          3.8888888888888893,
          4.444444444444445,
          5,
          0,
          0.5555555555555556,
          1.1111111111111112,
          1.6666666666666667,
          2.2222222222222223,
          2.7777777777777777,
          3.3333333333333335,
          3.8888888888888893,
          4.444444444444445,
          5,
          0,
          0.5555555555555556,
          1.1111111111111112,
          1.6666666666666667,
          2.2222222222222223,
          2.7777777777777777,
          3.3333333333333335,
          3.8888888888888893,
          4.444444444444445,
          5
         ],
         "z": [
          3.5725573368628147,
          4.154931532452154,
          5.032403046193414,
          6.061467278294765,
          7.576134078896994,
          10.288535832281315,
          14.932582632053641,
          18.557645449847758,
          24.903277104714284,
          25.2851497833331,
          0.5815542576502363,
          0.7905280715189691,
          1.4221965910017373,
          2.874834293518977,
          5.685297493456009,
          7.842389481441837,
          10.739066917431185,
          15.13459466025211,
          17.77916226680619,
          23.78762666201334,
          0.42883609595913175,
          0.6174266048649466,
          1.5420117028839986,
          2.5848663808624655,
          4.535452593915958,
          7.221259296808301,
          10.125569494390087,
          12.597743230618676,
          19.28786939921583,
          19.360179883434125,
          0.3482639270462423,
          0.6230084147287125,
          1.4021085053914182,
          2.6046383162774034,
          3.796038254713099,
          7.087020852030912,
          9.462655190497395,
          14.808859896651152,
          16.479520838831014,
          19.563226112092792,
          1.7539829189523432e-30,
          0.2035861589850927,
          0.9495439159460585,
          2.596407210676668,
          3.4592742861935593,
          5.414233034409385,
          8.517792346356467,
          10.037160252645364,
          15.889633614020886,
          24.76791313404432,
          1.086045762335562e-28,
          0.19886437732913403,
          0.8173674661283284,
          1.9249161119991274,
          3.7081448441965383,
          5.489976800289622,
          8.288405184406367,
          11.614885210912355,
          13.704293587010431,
          13.669584587660387,
          5.1713530122730556e-30,
          0.2083673504291051,
          0.8611899101451372,
          1.7994726149833613,
          2.6989493605321253,
          5.34082319964876,
          9.587759837852063,
          9.6965132153704,
          12.166917163400988,
          14.139012565542851,
          1.5418532911577556e-29,
          0.163061750417315,
          0.9669091316831759,
          1.4626444408557362,
          3.312856266736554,
          3.877613296765348,
          7.644554711254417,
          6.289681747143436,
          12.714431264860988,
          15.285066184644592,
          2.71047676653282e-29,
          0.17796497805204975,
          0.785218015206963,
          1.5263364050388533,
          2.2427031801603716,
          3.769853679714869,
          5.701558428343021,
          9.634263423797481,
          11.642300640416273,
          15.091481253811176,
          4.8249937710744534e-30,
          0.14753204544776735,
          0.586368983665378,
          1.1806507819691618,
          2.7952975024700684,
          3.9467301287091834,
          5.285494244643112,
          7.6404434483307835,
          10.773425219330178,
          11.467696110392952
         ]
        }
       ],
       "layout": {
        "template": {
         "data": {
          "bar": [
           {
            "error_x": {
             "color": "rgb(36,36,36)"
            },
            "error_y": {
             "color": "rgb(36,36,36)"
            },
            "marker": {
             "line": {
              "color": "white",
              "width": 0.5
             }
            },
            "type": "bar"
           }
          ],
          "barpolar": [
           {
            "marker": {
             "line": {
              "color": "white",
              "width": 0.5
             }
            },
            "type": "barpolar"
           }
          ],
          "carpet": [
           {
            "aaxis": {
             "endlinecolor": "rgb(36,36,36)",
             "gridcolor": "white",
             "linecolor": "white",
             "minorgridcolor": "white",
             "startlinecolor": "rgb(36,36,36)"
            },
            "baxis": {
             "endlinecolor": "rgb(36,36,36)",
             "gridcolor": "white",
             "linecolor": "white",
             "minorgridcolor": "white",
             "startlinecolor": "rgb(36,36,36)"
            },
            "type": "carpet"
           }
          ],
          "choropleth": [
           {
            "colorbar": {
             "outlinewidth": 1,
             "tickcolor": "rgb(36,36,36)",
             "ticks": "outside"
            },
            "type": "choropleth"
           }
          ],
          "contour": [
           {
            "colorbar": {
             "outlinewidth": 1,
             "tickcolor": "rgb(36,36,36)",
             "ticks": "outside"
            },
            "colorscale": [
             [
              0,
              "#440154"
             ],
             [
              0.1111111111111111,
              "#482878"
             ],
             [
              0.2222222222222222,
              "#3e4989"
             ],
             [
              0.3333333333333333,
              "#31688e"
             ],
             [
              0.4444444444444444,
              "#26828e"
             ],
             [
              0.5555555555555556,
              "#1f9e89"
             ],
             [
              0.6666666666666666,
              "#35b779"
             ],
             [
              0.7777777777777778,
              "#6ece58"
             ],
             [
              0.8888888888888888,
              "#b5de2b"
             ],
             [
              1,
              "#fde725"
             ]
            ],
            "type": "contour"
           }
          ],
          "contourcarpet": [
           {
            "colorbar": {
             "outlinewidth": 1,
             "tickcolor": "rgb(36,36,36)",
             "ticks": "outside"
            },
            "type": "contourcarpet"
           }
          ],
          "heatmap": [
           {
            "colorbar": {
             "outlinewidth": 1,
             "tickcolor": "rgb(36,36,36)",
             "ticks": "outside"
            },
            "colorscale": [
             [
              0,
              "#440154"
             ],
             [
              0.1111111111111111,
              "#482878"
             ],
             [
              0.2222222222222222,
              "#3e4989"
             ],
             [
              0.3333333333333333,
              "#31688e"
             ],
             [
              0.4444444444444444,
              "#26828e"
             ],
             [
              0.5555555555555556,
              "#1f9e89"
             ],
             [
              0.6666666666666666,
              "#35b779"
             ],
             [
              0.7777777777777778,
              "#6ece58"
             ],
             [
              0.8888888888888888,
              "#b5de2b"
             ],
             [
              1,
              "#fde725"
             ]
            ],
            "type": "heatmap"
           }
          ],
          "heatmapgl": [
           {
            "colorbar": {
             "outlinewidth": 1,
             "tickcolor": "rgb(36,36,36)",
             "ticks": "outside"
            },
            "colorscale": [
             [
              0,
              "#440154"
             ],
             [
              0.1111111111111111,
              "#482878"
             ],
             [
              0.2222222222222222,
              "#3e4989"
             ],
             [
              0.3333333333333333,
              "#31688e"
             ],
             [
              0.4444444444444444,
              "#26828e"
             ],
             [
              0.5555555555555556,
              "#1f9e89"
             ],
             [
              0.6666666666666666,
              "#35b779"
             ],
             [
              0.7777777777777778,
              "#6ece58"
             ],
             [
              0.8888888888888888,
              "#b5de2b"
             ],
             [
              1,
              "#fde725"
             ]
            ],
            "type": "heatmapgl"
           }
          ],
          "histogram": [
           {
            "marker": {
             "line": {
              "color": "white",
              "width": 0.6
             }
            },
            "type": "histogram"
           }
          ],
          "histogram2d": [
           {
            "colorbar": {
             "outlinewidth": 1,
             "tickcolor": "rgb(36,36,36)",
             "ticks": "outside"
            },
            "colorscale": [
             [
              0,
              "#440154"
             ],
             [
              0.1111111111111111,
              "#482878"
             ],
             [
              0.2222222222222222,
              "#3e4989"
             ],
             [
              0.3333333333333333,
              "#31688e"
             ],
             [
              0.4444444444444444,
              "#26828e"
             ],
             [
              0.5555555555555556,
              "#1f9e89"
             ],
             [
              0.6666666666666666,
              "#35b779"
             ],
             [
              0.7777777777777778,
              "#6ece58"
             ],
             [
              0.8888888888888888,
              "#b5de2b"
             ],
             [
              1,
              "#fde725"
             ]
            ],
            "type": "histogram2d"
           }
          ],
          "histogram2dcontour": [
           {
            "colorbar": {
             "outlinewidth": 1,
             "tickcolor": "rgb(36,36,36)",
             "ticks": "outside"
            },
            "colorscale": [
             [
              0,
              "#440154"
             ],
             [
              0.1111111111111111,
              "#482878"
             ],
             [
              0.2222222222222222,
              "#3e4989"
             ],
             [
              0.3333333333333333,
              "#31688e"
             ],
             [
              0.4444444444444444,
              "#26828e"
             ],
             [
              0.5555555555555556,
              "#1f9e89"
             ],
             [
              0.6666666666666666,
              "#35b779"
             ],
             [
              0.7777777777777778,
              "#6ece58"
             ],
             [
              0.8888888888888888,
              "#b5de2b"
             ],
             [
              1,
              "#fde725"
             ]
            ],
            "type": "histogram2dcontour"
           }
          ],
          "mesh3d": [
           {
            "colorbar": {
             "outlinewidth": 1,
             "tickcolor": "rgb(36,36,36)",
             "ticks": "outside"
            },
            "type": "mesh3d"
           }
          ],
          "parcoords": [
           {
            "line": {
             "colorbar": {
              "outlinewidth": 1,
              "tickcolor": "rgb(36,36,36)",
              "ticks": "outside"
             }
            },
            "type": "parcoords"
           }
          ],
          "pie": [
           {
            "automargin": true,
            "type": "pie"
           }
          ],
          "scatter": [
           {
            "marker": {
             "colorbar": {
              "outlinewidth": 1,
              "tickcolor": "rgb(36,36,36)",
              "ticks": "outside"
             }
            },
            "type": "scatter"
           }
          ],
          "scatter3d": [
           {
            "line": {
             "colorbar": {
              "outlinewidth": 1,
              "tickcolor": "rgb(36,36,36)",
              "ticks": "outside"
             }
            },
            "marker": {
             "colorbar": {
              "outlinewidth": 1,
              "tickcolor": "rgb(36,36,36)",
              "ticks": "outside"
             }
            },
            "type": "scatter3d"
           }
          ],
          "scattercarpet": [
           {
            "marker": {
             "colorbar": {
              "outlinewidth": 1,
              "tickcolor": "rgb(36,36,36)",
              "ticks": "outside"
             }
            },
            "type": "scattercarpet"
           }
          ],
          "scattergeo": [
           {
            "marker": {
             "colorbar": {
              "outlinewidth": 1,
              "tickcolor": "rgb(36,36,36)",
              "ticks": "outside"
             }
            },
            "type": "scattergeo"
           }
          ],
          "scattergl": [
           {
            "marker": {
             "colorbar": {
              "outlinewidth": 1,
              "tickcolor": "rgb(36,36,36)",
              "ticks": "outside"
             }
            },
            "type": "scattergl"
           }
          ],
          "scattermapbox": [
           {
            "marker": {
             "colorbar": {
              "outlinewidth": 1,
              "tickcolor": "rgb(36,36,36)",
              "ticks": "outside"
             }
            },
            "type": "scattermapbox"
           }
          ],
          "scatterpolar": [
           {
            "marker": {
             "colorbar": {
              "outlinewidth": 1,
              "tickcolor": "rgb(36,36,36)",
              "ticks": "outside"
             }
            },
            "type": "scatterpolar"
           }
          ],
          "scatterpolargl": [
           {
            "marker": {
             "colorbar": {
              "outlinewidth": 1,
              "tickcolor": "rgb(36,36,36)",
              "ticks": "outside"
             }
            },
            "type": "scatterpolargl"
           }
          ],
          "scatterternary": [
           {
            "marker": {
             "colorbar": {
              "outlinewidth": 1,
              "tickcolor": "rgb(36,36,36)",
              "ticks": "outside"
             }
            },
            "type": "scatterternary"
           }
          ],
          "surface": [
           {
            "colorbar": {
             "outlinewidth": 1,
             "tickcolor": "rgb(36,36,36)",
             "ticks": "outside"
            },
            "colorscale": [
             [
              0,
              "#440154"
             ],
             [
              0.1111111111111111,
              "#482878"
             ],
             [
              0.2222222222222222,
              "#3e4989"
             ],
             [
              0.3333333333333333,
              "#31688e"
             ],
             [
              0.4444444444444444,
              "#26828e"
             ],
             [
              0.5555555555555556,
              "#1f9e89"
             ],
             [
              0.6666666666666666,
              "#35b779"
             ],
             [
              0.7777777777777778,
              "#6ece58"
             ],
             [
              0.8888888888888888,
              "#b5de2b"
             ],
             [
              1,
              "#fde725"
             ]
            ],
            "type": "surface"
           }
          ],
          "table": [
           {
            "cells": {
             "fill": {
              "color": "rgb(237,237,237)"
             },
             "line": {
              "color": "white"
             }
            },
            "header": {
             "fill": {
              "color": "rgb(217,217,217)"
             },
             "line": {
              "color": "white"
             }
            },
            "type": "table"
           }
          ]
         },
         "layout": {
          "annotationdefaults": {
           "arrowhead": 0,
           "arrowwidth": 1
          },
          "autotypenumbers": "strict",
          "coloraxis": {
           "colorbar": {
            "outlinewidth": 1,
            "tickcolor": "rgb(36,36,36)",
            "ticks": "outside"
           }
          },
          "colorscale": {
           "diverging": [
            [
             0,
             "rgb(103,0,31)"
            ],
            [
             0.1,
             "rgb(178,24,43)"
            ],
            [
             0.2,
             "rgb(214,96,77)"
            ],
            [
             0.3,
             "rgb(244,165,130)"
            ],
            [
             0.4,
             "rgb(253,219,199)"
            ],
            [
             0.5,
             "rgb(247,247,247)"
            ],
            [
             0.6,
             "rgb(209,229,240)"
            ],
            [
             0.7,
             "rgb(146,197,222)"
            ],
            [
             0.8,
             "rgb(67,147,195)"
            ],
            [
             0.9,
             "rgb(33,102,172)"
            ],
            [
             1,
             "rgb(5,48,97)"
            ]
           ],
           "sequential": [
            [
             0,
             "#440154"
            ],
            [
             0.1111111111111111,
             "#482878"
            ],
            [
             0.2222222222222222,
             "#3e4989"
            ],
            [
             0.3333333333333333,
             "#31688e"
            ],
            [
             0.4444444444444444,
             "#26828e"
            ],
            [
             0.5555555555555556,
             "#1f9e89"
            ],
            [
             0.6666666666666666,
             "#35b779"
            ],
            [
             0.7777777777777778,
             "#6ece58"
            ],
            [
             0.8888888888888888,
             "#b5de2b"
            ],
            [
             1,
             "#fde725"
            ]
           ],
           "sequentialminus": [
            [
             0,
             "#440154"
            ],
            [
             0.1111111111111111,
             "#482878"
            ],
            [
             0.2222222222222222,
             "#3e4989"
            ],
            [
             0.3333333333333333,
             "#31688e"
            ],
            [
             0.4444444444444444,
             "#26828e"
            ],
            [
             0.5555555555555556,
             "#1f9e89"
            ],
            [
             0.6666666666666666,
             "#35b779"
            ],
            [
             0.7777777777777778,
             "#6ece58"
            ],
            [
             0.8888888888888888,
             "#b5de2b"
            ],
            [
             1,
             "#fde725"
            ]
           ]
          },
          "colorway": [
           "#1F77B4",
           "#FF7F0E",
           "#2CA02C",
           "#D62728",
           "#9467BD",
           "#8C564B",
           "#E377C2",
           "#7F7F7F",
           "#BCBD22",
           "#17BECF"
          ],
          "font": {
           "color": "rgb(36,36,36)"
          },
          "geo": {
           "bgcolor": "white",
           "lakecolor": "white",
           "landcolor": "white",
           "showlakes": true,
           "showland": true,
           "subunitcolor": "white"
          },
          "hoverlabel": {
           "align": "left"
          },
          "hovermode": "closest",
          "mapbox": {
           "style": "light"
          },
          "margin": {
           "b": 0,
           "l": 20,
           "r": 20,
           "t": 40
          },
          "paper_bgcolor": "white",
          "plot_bgcolor": "white",
          "polar": {
           "angularaxis": {
            "gridcolor": "rgb(232,232,232)",
            "linecolor": "rgb(36,36,36)",
            "showgrid": false,
            "showline": true,
            "ticks": "outside"
           },
           "bgcolor": "white",
           "radialaxis": {
            "gridcolor": "rgb(232,232,232)",
            "linecolor": "rgb(36,36,36)",
            "showgrid": false,
            "showline": true,
            "ticks": "outside"
           }
          },
          "scene": {
           "xaxis": {
            "backgroundcolor": "white",
            "gridcolor": "rgb(232,232,232)",
            "gridwidth": 2,
            "linecolor": "rgb(36,36,36)",
            "showbackground": true,
            "showgrid": false,
            "showline": true,
            "ticks": "outside",
            "zeroline": false,
            "zerolinecolor": "rgb(36,36,36)"
           },
           "yaxis": {
            "backgroundcolor": "white",
            "gridcolor": "rgb(232,232,232)",
            "gridwidth": 2,
            "linecolor": "rgb(36,36,36)",
            "showbackground": true,
            "showgrid": false,
            "showline": true,
            "ticks": "outside",
            "zeroline": false,
            "zerolinecolor": "rgb(36,36,36)"
           },
           "zaxis": {
            "backgroundcolor": "white",
            "gridcolor": "rgb(232,232,232)",
            "gridwidth": 2,
            "linecolor": "rgb(36,36,36)",
            "showbackground": true,
            "showgrid": false,
            "showline": true,
            "ticks": "outside",
            "zeroline": false,
            "zerolinecolor": "rgb(36,36,36)"
           }
          },
          "shapedefaults": {
           "fillcolor": "black",
           "line": {
            "width": 0
           },
           "opacity": 0.3
          },
          "ternary": {
           "aaxis": {
            "gridcolor": "rgb(232,232,232)",
            "linecolor": "rgb(36,36,36)",
            "showgrid": false,
            "showline": true,
            "ticks": "outside"
           },
           "baxis": {
            "gridcolor": "rgb(232,232,232)",
            "linecolor": "rgb(36,36,36)",
            "showgrid": false,
            "showline": true,
            "ticks": "outside"
           },
           "bgcolor": "white",
           "caxis": {
            "gridcolor": "rgb(232,232,232)",
            "linecolor": "rgb(36,36,36)",
            "showgrid": false,
            "showline": true,
            "ticks": "outside"
           }
          },
          "title": {
           "x": 0.05
          },
          "xaxis": {
           "automargin": true,
           "gridcolor": "rgb(232,232,232)",
           "linecolor": "rgb(36,36,36)",
           "showgrid": false,
           "showline": true,
           "ticks": "outside",
           "title": {
            "standoff": 15
           },
           "zeroline": false,
           "zerolinecolor": "rgb(36,36,36)"
          },
          "yaxis": {
           "automargin": true,
           "gridcolor": "rgb(232,232,232)",
           "linecolor": "rgb(36,36,36)",
           "showgrid": false,
           "showline": true,
           "ticks": "outside",
           "title": {
            "standoff": 15
           },
           "zeroline": false,
           "zerolinecolor": "rgb(36,36,36)"
          }
         }
        },
        "title": {
         "text": "$\\text{(6) Average Train } MSE \\text{ As Function of } \\left(k,\\sigma^2\\right)$"
        },
        "xaxis": {
         "title": {
          "text": "$k$ - Fitted Polynomial Degree"
         }
        },
        "yaxis": {
         "title": {
          "text": "$\\sigma^2$ - Noise Levels"
         }
        }
       }
      },
      "text/html": [
       "<div>                            <div id=\"5d20c510-c09a-4918-b266-a31ac19148cb\" class=\"plotly-graph-div\" style=\"height:525px; width:100%;\"></div>            <script type=\"text/javascript\">                require([\"plotly\"], function(Plotly) {                    window.PLOTLYENV=window.PLOTLYENV || {};                                    if (document.getElementById(\"5d20c510-c09a-4918-b266-a31ac19148cb\")) {                    Plotly.newPlot(                        \"5d20c510-c09a-4918-b266-a31ac19148cb\",                        [{\"colorscale\": [[0.0, \"rgb(241, 236, 236)\"], [0.09090909090909091, \"rgb(230, 209, 203)\"], [0.18181818181818182, \"rgb(221, 182, 170)\"], [0.2727272727272727, \"rgb(213, 156, 137)\"], [0.36363636363636365, \"rgb(205, 129, 103)\"], [0.45454545454545453, \"rgb(196, 102, 73)\"], [0.5454545454545454, \"rgb(186, 74, 47)\"], [0.6363636363636364, \"rgb(172, 44, 36)\"], [0.7272727272727273, \"rgb(149, 19, 39)\"], [0.8181818181818182, \"rgb(120, 14, 40)\"], [0.9090909090909091, \"rgb(89, 13, 31)\"], [1.0, \"rgb(60, 9, 17)\"]], \"type\": \"heatmap\", \"x\": [0, 0, 0, 0, 0, 0, 0, 0, 0, 0, 1, 1, 1, 1, 1, 1, 1, 1, 1, 1, 2, 2, 2, 2, 2, 2, 2, 2, 2, 2, 3, 3, 3, 3, 3, 3, 3, 3, 3, 3, 4, 4, 4, 4, 4, 4, 4, 4, 4, 4, 5, 5, 5, 5, 5, 5, 5, 5, 5, 5, 6, 6, 6, 6, 6, 6, 6, 6, 6, 6, 7, 7, 7, 7, 7, 7, 7, 7, 7, 7, 8, 8, 8, 8, 8, 8, 8, 8, 8, 8, 9, 9, 9, 9, 9, 9, 9, 9, 9, 9], \"y\": [0.0, 0.5555555555555556, 1.1111111111111112, 1.6666666666666667, 2.2222222222222223, 2.7777777777777777, 3.3333333333333335, 3.8888888888888893, 4.444444444444445, 5.0, 0.0, 0.5555555555555556, 1.1111111111111112, 1.6666666666666667, 2.2222222222222223, 2.7777777777777777, 3.3333333333333335, 3.8888888888888893, 4.444444444444445, 5.0, 0.0, 0.5555555555555556, 1.1111111111111112, 1.6666666666666667, 2.2222222222222223, 2.7777777777777777, 3.3333333333333335, 3.8888888888888893, 4.444444444444445, 5.0, 0.0, 0.5555555555555556, 1.1111111111111112, 1.6666666666666667, 2.2222222222222223, 2.7777777777777777, 3.3333333333333335, 3.8888888888888893, 4.444444444444445, 5.0, 0.0, 0.5555555555555556, 1.1111111111111112, 1.6666666666666667, 2.2222222222222223, 2.7777777777777777, 3.3333333333333335, 3.8888888888888893, 4.444444444444445, 5.0, 0.0, 0.5555555555555556, 1.1111111111111112, 1.6666666666666667, 2.2222222222222223, 2.7777777777777777, 3.3333333333333335, 3.8888888888888893, 4.444444444444445, 5.0, 0.0, 0.5555555555555556, 1.1111111111111112, 1.6666666666666667, 2.2222222222222223, 2.7777777777777777, 3.3333333333333335, 3.8888888888888893, 4.444444444444445, 5.0, 0.0, 0.5555555555555556, 1.1111111111111112, 1.6666666666666667, 2.2222222222222223, 2.7777777777777777, 3.3333333333333335, 3.8888888888888893, 4.444444444444445, 5.0, 0.0, 0.5555555555555556, 1.1111111111111112, 1.6666666666666667, 2.2222222222222223, 2.7777777777777777, 3.3333333333333335, 3.8888888888888893, 4.444444444444445, 5.0, 0.0, 0.5555555555555556, 1.1111111111111112, 1.6666666666666667, 2.2222222222222223, 2.7777777777777777, 3.3333333333333335, 3.8888888888888893, 4.444444444444445, 5.0], \"z\": [3.5725573368628147, 4.154931532452154, 5.032403046193414, 6.061467278294765, 7.576134078896994, 10.288535832281315, 14.932582632053641, 18.557645449847758, 24.903277104714284, 25.2851497833331, 0.5815542576502363, 0.7905280715189691, 1.4221965910017373, 2.874834293518977, 5.685297493456009, 7.842389481441837, 10.739066917431185, 15.13459466025211, 17.77916226680619, 23.78762666201334, 0.42883609595913175, 0.6174266048649466, 1.5420117028839986, 2.5848663808624655, 4.535452593915958, 7.221259296808301, 10.125569494390087, 12.597743230618676, 19.28786939921583, 19.360179883434125, 0.3482639270462423, 0.6230084147287125, 1.4021085053914182, 2.6046383162774034, 3.796038254713099, 7.087020852030912, 9.462655190497395, 14.808859896651152, 16.479520838831014, 19.563226112092792, 1.7539829189523432e-30, 0.2035861589850927, 0.9495439159460585, 2.596407210676668, 3.4592742861935593, 5.414233034409385, 8.517792346356467, 10.037160252645364, 15.889633614020886, 24.76791313404432, 1.086045762335562e-28, 0.19886437732913403, 0.8173674661283284, 1.9249161119991274, 3.7081448441965383, 5.489976800289622, 8.288405184406367, 11.614885210912355, 13.704293587010431, 13.669584587660387, 5.1713530122730556e-30, 0.2083673504291051, 0.8611899101451372, 1.7994726149833613, 2.6989493605321253, 5.34082319964876, 9.587759837852063, 9.6965132153704, 12.166917163400988, 14.139012565542851, 1.5418532911577556e-29, 0.163061750417315, 0.9669091316831759, 1.4626444408557362, 3.312856266736554, 3.877613296765348, 7.644554711254417, 6.289681747143436, 12.714431264860988, 15.285066184644592, 2.71047676653282e-29, 0.17796497805204975, 0.785218015206963, 1.5263364050388533, 2.2427031801603716, 3.769853679714869, 5.701558428343021, 9.634263423797481, 11.642300640416273, 15.091481253811176, 4.8249937710744534e-30, 0.14753204544776735, 0.586368983665378, 1.1806507819691618, 2.7952975024700684, 3.9467301287091834, 5.285494244643112, 7.6404434483307835, 10.773425219330178, 11.467696110392952]}],                        {\"template\": {\"data\": {\"bar\": [{\"error_x\": {\"color\": \"rgb(36,36,36)\"}, \"error_y\": {\"color\": \"rgb(36,36,36)\"}, \"marker\": {\"line\": {\"color\": \"white\", \"width\": 0.5}}, \"type\": \"bar\"}], \"barpolar\": [{\"marker\": {\"line\": {\"color\": \"white\", \"width\": 0.5}}, \"type\": \"barpolar\"}], \"carpet\": [{\"aaxis\": {\"endlinecolor\": \"rgb(36,36,36)\", \"gridcolor\": \"white\", \"linecolor\": \"white\", \"minorgridcolor\": \"white\", \"startlinecolor\": \"rgb(36,36,36)\"}, \"baxis\": {\"endlinecolor\": \"rgb(36,36,36)\", \"gridcolor\": \"white\", \"linecolor\": \"white\", \"minorgridcolor\": \"white\", \"startlinecolor\": \"rgb(36,36,36)\"}, \"type\": \"carpet\"}], \"choropleth\": [{\"colorbar\": {\"outlinewidth\": 1, \"tickcolor\": \"rgb(36,36,36)\", \"ticks\": \"outside\"}, \"type\": \"choropleth\"}], \"contour\": [{\"colorbar\": {\"outlinewidth\": 1, \"tickcolor\": \"rgb(36,36,36)\", \"ticks\": \"outside\"}, \"colorscale\": [[0.0, \"#440154\"], [0.1111111111111111, \"#482878\"], [0.2222222222222222, \"#3e4989\"], [0.3333333333333333, \"#31688e\"], [0.4444444444444444, \"#26828e\"], [0.5555555555555556, \"#1f9e89\"], [0.6666666666666666, \"#35b779\"], [0.7777777777777778, \"#6ece58\"], [0.8888888888888888, \"#b5de2b\"], [1.0, \"#fde725\"]], \"type\": \"contour\"}], \"contourcarpet\": [{\"colorbar\": {\"outlinewidth\": 1, \"tickcolor\": \"rgb(36,36,36)\", \"ticks\": \"outside\"}, \"type\": \"contourcarpet\"}], \"heatmap\": [{\"colorbar\": {\"outlinewidth\": 1, \"tickcolor\": \"rgb(36,36,36)\", \"ticks\": \"outside\"}, \"colorscale\": [[0.0, \"#440154\"], [0.1111111111111111, \"#482878\"], [0.2222222222222222, \"#3e4989\"], [0.3333333333333333, \"#31688e\"], [0.4444444444444444, \"#26828e\"], [0.5555555555555556, \"#1f9e89\"], [0.6666666666666666, \"#35b779\"], [0.7777777777777778, \"#6ece58\"], [0.8888888888888888, \"#b5de2b\"], [1.0, \"#fde725\"]], \"type\": \"heatmap\"}], \"heatmapgl\": [{\"colorbar\": {\"outlinewidth\": 1, \"tickcolor\": \"rgb(36,36,36)\", \"ticks\": \"outside\"}, \"colorscale\": [[0.0, \"#440154\"], [0.1111111111111111, \"#482878\"], [0.2222222222222222, \"#3e4989\"], [0.3333333333333333, \"#31688e\"], [0.4444444444444444, \"#26828e\"], [0.5555555555555556, \"#1f9e89\"], [0.6666666666666666, \"#35b779\"], [0.7777777777777778, \"#6ece58\"], [0.8888888888888888, \"#b5de2b\"], [1.0, \"#fde725\"]], \"type\": \"heatmapgl\"}], \"histogram\": [{\"marker\": {\"line\": {\"color\": \"white\", \"width\": 0.6}}, \"type\": \"histogram\"}], \"histogram2d\": [{\"colorbar\": {\"outlinewidth\": 1, \"tickcolor\": \"rgb(36,36,36)\", \"ticks\": \"outside\"}, \"colorscale\": [[0.0, \"#440154\"], [0.1111111111111111, \"#482878\"], [0.2222222222222222, \"#3e4989\"], [0.3333333333333333, \"#31688e\"], [0.4444444444444444, \"#26828e\"], [0.5555555555555556, \"#1f9e89\"], [0.6666666666666666, \"#35b779\"], [0.7777777777777778, \"#6ece58\"], [0.8888888888888888, \"#b5de2b\"], [1.0, \"#fde725\"]], \"type\": \"histogram2d\"}], \"histogram2dcontour\": [{\"colorbar\": {\"outlinewidth\": 1, \"tickcolor\": \"rgb(36,36,36)\", \"ticks\": \"outside\"}, \"colorscale\": [[0.0, \"#440154\"], [0.1111111111111111, \"#482878\"], [0.2222222222222222, \"#3e4989\"], [0.3333333333333333, \"#31688e\"], [0.4444444444444444, \"#26828e\"], [0.5555555555555556, \"#1f9e89\"], [0.6666666666666666, \"#35b779\"], [0.7777777777777778, \"#6ece58\"], [0.8888888888888888, \"#b5de2b\"], [1.0, \"#fde725\"]], \"type\": \"histogram2dcontour\"}], \"mesh3d\": [{\"colorbar\": {\"outlinewidth\": 1, \"tickcolor\": \"rgb(36,36,36)\", \"ticks\": \"outside\"}, \"type\": \"mesh3d\"}], \"parcoords\": [{\"line\": {\"colorbar\": {\"outlinewidth\": 1, \"tickcolor\": \"rgb(36,36,36)\", \"ticks\": \"outside\"}}, \"type\": \"parcoords\"}], \"pie\": [{\"automargin\": true, \"type\": \"pie\"}], \"scatter\": [{\"marker\": {\"colorbar\": {\"outlinewidth\": 1, \"tickcolor\": \"rgb(36,36,36)\", \"ticks\": \"outside\"}}, \"type\": \"scatter\"}], \"scatter3d\": [{\"line\": {\"colorbar\": {\"outlinewidth\": 1, \"tickcolor\": \"rgb(36,36,36)\", \"ticks\": \"outside\"}}, \"marker\": {\"colorbar\": {\"outlinewidth\": 1, \"tickcolor\": \"rgb(36,36,36)\", \"ticks\": \"outside\"}}, \"type\": \"scatter3d\"}], \"scattercarpet\": [{\"marker\": {\"colorbar\": {\"outlinewidth\": 1, \"tickcolor\": \"rgb(36,36,36)\", \"ticks\": \"outside\"}}, \"type\": \"scattercarpet\"}], \"scattergeo\": [{\"marker\": {\"colorbar\": {\"outlinewidth\": 1, \"tickcolor\": \"rgb(36,36,36)\", \"ticks\": \"outside\"}}, \"type\": \"scattergeo\"}], \"scattergl\": [{\"marker\": {\"colorbar\": {\"outlinewidth\": 1, \"tickcolor\": \"rgb(36,36,36)\", \"ticks\": \"outside\"}}, \"type\": \"scattergl\"}], \"scattermapbox\": [{\"marker\": {\"colorbar\": {\"outlinewidth\": 1, \"tickcolor\": \"rgb(36,36,36)\", \"ticks\": \"outside\"}}, \"type\": \"scattermapbox\"}], \"scatterpolar\": [{\"marker\": {\"colorbar\": {\"outlinewidth\": 1, \"tickcolor\": \"rgb(36,36,36)\", \"ticks\": \"outside\"}}, \"type\": \"scatterpolar\"}], \"scatterpolargl\": [{\"marker\": {\"colorbar\": {\"outlinewidth\": 1, \"tickcolor\": \"rgb(36,36,36)\", \"ticks\": \"outside\"}}, \"type\": \"scatterpolargl\"}], \"scatterternary\": [{\"marker\": {\"colorbar\": {\"outlinewidth\": 1, \"tickcolor\": \"rgb(36,36,36)\", \"ticks\": \"outside\"}}, \"type\": \"scatterternary\"}], \"surface\": [{\"colorbar\": {\"outlinewidth\": 1, \"tickcolor\": \"rgb(36,36,36)\", \"ticks\": \"outside\"}, \"colorscale\": [[0.0, \"#440154\"], [0.1111111111111111, \"#482878\"], [0.2222222222222222, \"#3e4989\"], [0.3333333333333333, \"#31688e\"], [0.4444444444444444, \"#26828e\"], [0.5555555555555556, \"#1f9e89\"], [0.6666666666666666, \"#35b779\"], [0.7777777777777778, \"#6ece58\"], [0.8888888888888888, \"#b5de2b\"], [1.0, \"#fde725\"]], \"type\": \"surface\"}], \"table\": [{\"cells\": {\"fill\": {\"color\": \"rgb(237,237,237)\"}, \"line\": {\"color\": \"white\"}}, \"header\": {\"fill\": {\"color\": \"rgb(217,217,217)\"}, \"line\": {\"color\": \"white\"}}, \"type\": \"table\"}]}, \"layout\": {\"annotationdefaults\": {\"arrowhead\": 0, \"arrowwidth\": 1}, \"autotypenumbers\": \"strict\", \"coloraxis\": {\"colorbar\": {\"outlinewidth\": 1, \"tickcolor\": \"rgb(36,36,36)\", \"ticks\": \"outside\"}}, \"colorscale\": {\"diverging\": [[0.0, \"rgb(103,0,31)\"], [0.1, \"rgb(178,24,43)\"], [0.2, \"rgb(214,96,77)\"], [0.3, \"rgb(244,165,130)\"], [0.4, \"rgb(253,219,199)\"], [0.5, \"rgb(247,247,247)\"], [0.6, \"rgb(209,229,240)\"], [0.7, \"rgb(146,197,222)\"], [0.8, \"rgb(67,147,195)\"], [0.9, \"rgb(33,102,172)\"], [1.0, \"rgb(5,48,97)\"]], \"sequential\": [[0.0, \"#440154\"], [0.1111111111111111, \"#482878\"], [0.2222222222222222, \"#3e4989\"], [0.3333333333333333, \"#31688e\"], [0.4444444444444444, \"#26828e\"], [0.5555555555555556, \"#1f9e89\"], [0.6666666666666666, \"#35b779\"], [0.7777777777777778, \"#6ece58\"], [0.8888888888888888, \"#b5de2b\"], [1.0, \"#fde725\"]], \"sequentialminus\": [[0.0, \"#440154\"], [0.1111111111111111, \"#482878\"], [0.2222222222222222, \"#3e4989\"], [0.3333333333333333, \"#31688e\"], [0.4444444444444444, \"#26828e\"], [0.5555555555555556, \"#1f9e89\"], [0.6666666666666666, \"#35b779\"], [0.7777777777777778, \"#6ece58\"], [0.8888888888888888, \"#b5de2b\"], [1.0, \"#fde725\"]]}, \"colorway\": [\"#1F77B4\", \"#FF7F0E\", \"#2CA02C\", \"#D62728\", \"#9467BD\", \"#8C564B\", \"#E377C2\", \"#7F7F7F\", \"#BCBD22\", \"#17BECF\"], \"font\": {\"color\": \"rgb(36,36,36)\"}, \"geo\": {\"bgcolor\": \"white\", \"lakecolor\": \"white\", \"landcolor\": \"white\", \"showlakes\": true, \"showland\": true, \"subunitcolor\": \"white\"}, \"hoverlabel\": {\"align\": \"left\"}, \"hovermode\": \"closest\", \"mapbox\": {\"style\": \"light\"}, \"margin\": {\"b\": 0, \"l\": 20, \"r\": 20, \"t\": 40}, \"paper_bgcolor\": \"white\", \"plot_bgcolor\": \"white\", \"polar\": {\"angularaxis\": {\"gridcolor\": \"rgb(232,232,232)\", \"linecolor\": \"rgb(36,36,36)\", \"showgrid\": false, \"showline\": true, \"ticks\": \"outside\"}, \"bgcolor\": \"white\", \"radialaxis\": {\"gridcolor\": \"rgb(232,232,232)\", \"linecolor\": \"rgb(36,36,36)\", \"showgrid\": false, \"showline\": true, \"ticks\": \"outside\"}}, \"scene\": {\"xaxis\": {\"backgroundcolor\": \"white\", \"gridcolor\": \"rgb(232,232,232)\", \"gridwidth\": 2, \"linecolor\": \"rgb(36,36,36)\", \"showbackground\": true, \"showgrid\": false, \"showline\": true, \"ticks\": \"outside\", \"zeroline\": false, \"zerolinecolor\": \"rgb(36,36,36)\"}, \"yaxis\": {\"backgroundcolor\": \"white\", \"gridcolor\": \"rgb(232,232,232)\", \"gridwidth\": 2, \"linecolor\": \"rgb(36,36,36)\", \"showbackground\": true, \"showgrid\": false, \"showline\": true, \"ticks\": \"outside\", \"zeroline\": false, \"zerolinecolor\": \"rgb(36,36,36)\"}, \"zaxis\": {\"backgroundcolor\": \"white\", \"gridcolor\": \"rgb(232,232,232)\", \"gridwidth\": 2, \"linecolor\": \"rgb(36,36,36)\", \"showbackground\": true, \"showgrid\": false, \"showline\": true, \"ticks\": \"outside\", \"zeroline\": false, \"zerolinecolor\": \"rgb(36,36,36)\"}}, \"shapedefaults\": {\"fillcolor\": \"black\", \"line\": {\"width\": 0}, \"opacity\": 0.3}, \"ternary\": {\"aaxis\": {\"gridcolor\": \"rgb(232,232,232)\", \"linecolor\": \"rgb(36,36,36)\", \"showgrid\": false, \"showline\": true, \"ticks\": \"outside\"}, \"baxis\": {\"gridcolor\": \"rgb(232,232,232)\", \"linecolor\": \"rgb(36,36,36)\", \"showgrid\": false, \"showline\": true, \"ticks\": \"outside\"}, \"bgcolor\": \"white\", \"caxis\": {\"gridcolor\": \"rgb(232,232,232)\", \"linecolor\": \"rgb(36,36,36)\", \"showgrid\": false, \"showline\": true, \"ticks\": \"outside\"}}, \"title\": {\"x\": 0.05}, \"xaxis\": {\"automargin\": true, \"gridcolor\": \"rgb(232,232,232)\", \"linecolor\": \"rgb(36,36,36)\", \"showgrid\": false, \"showline\": true, \"ticks\": \"outside\", \"title\": {\"standoff\": 15}, \"zeroline\": false, \"zerolinecolor\": \"rgb(36,36,36)\"}, \"yaxis\": {\"automargin\": true, \"gridcolor\": \"rgb(232,232,232)\", \"linecolor\": \"rgb(36,36,36)\", \"showgrid\": false, \"showline\": true, \"ticks\": \"outside\", \"title\": {\"standoff\": 15}, \"zeroline\": false, \"zerolinecolor\": \"rgb(36,36,36)\"}}}, \"title\": {\"text\": \"$\\\\text{(6) Average Train } MSE \\\\text{ As Function of } \\\\left(k,\\\\sigma^2\\\\right)$\"}, \"xaxis\": {\"title\": {\"text\": \"$k$ - Fitted Polynomial Degree\"}}, \"yaxis\": {\"title\": {\"text\": \"$\\\\sigma^2$ - Noise Levels\"}}},                        {\"responsive\": true}                    ).then(function(){\n",
       "                            \n",
       "var gd = document.getElementById('5d20c510-c09a-4918-b266-a31ac19148cb');\n",
       "var x = new MutationObserver(function (mutations, observer) {{\n",
       "        var display = window.getComputedStyle(gd).display;\n",
       "        if (!display || display === 'none') {{\n",
       "            console.log([gd, 'removed!']);\n",
       "            Plotly.purge(gd);\n",
       "            observer.disconnect();\n",
       "        }}\n",
       "}});\n",
       "\n",
       "// Listen for the removal of the full notebook cells\n",
       "var notebookContainer = gd.closest('#notebook-container');\n",
       "if (notebookContainer) {{\n",
       "    x.observe(notebookContainer, {childList: true});\n",
       "}}\n",
       "\n",
       "// Listen for the clearing of the current output cell\n",
       "var outputEl = gd.closest('.output');\n",
       "if (outputEl) {{\n",
       "    x.observe(outputEl, {childList: true});\n",
       "}}\n",
       "\n",
       "                        })                };                });            </script>        </div>"
      ]
     },
     "metadata": {},
     "output_type": "display_data"
    }
   ],
   "source": [
    "from sklearn.model_selection import ParameterGrid\n",
    "\n",
    "df = []\n",
    "for setting in ParameterGrid(dict(k=range(10), s=np.linspace(0, 5, 10), repetition=range(10))):\n",
    "    y = y_ + np.random.normal(scale=setting[\"s\"], size=len(y_))\n",
    "    y_hat = make_pipeline(PolynomialFeatures(setting[\"k\"]), LinearRegression()).fit(X, y).predict(X)\n",
    "    \n",
    "    df.append([setting[\"k\"], setting[\"s\"], np.mean((y-y_hat)**2)])\n",
    "    \n",
    "df = pd.DataFrame.from_records(df, columns=[\"k\", \"sigma\",\"mse\"]).groupby([\"k\",\"sigma\"]).mean().reset_index()\n",
    "\n",
    "go.Figure(go.Heatmap(x=df.k, y=df.sigma, z=df.mse, colorscale=\"amp\"),\n",
    "          layout=go.Layout(title=r\"$\\text{(6) Average Train } MSE \\text{ As Function of } \\left(k,\\sigma^2\\right)$\", \n",
    "                           xaxis_title=r\"$k$ - Fitted Polynomial Degree\",\n",
    "                           yaxis_title=r\"$\\sigma^2$ - Noise Levels\")).show()\n"
   ]
  },
  {
   "cell_type": "markdown",
   "metadata": {
    "pycharm": {
     "name": "#%% md\n"
    }
   },
   "source": [
    "# Time To Think...\n",
    "\n",
    "In the above figure, we observe the following trends:\n",
    "- As already seen before, for the noise-free data, once we reach the correct $k$ we achieve zero MSE.\n",
    "- Across all values of $k$, as we increase $\\sigma^2$ we get higher MSE values.\n",
    "- For all noise levels, we manage to reduce MSE values by increasing $k$.\n",
    "\n",
    "So, by choosing a **richer** hypothesis class (i.e. larger and that can express more functions - polynomials of higher\n",
    "degree) we are able to choose an hypothesis that fits the **observed** data **better**, regardless to how noisy the data.\n",
    "Try and think how would the above heatmap look if instead of calculating the MSE over the training samples (i.e train error)\n",
    "we would have calculated it over a **new** set of test samples drawn from the same distribution.\n",
    "\n",
    "Use the below code to create a test set. Change the code generating figure 6 such that the reported error is a test error. Do not forget to add the noise (that depends on $\\sigma^2$) to the test data. What has changed between what we observe for the train error to the test error? What happens for high/low values of $\\sigma^2$? What happens for high\\low values of $k$?"
   ]
  },
  {
   "cell_type": "code",
   "execution_count": 9,
   "metadata": {},
   "outputs": [],
   "source": [
    "testX = np.linspace(-1.2, 2, 40)[1::2].reshape(-1,1)\n",
    "testY = response(testX)"
   ]
  }
 ],
 "metadata": {
  "kernelspec": {
   "display_name": "Python 3",
   "language": "python",
   "name": "python3"
  },
  "language_info": {
   "codemirror_mode": {
    "name": "ipython",
    "version": 3
   },
   "file_extension": ".py",
   "mimetype": "text/x-python",
   "name": "python",
   "nbconvert_exporter": "python",
   "pygments_lexer": "ipython3",
   "version": "3.7.9"
  },
  "pycharm": {
   "stem_cell": {
    "cell_type": "raw",
    "metadata": {
     "collapsed": false
    },
    "source": []
   }
  }
 },
 "nbformat": 4,
 "nbformat_minor": 1
}
