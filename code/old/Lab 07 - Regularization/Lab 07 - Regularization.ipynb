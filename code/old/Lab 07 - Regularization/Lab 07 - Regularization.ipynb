{
 "cells": [
  {
   "cell_type": "markdown",
   "source": [
    "# Regularization for Linear Models\n",
    "In the following lab you will experience fitting a linear model with lasso and ridge regularizations.\n",
    "\n",
    "You will be using the \"Hitters\" dataset, containing major league baseball data from the 1986 and 1987 seasons.\n",
    "Dataset taken from \"An Introduction to Statistical Learning with applications in R\" (Retrieved via ISLR package in R).\n",
    "\n",
    "The dataset consists of 322 observations of major league players on the following 20 variables. The response variable is \"Salary\"  "
   ],
   "metadata": {
    "collapsed": false
   }
  },
  {
   "cell_type": "code",
   "execution_count": 39,
   "outputs": [
    {
     "data": {
      "text/plain": "      Feature                                        Description\n0       AtBat                     Number of times at bat in 1986\n1        Hits                             Number of hits in 1986\n2       HmRun                        Number of home runs in 1986\n3        Runs                             Number of runs in 1986\n4         RBI                   Number of runs batted in in 1986\n5       Walks                            Number of walks in 1986\n6       Years               Number of years in the major leagues\n7      CAtBat           Number of times at bat during his career\n8       Chits                   Number of hits during his career\n9      CHmRun              Number of home runs during his career\n10      Cruns                   Number of runs during his career\n11       CRBI         Number of runs batted in during his career\n12     Cwalks                  Number of walks during his career\n13     League  A factor with levels A and N indicating player...\n14   Division  A factor with levels E and W indicating player...\n15    PutOuts                         Number of put outs in 1986\n16    Assists                          Number of assists in 1986\n17     Errors                           Number of errors in 1986\n18     Salary  1987 annual salary on opening day in thousands...\n19  NewLeague  A factor with levels A and N indicating player...",
      "text/html": "<div>\n<style scoped>\n    .dataframe tbody tr th:only-of-type {\n        vertical-align: middle;\n    }\n\n    .dataframe tbody tr th {\n        vertical-align: top;\n    }\n\n    .dataframe thead th {\n        text-align: right;\n    }\n</style>\n<table border=\"1\" class=\"dataframe\">\n  <thead>\n    <tr style=\"text-align: right;\">\n      <th></th>\n      <th>Feature</th>\n      <th>Description</th>\n    </tr>\n  </thead>\n  <tbody>\n    <tr>\n      <th>0</th>\n      <td>AtBat</td>\n      <td>Number of times at bat in 1986</td>\n    </tr>\n    <tr>\n      <th>1</th>\n      <td>Hits</td>\n      <td>Number of hits in 1986</td>\n    </tr>\n    <tr>\n      <th>2</th>\n      <td>HmRun</td>\n      <td>Number of home runs in 1986</td>\n    </tr>\n    <tr>\n      <th>3</th>\n      <td>Runs</td>\n      <td>Number of runs in 1986</td>\n    </tr>\n    <tr>\n      <th>4</th>\n      <td>RBI</td>\n      <td>Number of runs batted in in 1986</td>\n    </tr>\n    <tr>\n      <th>5</th>\n      <td>Walks</td>\n      <td>Number of walks in 1986</td>\n    </tr>\n    <tr>\n      <th>6</th>\n      <td>Years</td>\n      <td>Number of years in the major leagues</td>\n    </tr>\n    <tr>\n      <th>7</th>\n      <td>CAtBat</td>\n      <td>Number of times at bat during his career</td>\n    </tr>\n    <tr>\n      <th>8</th>\n      <td>Chits</td>\n      <td>Number of hits during his career</td>\n    </tr>\n    <tr>\n      <th>9</th>\n      <td>CHmRun</td>\n      <td>Number of home runs during his career</td>\n    </tr>\n    <tr>\n      <th>10</th>\n      <td>Cruns</td>\n      <td>Number of runs during his career</td>\n    </tr>\n    <tr>\n      <th>11</th>\n      <td>CRBI</td>\n      <td>Number of runs batted in during his career</td>\n    </tr>\n    <tr>\n      <th>12</th>\n      <td>Cwalks</td>\n      <td>Number of walks during his career</td>\n    </tr>\n    <tr>\n      <th>13</th>\n      <td>League</td>\n      <td>A factor with levels A and N indicating player...</td>\n    </tr>\n    <tr>\n      <th>14</th>\n      <td>Division</td>\n      <td>A factor with levels E and W indicating player...</td>\n    </tr>\n    <tr>\n      <th>15</th>\n      <td>PutOuts</td>\n      <td>Number of put outs in 1986</td>\n    </tr>\n    <tr>\n      <th>16</th>\n      <td>Assists</td>\n      <td>Number of assists in 1986</td>\n    </tr>\n    <tr>\n      <th>17</th>\n      <td>Errors</td>\n      <td>Number of errors in 1986</td>\n    </tr>\n    <tr>\n      <th>18</th>\n      <td>Salary</td>\n      <td>1987 annual salary on opening day in thousands...</td>\n    </tr>\n    <tr>\n      <th>19</th>\n      <td>NewLeague</td>\n      <td>A factor with levels A and N indicating player...</td>\n    </tr>\n  </tbody>\n</table>\n</div>"
     },
     "metadata": {},
     "output_type": "execute_result",
     "execution_count": 39
    }
   ],
   "source": [
    "import pandas as pd\n",
    "from pandas import DataFrame\n",
    "pd.read_csv(\"HittersDescription.csv\", encoding = \"ISO-8859-1\")"
   ],
   "metadata": {
    "collapsed": false,
    "pycharm": {
     "name": "#%%\n",
     "is_executing": false
    }
   }
  },
  {
   "cell_type": "code",
   "execution_count": 40,
   "outputs": [
    {
     "data": {
      "text/plain": "     AtBat  Hits  HmRun  Runs  RBI  Walks  Years  CAtBat  CHits  CHmRun  ...  \\\n0      293    66      1    30   29     14      1     293     66       1  ...   \n1      315    81      7    24   38     39     14    3449    835      69  ...   \n2      479   130     18    66   72     76      3    1624    457      63  ...   \n3      496   141     20    65   78     37     11    5628   1575     225  ...   \n4      321    87     10    39   42     30      2     396    101      12  ...   \n..     ...   ...    ...   ...  ...    ...    ...     ...    ...     ...  ...   \n317    497   127      7    65   48     37      5    2703    806      32  ...   \n318    492   136      5    76   50     94     12    5511   1511      39  ...   \n319    475   126      3    61   43     52      6    1700    433       7  ...   \n320    573   144      9    85   60     78      8    3198    857      97  ...   \n321    631   170      9    77   44     31     11    4908   1457      30  ...   \n\n     CRBI  CWalks  League Division PutOuts  Assists  Errors  Salary  \\\n0      29      14       A        E     446       33      20     NaN   \n1     414     375       N        W     632       43      10   475.0   \n2     266     263       A        W     880       82      14   480.0   \n3     838     354       N        E     200       11       3   500.0   \n4      46      33       N        E     805       40       4    91.5   \n..    ...     ...     ...      ...     ...      ...     ...     ...   \n317   311     138       N        E     325        9       3   700.0   \n318   451     875       A        E     313      381      20   875.0   \n319    93     146       A        W      37      113       7   385.0   \n320   420     332       A        E    1314      131      12   960.0   \n321   357     249       A        W     408        4       3  1000.0   \n\n     NewLeague             Player  \n0            A     -Andy Allanson  \n1            N        -Alan Ashby  \n2            A       -Alvin Davis  \n3            N      -Andre Dawson  \n4            N  -Andres Galarraga  \n..         ...                ...  \n317          N      -Willie McGee  \n318          A   -Willie Randolph  \n319          A    -Wayne Tolleson  \n320          A     -Willie Upshaw  \n321          A     -Willie Wilson  \n\n[322 rows x 21 columns]",
      "text/html": "<div>\n<style scoped>\n    .dataframe tbody tr th:only-of-type {\n        vertical-align: middle;\n    }\n\n    .dataframe tbody tr th {\n        vertical-align: top;\n    }\n\n    .dataframe thead th {\n        text-align: right;\n    }\n</style>\n<table border=\"1\" class=\"dataframe\">\n  <thead>\n    <tr style=\"text-align: right;\">\n      <th></th>\n      <th>AtBat</th>\n      <th>Hits</th>\n      <th>HmRun</th>\n      <th>Runs</th>\n      <th>RBI</th>\n      <th>Walks</th>\n      <th>Years</th>\n      <th>CAtBat</th>\n      <th>CHits</th>\n      <th>CHmRun</th>\n      <th>...</th>\n      <th>CRBI</th>\n      <th>CWalks</th>\n      <th>League</th>\n      <th>Division</th>\n      <th>PutOuts</th>\n      <th>Assists</th>\n      <th>Errors</th>\n      <th>Salary</th>\n      <th>NewLeague</th>\n      <th>Player</th>\n    </tr>\n  </thead>\n  <tbody>\n    <tr>\n      <th>0</th>\n      <td>293</td>\n      <td>66</td>\n      <td>1</td>\n      <td>30</td>\n      <td>29</td>\n      <td>14</td>\n      <td>1</td>\n      <td>293</td>\n      <td>66</td>\n      <td>1</td>\n      <td>...</td>\n      <td>29</td>\n      <td>14</td>\n      <td>A</td>\n      <td>E</td>\n      <td>446</td>\n      <td>33</td>\n      <td>20</td>\n      <td>NaN</td>\n      <td>A</td>\n      <td>-Andy Allanson</td>\n    </tr>\n    <tr>\n      <th>1</th>\n      <td>315</td>\n      <td>81</td>\n      <td>7</td>\n      <td>24</td>\n      <td>38</td>\n      <td>39</td>\n      <td>14</td>\n      <td>3449</td>\n      <td>835</td>\n      <td>69</td>\n      <td>...</td>\n      <td>414</td>\n      <td>375</td>\n      <td>N</td>\n      <td>W</td>\n      <td>632</td>\n      <td>43</td>\n      <td>10</td>\n      <td>475.0</td>\n      <td>N</td>\n      <td>-Alan Ashby</td>\n    </tr>\n    <tr>\n      <th>2</th>\n      <td>479</td>\n      <td>130</td>\n      <td>18</td>\n      <td>66</td>\n      <td>72</td>\n      <td>76</td>\n      <td>3</td>\n      <td>1624</td>\n      <td>457</td>\n      <td>63</td>\n      <td>...</td>\n      <td>266</td>\n      <td>263</td>\n      <td>A</td>\n      <td>W</td>\n      <td>880</td>\n      <td>82</td>\n      <td>14</td>\n      <td>480.0</td>\n      <td>A</td>\n      <td>-Alvin Davis</td>\n    </tr>\n    <tr>\n      <th>3</th>\n      <td>496</td>\n      <td>141</td>\n      <td>20</td>\n      <td>65</td>\n      <td>78</td>\n      <td>37</td>\n      <td>11</td>\n      <td>5628</td>\n      <td>1575</td>\n      <td>225</td>\n      <td>...</td>\n      <td>838</td>\n      <td>354</td>\n      <td>N</td>\n      <td>E</td>\n      <td>200</td>\n      <td>11</td>\n      <td>3</td>\n      <td>500.0</td>\n      <td>N</td>\n      <td>-Andre Dawson</td>\n    </tr>\n    <tr>\n      <th>4</th>\n      <td>321</td>\n      <td>87</td>\n      <td>10</td>\n      <td>39</td>\n      <td>42</td>\n      <td>30</td>\n      <td>2</td>\n      <td>396</td>\n      <td>101</td>\n      <td>12</td>\n      <td>...</td>\n      <td>46</td>\n      <td>33</td>\n      <td>N</td>\n      <td>E</td>\n      <td>805</td>\n      <td>40</td>\n      <td>4</td>\n      <td>91.5</td>\n      <td>N</td>\n      <td>-Andres Galarraga</td>\n    </tr>\n    <tr>\n      <th>...</th>\n      <td>...</td>\n      <td>...</td>\n      <td>...</td>\n      <td>...</td>\n      <td>...</td>\n      <td>...</td>\n      <td>...</td>\n      <td>...</td>\n      <td>...</td>\n      <td>...</td>\n      <td>...</td>\n      <td>...</td>\n      <td>...</td>\n      <td>...</td>\n      <td>...</td>\n      <td>...</td>\n      <td>...</td>\n      <td>...</td>\n      <td>...</td>\n      <td>...</td>\n      <td>...</td>\n    </tr>\n    <tr>\n      <th>317</th>\n      <td>497</td>\n      <td>127</td>\n      <td>7</td>\n      <td>65</td>\n      <td>48</td>\n      <td>37</td>\n      <td>5</td>\n      <td>2703</td>\n      <td>806</td>\n      <td>32</td>\n      <td>...</td>\n      <td>311</td>\n      <td>138</td>\n      <td>N</td>\n      <td>E</td>\n      <td>325</td>\n      <td>9</td>\n      <td>3</td>\n      <td>700.0</td>\n      <td>N</td>\n      <td>-Willie McGee</td>\n    </tr>\n    <tr>\n      <th>318</th>\n      <td>492</td>\n      <td>136</td>\n      <td>5</td>\n      <td>76</td>\n      <td>50</td>\n      <td>94</td>\n      <td>12</td>\n      <td>5511</td>\n      <td>1511</td>\n      <td>39</td>\n      <td>...</td>\n      <td>451</td>\n      <td>875</td>\n      <td>A</td>\n      <td>E</td>\n      <td>313</td>\n      <td>381</td>\n      <td>20</td>\n      <td>875.0</td>\n      <td>A</td>\n      <td>-Willie Randolph</td>\n    </tr>\n    <tr>\n      <th>319</th>\n      <td>475</td>\n      <td>126</td>\n      <td>3</td>\n      <td>61</td>\n      <td>43</td>\n      <td>52</td>\n      <td>6</td>\n      <td>1700</td>\n      <td>433</td>\n      <td>7</td>\n      <td>...</td>\n      <td>93</td>\n      <td>146</td>\n      <td>A</td>\n      <td>W</td>\n      <td>37</td>\n      <td>113</td>\n      <td>7</td>\n      <td>385.0</td>\n      <td>A</td>\n      <td>-Wayne Tolleson</td>\n    </tr>\n    <tr>\n      <th>320</th>\n      <td>573</td>\n      <td>144</td>\n      <td>9</td>\n      <td>85</td>\n      <td>60</td>\n      <td>78</td>\n      <td>8</td>\n      <td>3198</td>\n      <td>857</td>\n      <td>97</td>\n      <td>...</td>\n      <td>420</td>\n      <td>332</td>\n      <td>A</td>\n      <td>E</td>\n      <td>1314</td>\n      <td>131</td>\n      <td>12</td>\n      <td>960.0</td>\n      <td>A</td>\n      <td>-Willie Upshaw</td>\n    </tr>\n    <tr>\n      <th>321</th>\n      <td>631</td>\n      <td>170</td>\n      <td>9</td>\n      <td>77</td>\n      <td>44</td>\n      <td>31</td>\n      <td>11</td>\n      <td>4908</td>\n      <td>1457</td>\n      <td>30</td>\n      <td>...</td>\n      <td>357</td>\n      <td>249</td>\n      <td>A</td>\n      <td>W</td>\n      <td>408</td>\n      <td>4</td>\n      <td>3</td>\n      <td>1000.0</td>\n      <td>A</td>\n      <td>-Willie Wilson</td>\n    </tr>\n  </tbody>\n</table>\n<p>322 rows × 21 columns</p>\n</div>"
     },
     "metadata": {},
     "output_type": "execute_result",
     "execution_count": 40
    }
   ],
   "source": [
    "df = pd.read_csv(\"Hitters.csv\")\n",
    "df\n"
   ],
   "metadata": {
    "collapsed": false,
    "pycharm": {
     "name": "#%%\n",
     "is_executing": false
    }
   }
  },
  {
   "cell_type": "markdown",
   "source": [
    "# Pre-processing\n",
    "Most of the features of this dataset are numeric. For simplicity let us remove all textual categorical features, and deal only with numerical features."
   ],
   "metadata": {
    "collapsed": false
   }
  },
  {
   "cell_type": "code",
   "execution_count": 41,
   "outputs": [
    {
     "data": {
      "text/plain": "     AtBat  Hits  HmRun  Runs  RBI  Walks  Years  CAtBat  CHits  CHmRun  \\\n1      315    81      7    24   38     39     14    3449    835      69   \n2      479   130     18    66   72     76      3    1624    457      63   \n3      496   141     20    65   78     37     11    5628   1575     225   \n4      321    87     10    39   42     30      2     396    101      12   \n5      594   169      4    74   51     35     11    4408   1133      19   \n..     ...   ...    ...   ...  ...    ...    ...     ...    ...     ...   \n317    497   127      7    65   48     37      5    2703    806      32   \n318    492   136      5    76   50     94     12    5511   1511      39   \n319    475   126      3    61   43     52      6    1700    433       7   \n320    573   144      9    85   60     78      8    3198    857      97   \n321    631   170      9    77   44     31     11    4908   1457      30   \n\n     CRuns  CRBI  CWalks  PutOuts  Assists  Errors  Salary  \n1      321   414     375      632       43      10   475.0  \n2      224   266     263      880       82      14   480.0  \n3      828   838     354      200       11       3   500.0  \n4       48    46      33      805       40       4    91.5  \n5      501   336     194      282      421      25   750.0  \n..     ...   ...     ...      ...      ...     ...     ...  \n317    379   311     138      325        9       3   700.0  \n318    897   451     875      313      381      20   875.0  \n319    217    93     146       37      113       7   385.0  \n320    470   420     332     1314      131      12   960.0  \n321    775   357     249      408        4       3  1000.0  \n\n[263 rows x 17 columns]",
      "text/html": "<div>\n<style scoped>\n    .dataframe tbody tr th:only-of-type {\n        vertical-align: middle;\n    }\n\n    .dataframe tbody tr th {\n        vertical-align: top;\n    }\n\n    .dataframe thead th {\n        text-align: right;\n    }\n</style>\n<table border=\"1\" class=\"dataframe\">\n  <thead>\n    <tr style=\"text-align: right;\">\n      <th></th>\n      <th>AtBat</th>\n      <th>Hits</th>\n      <th>HmRun</th>\n      <th>Runs</th>\n      <th>RBI</th>\n      <th>Walks</th>\n      <th>Years</th>\n      <th>CAtBat</th>\n      <th>CHits</th>\n      <th>CHmRun</th>\n      <th>CRuns</th>\n      <th>CRBI</th>\n      <th>CWalks</th>\n      <th>PutOuts</th>\n      <th>Assists</th>\n      <th>Errors</th>\n      <th>Salary</th>\n    </tr>\n  </thead>\n  <tbody>\n    <tr>\n      <th>1</th>\n      <td>315</td>\n      <td>81</td>\n      <td>7</td>\n      <td>24</td>\n      <td>38</td>\n      <td>39</td>\n      <td>14</td>\n      <td>3449</td>\n      <td>835</td>\n      <td>69</td>\n      <td>321</td>\n      <td>414</td>\n      <td>375</td>\n      <td>632</td>\n      <td>43</td>\n      <td>10</td>\n      <td>475.0</td>\n    </tr>\n    <tr>\n      <th>2</th>\n      <td>479</td>\n      <td>130</td>\n      <td>18</td>\n      <td>66</td>\n      <td>72</td>\n      <td>76</td>\n      <td>3</td>\n      <td>1624</td>\n      <td>457</td>\n      <td>63</td>\n      <td>224</td>\n      <td>266</td>\n      <td>263</td>\n      <td>880</td>\n      <td>82</td>\n      <td>14</td>\n      <td>480.0</td>\n    </tr>\n    <tr>\n      <th>3</th>\n      <td>496</td>\n      <td>141</td>\n      <td>20</td>\n      <td>65</td>\n      <td>78</td>\n      <td>37</td>\n      <td>11</td>\n      <td>5628</td>\n      <td>1575</td>\n      <td>225</td>\n      <td>828</td>\n      <td>838</td>\n      <td>354</td>\n      <td>200</td>\n      <td>11</td>\n      <td>3</td>\n      <td>500.0</td>\n    </tr>\n    <tr>\n      <th>4</th>\n      <td>321</td>\n      <td>87</td>\n      <td>10</td>\n      <td>39</td>\n      <td>42</td>\n      <td>30</td>\n      <td>2</td>\n      <td>396</td>\n      <td>101</td>\n      <td>12</td>\n      <td>48</td>\n      <td>46</td>\n      <td>33</td>\n      <td>805</td>\n      <td>40</td>\n      <td>4</td>\n      <td>91.5</td>\n    </tr>\n    <tr>\n      <th>5</th>\n      <td>594</td>\n      <td>169</td>\n      <td>4</td>\n      <td>74</td>\n      <td>51</td>\n      <td>35</td>\n      <td>11</td>\n      <td>4408</td>\n      <td>1133</td>\n      <td>19</td>\n      <td>501</td>\n      <td>336</td>\n      <td>194</td>\n      <td>282</td>\n      <td>421</td>\n      <td>25</td>\n      <td>750.0</td>\n    </tr>\n    <tr>\n      <th>...</th>\n      <td>...</td>\n      <td>...</td>\n      <td>...</td>\n      <td>...</td>\n      <td>...</td>\n      <td>...</td>\n      <td>...</td>\n      <td>...</td>\n      <td>...</td>\n      <td>...</td>\n      <td>...</td>\n      <td>...</td>\n      <td>...</td>\n      <td>...</td>\n      <td>...</td>\n      <td>...</td>\n      <td>...</td>\n    </tr>\n    <tr>\n      <th>317</th>\n      <td>497</td>\n      <td>127</td>\n      <td>7</td>\n      <td>65</td>\n      <td>48</td>\n      <td>37</td>\n      <td>5</td>\n      <td>2703</td>\n      <td>806</td>\n      <td>32</td>\n      <td>379</td>\n      <td>311</td>\n      <td>138</td>\n      <td>325</td>\n      <td>9</td>\n      <td>3</td>\n      <td>700.0</td>\n    </tr>\n    <tr>\n      <th>318</th>\n      <td>492</td>\n      <td>136</td>\n      <td>5</td>\n      <td>76</td>\n      <td>50</td>\n      <td>94</td>\n      <td>12</td>\n      <td>5511</td>\n      <td>1511</td>\n      <td>39</td>\n      <td>897</td>\n      <td>451</td>\n      <td>875</td>\n      <td>313</td>\n      <td>381</td>\n      <td>20</td>\n      <td>875.0</td>\n    </tr>\n    <tr>\n      <th>319</th>\n      <td>475</td>\n      <td>126</td>\n      <td>3</td>\n      <td>61</td>\n      <td>43</td>\n      <td>52</td>\n      <td>6</td>\n      <td>1700</td>\n      <td>433</td>\n      <td>7</td>\n      <td>217</td>\n      <td>93</td>\n      <td>146</td>\n      <td>37</td>\n      <td>113</td>\n      <td>7</td>\n      <td>385.0</td>\n    </tr>\n    <tr>\n      <th>320</th>\n      <td>573</td>\n      <td>144</td>\n      <td>9</td>\n      <td>85</td>\n      <td>60</td>\n      <td>78</td>\n      <td>8</td>\n      <td>3198</td>\n      <td>857</td>\n      <td>97</td>\n      <td>470</td>\n      <td>420</td>\n      <td>332</td>\n      <td>1314</td>\n      <td>131</td>\n      <td>12</td>\n      <td>960.0</td>\n    </tr>\n    <tr>\n      <th>321</th>\n      <td>631</td>\n      <td>170</td>\n      <td>9</td>\n      <td>77</td>\n      <td>44</td>\n      <td>31</td>\n      <td>11</td>\n      <td>4908</td>\n      <td>1457</td>\n      <td>30</td>\n      <td>775</td>\n      <td>357</td>\n      <td>249</td>\n      <td>408</td>\n      <td>4</td>\n      <td>3</td>\n      <td>1000.0</td>\n    </tr>\n  </tbody>\n</table>\n<p>263 rows × 17 columns</p>\n</div>"
     },
     "metadata": {},
     "output_type": "execute_result",
     "execution_count": 41
    }
   ],
   "source": [
    "df = df.drop([\"Player\", \"League\", \"Division\", \"NewLeague\"], 1).dropna()\n",
    "df"
   ],
   "metadata": {
    "collapsed": false,
    "pycharm": {
     "name": "#%%\n",
     "is_executing": false
    }
   }
  },
  {
   "cell_type": "markdown",
   "source": [
    "# Fitting an OLS Model\n",
    "As a baseline consider fitting an Ordinary Least Square model over the data, predicting the relationship between all the \n",
    "explanatory variables and the response, the player's salary. "
   ],
   "metadata": {
    "collapsed": false,
    "pycharm": {
     "name": "#%% md\n"
    }
   }
  },
  {
   "cell_type": "code",
   "execution_count": 42,
   "outputs": [
    {
     "name": "stdout",
     "text": [
      "After splitting, we got 210 train samples and 53 test samples\n"
     ],
     "output_type": "stream"
    }
   ],
   "source": [
    "import numpy as np\n",
    "from sklearn.model_selection import train_test_split \n",
    "from sklearn.metrics import mean_squared_error\n",
    "from sklearn.linear_model import LinearRegression\n",
    "\n",
    "np.random.seed(0)\n",
    "\n",
    "train, test = train_test_split(df, test_size=0.2)\n",
    "trainX, trainY, testX, testY = train.loc[:, train.columns != 'Salary'], train[\"Salary\"], test.loc[:, test.columns != 'Salary'], test[\"Salary\"]\n",
    "\n",
    "print(\"After splitting, we got %d train samples and %d test samples\" % (len(train), len(test)))\n"
   ],
   "metadata": {
    "collapsed": false,
    "pycharm": {
     "name": "#%%\n",
     "is_executing": false
    }
   }
  },
  {
   "cell_type": "code",
   "execution_count": 43,
   "outputs": [
    {
     "name": "stdout",
     "text": [
      "Train Error: 90145.406048\nTest Error: 132925.004453\n"
     ],
     "output_type": "stream"
    },
    {
     "data": {
      "text/plain": "    Feature  Coefficient\n0     AtBat    -2.015452\n1      Hits     7.520141\n2     HmRun     9.312551\n3      Runs    -1.719625\n4       RBI    -2.340944\n5     Walks     7.285795\n6     Years     7.682881\n7    CAtBat    -0.165969\n8     CHits     0.274872\n9    CHmRun    -0.531528\n10    CRuns     1.164023\n11     CRBI     0.653199\n12   CWalks    -0.828976\n13  PutOuts     0.198798\n14  Assists     0.452282\n15   Errors    -5.308274",
      "text/html": "<div>\n<style scoped>\n    .dataframe tbody tr th:only-of-type {\n        vertical-align: middle;\n    }\n\n    .dataframe tbody tr th {\n        vertical-align: top;\n    }\n\n    .dataframe thead th {\n        text-align: right;\n    }\n</style>\n<table border=\"1\" class=\"dataframe\">\n  <thead>\n    <tr style=\"text-align: right;\">\n      <th></th>\n      <th>Feature</th>\n      <th>Coefficient</th>\n    </tr>\n  </thead>\n  <tbody>\n    <tr>\n      <th>0</th>\n      <td>AtBat</td>\n      <td>-2.015452</td>\n    </tr>\n    <tr>\n      <th>1</th>\n      <td>Hits</td>\n      <td>7.520141</td>\n    </tr>\n    <tr>\n      <th>2</th>\n      <td>HmRun</td>\n      <td>9.312551</td>\n    </tr>\n    <tr>\n      <th>3</th>\n      <td>Runs</td>\n      <td>-1.719625</td>\n    </tr>\n    <tr>\n      <th>4</th>\n      <td>RBI</td>\n      <td>-2.340944</td>\n    </tr>\n    <tr>\n      <th>5</th>\n      <td>Walks</td>\n      <td>7.285795</td>\n    </tr>\n    <tr>\n      <th>6</th>\n      <td>Years</td>\n      <td>7.682881</td>\n    </tr>\n    <tr>\n      <th>7</th>\n      <td>CAtBat</td>\n      <td>-0.165969</td>\n    </tr>\n    <tr>\n      <th>8</th>\n      <td>CHits</td>\n      <td>0.274872</td>\n    </tr>\n    <tr>\n      <th>9</th>\n      <td>CHmRun</td>\n      <td>-0.531528</td>\n    </tr>\n    <tr>\n      <th>10</th>\n      <td>CRuns</td>\n      <td>1.164023</td>\n    </tr>\n    <tr>\n      <th>11</th>\n      <td>CRBI</td>\n      <td>0.653199</td>\n    </tr>\n    <tr>\n      <th>12</th>\n      <td>CWalks</td>\n      <td>-0.828976</td>\n    </tr>\n    <tr>\n      <th>13</th>\n      <td>PutOuts</td>\n      <td>0.198798</td>\n    </tr>\n    <tr>\n      <th>14</th>\n      <td>Assists</td>\n      <td>0.452282</td>\n    </tr>\n    <tr>\n      <th>15</th>\n      <td>Errors</td>\n      <td>-5.308274</td>\n    </tr>\n  </tbody>\n</table>\n</div>"
     },
     "metadata": {},
     "output_type": "execute_result",
     "execution_count": 43
    }
   ],
   "source": [
    "ols = LinearRegression().fit(trainX, trainY)\n",
    "print(\"Train Error: %f\\nTest Error: %f\" % (mean_squared_error(trainY, ols.predict(trainX)), \n",
    "                                           mean_squared_error(testY, ols.predict(testX))))\n",
    "\n",
    "DataFrame({\"Feature\": trainX.columns, \"Coefficient\": ols.coef_})"
   ],
   "metadata": {
    "collapsed": false,
    "pycharm": {
     "name": "#%%\n",
     "is_executing": false
    }
   }
  },
  {
   "cell_type": "markdown",
   "source": [
    "# Fitting a Regularized LS Model\n",
    "\n",
    "Recall that the lasso and ridge optimization problems: \n",
    "\n",
    "$$ \\widehat{\\beta}^{lasso}=\\underset{\\beta}{argmin} \\left[ \\left|\\left|y-X^{\\top}\\beta\\right|\\right|_2 + \\lambda \\left|\\left|\\beta\\right|\\right|_1 \\right] $$\n",
    "\n",
    "$$ \\widehat{\\beta}^{ridge}=\\underset{\\beta}{argmin} \\left[ \\left|\\left|y-X^{\\top}\\beta\\right|\\right|_2 + \\lambda \\left|\\left|\\beta\\right|\\right|_2 \\right] $$\n",
    "\n",
    "That is, we are searching for $\\beta$ that minimizes the squared-loss together with the regularization term."
   ],
   "metadata": {
    "collapsed": false
   }
  },
  {
   "cell_type": "code",
   "execution_count": 55,
   "outputs": [
    {
     "name": "stderr",
     "text": [
      "c:\\users\\gilad\\documents\\masters\\iml ta\\labs\\venv\\lib\\site-packages\\sklearn\\linear_model\\_coordinate_descent.py:476: ConvergenceWarning: Objective did not converge. You might want to increase the number of iterations. Duality gap: 3920.834705557674, tolerance: 3759.109166869193\n  positive)\n"
     ],
     "output_type": "stream"
    },
    {
     "data": {
      "text/plain": "    Feature  OLS Coefficient  Lasso Coefficients  Ridge Coefficients\n0     AtBat        -2.015452           -0.000000           -2.015851\n1      Hits         7.520141            1.846434            7.509092\n2     HmRun         9.312551            0.000000            9.240051\n3      Runs        -1.719625            0.000000           -1.700787\n4       RBI        -2.340944            0.000000           -2.315588\n5     Walks         7.285795            1.675099            7.275961\n6     Years         7.682881            0.000000            7.535395\n7    CAtBat        -0.165969           -0.239991           -0.165432\n8     CHits         0.274872            0.723843            0.275825\n9    CHmRun        -0.531528            0.000000           -0.523110\n10    CRuns         1.164023            0.523185            1.160889\n11     CRBI         0.653199            0.412879            0.650206\n12   CWalks        -0.828976           -0.070420           -0.827884\n13  PutOuts         0.198798            0.182083            0.198876\n14  Assists         0.452282            0.076719            0.451698\n15   Errors        -5.308274           -0.000000           -5.301629",
      "text/html": "<div>\n<style scoped>\n    .dataframe tbody tr th:only-of-type {\n        vertical-align: middle;\n    }\n\n    .dataframe tbody tr th {\n        vertical-align: top;\n    }\n\n    .dataframe thead th {\n        text-align: right;\n    }\n</style>\n<table border=\"1\" class=\"dataframe\">\n  <thead>\n    <tr style=\"text-align: right;\">\n      <th></th>\n      <th>Feature</th>\n      <th>OLS Coefficient</th>\n      <th>Lasso Coefficients</th>\n      <th>Ridge Coefficients</th>\n    </tr>\n  </thead>\n  <tbody>\n    <tr>\n      <th>0</th>\n      <td>AtBat</td>\n      <td>-2.015452</td>\n      <td>-0.000000</td>\n      <td>-2.015851</td>\n    </tr>\n    <tr>\n      <th>1</th>\n      <td>Hits</td>\n      <td>7.520141</td>\n      <td>1.846434</td>\n      <td>7.509092</td>\n    </tr>\n    <tr>\n      <th>2</th>\n      <td>HmRun</td>\n      <td>9.312551</td>\n      <td>0.000000</td>\n      <td>9.240051</td>\n    </tr>\n    <tr>\n      <th>3</th>\n      <td>Runs</td>\n      <td>-1.719625</td>\n      <td>0.000000</td>\n      <td>-1.700787</td>\n    </tr>\n    <tr>\n      <th>4</th>\n      <td>RBI</td>\n      <td>-2.340944</td>\n      <td>0.000000</td>\n      <td>-2.315588</td>\n    </tr>\n    <tr>\n      <th>5</th>\n      <td>Walks</td>\n      <td>7.285795</td>\n      <td>1.675099</td>\n      <td>7.275961</td>\n    </tr>\n    <tr>\n      <th>6</th>\n      <td>Years</td>\n      <td>7.682881</td>\n      <td>0.000000</td>\n      <td>7.535395</td>\n    </tr>\n    <tr>\n      <th>7</th>\n      <td>CAtBat</td>\n      <td>-0.165969</td>\n      <td>-0.239991</td>\n      <td>-0.165432</td>\n    </tr>\n    <tr>\n      <th>8</th>\n      <td>CHits</td>\n      <td>0.274872</td>\n      <td>0.723843</td>\n      <td>0.275825</td>\n    </tr>\n    <tr>\n      <th>9</th>\n      <td>CHmRun</td>\n      <td>-0.531528</td>\n      <td>0.000000</td>\n      <td>-0.523110</td>\n    </tr>\n    <tr>\n      <th>10</th>\n      <td>CRuns</td>\n      <td>1.164023</td>\n      <td>0.523185</td>\n      <td>1.160889</td>\n    </tr>\n    <tr>\n      <th>11</th>\n      <td>CRBI</td>\n      <td>0.653199</td>\n      <td>0.412879</td>\n      <td>0.650206</td>\n    </tr>\n    <tr>\n      <th>12</th>\n      <td>CWalks</td>\n      <td>-0.828976</td>\n      <td>-0.070420</td>\n      <td>-0.827884</td>\n    </tr>\n    <tr>\n      <th>13</th>\n      <td>PutOuts</td>\n      <td>0.198798</td>\n      <td>0.182083</td>\n      <td>0.198876</td>\n    </tr>\n    <tr>\n      <th>14</th>\n      <td>Assists</td>\n      <td>0.452282</td>\n      <td>0.076719</td>\n      <td>0.451698</td>\n    </tr>\n    <tr>\n      <th>15</th>\n      <td>Errors</td>\n      <td>-5.308274</td>\n      <td>-0.000000</td>\n      <td>-5.301629</td>\n    </tr>\n  </tbody>\n</table>\n</div>"
     },
     "metadata": {},
     "output_type": "execute_result",
     "execution_count": 55
    }
   ],
   "source": [
    "from sklearn.linear_model import Lasso, Ridge, LassoCV, RidgeCV\n",
    "\n",
    "# sklearn calls the `lambda` parameter `alpha`. The reasoning for these alpha values are addressed at the end of the lab\n",
    "lasso = Lasso(alpha=538).fit(trainX, trainY)\n",
    "ridge = Ridge(alpha=10).fit(trainX, trainY)\n",
    "DataFrame({\"Feature\": trainX.columns, \"OLS Coefficient\": ols.coef_, \n",
    "           \"Lasso Coefficients\": lasso.coef_, \"Ridge Coefficients\": ridge.coef_})"
   ],
   "metadata": {
    "collapsed": false,
    "pycharm": {
     "name": "#%%\n",
     "is_executing": false
    }
   }
  },
  {
   "cell_type": "code",
   "source": [
    "DataFrame({\"Model\": [\"OLS\", \"Lasso\", \"Ridge\"],\n",
    "           \"Train Error\": [mean_squared_error(trainY, ols.predict(trainX)),\n",
    "                           mean_squared_error(trainY, lasso.predict(trainX)),\n",
    "                           mean_squared_error(trainY, ridge.predict(trainX))],\n",
    "           \"Test Error\": [mean_squared_error(testY, ols.predict(testX)),\n",
    "                          mean_squared_error(testY, lasso.predict(testX)),\n",
    "                          mean_squared_error(testY, ridge.predict(testX))]})\n"
   ],
   "metadata": {
    "collapsed": false,
    "pycharm": {
     "name": "#%%\n",
     "is_executing": false
    }
   },
   "execution_count": 54,
   "outputs": [
    {
     "data": {
      "text/plain": "   Model   Train Error     Test Error\n0    OLS  90145.406048  132925.004453\n1  Lasso  92663.601742  121952.234464\n2  Ridge  90386.418641  127674.352760",
      "text/html": "<div>\n<style scoped>\n    .dataframe tbody tr th:only-of-type {\n        vertical-align: middle;\n    }\n\n    .dataframe tbody tr th {\n        vertical-align: top;\n    }\n\n    .dataframe thead th {\n        text-align: right;\n    }\n</style>\n<table border=\"1\" class=\"dataframe\">\n  <thead>\n    <tr style=\"text-align: right;\">\n      <th></th>\n      <th>Model</th>\n      <th>Train Error</th>\n      <th>Test Error</th>\n    </tr>\n  </thead>\n  <tbody>\n    <tr>\n      <th>0</th>\n      <td>OLS</td>\n      <td>90145.406048</td>\n      <td>132925.004453</td>\n    </tr>\n    <tr>\n      <th>1</th>\n      <td>Lasso</td>\n      <td>92663.601742</td>\n      <td>121952.234464</td>\n    </tr>\n    <tr>\n      <th>2</th>\n      <td>Ridge</td>\n      <td>90386.418641</td>\n      <td>127674.352760</td>\n    </tr>\n  </tbody>\n</table>\n</div>"
     },
     "metadata": {},
     "output_type": "execute_result",
     "execution_count": 54
    }
   ]
  },
  {
   "cell_type": "markdown",
   "source": [
    "# Plotting Lasso- and Ridge Regularization Path\n",
    "Next, by fitting lasso- and ridge models over the training data, with multiple $\\lambda$ values we can plot\n",
    "the change in coefficients as a function of $\\lambda$. This is called the regularization path.\n",
    "\n",
    "Please implement the functions below."
   ],
   "metadata": {
    "collapsed": false,
    "pycharm": {
     "name": "#%% md\n",
     "is_executing": false
    }
   }
  },
  {
   "cell_type": "code",
   "execution_count": 26,
   "outputs": [
    {
     "data": {
      "text/plain": "array([1.00000000e+03, 7.54312006e+02, 5.68986603e+02, 4.29193426e+02,\n       3.23745754e+02, 2.44205309e+02, 1.84206997e+02, 1.38949549e+02,\n       1.04811313e+02, 7.90604321e+01, 5.96362332e+01, 4.49843267e+01,\n       3.39322177e+01, 2.55954792e+01, 1.93069773e+01, 1.45634848e+01,\n       1.09854114e+01, 8.28642773e+00, 6.25055193e+00, 4.71486636e+00,\n       3.55648031e+00, 2.68269580e+00, 2.02358965e+00, 1.52641797e+00,\n       1.15139540e+00, 8.68511374e-01, 6.55128557e-01, 4.94171336e-01,\n       3.72759372e-01, 2.81176870e-01, 2.12095089e-01, 1.59985872e-01,\n       1.20679264e-01, 9.10298178e-02, 6.86648845e-02, 5.17947468e-02,\n       3.90693994e-02, 2.94705170e-02, 2.22299648e-02, 1.67683294e-02,\n       1.26485522e-02, 9.54095476e-03, 7.19685673e-03, 5.42867544e-03,\n       4.09491506e-03, 3.08884360e-03, 2.32995181e-03, 1.75751062e-03,\n       1.32571137e-03, 1.00000000e-03])"
     },
     "metadata": {},
     "output_type": "execute_result",
     "execution_count": 26
    }
   ],
   "source": [
    "import numpy as np\n",
    "lambdas = 10**np.linspace(3,-3, 50)\n",
    "lambdas\n"
   ],
   "metadata": {
    "collapsed": false,
    "pycharm": {
     "name": "#%%\n",
     "is_executing": false
    }
   }
  },
  {
   "cell_type": "code",
   "execution_count": 27,
   "outputs": [],
   "source": [
    "from plotnine import *\n",
    "from sklearn.linear_model import Ridge, Lasso\n",
    "\n",
    "def fit_lasso_regression(X, y, lam):\n",
    "    \"\"\"\n",
    "    Fit a Lasso regression model for given data with given lambda\n",
    "    :param X: Design matrix to fit for\n",
    "    :param y: Response vector to fit for\n",
    "    :param lam: Regularization weight \n",
    "    :return: Fitted lasso model\n",
    "    When instantiating a lasso object normalize=True\n",
    "    \"\"\"\n",
    "    pass\n",
    "\n",
    "\n",
    "def fit_ridge_regression(X, y, lam):\n",
    "    \"\"\"\n",
    "    Fit a Ridge regression model for given data with given lambda\n",
    "    :param X: Design matrix to fit for\n",
    "    :param y: Response vector to fit for\n",
    "    :param lam: Regularization weight \n",
    "    :return: Fitted Ridge model\n",
    "    When instantiating a lasso object normalize=True\n",
    "    \"\"\"\n",
    "    pass\n",
    "\n",
    "\n",
    "def plot_regularization_path(X, y, lambdas, fit_model_caller, model_name):\n",
    "    \"\"\"\n",
    "    Plot a regularization path for a given model to fit\n",
    "    :param X: Design matrix to fit for\n",
    "    :param y: Response vector to fit for\n",
    "    :param lambdas: A list of regularization weights to test \n",
    "    :param fit_model_caller: A function that receives X,y,lambda and returns the fitted model\n",
    "    :param model_name: String of model name to use for plot title\n",
    "    :return: ggplot plotting regularization path as described below \n",
    "    \"\"\"\n",
    "    # Begin with iterating all lambdas. For each value fit a model (by calling `fit_model_caller`).\n",
    "    # Then append returned coefficients to the `coefs` list. \n",
    "    coefs = []\n",
    "    \n",
    "    coefs = pd.DataFrame(data=coefs, columns=X.columns)\n",
    "    # Add a column named `lambda` with the log(lambdas) values\n",
    "\n",
    "    df = pd.melt(coefs, id_vars=\"lambda\")\n",
    "    # Investigate columns and values of `df` above and return a ggplot containing a line for every feature coefficient, \n",
    "    # with the x-axis being the different log(lambda) values and the y-axis the coefficient's value.\n",
    "    # Do not forget to add meaningful axis labels and a graph title using the `model_name` string\n",
    "    return (ggplot(df) + \n",
    "            theme(axis_text_x=element_text(rotation=90, hjust=1)))\n",
    "\n"
   ],
   "metadata": {
    "collapsed": false,
    "pycharm": {
     "name": "#%%\n",
     "is_executing": false
    }
   }
  },
  {
   "cell_type": "code",
   "execution_count": 28,
   "outputs": [
    {
     "traceback": [
      "\u001b[1;31m---------------------------------------------------------------------------\u001b[0m",
      "\u001b[1;31mKeyError\u001b[0m                                  Traceback (most recent call last)",
      "\u001b[1;32mc:\\users\\gilad\\documents\\masters\\iml ta\\labs\\venv\\lib\\site-packages\\pandas\\core\\indexes\\base.py\u001b[0m in \u001b[0;36mget_loc\u001b[1;34m(self, key, method, tolerance)\u001b[0m\n\u001b[0;32m   2645\u001b[0m             \u001b[1;32mtry\u001b[0m\u001b[1;33m:\u001b[0m\u001b[1;33m\u001b[0m\u001b[0m\n\u001b[1;32m-> 2646\u001b[1;33m                 \u001b[1;32mreturn\u001b[0m \u001b[0mself\u001b[0m\u001b[1;33m.\u001b[0m\u001b[0m_engine\u001b[0m\u001b[1;33m.\u001b[0m\u001b[0mget_loc\u001b[0m\u001b[1;33m(\u001b[0m\u001b[0mkey\u001b[0m\u001b[1;33m)\u001b[0m\u001b[1;33m\u001b[0m\u001b[0m\n\u001b[0m\u001b[0;32m   2647\u001b[0m             \u001b[1;32mexcept\u001b[0m \u001b[0mKeyError\u001b[0m\u001b[1;33m:\u001b[0m\u001b[1;33m\u001b[0m\u001b[0m\n",
      "\u001b[1;32mpandas\\_libs\\index.pyx\u001b[0m in \u001b[0;36mpandas._libs.index.IndexEngine.get_loc\u001b[1;34m()\u001b[0m\n",
      "\u001b[1;32mpandas\\_libs\\index.pyx\u001b[0m in \u001b[0;36mpandas._libs.index.IndexEngine.get_loc\u001b[1;34m()\u001b[0m\n",
      "\u001b[1;32mpandas\\_libs\\hashtable_class_helper.pxi\u001b[0m in \u001b[0;36mpandas._libs.hashtable.PyObjectHashTable.get_item\u001b[1;34m()\u001b[0m\n",
      "\u001b[1;32mpandas\\_libs\\hashtable_class_helper.pxi\u001b[0m in \u001b[0;36mpandas._libs.hashtable.PyObjectHashTable.get_item\u001b[1;34m()\u001b[0m\n",
      "\u001b[1;31mKeyError\u001b[0m: 'lambda'",
      "\nDuring handling of the above exception, another exception occurred:\n",
      "\u001b[1;31mKeyError\u001b[0m                                  Traceback (most recent call last)",
      "\u001b[1;32m<ipython-input-28-9a7eafe1f748>\u001b[0m in \u001b[0;36m<module>\u001b[1;34m\u001b[0m\n\u001b[1;32m----> 1\u001b[1;33m \u001b[0mp\u001b[0m \u001b[1;33m=\u001b[0m \u001b[0mplot_regularization_path\u001b[0m\u001b[1;33m(\u001b[0m\u001b[0mtrainX\u001b[0m\u001b[1;33m,\u001b[0m \u001b[0mtrainY\u001b[0m\u001b[1;33m,\u001b[0m \u001b[0mlambdas\u001b[0m\u001b[1;33m,\u001b[0m \u001b[0mfit_lasso_regression\u001b[0m\u001b[1;33m,\u001b[0m \u001b[1;34m\"Lasso\"\u001b[0m\u001b[1;33m)\u001b[0m\u001b[1;33m\u001b[0m\u001b[0m\n\u001b[0m\u001b[0;32m      2\u001b[0m \u001b[0mggsave\u001b[0m\u001b[1;33m(\u001b[0m\u001b[0mp\u001b[0m\u001b[1;33m,\u001b[0m \u001b[1;34m\"lasso.regularization.path.png\"\u001b[0m\u001b[1;33m,\u001b[0m \u001b[0mverbose\u001b[0m\u001b[1;33m=\u001b[0m\u001b[1;32mFalse\u001b[0m\u001b[1;33m)\u001b[0m\u001b[1;33m\u001b[0m\u001b[0m\n\u001b[0;32m      3\u001b[0m \u001b[0mp\u001b[0m\u001b[1;33m\u001b[0m\u001b[0m\n\u001b[0;32m      4\u001b[0m \u001b[1;33m\u001b[0m\u001b[0m\n",
      "\u001b[1;32m<ipython-input-27-904856fc61d1>\u001b[0m in \u001b[0;36mplot_regularization_path\u001b[1;34m(X, y, lambdas, fit_model_caller, model_name)\u001b[0m\n\u001b[0;32m     43\u001b[0m     \u001b[1;31m# Add a column named `lambda` with the log(lambdas) values\u001b[0m\u001b[1;33m\u001b[0m\u001b[1;33m\u001b[0m\u001b[0m\n\u001b[0;32m     44\u001b[0m \u001b[1;33m\u001b[0m\u001b[0m\n\u001b[1;32m---> 45\u001b[1;33m     \u001b[0mdf\u001b[0m \u001b[1;33m=\u001b[0m \u001b[0mpd\u001b[0m\u001b[1;33m.\u001b[0m\u001b[0mmelt\u001b[0m\u001b[1;33m(\u001b[0m\u001b[0mcoefs\u001b[0m\u001b[1;33m,\u001b[0m \u001b[0mid_vars\u001b[0m\u001b[1;33m=\u001b[0m\u001b[1;34m\"lambda\"\u001b[0m\u001b[1;33m)\u001b[0m\u001b[1;33m\u001b[0m\u001b[0m\n\u001b[0m\u001b[0;32m     46\u001b[0m     \u001b[1;31m# Investigate columns and values of `df` above and return a ggplot containing a line for every feature coefficient,\u001b[0m\u001b[1;33m\u001b[0m\u001b[1;33m\u001b[0m\u001b[0m\n\u001b[0;32m     47\u001b[0m     \u001b[1;31m# with the x-axis being the different log(lambda) values and the y-axis the coefficient's value.\u001b[0m\u001b[1;33m\u001b[0m\u001b[1;33m\u001b[0m\u001b[0m\n",
      "\u001b[1;32mc:\\users\\gilad\\documents\\masters\\iml ta\\labs\\venv\\lib\\site-packages\\pandas\\core\\reshape\\melt.py\u001b[0m in \u001b[0;36mmelt\u001b[1;34m(frame, id_vars, value_vars, var_name, value_name, col_level)\u001b[0m\n\u001b[0;32m    106\u001b[0m     \u001b[0mmdata\u001b[0m \u001b[1;33m=\u001b[0m \u001b[1;33m{\u001b[0m\u001b[1;33m}\u001b[0m\u001b[1;33m\u001b[0m\u001b[0m\n\u001b[0;32m    107\u001b[0m     \u001b[1;32mfor\u001b[0m \u001b[0mcol\u001b[0m \u001b[1;32min\u001b[0m \u001b[0mid_vars\u001b[0m\u001b[1;33m:\u001b[0m\u001b[1;33m\u001b[0m\u001b[0m\n\u001b[1;32m--> 108\u001b[1;33m         \u001b[0mid_data\u001b[0m \u001b[1;33m=\u001b[0m \u001b[0mframe\u001b[0m\u001b[1;33m.\u001b[0m\u001b[0mpop\u001b[0m\u001b[1;33m(\u001b[0m\u001b[0mcol\u001b[0m\u001b[1;33m)\u001b[0m\u001b[1;33m\u001b[0m\u001b[0m\n\u001b[0m\u001b[0;32m    109\u001b[0m         \u001b[1;32mif\u001b[0m \u001b[0mis_extension_array_dtype\u001b[0m\u001b[1;33m(\u001b[0m\u001b[0mid_data\u001b[0m\u001b[1;33m)\u001b[0m\u001b[1;33m:\u001b[0m\u001b[1;33m\u001b[0m\u001b[0m\n\u001b[0;32m    110\u001b[0m             \u001b[0mid_data\u001b[0m \u001b[1;33m=\u001b[0m \u001b[0mconcat\u001b[0m\u001b[1;33m(\u001b[0m\u001b[1;33m[\u001b[0m\u001b[0mid_data\u001b[0m\u001b[1;33m]\u001b[0m \u001b[1;33m*\u001b[0m \u001b[0mK\u001b[0m\u001b[1;33m,\u001b[0m \u001b[0mignore_index\u001b[0m\u001b[1;33m=\u001b[0m\u001b[1;32mTrue\u001b[0m\u001b[1;33m)\u001b[0m\u001b[1;33m\u001b[0m\u001b[0m\n",
      "\u001b[1;32mc:\\users\\gilad\\documents\\masters\\iml ta\\labs\\venv\\lib\\site-packages\\pandas\\core\\generic.py\u001b[0m in \u001b[0;36mpop\u001b[1;34m(self, item)\u001b[0m\n\u001b[0;32m    788\u001b[0m         \u001b[1;36m3\u001b[0m  \u001b[0mmonkey\u001b[0m        \u001b[0mNaN\u001b[0m\u001b[1;33m\u001b[0m\u001b[0m\n\u001b[0;32m    789\u001b[0m         \"\"\"\n\u001b[1;32m--> 790\u001b[1;33m         \u001b[0mresult\u001b[0m \u001b[1;33m=\u001b[0m \u001b[0mself\u001b[0m\u001b[1;33m[\u001b[0m\u001b[0mitem\u001b[0m\u001b[1;33m]\u001b[0m\u001b[1;33m\u001b[0m\u001b[0m\n\u001b[0m\u001b[0;32m    791\u001b[0m         \u001b[1;32mdel\u001b[0m \u001b[0mself\u001b[0m\u001b[1;33m[\u001b[0m\u001b[0mitem\u001b[0m\u001b[1;33m]\u001b[0m\u001b[1;33m\u001b[0m\u001b[0m\n\u001b[0;32m    792\u001b[0m         \u001b[1;32mtry\u001b[0m\u001b[1;33m:\u001b[0m\u001b[1;33m\u001b[0m\u001b[0m\n",
      "\u001b[1;32mc:\\users\\gilad\\documents\\masters\\iml ta\\labs\\venv\\lib\\site-packages\\pandas\\core\\frame.py\u001b[0m in \u001b[0;36m__getitem__\u001b[1;34m(self, key)\u001b[0m\n\u001b[0;32m   2798\u001b[0m             \u001b[1;32mif\u001b[0m \u001b[0mself\u001b[0m\u001b[1;33m.\u001b[0m\u001b[0mcolumns\u001b[0m\u001b[1;33m.\u001b[0m\u001b[0mnlevels\u001b[0m \u001b[1;33m>\u001b[0m \u001b[1;36m1\u001b[0m\u001b[1;33m:\u001b[0m\u001b[1;33m\u001b[0m\u001b[0m\n\u001b[0;32m   2799\u001b[0m                 \u001b[1;32mreturn\u001b[0m \u001b[0mself\u001b[0m\u001b[1;33m.\u001b[0m\u001b[0m_getitem_multilevel\u001b[0m\u001b[1;33m(\u001b[0m\u001b[0mkey\u001b[0m\u001b[1;33m)\u001b[0m\u001b[1;33m\u001b[0m\u001b[0m\n\u001b[1;32m-> 2800\u001b[1;33m             \u001b[0mindexer\u001b[0m \u001b[1;33m=\u001b[0m \u001b[0mself\u001b[0m\u001b[1;33m.\u001b[0m\u001b[0mcolumns\u001b[0m\u001b[1;33m.\u001b[0m\u001b[0mget_loc\u001b[0m\u001b[1;33m(\u001b[0m\u001b[0mkey\u001b[0m\u001b[1;33m)\u001b[0m\u001b[1;33m\u001b[0m\u001b[0m\n\u001b[0m\u001b[0;32m   2801\u001b[0m             \u001b[1;32mif\u001b[0m \u001b[0mis_integer\u001b[0m\u001b[1;33m(\u001b[0m\u001b[0mindexer\u001b[0m\u001b[1;33m)\u001b[0m\u001b[1;33m:\u001b[0m\u001b[1;33m\u001b[0m\u001b[0m\n\u001b[0;32m   2802\u001b[0m                 \u001b[0mindexer\u001b[0m \u001b[1;33m=\u001b[0m \u001b[1;33m[\u001b[0m\u001b[0mindexer\u001b[0m\u001b[1;33m]\u001b[0m\u001b[1;33m\u001b[0m\u001b[0m\n",
      "\u001b[1;32mc:\\users\\gilad\\documents\\masters\\iml ta\\labs\\venv\\lib\\site-packages\\pandas\\core\\indexes\\base.py\u001b[0m in \u001b[0;36mget_loc\u001b[1;34m(self, key, method, tolerance)\u001b[0m\n\u001b[0;32m   2646\u001b[0m                 \u001b[1;32mreturn\u001b[0m \u001b[0mself\u001b[0m\u001b[1;33m.\u001b[0m\u001b[0m_engine\u001b[0m\u001b[1;33m.\u001b[0m\u001b[0mget_loc\u001b[0m\u001b[1;33m(\u001b[0m\u001b[0mkey\u001b[0m\u001b[1;33m)\u001b[0m\u001b[1;33m\u001b[0m\u001b[0m\n\u001b[0;32m   2647\u001b[0m             \u001b[1;32mexcept\u001b[0m \u001b[0mKeyError\u001b[0m\u001b[1;33m:\u001b[0m\u001b[1;33m\u001b[0m\u001b[0m\n\u001b[1;32m-> 2648\u001b[1;33m                 \u001b[1;32mreturn\u001b[0m \u001b[0mself\u001b[0m\u001b[1;33m.\u001b[0m\u001b[0m_engine\u001b[0m\u001b[1;33m.\u001b[0m\u001b[0mget_loc\u001b[0m\u001b[1;33m(\u001b[0m\u001b[0mself\u001b[0m\u001b[1;33m.\u001b[0m\u001b[0m_maybe_cast_indexer\u001b[0m\u001b[1;33m(\u001b[0m\u001b[0mkey\u001b[0m\u001b[1;33m)\u001b[0m\u001b[1;33m)\u001b[0m\u001b[1;33m\u001b[0m\u001b[0m\n\u001b[0m\u001b[0;32m   2649\u001b[0m         \u001b[0mindexer\u001b[0m \u001b[1;33m=\u001b[0m \u001b[0mself\u001b[0m\u001b[1;33m.\u001b[0m\u001b[0mget_indexer\u001b[0m\u001b[1;33m(\u001b[0m\u001b[1;33m[\u001b[0m\u001b[0mkey\u001b[0m\u001b[1;33m]\u001b[0m\u001b[1;33m,\u001b[0m \u001b[0mmethod\u001b[0m\u001b[1;33m=\u001b[0m\u001b[0mmethod\u001b[0m\u001b[1;33m,\u001b[0m \u001b[0mtolerance\u001b[0m\u001b[1;33m=\u001b[0m\u001b[0mtolerance\u001b[0m\u001b[1;33m)\u001b[0m\u001b[1;33m\u001b[0m\u001b[0m\n\u001b[0;32m   2650\u001b[0m         \u001b[1;32mif\u001b[0m \u001b[0mindexer\u001b[0m\u001b[1;33m.\u001b[0m\u001b[0mndim\u001b[0m \u001b[1;33m>\u001b[0m \u001b[1;36m1\u001b[0m \u001b[1;32mor\u001b[0m \u001b[0mindexer\u001b[0m\u001b[1;33m.\u001b[0m\u001b[0msize\u001b[0m \u001b[1;33m>\u001b[0m \u001b[1;36m1\u001b[0m\u001b[1;33m:\u001b[0m\u001b[1;33m\u001b[0m\u001b[0m\n",
      "\u001b[1;32mpandas\\_libs\\index.pyx\u001b[0m in \u001b[0;36mpandas._libs.index.IndexEngine.get_loc\u001b[1;34m()\u001b[0m\n",
      "\u001b[1;32mpandas\\_libs\\index.pyx\u001b[0m in \u001b[0;36mpandas._libs.index.IndexEngine.get_loc\u001b[1;34m()\u001b[0m\n",
      "\u001b[1;32mpandas\\_libs\\hashtable_class_helper.pxi\u001b[0m in \u001b[0;36mpandas._libs.hashtable.PyObjectHashTable.get_item\u001b[1;34m()\u001b[0m\n",
      "\u001b[1;32mpandas\\_libs\\hashtable_class_helper.pxi\u001b[0m in \u001b[0;36mpandas._libs.hashtable.PyObjectHashTable.get_item\u001b[1;34m()\u001b[0m\n",
      "\u001b[1;31mKeyError\u001b[0m: 'lambda'"
     ],
     "ename": "KeyError",
     "evalue": "'lambda'",
     "output_type": "error"
    }
   ],
   "source": [
    "p = plot_regularization_path(trainX, trainY, lambdas, fit_lasso_regression, \"Lasso\")\n",
    "ggsave(p, \"lasso.regularization.path.png\", verbose=False)\n",
    "p"
   ],
   "metadata": {
    "collapsed": false,
    "pycharm": {
     "name": "#%%\n",
     "is_executing": false
    }
   }
  },
  {
   "cell_type": "code",
   "execution_count": null,
   "outputs": [],
   "source": [
    "p = plot_regularization_path(trainX, trainY, lambdas, fit_ridge_regression, \"Ridge\")\n",
    "ggsave(p, \"ridge.regularization.path.png\", verbose=False)\n",
    "p\n"
   ],
   "metadata": {
    "collapsed": false,
    "pycharm": {
     "name": "#%%\n",
     "is_executing": false
    }
   }
  },
  {
   "cell_type": "markdown",
   "source": [
    "# How To Deal With Categorical Features \n",
    "So far we have fitted a regularization model over data consisting of neumeric features only. In the case of categorical\n",
    "features, where we decide to represent them using `dummy variables` we move from one feature with $n$ values to $n-1$ features.\n",
    "What will happen when we fit a regularization model over this kind of setup?"
   ],
   "metadata": {
    "collapsed": false,
    "pycharm": {
     "name": "#%% md\n",
     "is_executing": false
    }
   }
  },
  {
   "cell_type": "code",
   "execution_count": null,
   "outputs": [],
   "source": [
    "df = pd.read_csv(\"Hitters.csv\").drop(\"Player\", 1).dropna()\n",
    "df = pd.get_dummies(df, prefix='League_', columns=['League'])\n",
    "df = pd.get_dummies(df, prefix='Division_', columns=['Division'])\n",
    "df = pd.get_dummies(df, prefix='NewLeague_', columns=['NewLeague'])\n",
    "\n",
    "train, test = train_test_split(df, test_size=0.2)\n",
    "trainX, trainY, testX, testY = train.loc[:, train.columns != 'Salary'], train[\"Salary\"], test.loc[:, test.columns != 'Salary'], test[\"Salary\"]\n",
    "\n",
    "plot_regularization_path(trainX, trainY, lambdas, fit_lasso_regression, \"Lasso\")"
   ],
   "metadata": {
    "collapsed": false,
    "pycharm": {
     "name": "#%%\n",
     "is_executing": false
    }
   }
  },
  {
   "cell_type": "code",
   "execution_count": null,
   "outputs": [],
   "source": [
    "plot_regularization_path(trainX, trainY, lambdas, fit_ridge_regression, \"Ridge\")\n"
   ],
   "metadata": {
    "collapsed": false,
    "pycharm": {
     "name": "#%%\n",
     "is_executing": false
    }
   }
  },
  {
   "cell_type": "markdown",
   "source": [
    "# But How To Choose $\\lambda$?!\n",
    "Now that we better understand how lasso- and ridge regressions work, we face a new problem. We have one new \n",
    "parameter (hyper-parameter) to assign a value to. That parameter is $\\lambda$. \n",
    "\n",
    "The discussion on setting $\\lambda$ is part of the next lecture :)"
   ],
   "metadata": {
    "collapsed": false
   }
  }
 ],
 "metadata": {
  "kernelspec": {
   "display_name": "Python 3",
   "language": "python",
   "name": "python3"
  },
  "language_info": {
   "codemirror_mode": {
    "name": "ipython",
    "version": 3
   },
   "file_extension": ".py",
   "mimetype": "text/x-python",
   "name": "python",
   "nbconvert_exporter": "python",
   "pygments_lexer": "ipython3",
   "version": "3.7.6"
  },
  "pycharm": {
   "stem_cell": {
    "cell_type": "raw",
    "source": [],
    "metadata": {
     "collapsed": false
    }
   }
  }
 },
 "nbformat": 4,
 "nbformat_minor": 4
}